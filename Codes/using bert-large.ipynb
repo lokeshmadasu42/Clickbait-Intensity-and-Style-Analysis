{
 "cells": [
  {
   "cell_type": "code",
   "execution_count": 1,
   "id": "fb2266cb",
   "metadata": {
    "_cell_guid": "b1076dfc-b9ad-4769-8c92-a6c4dae69d19",
    "_uuid": "8f2839f25d086af736a60e9eeb907d3b93b6e0e5",
    "execution": {
     "iopub.execute_input": "2022-10-20T18:25:43.453078Z",
     "iopub.status.busy": "2022-10-20T18:25:43.451869Z",
     "iopub.status.idle": "2022-10-20T18:25:43.463202Z",
     "shell.execute_reply": "2022-10-20T18:25:43.462319Z"
    },
    "papermill": {
     "duration": 0.029503,
     "end_time": "2022-10-20T18:25:43.465480",
     "exception": false,
     "start_time": "2022-10-20T18:25:43.435977",
     "status": "completed"
    },
    "tags": []
   },
   "outputs": [],
   "source": [
    "import pandas as pd\n",
    "import numpy as np\n",
    "import re\n",
    "from tqdm import tqdm"
   ]
  },
  {
   "cell_type": "code",
   "execution_count": 2,
   "id": "655cf9c0",
   "metadata": {
    "execution": {
     "iopub.execute_input": "2022-10-20T18:25:43.489105Z",
     "iopub.status.busy": "2022-10-20T18:25:43.488741Z",
     "iopub.status.idle": "2022-10-20T18:25:49.318147Z",
     "shell.execute_reply": "2022-10-20T18:25:49.317064Z"
    },
    "papermill": {
     "duration": 5.844341,
     "end_time": "2022-10-20T18:25:49.320995",
     "exception": false,
     "start_time": "2022-10-20T18:25:43.476654",
     "status": "completed"
    },
    "tags": []
   },
   "outputs": [],
   "source": [
    "import tensorflow as tf\n",
    "import tensorflow_hub as hub"
   ]
  },
  {
   "cell_type": "code",
   "execution_count": 3,
   "id": "d887f062",
   "metadata": {
    "execution": {
     "iopub.execute_input": "2022-10-20T18:25:49.346075Z",
     "iopub.status.busy": "2022-10-20T18:25:49.345475Z",
     "iopub.status.idle": "2022-10-20T18:25:51.906153Z",
     "shell.execute_reply": "2022-10-20T18:25:51.905265Z"
    },
    "papermill": {
     "duration": 2.575329,
     "end_time": "2022-10-20T18:25:51.908159",
     "exception": false,
     "start_time": "2022-10-20T18:25:49.332830",
     "status": "completed"
    },
    "tags": []
   },
   "outputs": [
    {
     "name": "stderr",
     "output_type": "stream",
     "text": [
      "2022-10-20 18:25:49.413347: I tensorflow/stream_executor/cuda/cuda_gpu_executor.cc:937] successful NUMA node read from SysFS had negative value (-1), but there must be at least one NUMA node, so returning NUMA node zero\n",
      "2022-10-20 18:25:49.558733: I tensorflow/stream_executor/cuda/cuda_gpu_executor.cc:937] successful NUMA node read from SysFS had negative value (-1), but there must be at least one NUMA node, so returning NUMA node zero\n",
      "2022-10-20 18:25:49.559781: I tensorflow/stream_executor/cuda/cuda_gpu_executor.cc:937] successful NUMA node read from SysFS had negative value (-1), but there must be at least one NUMA node, so returning NUMA node zero\n",
      "2022-10-20 18:25:49.567381: I tensorflow/core/platform/cpu_feature_guard.cc:142] This TensorFlow binary is optimized with oneAPI Deep Neural Network Library (oneDNN) to use the following CPU instructions in performance-critical operations:  AVX2 AVX512F FMA\n",
      "To enable them in other operations, rebuild TensorFlow with the appropriate compiler flags.\n",
      "2022-10-20 18:25:49.567792: I tensorflow/stream_executor/cuda/cuda_gpu_executor.cc:937] successful NUMA node read from SysFS had negative value (-1), but there must be at least one NUMA node, so returning NUMA node zero\n",
      "2022-10-20 18:25:49.568604: I tensorflow/stream_executor/cuda/cuda_gpu_executor.cc:937] successful NUMA node read from SysFS had negative value (-1), but there must be at least one NUMA node, so returning NUMA node zero\n",
      "2022-10-20 18:25:49.569366: I tensorflow/stream_executor/cuda/cuda_gpu_executor.cc:937] successful NUMA node read from SysFS had negative value (-1), but there must be at least one NUMA node, so returning NUMA node zero\n",
      "2022-10-20 18:25:51.887752: I tensorflow/stream_executor/cuda/cuda_gpu_executor.cc:937] successful NUMA node read from SysFS had negative value (-1), but there must be at least one NUMA node, so returning NUMA node zero\n",
      "2022-10-20 18:25:51.888620: I tensorflow/stream_executor/cuda/cuda_gpu_executor.cc:937] successful NUMA node read from SysFS had negative value (-1), but there must be at least one NUMA node, so returning NUMA node zero\n",
      "2022-10-20 18:25:51.889347: I tensorflow/stream_executor/cuda/cuda_gpu_executor.cc:937] successful NUMA node read from SysFS had negative value (-1), but there must be at least one NUMA node, so returning NUMA node zero\n",
      "2022-10-20 18:25:51.889980: I tensorflow/core/common_runtime/gpu/gpu_device.cc:1510] Created device /job:localhost/replica:0/task:0/device:GPU:0 with 15401 MB memory:  -> device: 0, name: Tesla P100-PCIE-16GB, pci bus id: 0000:00:04.0, compute capability: 6.0\n"
     ]
    },
    {
     "data": {
      "text/plain": [
       "<tensorflow.python.eager.context._EagerDeviceContext at 0x7fca1b64c870>"
      ]
     },
     "execution_count": 3,
     "metadata": {},
     "output_type": "execute_result"
    }
   ],
   "source": [
    "tf.device('cuda:0')"
   ]
  },
  {
   "cell_type": "code",
   "execution_count": 4,
   "id": "1ab60f26",
   "metadata": {
    "execution": {
     "iopub.execute_input": "2022-10-20T18:25:51.934071Z",
     "iopub.status.busy": "2022-10-20T18:25:51.933428Z",
     "iopub.status.idle": "2022-10-20T18:25:52.036116Z",
     "shell.execute_reply": "2022-10-20T18:25:52.035090Z"
    },
    "papermill": {
     "duration": 0.118503,
     "end_time": "2022-10-20T18:25:52.038486",
     "exception": false,
     "start_time": "2022-10-20T18:25:51.919983",
     "status": "completed"
    },
    "tags": []
   },
   "outputs": [],
   "source": [
    "# train_df=pd.read_excel('../input/ire-major-project-data/train.xlsx')\n",
    "# dev_df=pd.read_excel('../input/ire-major-project-data/dev.xlsx')\n",
    "# test_df=pd.read_excel('../input/ire-major-project-data/test.xlsx')\n",
    "\n",
    "train_df=pd.read_table('../input/ire-major-data-v2/en_train_pt.tsv',names=['SNO','Intensity','Text'],sep='\\t')\n",
    "test_df=pd.read_table('../input/ire-major-data-v2/en_test_pt.tsv',names=['SNO','Intensity','Text'],sep='\\t')"
   ]
  },
  {
   "cell_type": "code",
   "execution_count": 5,
   "id": "0406675d",
   "metadata": {
    "execution": {
     "iopub.execute_input": "2022-10-20T18:25:52.064700Z",
     "iopub.status.busy": "2022-10-20T18:25:52.063751Z",
     "iopub.status.idle": "2022-10-20T18:25:54.131952Z",
     "shell.execute_reply": "2022-10-20T18:25:54.130850Z"
    },
    "papermill": {
     "duration": 2.084293,
     "end_time": "2022-10-20T18:25:54.134716",
     "exception": false,
     "start_time": "2022-10-20T18:25:52.050423",
     "status": "completed"
    },
    "tags": []
   },
   "outputs": [
    {
     "data": {
      "application/vnd.jupyter.widget-view+json": {
       "model_id": "e3fd6d65ddb9484183778b94fcb649b2",
       "version_major": 2,
       "version_minor": 0
      },
      "text/plain": [
       "Downloading:   0%|          | 0.00/878k [00:00<?, ?B/s]"
      ]
     },
     "metadata": {},
     "output_type": "display_data"
    },
    {
     "data": {
      "application/vnd.jupyter.widget-view+json": {
       "model_id": "e3053833c36642b184660311a966d3a0",
       "version_major": 2,
       "version_minor": 0
      },
      "text/plain": [
       "Downloading:   0%|          | 0.00/446k [00:00<?, ?B/s]"
      ]
     },
     "metadata": {},
     "output_type": "display_data"
    },
    {
     "data": {
      "application/vnd.jupyter.widget-view+json": {
       "model_id": "a67599d966ec45a4b2e6ef3e82fce1a6",
       "version_major": 2,
       "version_minor": 0
      },
      "text/plain": [
       "Downloading:   0%|          | 0.00/481 [00:00<?, ?B/s]"
      ]
     },
     "metadata": {},
     "output_type": "display_data"
    }
   ],
   "source": [
    "from transformers import RobertaTokenizer\n",
    "tokenizer = RobertaTokenizer.from_pretrained(\"roberta-base\")"
   ]
  },
  {
   "cell_type": "code",
   "execution_count": 6,
   "id": "c24968fd",
   "metadata": {
    "execution": {
     "iopub.execute_input": "2022-10-20T18:25:54.160919Z",
     "iopub.status.busy": "2022-10-20T18:25:54.160570Z",
     "iopub.status.idle": "2022-10-20T18:25:54.167456Z",
     "shell.execute_reply": "2022-10-20T18:25:54.166546Z"
    },
    "papermill": {
     "duration": 0.022309,
     "end_time": "2022-10-20T18:25:54.169761",
     "exception": false,
     "start_time": "2022-10-20T18:25:54.147452",
     "status": "completed"
    },
    "tags": []
   },
   "outputs": [],
   "source": [
    "def return_length(df):\n",
    "    length=[]\n",
    "    for i in df['Text']:\n",
    "        tok = tokenizer(i, return_tensors=\"pt\")\n",
    "        length.append(len(tok['input_ids'][0]))\n",
    "        \n",
    "    return length"
   ]
  },
  {
   "cell_type": "code",
   "execution_count": 7,
   "id": "fe5f8133",
   "metadata": {
    "execution": {
     "iopub.execute_input": "2022-10-20T18:25:54.214646Z",
     "iopub.status.busy": "2022-10-20T18:25:54.211874Z",
     "iopub.status.idle": "2022-10-20T18:26:04.703084Z",
     "shell.execute_reply": "2022-10-20T18:26:04.702044Z"
    },
    "papermill": {
     "duration": 10.51835,
     "end_time": "2022-10-20T18:26:04.705614",
     "exception": false,
     "start_time": "2022-10-20T18:25:54.187264",
     "status": "completed"
    },
    "tags": []
   },
   "outputs": [
    {
     "name": "stderr",
     "output_type": "stream",
     "text": [
      "Token indices sequence length is longer than the specified maximum sequence length for this model (573 > 512). Running this sequence through the model will result in indexing errors\n"
     ]
    }
   ],
   "source": [
    "train_df['#tokens']=return_length(train_df)\n",
    "test_df['#tokens']=return_length(test_df)"
   ]
  },
  {
   "cell_type": "code",
   "execution_count": 8,
   "id": "2b95801e",
   "metadata": {
    "execution": {
     "iopub.execute_input": "2022-10-20T18:26:04.731998Z",
     "iopub.status.busy": "2022-10-20T18:26:04.731256Z",
     "iopub.status.idle": "2022-10-20T18:26:04.745270Z",
     "shell.execute_reply": "2022-10-20T18:26:04.744077Z"
    },
    "papermill": {
     "duration": 0.029314,
     "end_time": "2022-10-20T18:26:04.747419",
     "exception": false,
     "start_time": "2022-10-20T18:26:04.718105",
     "status": "completed"
    },
    "tags": []
   },
   "outputs": [
    {
     "name": "stdout",
     "output_type": "stream",
     "text": [
      "Length of Train_df: 17497\n",
      "Length of Test_df: 4337\n"
     ]
    }
   ],
   "source": [
    "train_df=train_df[train_df['#tokens']<50]\n",
    "test_df=test_df[test_df['#tokens']<50]\n",
    "print('Length of Train_df:',len(train_df))\n",
    "print('Length of Test_df:',len(test_df))"
   ]
  },
  {
   "cell_type": "code",
   "execution_count": 9,
   "id": "f50fb72f",
   "metadata": {
    "execution": {
     "iopub.execute_input": "2022-10-20T18:26:04.773726Z",
     "iopub.status.busy": "2022-10-20T18:26:04.773336Z",
     "iopub.status.idle": "2022-10-20T18:26:04.785579Z",
     "shell.execute_reply": "2022-10-20T18:26:04.784585Z"
    },
    "papermill": {
     "duration": 0.028179,
     "end_time": "2022-10-20T18:26:04.787806",
     "exception": false,
     "start_time": "2022-10-20T18:26:04.759627",
     "status": "completed"
    },
    "tags": []
   },
   "outputs": [],
   "source": [
    "train_df['label']=['clickbait' if i>=0.5 else 'no-clickbait' for i in train_df['Intensity']]\n",
    "test_df['label']=['clickbait' if i>=0.5 else 'no-clickbait' for i in test_df['Intensity']]"
   ]
  },
  {
   "cell_type": "markdown",
   "id": "7337ff56",
   "metadata": {
    "papermill": {
     "duration": 0.011559,
     "end_time": "2022-10-20T18:26:04.811500",
     "exception": false,
     "start_time": "2022-10-20T18:26:04.799941",
     "status": "completed"
    },
    "tags": []
   },
   "source": [
    "## Replacing/Masking Words\n",
    "- Replace Non Named Entities\n",
    "- Replace Pronouns\n",
    "- Replace Random Words"
   ]
  },
  {
   "cell_type": "code",
   "execution_count": 10,
   "id": "e158ee10",
   "metadata": {
    "execution": {
     "iopub.execute_input": "2022-10-20T18:26:04.836775Z",
     "iopub.status.busy": "2022-10-20T18:26:04.836409Z",
     "iopub.status.idle": "2022-10-20T18:26:26.910486Z",
     "shell.execute_reply": "2022-10-20T18:26:26.909288Z"
    },
    "papermill": {
     "duration": 22.089845,
     "end_time": "2022-10-20T18:26:26.913241",
     "exception": false,
     "start_time": "2022-10-20T18:26:04.823396",
     "status": "completed"
    },
    "tags": []
   },
   "outputs": [
    {
     "name": "stdout",
     "output_type": "stream",
     "text": [
      "\u001b[33mWARNING: Running pip as the 'root' user can result in broken permissions and conflicting behaviour with the system package manager. It is recommended to use a virtual environment instead: https://pip.pypa.io/warnings/venv\u001b[0m\u001b[33m\r\n",
      "\u001b[0m\u001b[38;5;2m✔ Download and installation successful\u001b[0m\r\n",
      "You can now load the package via spacy.load('en_core_web_sm')\r\n"
     ]
    }
   ],
   "source": [
    "# ! pip install spacy --q\n",
    "# ! pip install nltk --q\n",
    "! python -m spacy download en_core_web_sm --q"
   ]
  },
  {
   "cell_type": "code",
   "execution_count": 11,
   "id": "66ae3970",
   "metadata": {
    "execution": {
     "iopub.execute_input": "2022-10-20T18:26:26.940146Z",
     "iopub.status.busy": "2022-10-20T18:26:26.939748Z",
     "iopub.status.idle": "2022-10-20T18:26:30.308057Z",
     "shell.execute_reply": "2022-10-20T18:26:30.307054Z"
    },
    "papermill": {
     "duration": 3.384877,
     "end_time": "2022-10-20T18:26:30.310636",
     "exception": false,
     "start_time": "2022-10-20T18:26:26.925759",
     "status": "completed"
    },
    "tags": []
   },
   "outputs": [],
   "source": [
    "import spacy\n",
    "from spacy import displacy\n",
    "from spacy import tokenizer\n",
    "nlp = spacy.load('en_core_web_sm')"
   ]
  },
  {
   "cell_type": "code",
   "execution_count": 12,
   "id": "88916fab",
   "metadata": {
    "execution": {
     "iopub.execute_input": "2022-10-20T18:26:30.338145Z",
     "iopub.status.busy": "2022-10-20T18:26:30.337155Z",
     "iopub.status.idle": "2022-10-20T18:26:30.344744Z",
     "shell.execute_reply": "2022-10-20T18:26:30.343782Z"
    },
    "papermill": {
     "duration": 0.023165,
     "end_time": "2022-10-20T18:26:30.347127",
     "exception": false,
     "start_time": "2022-10-20T18:26:30.323962",
     "status": "completed"
    },
    "tags": []
   },
   "outputs": [],
   "source": [
    "def get_entities(text):\n",
    "    doc = nlp(text)\n",
    "    tokens=[token.text for token in doc]\n",
    "    ent_tokens=[]\n",
    "    ent_labels=[]\n",
    "    for e in doc.ents:\n",
    "        toks=e.text.split()\n",
    "        for tok in toks:\n",
    "            ent_tokens.append(tok)\n",
    "            ent_labels.append(e.label_)\n",
    "#     displacy.render(doc, style='ent', jupyter=True)\n",
    "    #return tokens,ent_tokens,ent_labels\n",
    "    \n",
    "    #print(tokens,'\\n',ent_tokens,'\\n',ent_labels)\n",
    "    return tokens,ent_tokens,ent_labels"
   ]
  },
  {
   "cell_type": "code",
   "execution_count": 13,
   "id": "c7a849c9",
   "metadata": {
    "execution": {
     "iopub.execute_input": "2022-10-20T18:26:30.372899Z",
     "iopub.status.busy": "2022-10-20T18:26:30.371948Z",
     "iopub.status.idle": "2022-10-20T18:26:30.378737Z",
     "shell.execute_reply": "2022-10-20T18:26:30.377697Z"
    },
    "papermill": {
     "duration": 0.02188,
     "end_time": "2022-10-20T18:26:30.380801",
     "exception": false,
     "start_time": "2022-10-20T18:26:30.358921",
     "status": "completed"
    },
    "tags": []
   },
   "outputs": [],
   "source": [
    "def get_pos_tags(text):\n",
    "    sent = text\n",
    "    doc=nlp(sent)\n",
    "\n",
    "    sub_toks = [tok for tok in doc if ((tok.dep_ == \"nsubj\") )]\n",
    "    nc= [x for x in doc.noun_chunks]\n",
    "    l=[]\n",
    "    for i,token in enumerate(doc):\n",
    "        #print(token.pos_)\n",
    "        if token.pos_ in ['PRON','DET']:\n",
    "            #l.append([token.text,i,token.pos_])\n",
    "            l.append(token.text)\n",
    "\n",
    "    #print(l)\n",
    "    return l"
   ]
  },
  {
   "cell_type": "code",
   "execution_count": 14,
   "id": "c7172c22",
   "metadata": {
    "execution": {
     "iopub.execute_input": "2022-10-20T18:26:30.407473Z",
     "iopub.status.busy": "2022-10-20T18:26:30.407035Z",
     "iopub.status.idle": "2022-10-20T18:27:41.891364Z",
     "shell.execute_reply": "2022-10-20T18:27:41.890303Z"
    },
    "papermill": {
     "duration": 71.501347,
     "end_time": "2022-10-20T18:27:41.894427",
     "exception": false,
     "start_time": "2022-10-20T18:26:30.393080",
     "status": "completed"
    },
    "tags": []
   },
   "outputs": [],
   "source": [
    "new_test_sents=[]\n",
    "for i in test_df['Text']:\n",
    "    tokens,ent_tokens,ent_labels=get_entities(i)\n",
    "    pos_tag_tokens=get_pos_tags(i)\n",
    "    new_tokens=[]\n",
    "    for token in tokens:\n",
    "        if ((token not in ent_tokens) & (token in pos_tag_tokens)):\n",
    "            continue\n",
    "        else:\n",
    "            new_tokens.append(token)\n",
    "    new_text=' '.join(new_tokens).strip()\n",
    "    new_test_sents.append(new_text)"
   ]
  },
  {
   "cell_type": "markdown",
   "id": "9674f2cf",
   "metadata": {
    "papermill": {
     "duration": 0.01205,
     "end_time": "2022-10-20T18:27:41.919204",
     "exception": false,
     "start_time": "2022-10-20T18:27:41.907154",
     "status": "completed"
    },
    "tags": []
   },
   "source": [
    "# Embeddings"
   ]
  },
  {
   "cell_type": "code",
   "execution_count": 15,
   "id": "8305efc9",
   "metadata": {
    "execution": {
     "iopub.execute_input": "2022-10-20T18:27:41.944645Z",
     "iopub.status.busy": "2022-10-20T18:27:41.944206Z",
     "iopub.status.idle": "2022-10-20T18:28:35.956825Z",
     "shell.execute_reply": "2022-10-20T18:28:35.955374Z"
    },
    "papermill": {
     "duration": 54.028477,
     "end_time": "2022-10-20T18:28:35.959548",
     "exception": false,
     "start_time": "2022-10-20T18:27:41.931071",
     "status": "completed"
    },
    "tags": []
   },
   "outputs": [
    {
     "data": {
      "application/vnd.jupyter.widget-view+json": {
       "model_id": "eeb90344c5d84c60abe186639eb32520",
       "version_major": 2,
       "version_minor": 0
      },
      "text/plain": [
       "Downloading:   0%|          | 0.00/226k [00:00<?, ?B/s]"
      ]
     },
     "metadata": {},
     "output_type": "display_data"
    },
    {
     "data": {
      "application/vnd.jupyter.widget-view+json": {
       "model_id": "9d3b47b1675449fb8430e2af2c9aecd4",
       "version_major": 2,
       "version_minor": 0
      },
      "text/plain": [
       "Downloading:   0%|          | 0.00/28.0 [00:00<?, ?B/s]"
      ]
     },
     "metadata": {},
     "output_type": "display_data"
    },
    {
     "data": {
      "application/vnd.jupyter.widget-view+json": {
       "model_id": "f9d6ab5af2db4e0a982d82a67c1e454b",
       "version_major": 2,
       "version_minor": 0
      },
      "text/plain": [
       "Downloading:   0%|          | 0.00/571 [00:00<?, ?B/s]"
      ]
     },
     "metadata": {},
     "output_type": "display_data"
    },
    {
     "data": {
      "application/vnd.jupyter.widget-view+json": {
       "model_id": "8532e5b7f7db44f687009cd9592be16c",
       "version_major": 2,
       "version_minor": 0
      },
      "text/plain": [
       "Downloading:   0%|          | 0.00/1.25G [00:00<?, ?B/s]"
      ]
     },
     "metadata": {},
     "output_type": "display_data"
    },
    {
     "name": "stderr",
     "output_type": "stream",
     "text": [
      "Some weights of the model checkpoint at bert-large-uncased were not used when initializing BertModel: ['cls.predictions.transform.LayerNorm.bias', 'cls.predictions.bias', 'cls.predictions.transform.dense.weight', 'cls.predictions.decoder.weight', 'cls.seq_relationship.bias', 'cls.seq_relationship.weight', 'cls.predictions.transform.dense.bias', 'cls.predictions.transform.LayerNorm.weight']\n",
      "- This IS expected if you are initializing BertModel from the checkpoint of a model trained on another task or with another architecture (e.g. initializing a BertForSequenceClassification model from a BertForPreTraining model).\n",
      "- This IS NOT expected if you are initializing BertModel from the checkpoint of a model that you expect to be exactly identical (initializing a BertForSequenceClassification model from a BertForSequenceClassification model).\n"
     ]
    }
   ],
   "source": [
    "from transformers import BertTokenizer, BertModel\n",
    "tokenizer = BertTokenizer.from_pretrained('bert-large-uncased')\n",
    "model = BertModel.from_pretrained(\"bert-large-uncased\")"
   ]
  },
  {
   "cell_type": "code",
   "execution_count": 16,
   "id": "b8c0db7e",
   "metadata": {
    "execution": {
     "iopub.execute_input": "2022-10-20T18:28:35.987877Z",
     "iopub.status.busy": "2022-10-20T18:28:35.987475Z",
     "iopub.status.idle": "2022-10-20T18:28:42.696411Z",
     "shell.execute_reply": "2022-10-20T18:28:42.695349Z"
    },
    "papermill": {
     "duration": 6.726643,
     "end_time": "2022-10-20T18:28:42.699390",
     "exception": false,
     "start_time": "2022-10-20T18:28:35.972747",
     "status": "completed"
    },
    "tags": []
   },
   "outputs": [
    {
     "data": {
      "text/plain": [
       "BertModel(\n",
       "  (embeddings): BertEmbeddings(\n",
       "    (word_embeddings): Embedding(30522, 1024, padding_idx=0)\n",
       "    (position_embeddings): Embedding(512, 1024)\n",
       "    (token_type_embeddings): Embedding(2, 1024)\n",
       "    (LayerNorm): LayerNorm((1024,), eps=1e-12, elementwise_affine=True)\n",
       "    (dropout): Dropout(p=0.1, inplace=False)\n",
       "  )\n",
       "  (encoder): BertEncoder(\n",
       "    (layer): ModuleList(\n",
       "      (0): BertLayer(\n",
       "        (attention): BertAttention(\n",
       "          (self): BertSelfAttention(\n",
       "            (query): Linear(in_features=1024, out_features=1024, bias=True)\n",
       "            (key): Linear(in_features=1024, out_features=1024, bias=True)\n",
       "            (value): Linear(in_features=1024, out_features=1024, bias=True)\n",
       "            (dropout): Dropout(p=0.1, inplace=False)\n",
       "          )\n",
       "          (output): BertSelfOutput(\n",
       "            (dense): Linear(in_features=1024, out_features=1024, bias=True)\n",
       "            (LayerNorm): LayerNorm((1024,), eps=1e-12, elementwise_affine=True)\n",
       "            (dropout): Dropout(p=0.1, inplace=False)\n",
       "          )\n",
       "        )\n",
       "        (intermediate): BertIntermediate(\n",
       "          (dense): Linear(in_features=1024, out_features=4096, bias=True)\n",
       "          (intermediate_act_fn): GELUActivation()\n",
       "        )\n",
       "        (output): BertOutput(\n",
       "          (dense): Linear(in_features=4096, out_features=1024, bias=True)\n",
       "          (LayerNorm): LayerNorm((1024,), eps=1e-12, elementwise_affine=True)\n",
       "          (dropout): Dropout(p=0.1, inplace=False)\n",
       "        )\n",
       "      )\n",
       "      (1): BertLayer(\n",
       "        (attention): BertAttention(\n",
       "          (self): BertSelfAttention(\n",
       "            (query): Linear(in_features=1024, out_features=1024, bias=True)\n",
       "            (key): Linear(in_features=1024, out_features=1024, bias=True)\n",
       "            (value): Linear(in_features=1024, out_features=1024, bias=True)\n",
       "            (dropout): Dropout(p=0.1, inplace=False)\n",
       "          )\n",
       "          (output): BertSelfOutput(\n",
       "            (dense): Linear(in_features=1024, out_features=1024, bias=True)\n",
       "            (LayerNorm): LayerNorm((1024,), eps=1e-12, elementwise_affine=True)\n",
       "            (dropout): Dropout(p=0.1, inplace=False)\n",
       "          )\n",
       "        )\n",
       "        (intermediate): BertIntermediate(\n",
       "          (dense): Linear(in_features=1024, out_features=4096, bias=True)\n",
       "          (intermediate_act_fn): GELUActivation()\n",
       "        )\n",
       "        (output): BertOutput(\n",
       "          (dense): Linear(in_features=4096, out_features=1024, bias=True)\n",
       "          (LayerNorm): LayerNorm((1024,), eps=1e-12, elementwise_affine=True)\n",
       "          (dropout): Dropout(p=0.1, inplace=False)\n",
       "        )\n",
       "      )\n",
       "      (2): BertLayer(\n",
       "        (attention): BertAttention(\n",
       "          (self): BertSelfAttention(\n",
       "            (query): Linear(in_features=1024, out_features=1024, bias=True)\n",
       "            (key): Linear(in_features=1024, out_features=1024, bias=True)\n",
       "            (value): Linear(in_features=1024, out_features=1024, bias=True)\n",
       "            (dropout): Dropout(p=0.1, inplace=False)\n",
       "          )\n",
       "          (output): BertSelfOutput(\n",
       "            (dense): Linear(in_features=1024, out_features=1024, bias=True)\n",
       "            (LayerNorm): LayerNorm((1024,), eps=1e-12, elementwise_affine=True)\n",
       "            (dropout): Dropout(p=0.1, inplace=False)\n",
       "          )\n",
       "        )\n",
       "        (intermediate): BertIntermediate(\n",
       "          (dense): Linear(in_features=1024, out_features=4096, bias=True)\n",
       "          (intermediate_act_fn): GELUActivation()\n",
       "        )\n",
       "        (output): BertOutput(\n",
       "          (dense): Linear(in_features=4096, out_features=1024, bias=True)\n",
       "          (LayerNorm): LayerNorm((1024,), eps=1e-12, elementwise_affine=True)\n",
       "          (dropout): Dropout(p=0.1, inplace=False)\n",
       "        )\n",
       "      )\n",
       "      (3): BertLayer(\n",
       "        (attention): BertAttention(\n",
       "          (self): BertSelfAttention(\n",
       "            (query): Linear(in_features=1024, out_features=1024, bias=True)\n",
       "            (key): Linear(in_features=1024, out_features=1024, bias=True)\n",
       "            (value): Linear(in_features=1024, out_features=1024, bias=True)\n",
       "            (dropout): Dropout(p=0.1, inplace=False)\n",
       "          )\n",
       "          (output): BertSelfOutput(\n",
       "            (dense): Linear(in_features=1024, out_features=1024, bias=True)\n",
       "            (LayerNorm): LayerNorm((1024,), eps=1e-12, elementwise_affine=True)\n",
       "            (dropout): Dropout(p=0.1, inplace=False)\n",
       "          )\n",
       "        )\n",
       "        (intermediate): BertIntermediate(\n",
       "          (dense): Linear(in_features=1024, out_features=4096, bias=True)\n",
       "          (intermediate_act_fn): GELUActivation()\n",
       "        )\n",
       "        (output): BertOutput(\n",
       "          (dense): Linear(in_features=4096, out_features=1024, bias=True)\n",
       "          (LayerNorm): LayerNorm((1024,), eps=1e-12, elementwise_affine=True)\n",
       "          (dropout): Dropout(p=0.1, inplace=False)\n",
       "        )\n",
       "      )\n",
       "      (4): BertLayer(\n",
       "        (attention): BertAttention(\n",
       "          (self): BertSelfAttention(\n",
       "            (query): Linear(in_features=1024, out_features=1024, bias=True)\n",
       "            (key): Linear(in_features=1024, out_features=1024, bias=True)\n",
       "            (value): Linear(in_features=1024, out_features=1024, bias=True)\n",
       "            (dropout): Dropout(p=0.1, inplace=False)\n",
       "          )\n",
       "          (output): BertSelfOutput(\n",
       "            (dense): Linear(in_features=1024, out_features=1024, bias=True)\n",
       "            (LayerNorm): LayerNorm((1024,), eps=1e-12, elementwise_affine=True)\n",
       "            (dropout): Dropout(p=0.1, inplace=False)\n",
       "          )\n",
       "        )\n",
       "        (intermediate): BertIntermediate(\n",
       "          (dense): Linear(in_features=1024, out_features=4096, bias=True)\n",
       "          (intermediate_act_fn): GELUActivation()\n",
       "        )\n",
       "        (output): BertOutput(\n",
       "          (dense): Linear(in_features=4096, out_features=1024, bias=True)\n",
       "          (LayerNorm): LayerNorm((1024,), eps=1e-12, elementwise_affine=True)\n",
       "          (dropout): Dropout(p=0.1, inplace=False)\n",
       "        )\n",
       "      )\n",
       "      (5): BertLayer(\n",
       "        (attention): BertAttention(\n",
       "          (self): BertSelfAttention(\n",
       "            (query): Linear(in_features=1024, out_features=1024, bias=True)\n",
       "            (key): Linear(in_features=1024, out_features=1024, bias=True)\n",
       "            (value): Linear(in_features=1024, out_features=1024, bias=True)\n",
       "            (dropout): Dropout(p=0.1, inplace=False)\n",
       "          )\n",
       "          (output): BertSelfOutput(\n",
       "            (dense): Linear(in_features=1024, out_features=1024, bias=True)\n",
       "            (LayerNorm): LayerNorm((1024,), eps=1e-12, elementwise_affine=True)\n",
       "            (dropout): Dropout(p=0.1, inplace=False)\n",
       "          )\n",
       "        )\n",
       "        (intermediate): BertIntermediate(\n",
       "          (dense): Linear(in_features=1024, out_features=4096, bias=True)\n",
       "          (intermediate_act_fn): GELUActivation()\n",
       "        )\n",
       "        (output): BertOutput(\n",
       "          (dense): Linear(in_features=4096, out_features=1024, bias=True)\n",
       "          (LayerNorm): LayerNorm((1024,), eps=1e-12, elementwise_affine=True)\n",
       "          (dropout): Dropout(p=0.1, inplace=False)\n",
       "        )\n",
       "      )\n",
       "      (6): BertLayer(\n",
       "        (attention): BertAttention(\n",
       "          (self): BertSelfAttention(\n",
       "            (query): Linear(in_features=1024, out_features=1024, bias=True)\n",
       "            (key): Linear(in_features=1024, out_features=1024, bias=True)\n",
       "            (value): Linear(in_features=1024, out_features=1024, bias=True)\n",
       "            (dropout): Dropout(p=0.1, inplace=False)\n",
       "          )\n",
       "          (output): BertSelfOutput(\n",
       "            (dense): Linear(in_features=1024, out_features=1024, bias=True)\n",
       "            (LayerNorm): LayerNorm((1024,), eps=1e-12, elementwise_affine=True)\n",
       "            (dropout): Dropout(p=0.1, inplace=False)\n",
       "          )\n",
       "        )\n",
       "        (intermediate): BertIntermediate(\n",
       "          (dense): Linear(in_features=1024, out_features=4096, bias=True)\n",
       "          (intermediate_act_fn): GELUActivation()\n",
       "        )\n",
       "        (output): BertOutput(\n",
       "          (dense): Linear(in_features=4096, out_features=1024, bias=True)\n",
       "          (LayerNorm): LayerNorm((1024,), eps=1e-12, elementwise_affine=True)\n",
       "          (dropout): Dropout(p=0.1, inplace=False)\n",
       "        )\n",
       "      )\n",
       "      (7): BertLayer(\n",
       "        (attention): BertAttention(\n",
       "          (self): BertSelfAttention(\n",
       "            (query): Linear(in_features=1024, out_features=1024, bias=True)\n",
       "            (key): Linear(in_features=1024, out_features=1024, bias=True)\n",
       "            (value): Linear(in_features=1024, out_features=1024, bias=True)\n",
       "            (dropout): Dropout(p=0.1, inplace=False)\n",
       "          )\n",
       "          (output): BertSelfOutput(\n",
       "            (dense): Linear(in_features=1024, out_features=1024, bias=True)\n",
       "            (LayerNorm): LayerNorm((1024,), eps=1e-12, elementwise_affine=True)\n",
       "            (dropout): Dropout(p=0.1, inplace=False)\n",
       "          )\n",
       "        )\n",
       "        (intermediate): BertIntermediate(\n",
       "          (dense): Linear(in_features=1024, out_features=4096, bias=True)\n",
       "          (intermediate_act_fn): GELUActivation()\n",
       "        )\n",
       "        (output): BertOutput(\n",
       "          (dense): Linear(in_features=4096, out_features=1024, bias=True)\n",
       "          (LayerNorm): LayerNorm((1024,), eps=1e-12, elementwise_affine=True)\n",
       "          (dropout): Dropout(p=0.1, inplace=False)\n",
       "        )\n",
       "      )\n",
       "      (8): BertLayer(\n",
       "        (attention): BertAttention(\n",
       "          (self): BertSelfAttention(\n",
       "            (query): Linear(in_features=1024, out_features=1024, bias=True)\n",
       "            (key): Linear(in_features=1024, out_features=1024, bias=True)\n",
       "            (value): Linear(in_features=1024, out_features=1024, bias=True)\n",
       "            (dropout): Dropout(p=0.1, inplace=False)\n",
       "          )\n",
       "          (output): BertSelfOutput(\n",
       "            (dense): Linear(in_features=1024, out_features=1024, bias=True)\n",
       "            (LayerNorm): LayerNorm((1024,), eps=1e-12, elementwise_affine=True)\n",
       "            (dropout): Dropout(p=0.1, inplace=False)\n",
       "          )\n",
       "        )\n",
       "        (intermediate): BertIntermediate(\n",
       "          (dense): Linear(in_features=1024, out_features=4096, bias=True)\n",
       "          (intermediate_act_fn): GELUActivation()\n",
       "        )\n",
       "        (output): BertOutput(\n",
       "          (dense): Linear(in_features=4096, out_features=1024, bias=True)\n",
       "          (LayerNorm): LayerNorm((1024,), eps=1e-12, elementwise_affine=True)\n",
       "          (dropout): Dropout(p=0.1, inplace=False)\n",
       "        )\n",
       "      )\n",
       "      (9): BertLayer(\n",
       "        (attention): BertAttention(\n",
       "          (self): BertSelfAttention(\n",
       "            (query): Linear(in_features=1024, out_features=1024, bias=True)\n",
       "            (key): Linear(in_features=1024, out_features=1024, bias=True)\n",
       "            (value): Linear(in_features=1024, out_features=1024, bias=True)\n",
       "            (dropout): Dropout(p=0.1, inplace=False)\n",
       "          )\n",
       "          (output): BertSelfOutput(\n",
       "            (dense): Linear(in_features=1024, out_features=1024, bias=True)\n",
       "            (LayerNorm): LayerNorm((1024,), eps=1e-12, elementwise_affine=True)\n",
       "            (dropout): Dropout(p=0.1, inplace=False)\n",
       "          )\n",
       "        )\n",
       "        (intermediate): BertIntermediate(\n",
       "          (dense): Linear(in_features=1024, out_features=4096, bias=True)\n",
       "          (intermediate_act_fn): GELUActivation()\n",
       "        )\n",
       "        (output): BertOutput(\n",
       "          (dense): Linear(in_features=4096, out_features=1024, bias=True)\n",
       "          (LayerNorm): LayerNorm((1024,), eps=1e-12, elementwise_affine=True)\n",
       "          (dropout): Dropout(p=0.1, inplace=False)\n",
       "        )\n",
       "      )\n",
       "      (10): BertLayer(\n",
       "        (attention): BertAttention(\n",
       "          (self): BertSelfAttention(\n",
       "            (query): Linear(in_features=1024, out_features=1024, bias=True)\n",
       "            (key): Linear(in_features=1024, out_features=1024, bias=True)\n",
       "            (value): Linear(in_features=1024, out_features=1024, bias=True)\n",
       "            (dropout): Dropout(p=0.1, inplace=False)\n",
       "          )\n",
       "          (output): BertSelfOutput(\n",
       "            (dense): Linear(in_features=1024, out_features=1024, bias=True)\n",
       "            (LayerNorm): LayerNorm((1024,), eps=1e-12, elementwise_affine=True)\n",
       "            (dropout): Dropout(p=0.1, inplace=False)\n",
       "          )\n",
       "        )\n",
       "        (intermediate): BertIntermediate(\n",
       "          (dense): Linear(in_features=1024, out_features=4096, bias=True)\n",
       "          (intermediate_act_fn): GELUActivation()\n",
       "        )\n",
       "        (output): BertOutput(\n",
       "          (dense): Linear(in_features=4096, out_features=1024, bias=True)\n",
       "          (LayerNorm): LayerNorm((1024,), eps=1e-12, elementwise_affine=True)\n",
       "          (dropout): Dropout(p=0.1, inplace=False)\n",
       "        )\n",
       "      )\n",
       "      (11): BertLayer(\n",
       "        (attention): BertAttention(\n",
       "          (self): BertSelfAttention(\n",
       "            (query): Linear(in_features=1024, out_features=1024, bias=True)\n",
       "            (key): Linear(in_features=1024, out_features=1024, bias=True)\n",
       "            (value): Linear(in_features=1024, out_features=1024, bias=True)\n",
       "            (dropout): Dropout(p=0.1, inplace=False)\n",
       "          )\n",
       "          (output): BertSelfOutput(\n",
       "            (dense): Linear(in_features=1024, out_features=1024, bias=True)\n",
       "            (LayerNorm): LayerNorm((1024,), eps=1e-12, elementwise_affine=True)\n",
       "            (dropout): Dropout(p=0.1, inplace=False)\n",
       "          )\n",
       "        )\n",
       "        (intermediate): BertIntermediate(\n",
       "          (dense): Linear(in_features=1024, out_features=4096, bias=True)\n",
       "          (intermediate_act_fn): GELUActivation()\n",
       "        )\n",
       "        (output): BertOutput(\n",
       "          (dense): Linear(in_features=4096, out_features=1024, bias=True)\n",
       "          (LayerNorm): LayerNorm((1024,), eps=1e-12, elementwise_affine=True)\n",
       "          (dropout): Dropout(p=0.1, inplace=False)\n",
       "        )\n",
       "      )\n",
       "      (12): BertLayer(\n",
       "        (attention): BertAttention(\n",
       "          (self): BertSelfAttention(\n",
       "            (query): Linear(in_features=1024, out_features=1024, bias=True)\n",
       "            (key): Linear(in_features=1024, out_features=1024, bias=True)\n",
       "            (value): Linear(in_features=1024, out_features=1024, bias=True)\n",
       "            (dropout): Dropout(p=0.1, inplace=False)\n",
       "          )\n",
       "          (output): BertSelfOutput(\n",
       "            (dense): Linear(in_features=1024, out_features=1024, bias=True)\n",
       "            (LayerNorm): LayerNorm((1024,), eps=1e-12, elementwise_affine=True)\n",
       "            (dropout): Dropout(p=0.1, inplace=False)\n",
       "          )\n",
       "        )\n",
       "        (intermediate): BertIntermediate(\n",
       "          (dense): Linear(in_features=1024, out_features=4096, bias=True)\n",
       "          (intermediate_act_fn): GELUActivation()\n",
       "        )\n",
       "        (output): BertOutput(\n",
       "          (dense): Linear(in_features=4096, out_features=1024, bias=True)\n",
       "          (LayerNorm): LayerNorm((1024,), eps=1e-12, elementwise_affine=True)\n",
       "          (dropout): Dropout(p=0.1, inplace=False)\n",
       "        )\n",
       "      )\n",
       "      (13): BertLayer(\n",
       "        (attention): BertAttention(\n",
       "          (self): BertSelfAttention(\n",
       "            (query): Linear(in_features=1024, out_features=1024, bias=True)\n",
       "            (key): Linear(in_features=1024, out_features=1024, bias=True)\n",
       "            (value): Linear(in_features=1024, out_features=1024, bias=True)\n",
       "            (dropout): Dropout(p=0.1, inplace=False)\n",
       "          )\n",
       "          (output): BertSelfOutput(\n",
       "            (dense): Linear(in_features=1024, out_features=1024, bias=True)\n",
       "            (LayerNorm): LayerNorm((1024,), eps=1e-12, elementwise_affine=True)\n",
       "            (dropout): Dropout(p=0.1, inplace=False)\n",
       "          )\n",
       "        )\n",
       "        (intermediate): BertIntermediate(\n",
       "          (dense): Linear(in_features=1024, out_features=4096, bias=True)\n",
       "          (intermediate_act_fn): GELUActivation()\n",
       "        )\n",
       "        (output): BertOutput(\n",
       "          (dense): Linear(in_features=4096, out_features=1024, bias=True)\n",
       "          (LayerNorm): LayerNorm((1024,), eps=1e-12, elementwise_affine=True)\n",
       "          (dropout): Dropout(p=0.1, inplace=False)\n",
       "        )\n",
       "      )\n",
       "      (14): BertLayer(\n",
       "        (attention): BertAttention(\n",
       "          (self): BertSelfAttention(\n",
       "            (query): Linear(in_features=1024, out_features=1024, bias=True)\n",
       "            (key): Linear(in_features=1024, out_features=1024, bias=True)\n",
       "            (value): Linear(in_features=1024, out_features=1024, bias=True)\n",
       "            (dropout): Dropout(p=0.1, inplace=False)\n",
       "          )\n",
       "          (output): BertSelfOutput(\n",
       "            (dense): Linear(in_features=1024, out_features=1024, bias=True)\n",
       "            (LayerNorm): LayerNorm((1024,), eps=1e-12, elementwise_affine=True)\n",
       "            (dropout): Dropout(p=0.1, inplace=False)\n",
       "          )\n",
       "        )\n",
       "        (intermediate): BertIntermediate(\n",
       "          (dense): Linear(in_features=1024, out_features=4096, bias=True)\n",
       "          (intermediate_act_fn): GELUActivation()\n",
       "        )\n",
       "        (output): BertOutput(\n",
       "          (dense): Linear(in_features=4096, out_features=1024, bias=True)\n",
       "          (LayerNorm): LayerNorm((1024,), eps=1e-12, elementwise_affine=True)\n",
       "          (dropout): Dropout(p=0.1, inplace=False)\n",
       "        )\n",
       "      )\n",
       "      (15): BertLayer(\n",
       "        (attention): BertAttention(\n",
       "          (self): BertSelfAttention(\n",
       "            (query): Linear(in_features=1024, out_features=1024, bias=True)\n",
       "            (key): Linear(in_features=1024, out_features=1024, bias=True)\n",
       "            (value): Linear(in_features=1024, out_features=1024, bias=True)\n",
       "            (dropout): Dropout(p=0.1, inplace=False)\n",
       "          )\n",
       "          (output): BertSelfOutput(\n",
       "            (dense): Linear(in_features=1024, out_features=1024, bias=True)\n",
       "            (LayerNorm): LayerNorm((1024,), eps=1e-12, elementwise_affine=True)\n",
       "            (dropout): Dropout(p=0.1, inplace=False)\n",
       "          )\n",
       "        )\n",
       "        (intermediate): BertIntermediate(\n",
       "          (dense): Linear(in_features=1024, out_features=4096, bias=True)\n",
       "          (intermediate_act_fn): GELUActivation()\n",
       "        )\n",
       "        (output): BertOutput(\n",
       "          (dense): Linear(in_features=4096, out_features=1024, bias=True)\n",
       "          (LayerNorm): LayerNorm((1024,), eps=1e-12, elementwise_affine=True)\n",
       "          (dropout): Dropout(p=0.1, inplace=False)\n",
       "        )\n",
       "      )\n",
       "      (16): BertLayer(\n",
       "        (attention): BertAttention(\n",
       "          (self): BertSelfAttention(\n",
       "            (query): Linear(in_features=1024, out_features=1024, bias=True)\n",
       "            (key): Linear(in_features=1024, out_features=1024, bias=True)\n",
       "            (value): Linear(in_features=1024, out_features=1024, bias=True)\n",
       "            (dropout): Dropout(p=0.1, inplace=False)\n",
       "          )\n",
       "          (output): BertSelfOutput(\n",
       "            (dense): Linear(in_features=1024, out_features=1024, bias=True)\n",
       "            (LayerNorm): LayerNorm((1024,), eps=1e-12, elementwise_affine=True)\n",
       "            (dropout): Dropout(p=0.1, inplace=False)\n",
       "          )\n",
       "        )\n",
       "        (intermediate): BertIntermediate(\n",
       "          (dense): Linear(in_features=1024, out_features=4096, bias=True)\n",
       "          (intermediate_act_fn): GELUActivation()\n",
       "        )\n",
       "        (output): BertOutput(\n",
       "          (dense): Linear(in_features=4096, out_features=1024, bias=True)\n",
       "          (LayerNorm): LayerNorm((1024,), eps=1e-12, elementwise_affine=True)\n",
       "          (dropout): Dropout(p=0.1, inplace=False)\n",
       "        )\n",
       "      )\n",
       "      (17): BertLayer(\n",
       "        (attention): BertAttention(\n",
       "          (self): BertSelfAttention(\n",
       "            (query): Linear(in_features=1024, out_features=1024, bias=True)\n",
       "            (key): Linear(in_features=1024, out_features=1024, bias=True)\n",
       "            (value): Linear(in_features=1024, out_features=1024, bias=True)\n",
       "            (dropout): Dropout(p=0.1, inplace=False)\n",
       "          )\n",
       "          (output): BertSelfOutput(\n",
       "            (dense): Linear(in_features=1024, out_features=1024, bias=True)\n",
       "            (LayerNorm): LayerNorm((1024,), eps=1e-12, elementwise_affine=True)\n",
       "            (dropout): Dropout(p=0.1, inplace=False)\n",
       "          )\n",
       "        )\n",
       "        (intermediate): BertIntermediate(\n",
       "          (dense): Linear(in_features=1024, out_features=4096, bias=True)\n",
       "          (intermediate_act_fn): GELUActivation()\n",
       "        )\n",
       "        (output): BertOutput(\n",
       "          (dense): Linear(in_features=4096, out_features=1024, bias=True)\n",
       "          (LayerNorm): LayerNorm((1024,), eps=1e-12, elementwise_affine=True)\n",
       "          (dropout): Dropout(p=0.1, inplace=False)\n",
       "        )\n",
       "      )\n",
       "      (18): BertLayer(\n",
       "        (attention): BertAttention(\n",
       "          (self): BertSelfAttention(\n",
       "            (query): Linear(in_features=1024, out_features=1024, bias=True)\n",
       "            (key): Linear(in_features=1024, out_features=1024, bias=True)\n",
       "            (value): Linear(in_features=1024, out_features=1024, bias=True)\n",
       "            (dropout): Dropout(p=0.1, inplace=False)\n",
       "          )\n",
       "          (output): BertSelfOutput(\n",
       "            (dense): Linear(in_features=1024, out_features=1024, bias=True)\n",
       "            (LayerNorm): LayerNorm((1024,), eps=1e-12, elementwise_affine=True)\n",
       "            (dropout): Dropout(p=0.1, inplace=False)\n",
       "          )\n",
       "        )\n",
       "        (intermediate): BertIntermediate(\n",
       "          (dense): Linear(in_features=1024, out_features=4096, bias=True)\n",
       "          (intermediate_act_fn): GELUActivation()\n",
       "        )\n",
       "        (output): BertOutput(\n",
       "          (dense): Linear(in_features=4096, out_features=1024, bias=True)\n",
       "          (LayerNorm): LayerNorm((1024,), eps=1e-12, elementwise_affine=True)\n",
       "          (dropout): Dropout(p=0.1, inplace=False)\n",
       "        )\n",
       "      )\n",
       "      (19): BertLayer(\n",
       "        (attention): BertAttention(\n",
       "          (self): BertSelfAttention(\n",
       "            (query): Linear(in_features=1024, out_features=1024, bias=True)\n",
       "            (key): Linear(in_features=1024, out_features=1024, bias=True)\n",
       "            (value): Linear(in_features=1024, out_features=1024, bias=True)\n",
       "            (dropout): Dropout(p=0.1, inplace=False)\n",
       "          )\n",
       "          (output): BertSelfOutput(\n",
       "            (dense): Linear(in_features=1024, out_features=1024, bias=True)\n",
       "            (LayerNorm): LayerNorm((1024,), eps=1e-12, elementwise_affine=True)\n",
       "            (dropout): Dropout(p=0.1, inplace=False)\n",
       "          )\n",
       "        )\n",
       "        (intermediate): BertIntermediate(\n",
       "          (dense): Linear(in_features=1024, out_features=4096, bias=True)\n",
       "          (intermediate_act_fn): GELUActivation()\n",
       "        )\n",
       "        (output): BertOutput(\n",
       "          (dense): Linear(in_features=4096, out_features=1024, bias=True)\n",
       "          (LayerNorm): LayerNorm((1024,), eps=1e-12, elementwise_affine=True)\n",
       "          (dropout): Dropout(p=0.1, inplace=False)\n",
       "        )\n",
       "      )\n",
       "      (20): BertLayer(\n",
       "        (attention): BertAttention(\n",
       "          (self): BertSelfAttention(\n",
       "            (query): Linear(in_features=1024, out_features=1024, bias=True)\n",
       "            (key): Linear(in_features=1024, out_features=1024, bias=True)\n",
       "            (value): Linear(in_features=1024, out_features=1024, bias=True)\n",
       "            (dropout): Dropout(p=0.1, inplace=False)\n",
       "          )\n",
       "          (output): BertSelfOutput(\n",
       "            (dense): Linear(in_features=1024, out_features=1024, bias=True)\n",
       "            (LayerNorm): LayerNorm((1024,), eps=1e-12, elementwise_affine=True)\n",
       "            (dropout): Dropout(p=0.1, inplace=False)\n",
       "          )\n",
       "        )\n",
       "        (intermediate): BertIntermediate(\n",
       "          (dense): Linear(in_features=1024, out_features=4096, bias=True)\n",
       "          (intermediate_act_fn): GELUActivation()\n",
       "        )\n",
       "        (output): BertOutput(\n",
       "          (dense): Linear(in_features=4096, out_features=1024, bias=True)\n",
       "          (LayerNorm): LayerNorm((1024,), eps=1e-12, elementwise_affine=True)\n",
       "          (dropout): Dropout(p=0.1, inplace=False)\n",
       "        )\n",
       "      )\n",
       "      (21): BertLayer(\n",
       "        (attention): BertAttention(\n",
       "          (self): BertSelfAttention(\n",
       "            (query): Linear(in_features=1024, out_features=1024, bias=True)\n",
       "            (key): Linear(in_features=1024, out_features=1024, bias=True)\n",
       "            (value): Linear(in_features=1024, out_features=1024, bias=True)\n",
       "            (dropout): Dropout(p=0.1, inplace=False)\n",
       "          )\n",
       "          (output): BertSelfOutput(\n",
       "            (dense): Linear(in_features=1024, out_features=1024, bias=True)\n",
       "            (LayerNorm): LayerNorm((1024,), eps=1e-12, elementwise_affine=True)\n",
       "            (dropout): Dropout(p=0.1, inplace=False)\n",
       "          )\n",
       "        )\n",
       "        (intermediate): BertIntermediate(\n",
       "          (dense): Linear(in_features=1024, out_features=4096, bias=True)\n",
       "          (intermediate_act_fn): GELUActivation()\n",
       "        )\n",
       "        (output): BertOutput(\n",
       "          (dense): Linear(in_features=4096, out_features=1024, bias=True)\n",
       "          (LayerNorm): LayerNorm((1024,), eps=1e-12, elementwise_affine=True)\n",
       "          (dropout): Dropout(p=0.1, inplace=False)\n",
       "        )\n",
       "      )\n",
       "      (22): BertLayer(\n",
       "        (attention): BertAttention(\n",
       "          (self): BertSelfAttention(\n",
       "            (query): Linear(in_features=1024, out_features=1024, bias=True)\n",
       "            (key): Linear(in_features=1024, out_features=1024, bias=True)\n",
       "            (value): Linear(in_features=1024, out_features=1024, bias=True)\n",
       "            (dropout): Dropout(p=0.1, inplace=False)\n",
       "          )\n",
       "          (output): BertSelfOutput(\n",
       "            (dense): Linear(in_features=1024, out_features=1024, bias=True)\n",
       "            (LayerNorm): LayerNorm((1024,), eps=1e-12, elementwise_affine=True)\n",
       "            (dropout): Dropout(p=0.1, inplace=False)\n",
       "          )\n",
       "        )\n",
       "        (intermediate): BertIntermediate(\n",
       "          (dense): Linear(in_features=1024, out_features=4096, bias=True)\n",
       "          (intermediate_act_fn): GELUActivation()\n",
       "        )\n",
       "        (output): BertOutput(\n",
       "          (dense): Linear(in_features=4096, out_features=1024, bias=True)\n",
       "          (LayerNorm): LayerNorm((1024,), eps=1e-12, elementwise_affine=True)\n",
       "          (dropout): Dropout(p=0.1, inplace=False)\n",
       "        )\n",
       "      )\n",
       "      (23): BertLayer(\n",
       "        (attention): BertAttention(\n",
       "          (self): BertSelfAttention(\n",
       "            (query): Linear(in_features=1024, out_features=1024, bias=True)\n",
       "            (key): Linear(in_features=1024, out_features=1024, bias=True)\n",
       "            (value): Linear(in_features=1024, out_features=1024, bias=True)\n",
       "            (dropout): Dropout(p=0.1, inplace=False)\n",
       "          )\n",
       "          (output): BertSelfOutput(\n",
       "            (dense): Linear(in_features=1024, out_features=1024, bias=True)\n",
       "            (LayerNorm): LayerNorm((1024,), eps=1e-12, elementwise_affine=True)\n",
       "            (dropout): Dropout(p=0.1, inplace=False)\n",
       "          )\n",
       "        )\n",
       "        (intermediate): BertIntermediate(\n",
       "          (dense): Linear(in_features=1024, out_features=4096, bias=True)\n",
       "          (intermediate_act_fn): GELUActivation()\n",
       "        )\n",
       "        (output): BertOutput(\n",
       "          (dense): Linear(in_features=4096, out_features=1024, bias=True)\n",
       "          (LayerNorm): LayerNorm((1024,), eps=1e-12, elementwise_affine=True)\n",
       "          (dropout): Dropout(p=0.1, inplace=False)\n",
       "        )\n",
       "      )\n",
       "    )\n",
       "  )\n",
       "  (pooler): BertPooler(\n",
       "    (dense): Linear(in_features=1024, out_features=1024, bias=True)\n",
       "    (activation): Tanh()\n",
       "  )\n",
       ")"
      ]
     },
     "execution_count": 16,
     "metadata": {},
     "output_type": "execute_result"
    }
   ],
   "source": [
    "model.cuda()"
   ]
  },
  {
   "cell_type": "code",
   "execution_count": 17,
   "id": "1cc9f258",
   "metadata": {
    "execution": {
     "iopub.execute_input": "2022-10-20T18:28:42.729863Z",
     "iopub.status.busy": "2022-10-20T18:28:42.728723Z",
     "iopub.status.idle": "2022-10-20T18:28:42.735045Z",
     "shell.execute_reply": "2022-10-20T18:28:42.733843Z"
    },
    "papermill": {
     "duration": 0.024397,
     "end_time": "2022-10-20T18:28:42.737664",
     "exception": false,
     "start_time": "2022-10-20T18:28:42.713267",
     "status": "completed"
    },
    "tags": []
   },
   "outputs": [],
   "source": [
    "import torch\n",
    "device=torch.device('cuda:0')"
   ]
  },
  {
   "cell_type": "code",
   "execution_count": 18,
   "id": "146c89f0",
   "metadata": {
    "execution": {
     "iopub.execute_input": "2022-10-20T18:28:42.768275Z",
     "iopub.status.busy": "2022-10-20T18:28:42.767214Z",
     "iopub.status.idle": "2022-10-20T18:28:42.774051Z",
     "shell.execute_reply": "2022-10-20T18:28:42.772952Z"
    },
    "papermill": {
     "duration": 0.024552,
     "end_time": "2022-10-20T18:28:42.776440",
     "exception": false,
     "start_time": "2022-10-20T18:28:42.751888",
     "status": "completed"
    },
    "tags": []
   },
   "outputs": [],
   "source": [
    "def read_word_embedding(sentence):\n",
    "    inputs = tokenizer(sentence, return_tensors=\"pt\").to(device)\n",
    "    outputs = model(**inputs)\n",
    "    last_hidden_states = outputs.last_hidden_state.cpu()\n",
    "    embedding=np.mean(last_hidden_states[0].detach().numpy(),axis=0)\n",
    "#     embedding=np.mean(last_hidden_states[0].detach().to('cpu'),axis=0)\n",
    "    return embedding"
   ]
  },
  {
   "cell_type": "code",
   "execution_count": 19,
   "id": "ee774d95",
   "metadata": {
    "execution": {
     "iopub.execute_input": "2022-10-20T18:28:42.806141Z",
     "iopub.status.busy": "2022-10-20T18:28:42.805793Z",
     "iopub.status.idle": "2022-10-20T18:35:26.899644Z",
     "shell.execute_reply": "2022-10-20T18:35:26.898310Z"
    },
    "papermill": {
     "duration": 404.112327,
     "end_time": "2022-10-20T18:35:26.903274",
     "exception": false,
     "start_time": "2022-10-20T18:28:42.790947",
     "status": "completed"
    },
    "tags": []
   },
   "outputs": [
    {
     "name": "stderr",
     "output_type": "stream",
     "text": [
      "100%|██████████| 17497/17497 [06:44<00:00, 43.30it/s]\n"
     ]
    }
   ],
   "source": [
    "x_train_embeddings=[]\n",
    "for i in tqdm(range(len(train_df))):\n",
    "    try:\n",
    "        x_train_embeddings.append(read_word_embedding(train_df['Text'].iloc[i]))\n",
    "    except:\n",
    "        print(i)\n",
    "        break"
   ]
  },
  {
   "cell_type": "code",
   "execution_count": 20,
   "id": "58ad6c7c",
   "metadata": {
    "execution": {
     "iopub.execute_input": "2022-10-20T18:35:27.322039Z",
     "iopub.status.busy": "2022-10-20T18:35:27.321660Z",
     "iopub.status.idle": "2022-10-20T18:35:27.360304Z",
     "shell.execute_reply": "2022-10-20T18:35:27.359155Z"
    },
    "papermill": {
     "duration": 0.254739,
     "end_time": "2022-10-20T18:35:27.363897",
     "exception": false,
     "start_time": "2022-10-20T18:35:27.109158",
     "status": "completed"
    },
    "tags": []
   },
   "outputs": [],
   "source": [
    "x_train_embeddings=np.array(x_train_embeddings)\n",
    "y_train_intensity=np.array(list(train_df['Intensity'].values))"
   ]
  },
  {
   "cell_type": "code",
   "execution_count": 21,
   "id": "94d82d57",
   "metadata": {
    "execution": {
     "iopub.execute_input": "2022-10-20T18:35:28.030419Z",
     "iopub.status.busy": "2022-10-20T18:35:28.030015Z",
     "iopub.status.idle": "2022-10-20T18:37:03.212119Z",
     "shell.execute_reply": "2022-10-20T18:37:03.211066Z"
    },
    "papermill": {
     "duration": 95.495913,
     "end_time": "2022-10-20T18:37:03.216628",
     "exception": false,
     "start_time": "2022-10-20T18:35:27.720715",
     "status": "completed"
    },
    "tags": []
   },
   "outputs": [
    {
     "name": "stderr",
     "output_type": "stream",
     "text": [
      "100%|██████████| 4337/4337 [01:35<00:00, 45.57it/s]\n"
     ]
    }
   ],
   "source": [
    "x_test_embeddings=[]\n",
    "for i in tqdm(range(len(test_df))):\n",
    "    try:\n",
    "        x_test_embeddings.append(read_word_embedding(test_df['Text'].iloc[i]))\n",
    "    except:\n",
    "        print(i)\n",
    "        break"
   ]
  },
  {
   "cell_type": "code",
   "execution_count": 22,
   "id": "6f0656c7",
   "metadata": {
    "execution": {
     "iopub.execute_input": "2022-10-20T18:37:03.722583Z",
     "iopub.status.busy": "2022-10-20T18:37:03.720916Z",
     "iopub.status.idle": "2022-10-20T18:37:03.736070Z",
     "shell.execute_reply": "2022-10-20T18:37:03.735030Z"
    },
    "papermill": {
     "duration": 0.268294,
     "end_time": "2022-10-20T18:37:03.738185",
     "exception": false,
     "start_time": "2022-10-20T18:37:03.469891",
     "status": "completed"
    },
    "tags": []
   },
   "outputs": [],
   "source": [
    "x_test_embeddings=np.array(x_test_embeddings)\n",
    "y_test_intensity=np.array(list(test_df['Intensity'].values))\n",
    "y_test_actual_label=np.array(list(test_df['label'].values))"
   ]
  },
  {
   "cell_type": "code",
   "execution_count": 23,
   "id": "baaee4a1",
   "metadata": {
    "execution": {
     "iopub.execute_input": "2022-10-20T18:37:04.286791Z",
     "iopub.status.busy": "2022-10-20T18:37:04.286434Z",
     "iopub.status.idle": "2022-10-20T18:38:36.881750Z",
     "shell.execute_reply": "2022-10-20T18:38:36.879959Z"
    },
    "papermill": {
     "duration": 92.894668,
     "end_time": "2022-10-20T18:38:36.883909",
     "exception": false,
     "start_time": "2022-10-20T18:37:03.989241",
     "status": "completed"
    },
    "tags": []
   },
   "outputs": [
    {
     "name": "stderr",
     "output_type": "stream",
     "text": [
      "100%|██████████| 4337/4337 [01:32<00:00, 46.84it/s]\n"
     ]
    }
   ],
   "source": [
    "x_test_embeddings_new=[]\n",
    "for i in tqdm(new_test_sents):\n",
    "    try:\n",
    "        x_test_embeddings_new.append(read_word_embedding(i))\n",
    "    except:\n",
    "        print(i)\n",
    "        break"
   ]
  },
  {
   "cell_type": "markdown",
   "id": "e06bc903",
   "metadata": {
    "papermill": {
     "duration": 0.339664,
     "end_time": "2022-10-20T18:38:37.509428",
     "exception": false,
     "start_time": "2022-10-20T18:38:37.169764",
     "status": "completed"
    },
    "tags": []
   },
   "source": [
    "# Linear Regression"
   ]
  },
  {
   "cell_type": "code",
   "execution_count": 24,
   "id": "68e1a4f6",
   "metadata": {
    "execution": {
     "iopub.execute_input": "2022-10-20T18:38:38.109230Z",
     "iopub.status.busy": "2022-10-20T18:38:38.108845Z",
     "iopub.status.idle": "2022-10-20T18:38:38.238598Z",
     "shell.execute_reply": "2022-10-20T18:38:38.237611Z"
    },
    "papermill": {
     "duration": 0.432493,
     "end_time": "2022-10-20T18:38:38.241144",
     "exception": false,
     "start_time": "2022-10-20T18:38:37.808651",
     "status": "completed"
    },
    "tags": []
   },
   "outputs": [],
   "source": [
    "from sklearn.linear_model import LinearRegression\n",
    "from sklearn.model_selection import cross_val_score"
   ]
  },
  {
   "cell_type": "code",
   "execution_count": 25,
   "id": "7d63b368",
   "metadata": {
    "execution": {
     "iopub.execute_input": "2022-10-20T18:38:38.835084Z",
     "iopub.status.busy": "2022-10-20T18:38:38.834719Z",
     "iopub.status.idle": "2022-10-20T18:38:40.715585Z",
     "shell.execute_reply": "2022-10-20T18:38:40.714029Z"
    },
    "papermill": {
     "duration": 2.188083,
     "end_time": "2022-10-20T18:38:40.719901",
     "exception": false,
     "start_time": "2022-10-20T18:38:38.531818",
     "status": "completed"
    },
    "tags": []
   },
   "outputs": [],
   "source": [
    "linear_reg = LinearRegression().fit(x_train_embeddings, y_train_intensity)"
   ]
  },
  {
   "cell_type": "code",
   "execution_count": 26,
   "id": "37d27df1",
   "metadata": {
    "execution": {
     "iopub.execute_input": "2022-10-20T18:38:41.444641Z",
     "iopub.status.busy": "2022-10-20T18:38:41.444208Z",
     "iopub.status.idle": "2022-10-20T18:38:41.521419Z",
     "shell.execute_reply": "2022-10-20T18:38:41.519906Z"
    },
    "papermill": {
     "duration": 0.421822,
     "end_time": "2022-10-20T18:38:41.525619",
     "exception": false,
     "start_time": "2022-10-20T18:38:41.103797",
     "status": "completed"
    },
    "tags": []
   },
   "outputs": [],
   "source": [
    "y_test_pred = linear_reg.predict(x_test_embeddings)\n",
    "y_test_new_pred = linear_reg.predict(x_test_embeddings_new)\n",
    "y_test_pred_classes=['clickbait' if i>=0.5 else 'no-clickbait' for i in y_test_pred]\n",
    "y_test_pred_classes_new=['clickbait' if i>=0.5 else 'no-clickbait' for i in y_test_new_pred]\n",
    "y_test_actual_classes=list(test_df['label'].values)"
   ]
  },
  {
   "cell_type": "code",
   "execution_count": 27,
   "id": "5b90f13c",
   "metadata": {
    "execution": {
     "iopub.execute_input": "2022-10-20T18:38:42.163121Z",
     "iopub.status.busy": "2022-10-20T18:38:42.162749Z",
     "iopub.status.idle": "2022-10-20T18:38:42.167779Z",
     "shell.execute_reply": "2022-10-20T18:38:42.166797Z"
    },
    "papermill": {
     "duration": 0.305421,
     "end_time": "2022-10-20T18:38:42.169973",
     "exception": false,
     "start_time": "2022-10-20T18:38:41.864552",
     "status": "completed"
    },
    "tags": []
   },
   "outputs": [],
   "source": [
    "actual_sents=list(test_df['Text'].values)"
   ]
  },
  {
   "cell_type": "code",
   "execution_count": 28,
   "id": "7e01ee66",
   "metadata": {
    "execution": {
     "iopub.execute_input": "2022-10-20T18:38:42.776478Z",
     "iopub.status.busy": "2022-10-20T18:38:42.776079Z",
     "iopub.status.idle": "2022-10-20T18:38:42.788919Z",
     "shell.execute_reply": "2022-10-20T18:38:42.787925Z"
    },
    "papermill": {
     "duration": 0.31795,
     "end_time": "2022-10-20T18:38:42.790943",
     "exception": false,
     "start_time": "2022-10-20T18:38:42.472993",
     "status": "completed"
    },
    "tags": []
   },
   "outputs": [],
   "source": [
    "out_df=pd.DataFrame(list(zip(actual_sents,y_test_intensity,y_test_pred,new_test_sents,y_test_new_pred)),columns=['actual_sentence','actual_intensity','predicted_intensity','modified_sentence','modified_predicted_intensity'])"
   ]
  },
  {
   "cell_type": "code",
   "execution_count": 29,
   "id": "a49342fe",
   "metadata": {
    "execution": {
     "iopub.execute_input": "2022-10-20T18:38:43.437026Z",
     "iopub.status.busy": "2022-10-20T18:38:43.436649Z",
     "iopub.status.idle": "2022-10-20T18:38:43.441195Z",
     "shell.execute_reply": "2022-10-20T18:38:43.440184Z"
    },
    "papermill": {
     "duration": 0.308808,
     "end_time": "2022-10-20T18:38:43.443189",
     "exception": false,
     "start_time": "2022-10-20T18:38:43.134381",
     "status": "completed"
    },
    "tags": []
   },
   "outputs": [],
   "source": [
    "# out_df.head()"
   ]
  },
  {
   "cell_type": "code",
   "execution_count": 30,
   "id": "4a0d4319",
   "metadata": {
    "execution": {
     "iopub.execute_input": "2022-10-20T18:38:44.025918Z",
     "iopub.status.busy": "2022-10-20T18:38:44.025521Z",
     "iopub.status.idle": "2022-10-20T18:38:44.061160Z",
     "shell.execute_reply": "2022-10-20T18:38:44.060038Z"
    },
    "papermill": {
     "duration": 0.329776,
     "end_time": "2022-10-20T18:38:44.063686",
     "exception": false,
     "start_time": "2022-10-20T18:38:43.733910",
     "status": "completed"
    },
    "tags": []
   },
   "outputs": [],
   "source": [
    "out_df.to_csv('./Test_Results_LR.csv')"
   ]
  },
  {
   "cell_type": "code",
   "execution_count": 31,
   "id": "0021efaa",
   "metadata": {
    "execution": {
     "iopub.execute_input": "2022-10-20T18:38:44.653883Z",
     "iopub.status.busy": "2022-10-20T18:38:44.653177Z",
     "iopub.status.idle": "2022-10-20T18:38:44.658542Z",
     "shell.execute_reply": "2022-10-20T18:38:44.657598Z"
    },
    "papermill": {
     "duration": 0.302413,
     "end_time": "2022-10-20T18:38:44.660705",
     "exception": false,
     "start_time": "2022-10-20T18:38:44.358292",
     "status": "completed"
    },
    "tags": []
   },
   "outputs": [],
   "source": [
    "from sklearn.metrics import median_absolute_error,mean_squared_error, f1_score, accuracy_score"
   ]
  },
  {
   "cell_type": "code",
   "execution_count": 32,
   "id": "e191c645",
   "metadata": {
    "execution": {
     "iopub.execute_input": "2022-10-20T18:38:45.293494Z",
     "iopub.status.busy": "2022-10-20T18:38:45.293066Z",
     "iopub.status.idle": "2022-10-20T18:38:45.299580Z",
     "shell.execute_reply": "2022-10-20T18:38:45.298477Z"
    },
    "papermill": {
     "duration": 0.301734,
     "end_time": "2022-10-20T18:38:45.301637",
     "exception": false,
     "start_time": "2022-10-20T18:38:44.999903",
     "status": "completed"
    },
    "tags": []
   },
   "outputs": [],
   "source": [
    "def results(y_true,y_pred,y_actual_classes,y_pred_classes):\n",
    "    Medae = median_absolute_error(y_true,y_pred)\n",
    "    mse = mean_squared_error(y_true,y_pred) #default=True\n",
    "    rmse = mean_squared_error(y_true,y_pred,squared=False)\n",
    "    accuracy=accuracy_score(y_actual_classes,y_pred_classes)\n",
    "    f1=f1_score(y_actual_classes,y_pred_classes,pos_label='clickbait')\n",
    "    \n",
    "    print(\"MedAE:\",Medae)\n",
    "    print(\"MSE:\",mse)\n",
    "    print(\"RMSE:\",rmse)\n",
    "    print(\"Accuracy:\",accuracy)\n",
    "    print(\"f1-score:\",f1)"
   ]
  },
  {
   "cell_type": "code",
   "execution_count": 33,
   "id": "16ae5142",
   "metadata": {
    "execution": {
     "iopub.execute_input": "2022-10-20T18:38:46.119860Z",
     "iopub.status.busy": "2022-10-20T18:38:46.119460Z",
     "iopub.status.idle": "2022-10-20T18:38:46.159530Z",
     "shell.execute_reply": "2022-10-20T18:38:46.158151Z"
    },
    "papermill": {
     "duration": 0.421408,
     "end_time": "2022-10-20T18:38:46.162613",
     "exception": false,
     "start_time": "2022-10-20T18:38:45.741205",
     "status": "completed"
    },
    "tags": []
   },
   "outputs": [
    {
     "name": "stdout",
     "output_type": "stream",
     "text": [
      "Without Masking/Replacing Words\n",
      "\n",
      "MedAE: 0.10960439042890624\n",
      "MSE: 0.029353670269196528\n",
      "RMSE: 0.1713291284901564\n",
      "Accuracy: 0.8445930366612866\n",
      "f1-score: 0.6463798530954878\n"
     ]
    }
   ],
   "source": [
    "print('Without Masking/Replacing Words\\n')\n",
    "results(y_test_intensity,y_test_pred,y_test_actual_classes,y_test_pred_classes)"
   ]
  },
  {
   "cell_type": "code",
   "execution_count": 34,
   "id": "af9f85e3",
   "metadata": {
    "execution": {
     "iopub.execute_input": "2022-10-20T18:38:46.794332Z",
     "iopub.status.busy": "2022-10-20T18:38:46.792466Z",
     "iopub.status.idle": "2022-10-20T18:38:46.828898Z",
     "shell.execute_reply": "2022-10-20T18:38:46.827488Z"
    },
    "papermill": {
     "duration": 0.374725,
     "end_time": "2022-10-20T18:38:46.831935",
     "exception": false,
     "start_time": "2022-10-20T18:38:46.457210",
     "status": "completed"
    },
    "tags": []
   },
   "outputs": [
    {
     "name": "stdout",
     "output_type": "stream",
     "text": [
      "With Masking/Replacing Words\n",
      "\n",
      "MedAE: 0.113645426445625\n",
      "MSE: 0.03176614000242992\n",
      "RMSE: 0.17823058099672437\n",
      "Accuracy: 0.8388286834217201\n",
      "f1-score: 0.5980448533640024\n"
     ]
    }
   ],
   "source": [
    "print('With Masking/Replacing Words\\n')\n",
    "results(y_test_intensity,y_test_new_pred,y_test_actual_classes,y_test_pred_classes_new)"
   ]
  },
  {
   "cell_type": "markdown",
   "id": "43825ae7",
   "metadata": {
    "papermill": {
     "duration": 0.291133,
     "end_time": "2022-10-20T18:38:47.421398",
     "exception": false,
     "start_time": "2022-10-20T18:38:47.130265",
     "status": "completed"
    },
    "tags": []
   },
   "source": [
    "# Ridge Regression"
   ]
  },
  {
   "cell_type": "code",
   "execution_count": 35,
   "id": "0087e0d0",
   "metadata": {
    "execution": {
     "iopub.execute_input": "2022-10-20T18:38:48.000781Z",
     "iopub.status.busy": "2022-10-20T18:38:48.000353Z",
     "iopub.status.idle": "2022-10-20T18:38:48.349748Z",
     "shell.execute_reply": "2022-10-20T18:38:48.348316Z"
    },
    "papermill": {
     "duration": 0.641323,
     "end_time": "2022-10-20T18:38:48.353615",
     "exception": false,
     "start_time": "2022-10-20T18:38:47.712292",
     "status": "completed"
    },
    "tags": []
   },
   "outputs": [],
   "source": [
    "from sklearn.linear_model import Ridge\n",
    "clf = Ridge(alpha=2).fit(x_train_embeddings, y_train_intensity)"
   ]
  },
  {
   "cell_type": "code",
   "execution_count": 36,
   "id": "80dbf234",
   "metadata": {
    "execution": {
     "iopub.execute_input": "2022-10-20T18:38:49.073218Z",
     "iopub.status.busy": "2022-10-20T18:38:49.072837Z",
     "iopub.status.idle": "2022-10-20T18:38:49.144190Z",
     "shell.execute_reply": "2022-10-20T18:38:49.142729Z"
    },
    "papermill": {
     "duration": 0.369268,
     "end_time": "2022-10-20T18:38:49.147863",
     "exception": false,
     "start_time": "2022-10-20T18:38:48.778595",
     "status": "completed"
    },
    "tags": []
   },
   "outputs": [],
   "source": [
    "y_test_pred = clf.predict(x_test_embeddings)\n",
    "y_test_new_pred = clf.predict(x_test_embeddings_new)\n",
    "y_test_pred_classes=['clickbait' if i>=0.5 else 'no-clickbait' for i in y_test_pred]\n",
    "y_test_pred_classes_new=['clickbait' if i>=0.5 else 'no-clickbait' for i in y_test_new_pred]\n",
    "y_test_actual_classes=list(test_df['label'].values)"
   ]
  },
  {
   "cell_type": "code",
   "execution_count": 37,
   "id": "ad552649",
   "metadata": {
    "execution": {
     "iopub.execute_input": "2022-10-20T18:38:49.793195Z",
     "iopub.status.busy": "2022-10-20T18:38:49.792825Z",
     "iopub.status.idle": "2022-10-20T18:38:49.830312Z",
     "shell.execute_reply": "2022-10-20T18:38:49.828341Z"
    },
    "papermill": {
     "duration": 0.342041,
     "end_time": "2022-10-20T18:38:49.833282",
     "exception": false,
     "start_time": "2022-10-20T18:38:49.491241",
     "status": "completed"
    },
    "tags": []
   },
   "outputs": [
    {
     "name": "stdout",
     "output_type": "stream",
     "text": [
      "Without Masking/Replacing Words\n",
      "\n",
      "MedAE: 0.10892980100724375\n",
      "MSE: 0.0291963610311915\n",
      "RMSE: 0.17086942684749518\n",
      "Accuracy: 0.8445930366612866\n",
      "f1-score: 0.6445147679324895\n"
     ]
    }
   ],
   "source": [
    "print('Without Masking/Replacing Words\\n')\n",
    "results(y_test_intensity,y_test_pred,y_test_actual_classes,y_test_pred_classes)"
   ]
  },
  {
   "cell_type": "code",
   "execution_count": 38,
   "id": "6575f1e1",
   "metadata": {
    "execution": {
     "iopub.execute_input": "2022-10-20T18:38:50.486040Z",
     "iopub.status.busy": "2022-10-20T18:38:50.485649Z",
     "iopub.status.idle": "2022-10-20T18:38:50.523540Z",
     "shell.execute_reply": "2022-10-20T18:38:50.522443Z"
    },
    "papermill": {
     "duration": 0.39122,
     "end_time": "2022-10-20T18:38:50.525976",
     "exception": false,
     "start_time": "2022-10-20T18:38:50.134756",
     "status": "completed"
    },
    "tags": []
   },
   "outputs": [
    {
     "name": "stdout",
     "output_type": "stream",
     "text": [
      "With Masking/Replacing Words\n",
      "\n",
      "MedAE: 0.11327401395612424\n",
      "MSE: 0.03161434876767562\n",
      "RMSE: 0.1778042428281047\n",
      "Accuracy: 0.8388286834217201\n",
      "f1-score: 0.5980448533640024\n"
     ]
    }
   ],
   "source": [
    "print('With Masking/Replacing Words\\n')\n",
    "results(y_test_intensity,y_test_new_pred,y_test_actual_classes,y_test_pred_classes_new)"
   ]
  },
  {
   "cell_type": "markdown",
   "id": "17c34f16",
   "metadata": {
    "papermill": {
     "duration": 0.289597,
     "end_time": "2022-10-20T18:38:51.106620",
     "exception": false,
     "start_time": "2022-10-20T18:38:50.817023",
     "status": "completed"
    },
    "tags": []
   },
   "source": [
    "# Gradient Boosted Regression"
   ]
  },
  {
   "cell_type": "code",
   "execution_count": 39,
   "id": "2f94526f",
   "metadata": {
    "execution": {
     "iopub.execute_input": "2022-10-20T18:38:51.700266Z",
     "iopub.status.busy": "2022-10-20T18:38:51.699895Z",
     "iopub.status.idle": "2022-10-20T18:49:55.347435Z",
     "shell.execute_reply": "2022-10-20T18:49:55.346198Z"
    },
    "papermill": {
     "duration": 663.948341,
     "end_time": "2022-10-20T18:49:55.350082",
     "exception": false,
     "start_time": "2022-10-20T18:38:51.401741",
     "status": "completed"
    },
    "tags": []
   },
   "outputs": [],
   "source": [
    "from sklearn.ensemble import GradientBoostingRegressor\n",
    "clf = GradientBoostingRegressor().fit(x_train_embeddings, y_train_intensity)"
   ]
  },
  {
   "cell_type": "code",
   "execution_count": 40,
   "id": "652efa79",
   "metadata": {
    "execution": {
     "iopub.execute_input": "2022-10-20T18:49:56.030783Z",
     "iopub.status.busy": "2022-10-20T18:49:56.030173Z",
     "iopub.status.idle": "2022-10-20T18:49:56.088715Z",
     "shell.execute_reply": "2022-10-20T18:49:56.087608Z"
    },
    "papermill": {
     "duration": 0.368395,
     "end_time": "2022-10-20T18:49:56.091633",
     "exception": false,
     "start_time": "2022-10-20T18:49:55.723238",
     "status": "completed"
    },
    "tags": []
   },
   "outputs": [],
   "source": [
    "y_test_pred = clf.predict(x_test_embeddings)\n",
    "y_test_new_pred = clf.predict(x_test_embeddings_new)\n",
    "y_test_pred_classes=['clickbait' if i>=0.5 else 'no-clickbait' for i in y_test_pred]\n",
    "y_test_pred_classes_new=['clickbait' if i>=0.5 else 'no-clickbait' for i in y_test_new_pred]\n",
    "y_test_actual_classes=list(test_df['label'].values)"
   ]
  },
  {
   "cell_type": "code",
   "execution_count": 41,
   "id": "b2342530",
   "metadata": {
    "execution": {
     "iopub.execute_input": "2022-10-20T18:49:56.980646Z",
     "iopub.status.busy": "2022-10-20T18:49:56.980059Z",
     "iopub.status.idle": "2022-10-20T18:49:57.019417Z",
     "shell.execute_reply": "2022-10-20T18:49:57.017358Z"
    },
    "papermill": {
     "duration": 0.585453,
     "end_time": "2022-10-20T18:49:57.022627",
     "exception": false,
     "start_time": "2022-10-20T18:49:56.437174",
     "status": "completed"
    },
    "tags": []
   },
   "outputs": [
    {
     "name": "stdout",
     "output_type": "stream",
     "text": [
      "Without Masking/Replacing Words\n",
      "\n",
      "MedAE: 0.11959921905770182\n",
      "MSE: 0.031571694975067593\n",
      "RMSE: 0.17768425640744762\n",
      "Accuracy: 0.8383675351625548\n",
      "f1-score: 0.6124930901050303\n"
     ]
    }
   ],
   "source": [
    "print('Without Masking/Replacing Words\\n')\n",
    "results(y_test_intensity,y_test_pred,y_test_actual_classes,y_test_pred_classes)"
   ]
  },
  {
   "cell_type": "code",
   "execution_count": 42,
   "id": "17d362a3",
   "metadata": {
    "execution": {
     "iopub.execute_input": "2022-10-20T18:49:57.699174Z",
     "iopub.status.busy": "2022-10-20T18:49:57.698388Z",
     "iopub.status.idle": "2022-10-20T18:49:57.736248Z",
     "shell.execute_reply": "2022-10-20T18:49:57.734194Z"
    },
    "papermill": {
     "duration": 0.399729,
     "end_time": "2022-10-20T18:49:57.739021",
     "exception": false,
     "start_time": "2022-10-20T18:49:57.339292",
     "status": "completed"
    },
    "tags": []
   },
   "outputs": [
    {
     "name": "stdout",
     "output_type": "stream",
     "text": [
      "With Masking/Replacing Words\n",
      "\n",
      "MedAE: 0.12138454951488004\n",
      "MSE: 0.03448890286593769\n",
      "RMSE: 0.18571188132679528\n",
      "Accuracy: 0.8201521789255246\n",
      "f1-score: 0.5249695493300853\n"
     ]
    }
   ],
   "source": [
    "print('With Masking/Replacing Words\\n')\n",
    "results(y_test_intensity,y_test_new_pred,y_test_actual_classes,y_test_pred_classes_new)"
   ]
  },
  {
   "cell_type": "markdown",
   "id": "d5f302dd",
   "metadata": {
    "papermill": {
     "duration": 0.301444,
     "end_time": "2022-10-20T18:49:58.350283",
     "exception": false,
     "start_time": "2022-10-20T18:49:58.048839",
     "status": "completed"
    },
    "tags": []
   },
   "source": [
    "# Random Forest Regression"
   ]
  },
  {
   "cell_type": "code",
   "execution_count": 43,
   "id": "eb23c13b",
   "metadata": {
    "execution": {
     "iopub.execute_input": "2022-10-20T18:49:58.965069Z",
     "iopub.status.busy": "2022-10-20T18:49:58.964688Z",
     "iopub.status.idle": "2022-10-20T18:56:44.543004Z",
     "shell.execute_reply": "2022-10-20T18:56:44.541908Z"
    },
    "papermill": {
     "duration": 405.890329,
     "end_time": "2022-10-20T18:56:44.545820",
     "exception": false,
     "start_time": "2022-10-20T18:49:58.655491",
     "status": "completed"
    },
    "tags": []
   },
   "outputs": [],
   "source": [
    "from sklearn.ensemble import RandomForestRegressor\n",
    "clf= RandomForestRegressor(max_depth=3, random_state=0).fit(x_train_embeddings, y_train_intensity)"
   ]
  },
  {
   "cell_type": "code",
   "execution_count": 44,
   "id": "5188884d",
   "metadata": {
    "execution": {
     "iopub.execute_input": "2022-10-20T18:56:45.213007Z",
     "iopub.status.busy": "2022-10-20T18:56:45.212637Z",
     "iopub.status.idle": "2022-10-20T18:56:45.297645Z",
     "shell.execute_reply": "2022-10-20T18:56:45.296484Z"
    },
    "papermill": {
     "duration": 0.392752,
     "end_time": "2022-10-20T18:56:45.300538",
     "exception": false,
     "start_time": "2022-10-20T18:56:44.907786",
     "status": "completed"
    },
    "tags": []
   },
   "outputs": [],
   "source": [
    "y_test_pred = clf.predict(x_test_embeddings)\n",
    "y_test_new_pred = clf.predict(x_test_embeddings_new)\n",
    "y_test_pred_classes=['clickbait' if i>=0.5 else 'no-clickbait' for i in y_test_pred]\n",
    "y_test_pred_classes_new=['clickbait' if i>=0.5 else 'no-clickbait' for i in y_test_new_pred]\n",
    "y_test_actual_classes=list(test_df['label'].values)"
   ]
  },
  {
   "cell_type": "code",
   "execution_count": 45,
   "id": "eb78d4ac",
   "metadata": {
    "execution": {
     "iopub.execute_input": "2022-10-20T18:56:45.900899Z",
     "iopub.status.busy": "2022-10-20T18:56:45.900535Z",
     "iopub.status.idle": "2022-10-20T18:56:45.938621Z",
     "shell.execute_reply": "2022-10-20T18:56:45.936617Z"
    },
    "papermill": {
     "duration": 0.340505,
     "end_time": "2022-10-20T18:56:45.942121",
     "exception": false,
     "start_time": "2022-10-20T18:56:45.601616",
     "status": "completed"
    },
    "tags": []
   },
   "outputs": [
    {
     "name": "stdout",
     "output_type": "stream",
     "text": [
      "Without Masking/Replacing Words\n",
      "\n",
      "MedAE: 0.15414561867907123\n",
      "MSE: 0.0462313179783515\n",
      "RMSE: 0.21501469247089022\n",
      "Accuracy: 0.778418261471063\n",
      "f1-score: 0.32180663373323926\n"
     ]
    }
   ],
   "source": [
    "print('Without Masking/Replacing Words\\n')\n",
    "results(y_test_intensity,y_test_pred,y_test_actual_classes,y_test_pred_classes)"
   ]
  },
  {
   "cell_type": "code",
   "execution_count": 46,
   "id": "0de2c626",
   "metadata": {
    "execution": {
     "iopub.execute_input": "2022-10-20T18:56:46.604713Z",
     "iopub.status.busy": "2022-10-20T18:56:46.603992Z",
     "iopub.status.idle": "2022-10-20T18:56:46.640243Z",
     "shell.execute_reply": "2022-10-20T18:56:46.638359Z"
    },
    "papermill": {
     "duration": 0.380846,
     "end_time": "2022-10-20T18:56:46.642877",
     "exception": false,
     "start_time": "2022-10-20T18:56:46.262031",
     "status": "completed"
    },
    "tags": []
   },
   "outputs": [
    {
     "name": "stdout",
     "output_type": "stream",
     "text": [
      "With Masking/Replacing Words\n",
      "\n",
      "MedAE: 0.1577426957878486\n",
      "MSE: 0.04850369970163641\n",
      "RMSE: 0.22023555503514053\n",
      "Accuracy: 0.7632003689186073\n",
      "f1-score: 0.19702892885066456\n"
     ]
    }
   ],
   "source": [
    "print('With Masking/Replacing Words\\n')\n",
    "results(y_test_intensity,y_test_new_pred,y_test_actual_classes,y_test_pred_classes_new)"
   ]
  },
  {
   "cell_type": "markdown",
   "id": "d946a484",
   "metadata": {
    "papermill": {
     "duration": 0.3085,
     "end_time": "2022-10-20T18:56:47.252246",
     "exception": false,
     "start_time": "2022-10-20T18:56:46.943746",
     "status": "completed"
    },
    "tags": []
   },
   "source": [
    "# Adaboost Regression"
   ]
  },
  {
   "cell_type": "code",
   "execution_count": 47,
   "id": "c58578e9",
   "metadata": {
    "execution": {
     "iopub.execute_input": "2022-10-20T18:56:47.846787Z",
     "iopub.status.busy": "2022-10-20T18:56:47.846397Z",
     "iopub.status.idle": "2022-10-20T19:03:15.492932Z",
     "shell.execute_reply": "2022-10-20T19:03:15.491541Z"
    },
    "papermill": {
     "duration": 387.948315,
     "end_time": "2022-10-20T19:03:15.495538",
     "exception": false,
     "start_time": "2022-10-20T18:56:47.547223",
     "status": "completed"
    },
    "tags": []
   },
   "outputs": [],
   "source": [
    "from sklearn.ensemble import AdaBoostRegressor\n",
    "clf = AdaBoostRegressor(random_state=0, n_estimators=100).fit(x_train_embeddings, y_train_intensity)"
   ]
  },
  {
   "cell_type": "code",
   "execution_count": 48,
   "id": "0dbc25b2",
   "metadata": {
    "execution": {
     "iopub.execute_input": "2022-10-20T19:03:16.134056Z",
     "iopub.status.busy": "2022-10-20T19:03:16.133708Z",
     "iopub.status.idle": "2022-10-20T19:03:16.866848Z",
     "shell.execute_reply": "2022-10-20T19:03:16.865831Z"
    },
    "papermill": {
     "duration": 1.03401,
     "end_time": "2022-10-20T19:03:16.869448",
     "exception": false,
     "start_time": "2022-10-20T19:03:15.835438",
     "status": "completed"
    },
    "tags": []
   },
   "outputs": [],
   "source": [
    "y_test_pred = clf.predict(x_test_embeddings)\n",
    "y_test_new_pred = clf.predict(x_test_embeddings_new)\n",
    "y_test_pred_classes=['clickbait' if i>=0.5 else 'no-clickbait' for i in y_test_pred]\n",
    "y_test_pred_classes_new=['clickbait' if i>=0.5 else 'no-clickbait' for i in y_test_new_pred]\n",
    "y_test_actual_classes=list(test_df['label'].values)"
   ]
  },
  {
   "cell_type": "code",
   "execution_count": 49,
   "id": "e58a308c",
   "metadata": {
    "execution": {
     "iopub.execute_input": "2022-10-20T19:03:17.463536Z",
     "iopub.status.busy": "2022-10-20T19:03:17.463176Z",
     "iopub.status.idle": "2022-10-20T19:03:17.499037Z",
     "shell.execute_reply": "2022-10-20T19:03:17.497329Z"
    },
    "papermill": {
     "duration": 0.333506,
     "end_time": "2022-10-20T19:03:17.501361",
     "exception": false,
     "start_time": "2022-10-20T19:03:17.167855",
     "status": "completed"
    },
    "tags": []
   },
   "outputs": [
    {
     "name": "stdout",
     "output_type": "stream",
     "text": [
      "Without Masking/Replacing Words\n",
      "\n",
      "MedAE: 0.16596281076847968\n",
      "MSE: 0.04324632096729674\n",
      "RMSE: 0.20795749798287327\n",
      "Accuracy: 0.8270694028130043\n",
      "f1-score: 0.5614035087719298\n"
     ]
    }
   ],
   "source": [
    "print('Without Masking/Replacing Words\\n')\n",
    "results(y_test_intensity,y_test_pred,y_test_actual_classes,y_test_pred_classes)"
   ]
  },
  {
   "cell_type": "code",
   "execution_count": 50,
   "id": "d823dc13",
   "metadata": {
    "execution": {
     "iopub.execute_input": "2022-10-20T19:03:18.142725Z",
     "iopub.status.busy": "2022-10-20T19:03:18.141602Z",
     "iopub.status.idle": "2022-10-20T19:03:18.176094Z",
     "shell.execute_reply": "2022-10-20T19:03:18.174783Z"
    },
    "papermill": {
     "duration": 0.377435,
     "end_time": "2022-10-20T19:03:18.179125",
     "exception": false,
     "start_time": "2022-10-20T19:03:17.801690",
     "status": "completed"
    },
    "tags": []
   },
   "outputs": [
    {
     "name": "stdout",
     "output_type": "stream",
     "text": [
      "With Masking/Replacing Words\n",
      "\n",
      "MedAE: 0.16862400867256028\n",
      "MSE: 0.04460749331732833\n",
      "RMSE: 0.21120486101727945\n",
      "Accuracy: 0.8072400276688956\n",
      "f1-score: 0.4441489361702128\n"
     ]
    }
   ],
   "source": [
    "print('With Masking/Replacing Words\\n')\n",
    "results(y_test_intensity,y_test_new_pred,y_test_actual_classes,y_test_pred_classes_new)"
   ]
  },
  {
   "cell_type": "code",
   "execution_count": null,
   "id": "6a1632a3",
   "metadata": {
    "papermill": {
     "duration": 0.305027,
     "end_time": "2022-10-20T19:03:18.796906",
     "exception": false,
     "start_time": "2022-10-20T19:03:18.491879",
     "status": "completed"
    },
    "tags": []
   },
   "outputs": [],
   "source": []
  },
  {
   "cell_type": "code",
   "execution_count": null,
   "id": "93074285",
   "metadata": {
    "papermill": {
     "duration": 0.331754,
     "end_time": "2022-10-20T19:03:19.433985",
     "exception": false,
     "start_time": "2022-10-20T19:03:19.102231",
     "status": "completed"
    },
    "tags": []
   },
   "outputs": [],
   "source": []
  }
 ],
 "metadata": {
  "kernelspec": {
   "display_name": "Python 3",
   "language": "python",
   "name": "python3"
  },
  "language_info": {
   "codemirror_mode": {
    "name": "ipython",
    "version": 3
   },
   "file_extension": ".py",
   "mimetype": "text/x-python",
   "name": "python",
   "nbconvert_exporter": "python",
   "pygments_lexer": "ipython3",
   "version": "3.7.12"
  },
  "papermill": {
   "default_parameters": {},
   "duration": 2268.868922,
   "end_time": "2022-10-20T19:03:23.859251",
   "environment_variables": {},
   "exception": null,
   "input_path": "__notebook__.ipynb",
   "output_path": "__notebook__.ipynb",
   "parameters": {},
   "start_time": "2022-10-20T18:25:34.990329",
   "version": "2.3.4"
  },
  "widgets": {
   "application/vnd.jupyter.widget-state+json": {
    "state": {
     "08d0546283ca4415987ca14fc675f5a4": {
      "model_module": "@jupyter-widgets/base",
      "model_module_version": "1.2.0",
      "model_name": "LayoutModel",
      "state": {
       "_model_module": "@jupyter-widgets/base",
       "_model_module_version": "1.2.0",
       "_model_name": "LayoutModel",
       "_view_count": null,
       "_view_module": "@jupyter-widgets/base",
       "_view_module_version": "1.2.0",
       "_view_name": "LayoutView",
       "align_content": null,
       "align_items": null,
       "align_self": null,
       "border": null,
       "bottom": null,
       "display": null,
       "flex": null,
       "flex_flow": null,
       "grid_area": null,
       "grid_auto_columns": null,
       "grid_auto_flow": null,
       "grid_auto_rows": null,
       "grid_column": null,
       "grid_gap": null,
       "grid_row": null,
       "grid_template_areas": null,
       "grid_template_columns": null,
       "grid_template_rows": null,
       "height": null,
       "justify_content": null,
       "justify_items": null,
       "left": null,
       "margin": null,
       "max_height": null,
       "max_width": null,
       "min_height": null,
       "min_width": null,
       "object_fit": null,
       "object_position": null,
       "order": null,
       "overflow": null,
       "overflow_x": null,
       "overflow_y": null,
       "padding": null,
       "right": null,
       "top": null,
       "visibility": null,
       "width": null
      }
     },
     "09d6d01222d84984ae74e8122d2853f8": {
      "model_module": "@jupyter-widgets/base",
      "model_module_version": "1.2.0",
      "model_name": "LayoutModel",
      "state": {
       "_model_module": "@jupyter-widgets/base",
       "_model_module_version": "1.2.0",
       "_model_name": "LayoutModel",
       "_view_count": null,
       "_view_module": "@jupyter-widgets/base",
       "_view_module_version": "1.2.0",
       "_view_name": "LayoutView",
       "align_content": null,
       "align_items": null,
       "align_self": null,
       "border": null,
       "bottom": null,
       "display": null,
       "flex": null,
       "flex_flow": null,
       "grid_area": null,
       "grid_auto_columns": null,
       "grid_auto_flow": null,
       "grid_auto_rows": null,
       "grid_column": null,
       "grid_gap": null,
       "grid_row": null,
       "grid_template_areas": null,
       "grid_template_columns": null,
       "grid_template_rows": null,
       "height": null,
       "justify_content": null,
       "justify_items": null,
       "left": null,
       "margin": null,
       "max_height": null,
       "max_width": null,
       "min_height": null,
       "min_width": null,
       "object_fit": null,
       "object_position": null,
       "order": null,
       "overflow": null,
       "overflow_x": null,
       "overflow_y": null,
       "padding": null,
       "right": null,
       "top": null,
       "visibility": null,
       "width": null
      }
     },
     "0af54707e7c74d8ab49e3ff30a20ba8d": {
      "model_module": "@jupyter-widgets/base",
      "model_module_version": "1.2.0",
      "model_name": "LayoutModel",
      "state": {
       "_model_module": "@jupyter-widgets/base",
       "_model_module_version": "1.2.0",
       "_model_name": "LayoutModel",
       "_view_count": null,
       "_view_module": "@jupyter-widgets/base",
       "_view_module_version": "1.2.0",
       "_view_name": "LayoutView",
       "align_content": null,
       "align_items": null,
       "align_self": null,
       "border": null,
       "bottom": null,
       "display": null,
       "flex": null,
       "flex_flow": null,
       "grid_area": null,
       "grid_auto_columns": null,
       "grid_auto_flow": null,
       "grid_auto_rows": null,
       "grid_column": null,
       "grid_gap": null,
       "grid_row": null,
       "grid_template_areas": null,
       "grid_template_columns": null,
       "grid_template_rows": null,
       "height": null,
       "justify_content": null,
       "justify_items": null,
       "left": null,
       "margin": null,
       "max_height": null,
       "max_width": null,
       "min_height": null,
       "min_width": null,
       "object_fit": null,
       "object_position": null,
       "order": null,
       "overflow": null,
       "overflow_x": null,
       "overflow_y": null,
       "padding": null,
       "right": null,
       "top": null,
       "visibility": null,
       "width": null
      }
     },
     "11f50d41ab2d409fa26663ea0a4f760f": {
      "model_module": "@jupyter-widgets/controls",
      "model_module_version": "1.5.0",
      "model_name": "HTMLModel",
      "state": {
       "_dom_classes": [],
       "_model_module": "@jupyter-widgets/controls",
       "_model_module_version": "1.5.0",
       "_model_name": "HTMLModel",
       "_view_count": null,
       "_view_module": "@jupyter-widgets/controls",
       "_view_module_version": "1.5.0",
       "_view_name": "HTMLView",
       "description": "",
       "description_tooltip": null,
       "layout": "IPY_MODEL_f9415a9c0d7c4d7d8703a6c7df203cbf",
       "placeholder": "​",
       "style": "IPY_MODEL_4ed46786cea043b582bcb04e1b2c9cc5",
       "value": "Downloading: 100%"
      }
     },
     "14093d79d8d74a0eb364773b41eb5c91": {
      "model_module": "@jupyter-widgets/controls",
      "model_module_version": "1.5.0",
      "model_name": "HTMLModel",
      "state": {
       "_dom_classes": [],
       "_model_module": "@jupyter-widgets/controls",
       "_model_module_version": "1.5.0",
       "_model_name": "HTMLModel",
       "_view_count": null,
       "_view_module": "@jupyter-widgets/controls",
       "_view_module_version": "1.5.0",
       "_view_name": "HTMLView",
       "description": "",
       "description_tooltip": null,
       "layout": "IPY_MODEL_c516d1e3e6e84c798538e5eaa0447f99",
       "placeholder": "​",
       "style": "IPY_MODEL_9228c0ddf70b47359fc07d71d7466703",
       "value": " 446k/446k [00:00&lt;00:00, 3.51MB/s]"
      }
     },
     "1d5ce255cd4845ef8b67789d510532cc": {
      "model_module": "@jupyter-widgets/controls",
      "model_module_version": "1.5.0",
      "model_name": "FloatProgressModel",
      "state": {
       "_dom_classes": [],
       "_model_module": "@jupyter-widgets/controls",
       "_model_module_version": "1.5.0",
       "_model_name": "FloatProgressModel",
       "_view_count": null,
       "_view_module": "@jupyter-widgets/controls",
       "_view_module_version": "1.5.0",
       "_view_name": "ProgressView",
       "bar_style": "success",
       "description": "",
       "description_tooltip": null,
       "layout": "IPY_MODEL_2bd9f53477684146a0ff36890edd3d59",
       "max": 456318.0,
       "min": 0.0,
       "orientation": "horizontal",
       "style": "IPY_MODEL_cca4d2d153534f288c924f14b4d8363a",
       "value": 456318.0
      }
     },
     "2254688b64b54a529849776bdf48199b": {
      "model_module": "@jupyter-widgets/controls",
      "model_module_version": "1.5.0",
      "model_name": "DescriptionStyleModel",
      "state": {
       "_model_module": "@jupyter-widgets/controls",
       "_model_module_version": "1.5.0",
       "_model_name": "DescriptionStyleModel",
       "_view_count": null,
       "_view_module": "@jupyter-widgets/base",
       "_view_module_version": "1.2.0",
       "_view_name": "StyleView",
       "description_width": ""
      }
     },
     "22c99ad1602f4ca8bf26faadd049e5b6": {
      "model_module": "@jupyter-widgets/base",
      "model_module_version": "1.2.0",
      "model_name": "LayoutModel",
      "state": {
       "_model_module": "@jupyter-widgets/base",
       "_model_module_version": "1.2.0",
       "_model_name": "LayoutModel",
       "_view_count": null,
       "_view_module": "@jupyter-widgets/base",
       "_view_module_version": "1.2.0",
       "_view_name": "LayoutView",
       "align_content": null,
       "align_items": null,
       "align_self": null,
       "border": null,
       "bottom": null,
       "display": null,
       "flex": null,
       "flex_flow": null,
       "grid_area": null,
       "grid_auto_columns": null,
       "grid_auto_flow": null,
       "grid_auto_rows": null,
       "grid_column": null,
       "grid_gap": null,
       "grid_row": null,
       "grid_template_areas": null,
       "grid_template_columns": null,
       "grid_template_rows": null,
       "height": null,
       "justify_content": null,
       "justify_items": null,
       "left": null,
       "margin": null,
       "max_height": null,
       "max_width": null,
       "min_height": null,
       "min_width": null,
       "object_fit": null,
       "object_position": null,
       "order": null,
       "overflow": null,
       "overflow_x": null,
       "overflow_y": null,
       "padding": null,
       "right": null,
       "top": null,
       "visibility": null,
       "width": null
      }
     },
     "2409df48faea44d1a508993cfcfecee4": {
      "model_module": "@jupyter-widgets/controls",
      "model_module_version": "1.5.0",
      "model_name": "HTMLModel",
      "state": {
       "_dom_classes": [],
       "_model_module": "@jupyter-widgets/controls",
       "_model_module_version": "1.5.0",
       "_model_name": "HTMLModel",
       "_view_count": null,
       "_view_module": "@jupyter-widgets/controls",
       "_view_module_version": "1.5.0",
       "_view_name": "HTMLView",
       "description": "",
       "description_tooltip": null,
       "layout": "IPY_MODEL_764cd4d34442480d8c82f2a8f4c645fb",
       "placeholder": "​",
       "style": "IPY_MODEL_64982adb54cf4d6a89c2f0d8fbe3f871",
       "value": " 481/481 [00:00&lt;00:00, 17.2kB/s]"
      }
     },
     "26a9726d8ce445e986ec8a561bbadcb3": {
      "model_module": "@jupyter-widgets/base",
      "model_module_version": "1.2.0",
      "model_name": "LayoutModel",
      "state": {
       "_model_module": "@jupyter-widgets/base",
       "_model_module_version": "1.2.0",
       "_model_name": "LayoutModel",
       "_view_count": null,
       "_view_module": "@jupyter-widgets/base",
       "_view_module_version": "1.2.0",
       "_view_name": "LayoutView",
       "align_content": null,
       "align_items": null,
       "align_self": null,
       "border": null,
       "bottom": null,
       "display": null,
       "flex": null,
       "flex_flow": null,
       "grid_area": null,
       "grid_auto_columns": null,
       "grid_auto_flow": null,
       "grid_auto_rows": null,
       "grid_column": null,
       "grid_gap": null,
       "grid_row": null,
       "grid_template_areas": null,
       "grid_template_columns": null,
       "grid_template_rows": null,
       "height": null,
       "justify_content": null,
       "justify_items": null,
       "left": null,
       "margin": null,
       "max_height": null,
       "max_width": null,
       "min_height": null,
       "min_width": null,
       "object_fit": null,
       "object_position": null,
       "order": null,
       "overflow": null,
       "overflow_x": null,
       "overflow_y": null,
       "padding": null,
       "right": null,
       "top": null,
       "visibility": null,
       "width": null
      }
     },
     "2ae8ecf3f353470e9a4cd46938f7e4d3": {
      "model_module": "@jupyter-widgets/controls",
      "model_module_version": "1.5.0",
      "model_name": "FloatProgressModel",
      "state": {
       "_dom_classes": [],
       "_model_module": "@jupyter-widgets/controls",
       "_model_module_version": "1.5.0",
       "_model_name": "FloatProgressModel",
       "_view_count": null,
       "_view_module": "@jupyter-widgets/controls",
       "_view_module_version": "1.5.0",
       "_view_name": "ProgressView",
       "bar_style": "success",
       "description": "",
       "description_tooltip": null,
       "layout": "IPY_MODEL_b31585b2bcd64d80bacad82fdc53ea50",
       "max": 231508.0,
       "min": 0.0,
       "orientation": "horizontal",
       "style": "IPY_MODEL_f09f595042964ffaa98aab718cf3ac35",
       "value": 231508.0
      }
     },
     "2bd9f53477684146a0ff36890edd3d59": {
      "model_module": "@jupyter-widgets/base",
      "model_module_version": "1.2.0",
      "model_name": "LayoutModel",
      "state": {
       "_model_module": "@jupyter-widgets/base",
       "_model_module_version": "1.2.0",
       "_model_name": "LayoutModel",
       "_view_count": null,
       "_view_module": "@jupyter-widgets/base",
       "_view_module_version": "1.2.0",
       "_view_name": "LayoutView",
       "align_content": null,
       "align_items": null,
       "align_self": null,
       "border": null,
       "bottom": null,
       "display": null,
       "flex": null,
       "flex_flow": null,
       "grid_area": null,
       "grid_auto_columns": null,
       "grid_auto_flow": null,
       "grid_auto_rows": null,
       "grid_column": null,
       "grid_gap": null,
       "grid_row": null,
       "grid_template_areas": null,
       "grid_template_columns": null,
       "grid_template_rows": null,
       "height": null,
       "justify_content": null,
       "justify_items": null,
       "left": null,
       "margin": null,
       "max_height": null,
       "max_width": null,
       "min_height": null,
       "min_width": null,
       "object_fit": null,
       "object_position": null,
       "order": null,
       "overflow": null,
       "overflow_x": null,
       "overflow_y": null,
       "padding": null,
       "right": null,
       "top": null,
       "visibility": null,
       "width": null
      }
     },
     "2e2437a923d045e7b01547f5a3cabdef": {
      "model_module": "@jupyter-widgets/controls",
      "model_module_version": "1.5.0",
      "model_name": "DescriptionStyleModel",
      "state": {
       "_model_module": "@jupyter-widgets/controls",
       "_model_module_version": "1.5.0",
       "_model_name": "DescriptionStyleModel",
       "_view_count": null,
       "_view_module": "@jupyter-widgets/base",
       "_view_module_version": "1.2.0",
       "_view_name": "StyleView",
       "description_width": ""
      }
     },
     "2e65f690f5124527889721e7b158aa0a": {
      "model_module": "@jupyter-widgets/base",
      "model_module_version": "1.2.0",
      "model_name": "LayoutModel",
      "state": {
       "_model_module": "@jupyter-widgets/base",
       "_model_module_version": "1.2.0",
       "_model_name": "LayoutModel",
       "_view_count": null,
       "_view_module": "@jupyter-widgets/base",
       "_view_module_version": "1.2.0",
       "_view_name": "LayoutView",
       "align_content": null,
       "align_items": null,
       "align_self": null,
       "border": null,
       "bottom": null,
       "display": null,
       "flex": null,
       "flex_flow": null,
       "grid_area": null,
       "grid_auto_columns": null,
       "grid_auto_flow": null,
       "grid_auto_rows": null,
       "grid_column": null,
       "grid_gap": null,
       "grid_row": null,
       "grid_template_areas": null,
       "grid_template_columns": null,
       "grid_template_rows": null,
       "height": null,
       "justify_content": null,
       "justify_items": null,
       "left": null,
       "margin": null,
       "max_height": null,
       "max_width": null,
       "min_height": null,
       "min_width": null,
       "object_fit": null,
       "object_position": null,
       "order": null,
       "overflow": null,
       "overflow_x": null,
       "overflow_y": null,
       "padding": null,
       "right": null,
       "top": null,
       "visibility": null,
       "width": null
      }
     },
     "301a9ae848f94459aa17bf0ee3083f70": {
      "model_module": "@jupyter-widgets/base",
      "model_module_version": "1.2.0",
      "model_name": "LayoutModel",
      "state": {
       "_model_module": "@jupyter-widgets/base",
       "_model_module_version": "1.2.0",
       "_model_name": "LayoutModel",
       "_view_count": null,
       "_view_module": "@jupyter-widgets/base",
       "_view_module_version": "1.2.0",
       "_view_name": "LayoutView",
       "align_content": null,
       "align_items": null,
       "align_self": null,
       "border": null,
       "bottom": null,
       "display": null,
       "flex": null,
       "flex_flow": null,
       "grid_area": null,
       "grid_auto_columns": null,
       "grid_auto_flow": null,
       "grid_auto_rows": null,
       "grid_column": null,
       "grid_gap": null,
       "grid_row": null,
       "grid_template_areas": null,
       "grid_template_columns": null,
       "grid_template_rows": null,
       "height": null,
       "justify_content": null,
       "justify_items": null,
       "left": null,
       "margin": null,
       "max_height": null,
       "max_width": null,
       "min_height": null,
       "min_width": null,
       "object_fit": null,
       "object_position": null,
       "order": null,
       "overflow": null,
       "overflow_x": null,
       "overflow_y": null,
       "padding": null,
       "right": null,
       "top": null,
       "visibility": null,
       "width": null
      }
     },
     "34f45f01f9f54171868a2e9102d797d7": {
      "model_module": "@jupyter-widgets/controls",
      "model_module_version": "1.5.0",
      "model_name": "ProgressStyleModel",
      "state": {
       "_model_module": "@jupyter-widgets/controls",
       "_model_module_version": "1.5.0",
       "_model_name": "ProgressStyleModel",
       "_view_count": null,
       "_view_module": "@jupyter-widgets/base",
       "_view_module_version": "1.2.0",
       "_view_name": "StyleView",
       "bar_color": null,
       "description_width": ""
      }
     },
     "36b0658ff28a45f6b53d3d843623eebc": {
      "model_module": "@jupyter-widgets/base",
      "model_module_version": "1.2.0",
      "model_name": "LayoutModel",
      "state": {
       "_model_module": "@jupyter-widgets/base",
       "_model_module_version": "1.2.0",
       "_model_name": "LayoutModel",
       "_view_count": null,
       "_view_module": "@jupyter-widgets/base",
       "_view_module_version": "1.2.0",
       "_view_name": "LayoutView",
       "align_content": null,
       "align_items": null,
       "align_self": null,
       "border": null,
       "bottom": null,
       "display": null,
       "flex": null,
       "flex_flow": null,
       "grid_area": null,
       "grid_auto_columns": null,
       "grid_auto_flow": null,
       "grid_auto_rows": null,
       "grid_column": null,
       "grid_gap": null,
       "grid_row": null,
       "grid_template_areas": null,
       "grid_template_columns": null,
       "grid_template_rows": null,
       "height": null,
       "justify_content": null,
       "justify_items": null,
       "left": null,
       "margin": null,
       "max_height": null,
       "max_width": null,
       "min_height": null,
       "min_width": null,
       "object_fit": null,
       "object_position": null,
       "order": null,
       "overflow": null,
       "overflow_x": null,
       "overflow_y": null,
       "padding": null,
       "right": null,
       "top": null,
       "visibility": null,
       "width": null
      }
     },
     "3ad444a0c649418990e636ccc38f64e3": {
      "model_module": "@jupyter-widgets/controls",
      "model_module_version": "1.5.0",
      "model_name": "HTMLModel",
      "state": {
       "_dom_classes": [],
       "_model_module": "@jupyter-widgets/controls",
       "_model_module_version": "1.5.0",
       "_model_name": "HTMLModel",
       "_view_count": null,
       "_view_module": "@jupyter-widgets/controls",
       "_view_module_version": "1.5.0",
       "_view_name": "HTMLView",
       "description": "",
       "description_tooltip": null,
       "layout": "IPY_MODEL_ab99382a455d44789245ba4e4a3403e7",
       "placeholder": "​",
       "style": "IPY_MODEL_84ebe597cc1c406a8bf0a62d6fae743a",
       "value": " 226k/226k [00:00&lt;00:00, 2.57MB/s]"
      }
     },
     "47d485e51776429c9343f953463fa416": {
      "model_module": "@jupyter-widgets/controls",
      "model_module_version": "1.5.0",
      "model_name": "FloatProgressModel",
      "state": {
       "_dom_classes": [],
       "_model_module": "@jupyter-widgets/controls",
       "_model_module_version": "1.5.0",
       "_model_name": "FloatProgressModel",
       "_view_count": null,
       "_view_module": "@jupyter-widgets/controls",
       "_view_module_version": "1.5.0",
       "_view_name": "ProgressView",
       "bar_style": "success",
       "description": "",
       "description_tooltip": null,
       "layout": "IPY_MODEL_0af54707e7c74d8ab49e3ff30a20ba8d",
       "max": 28.0,
       "min": 0.0,
       "orientation": "horizontal",
       "style": "IPY_MODEL_ec5c0124bb0e4505acaf790a2e6713f4",
       "value": 28.0
      }
     },
     "4ae2e938ba374593a96b9e05a6ce57c5": {
      "model_module": "@jupyter-widgets/base",
      "model_module_version": "1.2.0",
      "model_name": "LayoutModel",
      "state": {
       "_model_module": "@jupyter-widgets/base",
       "_model_module_version": "1.2.0",
       "_model_name": "LayoutModel",
       "_view_count": null,
       "_view_module": "@jupyter-widgets/base",
       "_view_module_version": "1.2.0",
       "_view_name": "LayoutView",
       "align_content": null,
       "align_items": null,
       "align_self": null,
       "border": null,
       "bottom": null,
       "display": null,
       "flex": null,
       "flex_flow": null,
       "grid_area": null,
       "grid_auto_columns": null,
       "grid_auto_flow": null,
       "grid_auto_rows": null,
       "grid_column": null,
       "grid_gap": null,
       "grid_row": null,
       "grid_template_areas": null,
       "grid_template_columns": null,
       "grid_template_rows": null,
       "height": null,
       "justify_content": null,
       "justify_items": null,
       "left": null,
       "margin": null,
       "max_height": null,
       "max_width": null,
       "min_height": null,
       "min_width": null,
       "object_fit": null,
       "object_position": null,
       "order": null,
       "overflow": null,
       "overflow_x": null,
       "overflow_y": null,
       "padding": null,
       "right": null,
       "top": null,
       "visibility": null,
       "width": null
      }
     },
     "4ed46786cea043b582bcb04e1b2c9cc5": {
      "model_module": "@jupyter-widgets/controls",
      "model_module_version": "1.5.0",
      "model_name": "DescriptionStyleModel",
      "state": {
       "_model_module": "@jupyter-widgets/controls",
       "_model_module_version": "1.5.0",
       "_model_name": "DescriptionStyleModel",
       "_view_count": null,
       "_view_module": "@jupyter-widgets/base",
       "_view_module_version": "1.2.0",
       "_view_name": "StyleView",
       "description_width": ""
      }
     },
     "531debfacfca45cca79bd7c17910ba9a": {
      "model_module": "@jupyter-widgets/controls",
      "model_module_version": "1.5.0",
      "model_name": "FloatProgressModel",
      "state": {
       "_dom_classes": [],
       "_model_module": "@jupyter-widgets/controls",
       "_model_module_version": "1.5.0",
       "_model_name": "FloatProgressModel",
       "_view_count": null,
       "_view_module": "@jupyter-widgets/controls",
       "_view_module_version": "1.5.0",
       "_view_name": "ProgressView",
       "bar_style": "success",
       "description": "",
       "description_tooltip": null,
       "layout": "IPY_MODEL_b0543ec8e95e417d89225f698a8cc865",
       "max": 481.0,
       "min": 0.0,
       "orientation": "horizontal",
       "style": "IPY_MODEL_ea026de36e0e4bcd95bb9740fa2c0ba3",
       "value": 481.0
      }
     },
     "584ba4e2080d43979ad27b10aafb21ee": {
      "model_module": "@jupyter-widgets/controls",
      "model_module_version": "1.5.0",
      "model_name": "HTMLModel",
      "state": {
       "_dom_classes": [],
       "_model_module": "@jupyter-widgets/controls",
       "_model_module_version": "1.5.0",
       "_model_name": "HTMLModel",
       "_view_count": null,
       "_view_module": "@jupyter-widgets/controls",
       "_view_module_version": "1.5.0",
       "_view_name": "HTMLView",
       "description": "",
       "description_tooltip": null,
       "layout": "IPY_MODEL_26a9726d8ce445e986ec8a561bbadcb3",
       "placeholder": "​",
       "style": "IPY_MODEL_7bf63f91f57e4f2bba8657747f1aaf48",
       "value": "Downloading: 100%"
      }
     },
     "5ce9df36b5ba405790a3e3d8c60c353d": {
      "model_module": "@jupyter-widgets/controls",
      "model_module_version": "1.5.0",
      "model_name": "HTMLModel",
      "state": {
       "_dom_classes": [],
       "_model_module": "@jupyter-widgets/controls",
       "_model_module_version": "1.5.0",
       "_model_name": "HTMLModel",
       "_view_count": null,
       "_view_module": "@jupyter-widgets/controls",
       "_view_module_version": "1.5.0",
       "_view_name": "HTMLView",
       "description": "",
       "description_tooltip": null,
       "layout": "IPY_MODEL_301a9ae848f94459aa17bf0ee3083f70",
       "placeholder": "​",
       "style": "IPY_MODEL_df19a2ef22a446f2af6e4c9f619b53c0",
       "value": "Downloading: 100%"
      }
     },
     "6072a0259f5c40c3ad61fd2d05044303": {
      "model_module": "@jupyter-widgets/controls",
      "model_module_version": "1.5.0",
      "model_name": "FloatProgressModel",
      "state": {
       "_dom_classes": [],
       "_model_module": "@jupyter-widgets/controls",
       "_model_module_version": "1.5.0",
       "_model_name": "FloatProgressModel",
       "_view_count": null,
       "_view_module": "@jupyter-widgets/controls",
       "_view_module_version": "1.5.0",
       "_view_name": "ProgressView",
       "bar_style": "success",
       "description": "",
       "description_tooltip": null,
       "layout": "IPY_MODEL_36b0658ff28a45f6b53d3d843623eebc",
       "max": 1344997306.0,
       "min": 0.0,
       "orientation": "horizontal",
       "style": "IPY_MODEL_fddc562e02f3427eba896674ac663a67",
       "value": 1344997306.0
      }
     },
     "64982adb54cf4d6a89c2f0d8fbe3f871": {
      "model_module": "@jupyter-widgets/controls",
      "model_module_version": "1.5.0",
      "model_name": "DescriptionStyleModel",
      "state": {
       "_model_module": "@jupyter-widgets/controls",
       "_model_module_version": "1.5.0",
       "_model_name": "DescriptionStyleModel",
       "_view_count": null,
       "_view_module": "@jupyter-widgets/base",
       "_view_module_version": "1.2.0",
       "_view_name": "StyleView",
       "description_width": ""
      }
     },
     "6a0ba9bbfa17445b880fd967bc354ffe": {
      "model_module": "@jupyter-widgets/controls",
      "model_module_version": "1.5.0",
      "model_name": "HTMLModel",
      "state": {
       "_dom_classes": [],
       "_model_module": "@jupyter-widgets/controls",
       "_model_module_version": "1.5.0",
       "_model_name": "HTMLModel",
       "_view_count": null,
       "_view_module": "@jupyter-widgets/controls",
       "_view_module_version": "1.5.0",
       "_view_name": "HTMLView",
       "description": "",
       "description_tooltip": null,
       "layout": "IPY_MODEL_08d0546283ca4415987ca14fc675f5a4",
       "placeholder": "​",
       "style": "IPY_MODEL_9eb3416f920c47bfb680a4210e97b619",
       "value": "Downloading: 100%"
      }
     },
     "6a888ac270c0444b93a69a0e21d3b3e0": {
      "model_module": "@jupyter-widgets/controls",
      "model_module_version": "1.5.0",
      "model_name": "HTMLModel",
      "state": {
       "_dom_classes": [],
       "_model_module": "@jupyter-widgets/controls",
       "_model_module_version": "1.5.0",
       "_model_name": "HTMLModel",
       "_view_count": null,
       "_view_module": "@jupyter-widgets/controls",
       "_view_module_version": "1.5.0",
       "_view_name": "HTMLView",
       "description": "",
       "description_tooltip": null,
       "layout": "IPY_MODEL_09d6d01222d84984ae74e8122d2853f8",
       "placeholder": "​",
       "style": "IPY_MODEL_9c57d0bb304448aca368d51ffc41191f",
       "value": "Downloading: 100%"
      }
     },
     "6e137b0aeab84380b742bcd6d3987c3d": {
      "model_module": "@jupyter-widgets/controls",
      "model_module_version": "1.5.0",
      "model_name": "DescriptionStyleModel",
      "state": {
       "_model_module": "@jupyter-widgets/controls",
       "_model_module_version": "1.5.0",
       "_model_name": "DescriptionStyleModel",
       "_view_count": null,
       "_view_module": "@jupyter-widgets/base",
       "_view_module_version": "1.2.0",
       "_view_name": "StyleView",
       "description_width": ""
      }
     },
     "71bf59be32aa47f8a2e74c11b08ba86c": {
      "model_module": "@jupyter-widgets/controls",
      "model_module_version": "1.5.0",
      "model_name": "HTMLModel",
      "state": {
       "_dom_classes": [],
       "_model_module": "@jupyter-widgets/controls",
       "_model_module_version": "1.5.0",
       "_model_name": "HTMLModel",
       "_view_count": null,
       "_view_module": "@jupyter-widgets/controls",
       "_view_module_version": "1.5.0",
       "_view_name": "HTMLView",
       "description": "",
       "description_tooltip": null,
       "layout": "IPY_MODEL_a1baf44ef4b5458a826c91e4a59f09e5",
       "placeholder": "​",
       "style": "IPY_MODEL_2e2437a923d045e7b01547f5a3cabdef",
       "value": " 28.0/28.0 [00:00&lt;00:00, 1.00kB/s]"
      }
     },
     "764cd4d34442480d8c82f2a8f4c645fb": {
      "model_module": "@jupyter-widgets/base",
      "model_module_version": "1.2.0",
      "model_name": "LayoutModel",
      "state": {
       "_model_module": "@jupyter-widgets/base",
       "_model_module_version": "1.2.0",
       "_model_name": "LayoutModel",
       "_view_count": null,
       "_view_module": "@jupyter-widgets/base",
       "_view_module_version": "1.2.0",
       "_view_name": "LayoutView",
       "align_content": null,
       "align_items": null,
       "align_self": null,
       "border": null,
       "bottom": null,
       "display": null,
       "flex": null,
       "flex_flow": null,
       "grid_area": null,
       "grid_auto_columns": null,
       "grid_auto_flow": null,
       "grid_auto_rows": null,
       "grid_column": null,
       "grid_gap": null,
       "grid_row": null,
       "grid_template_areas": null,
       "grid_template_columns": null,
       "grid_template_rows": null,
       "height": null,
       "justify_content": null,
       "justify_items": null,
       "left": null,
       "margin": null,
       "max_height": null,
       "max_width": null,
       "min_height": null,
       "min_width": null,
       "object_fit": null,
       "object_position": null,
       "order": null,
       "overflow": null,
       "overflow_x": null,
       "overflow_y": null,
       "padding": null,
       "right": null,
       "top": null,
       "visibility": null,
       "width": null
      }
     },
     "7bf63f91f57e4f2bba8657747f1aaf48": {
      "model_module": "@jupyter-widgets/controls",
      "model_module_version": "1.5.0",
      "model_name": "DescriptionStyleModel",
      "state": {
       "_model_module": "@jupyter-widgets/controls",
       "_model_module_version": "1.5.0",
       "_model_name": "DescriptionStyleModel",
       "_view_count": null,
       "_view_module": "@jupyter-widgets/base",
       "_view_module_version": "1.2.0",
       "_view_name": "StyleView",
       "description_width": ""
      }
     },
     "7d842f467f9a49dc872ad6a1234c91ba": {
      "model_module": "@jupyter-widgets/base",
      "model_module_version": "1.2.0",
      "model_name": "LayoutModel",
      "state": {
       "_model_module": "@jupyter-widgets/base",
       "_model_module_version": "1.2.0",
       "_model_name": "LayoutModel",
       "_view_count": null,
       "_view_module": "@jupyter-widgets/base",
       "_view_module_version": "1.2.0",
       "_view_name": "LayoutView",
       "align_content": null,
       "align_items": null,
       "align_self": null,
       "border": null,
       "bottom": null,
       "display": null,
       "flex": null,
       "flex_flow": null,
       "grid_area": null,
       "grid_auto_columns": null,
       "grid_auto_flow": null,
       "grid_auto_rows": null,
       "grid_column": null,
       "grid_gap": null,
       "grid_row": null,
       "grid_template_areas": null,
       "grid_template_columns": null,
       "grid_template_rows": null,
       "height": null,
       "justify_content": null,
       "justify_items": null,
       "left": null,
       "margin": null,
       "max_height": null,
       "max_width": null,
       "min_height": null,
       "min_width": null,
       "object_fit": null,
       "object_position": null,
       "order": null,
       "overflow": null,
       "overflow_x": null,
       "overflow_y": null,
       "padding": null,
       "right": null,
       "top": null,
       "visibility": null,
       "width": null
      }
     },
     "8443992bce894e7c810bf109173d2441": {
      "model_module": "@jupyter-widgets/base",
      "model_module_version": "1.2.0",
      "model_name": "LayoutModel",
      "state": {
       "_model_module": "@jupyter-widgets/base",
       "_model_module_version": "1.2.0",
       "_model_name": "LayoutModel",
       "_view_count": null,
       "_view_module": "@jupyter-widgets/base",
       "_view_module_version": "1.2.0",
       "_view_name": "LayoutView",
       "align_content": null,
       "align_items": null,
       "align_self": null,
       "border": null,
       "bottom": null,
       "display": null,
       "flex": null,
       "flex_flow": null,
       "grid_area": null,
       "grid_auto_columns": null,
       "grid_auto_flow": null,
       "grid_auto_rows": null,
       "grid_column": null,
       "grid_gap": null,
       "grid_row": null,
       "grid_template_areas": null,
       "grid_template_columns": null,
       "grid_template_rows": null,
       "height": null,
       "justify_content": null,
       "justify_items": null,
       "left": null,
       "margin": null,
       "max_height": null,
       "max_width": null,
       "min_height": null,
       "min_width": null,
       "object_fit": null,
       "object_position": null,
       "order": null,
       "overflow": null,
       "overflow_x": null,
       "overflow_y": null,
       "padding": null,
       "right": null,
       "top": null,
       "visibility": null,
       "width": null
      }
     },
     "84ebe597cc1c406a8bf0a62d6fae743a": {
      "model_module": "@jupyter-widgets/controls",
      "model_module_version": "1.5.0",
      "model_name": "DescriptionStyleModel",
      "state": {
       "_model_module": "@jupyter-widgets/controls",
       "_model_module_version": "1.5.0",
       "_model_name": "DescriptionStyleModel",
       "_view_count": null,
       "_view_module": "@jupyter-widgets/base",
       "_view_module_version": "1.2.0",
       "_view_name": "StyleView",
       "description_width": ""
      }
     },
     "8532e5b7f7db44f687009cd9592be16c": {
      "model_module": "@jupyter-widgets/controls",
      "model_module_version": "1.5.0",
      "model_name": "HBoxModel",
      "state": {
       "_dom_classes": [],
       "_model_module": "@jupyter-widgets/controls",
       "_model_module_version": "1.5.0",
       "_model_name": "HBoxModel",
       "_view_count": null,
       "_view_module": "@jupyter-widgets/controls",
       "_view_module_version": "1.5.0",
       "_view_name": "HBoxView",
       "box_style": "",
       "children": [
        "IPY_MODEL_6a0ba9bbfa17445b880fd967bc354ffe",
        "IPY_MODEL_6072a0259f5c40c3ad61fd2d05044303",
        "IPY_MODEL_fa79d799cc5b438fae2f0129dbab3276"
       ],
       "layout": "IPY_MODEL_22c99ad1602f4ca8bf26faadd049e5b6"
      }
     },
     "8eca05e0fe39428482b3901a3cb7bfa1": {
      "model_module": "@jupyter-widgets/controls",
      "model_module_version": "1.5.0",
      "model_name": "HTMLModel",
      "state": {
       "_dom_classes": [],
       "_model_module": "@jupyter-widgets/controls",
       "_model_module_version": "1.5.0",
       "_model_name": "HTMLModel",
       "_view_count": null,
       "_view_module": "@jupyter-widgets/controls",
       "_view_module_version": "1.5.0",
       "_view_name": "HTMLView",
       "description": "",
       "description_tooltip": null,
       "layout": "IPY_MODEL_dafc17e52bff47ca963d68ed4c1ef74e",
       "placeholder": "​",
       "style": "IPY_MODEL_f6024b0245ad400c9193fddd9b87cecb",
       "value": " 878k/878k [00:00&lt;00:00, 3.21MB/s]"
      }
     },
     "9228c0ddf70b47359fc07d71d7466703": {
      "model_module": "@jupyter-widgets/controls",
      "model_module_version": "1.5.0",
      "model_name": "DescriptionStyleModel",
      "state": {
       "_model_module": "@jupyter-widgets/controls",
       "_model_module_version": "1.5.0",
       "_model_name": "DescriptionStyleModel",
       "_view_count": null,
       "_view_module": "@jupyter-widgets/base",
       "_view_module_version": "1.2.0",
       "_view_name": "StyleView",
       "description_width": ""
      }
     },
     "95a5e33f6c984b2285fee6d3cfab0320": {
      "model_module": "@jupyter-widgets/base",
      "model_module_version": "1.2.0",
      "model_name": "LayoutModel",
      "state": {
       "_model_module": "@jupyter-widgets/base",
       "_model_module_version": "1.2.0",
       "_model_name": "LayoutModel",
       "_view_count": null,
       "_view_module": "@jupyter-widgets/base",
       "_view_module_version": "1.2.0",
       "_view_name": "LayoutView",
       "align_content": null,
       "align_items": null,
       "align_self": null,
       "border": null,
       "bottom": null,
       "display": null,
       "flex": null,
       "flex_flow": null,
       "grid_area": null,
       "grid_auto_columns": null,
       "grid_auto_flow": null,
       "grid_auto_rows": null,
       "grid_column": null,
       "grid_gap": null,
       "grid_row": null,
       "grid_template_areas": null,
       "grid_template_columns": null,
       "grid_template_rows": null,
       "height": null,
       "justify_content": null,
       "justify_items": null,
       "left": null,
       "margin": null,
       "max_height": null,
       "max_width": null,
       "min_height": null,
       "min_width": null,
       "object_fit": null,
       "object_position": null,
       "order": null,
       "overflow": null,
       "overflow_x": null,
       "overflow_y": null,
       "padding": null,
       "right": null,
       "top": null,
       "visibility": null,
       "width": null
      }
     },
     "9a610053b2ec4ac28aa2ece0fb3639eb": {
      "model_module": "@jupyter-widgets/controls",
      "model_module_version": "1.5.0",
      "model_name": "DescriptionStyleModel",
      "state": {
       "_model_module": "@jupyter-widgets/controls",
       "_model_module_version": "1.5.0",
       "_model_name": "DescriptionStyleModel",
       "_view_count": null,
       "_view_module": "@jupyter-widgets/base",
       "_view_module_version": "1.2.0",
       "_view_name": "StyleView",
       "description_width": ""
      }
     },
     "9c57d0bb304448aca368d51ffc41191f": {
      "model_module": "@jupyter-widgets/controls",
      "model_module_version": "1.5.0",
      "model_name": "DescriptionStyleModel",
      "state": {
       "_model_module": "@jupyter-widgets/controls",
       "_model_module_version": "1.5.0",
       "_model_name": "DescriptionStyleModel",
       "_view_count": null,
       "_view_module": "@jupyter-widgets/base",
       "_view_module_version": "1.2.0",
       "_view_name": "StyleView",
       "description_width": ""
      }
     },
     "9d3b47b1675449fb8430e2af2c9aecd4": {
      "model_module": "@jupyter-widgets/controls",
      "model_module_version": "1.5.0",
      "model_name": "HBoxModel",
      "state": {
       "_dom_classes": [],
       "_model_module": "@jupyter-widgets/controls",
       "_model_module_version": "1.5.0",
       "_model_name": "HBoxModel",
       "_view_count": null,
       "_view_module": "@jupyter-widgets/controls",
       "_view_module_version": "1.5.0",
       "_view_name": "HBoxView",
       "box_style": "",
       "children": [
        "IPY_MODEL_f27b495ce2804a1ba63a3ffffeddd69b",
        "IPY_MODEL_47d485e51776429c9343f953463fa416",
        "IPY_MODEL_71bf59be32aa47f8a2e74c11b08ba86c"
       ],
       "layout": "IPY_MODEL_8443992bce894e7c810bf109173d2441"
      }
     },
     "9eb3416f920c47bfb680a4210e97b619": {
      "model_module": "@jupyter-widgets/controls",
      "model_module_version": "1.5.0",
      "model_name": "DescriptionStyleModel",
      "state": {
       "_model_module": "@jupyter-widgets/controls",
       "_model_module_version": "1.5.0",
       "_model_name": "DescriptionStyleModel",
       "_view_count": null,
       "_view_module": "@jupyter-widgets/base",
       "_view_module_version": "1.2.0",
       "_view_name": "StyleView",
       "description_width": ""
      }
     },
     "a1baf44ef4b5458a826c91e4a59f09e5": {
      "model_module": "@jupyter-widgets/base",
      "model_module_version": "1.2.0",
      "model_name": "LayoutModel",
      "state": {
       "_model_module": "@jupyter-widgets/base",
       "_model_module_version": "1.2.0",
       "_model_name": "LayoutModel",
       "_view_count": null,
       "_view_module": "@jupyter-widgets/base",
       "_view_module_version": "1.2.0",
       "_view_name": "LayoutView",
       "align_content": null,
       "align_items": null,
       "align_self": null,
       "border": null,
       "bottom": null,
       "display": null,
       "flex": null,
       "flex_flow": null,
       "grid_area": null,
       "grid_auto_columns": null,
       "grid_auto_flow": null,
       "grid_auto_rows": null,
       "grid_column": null,
       "grid_gap": null,
       "grid_row": null,
       "grid_template_areas": null,
       "grid_template_columns": null,
       "grid_template_rows": null,
       "height": null,
       "justify_content": null,
       "justify_items": null,
       "left": null,
       "margin": null,
       "max_height": null,
       "max_width": null,
       "min_height": null,
       "min_width": null,
       "object_fit": null,
       "object_position": null,
       "order": null,
       "overflow": null,
       "overflow_x": null,
       "overflow_y": null,
       "padding": null,
       "right": null,
       "top": null,
       "visibility": null,
       "width": null
      }
     },
     "a67599d966ec45a4b2e6ef3e82fce1a6": {
      "model_module": "@jupyter-widgets/controls",
      "model_module_version": "1.5.0",
      "model_name": "HBoxModel",
      "state": {
       "_dom_classes": [],
       "_model_module": "@jupyter-widgets/controls",
       "_model_module_version": "1.5.0",
       "_model_name": "HBoxModel",
       "_view_count": null,
       "_view_module": "@jupyter-widgets/controls",
       "_view_module_version": "1.5.0",
       "_view_name": "HBoxView",
       "box_style": "",
       "children": [
        "IPY_MODEL_6a888ac270c0444b93a69a0e21d3b3e0",
        "IPY_MODEL_531debfacfca45cca79bd7c17910ba9a",
        "IPY_MODEL_2409df48faea44d1a508993cfcfecee4"
       ],
       "layout": "IPY_MODEL_4ae2e938ba374593a96b9e05a6ce57c5"
      }
     },
     "a7ed57c990c24cb2be1661314f808357": {
      "model_module": "@jupyter-widgets/base",
      "model_module_version": "1.2.0",
      "model_name": "LayoutModel",
      "state": {
       "_model_module": "@jupyter-widgets/base",
       "_model_module_version": "1.2.0",
       "_model_name": "LayoutModel",
       "_view_count": null,
       "_view_module": "@jupyter-widgets/base",
       "_view_module_version": "1.2.0",
       "_view_name": "LayoutView",
       "align_content": null,
       "align_items": null,
       "align_self": null,
       "border": null,
       "bottom": null,
       "display": null,
       "flex": null,
       "flex_flow": null,
       "grid_area": null,
       "grid_auto_columns": null,
       "grid_auto_flow": null,
       "grid_auto_rows": null,
       "grid_column": null,
       "grid_gap": null,
       "grid_row": null,
       "grid_template_areas": null,
       "grid_template_columns": null,
       "grid_template_rows": null,
       "height": null,
       "justify_content": null,
       "justify_items": null,
       "left": null,
       "margin": null,
       "max_height": null,
       "max_width": null,
       "min_height": null,
       "min_width": null,
       "object_fit": null,
       "object_position": null,
       "order": null,
       "overflow": null,
       "overflow_x": null,
       "overflow_y": null,
       "padding": null,
       "right": null,
       "top": null,
       "visibility": null,
       "width": null
      }
     },
     "aaff7b424ebf48ae9c033594b5c81a86": {
      "model_module": "@jupyter-widgets/controls",
      "model_module_version": "1.5.0",
      "model_name": "ProgressStyleModel",
      "state": {
       "_model_module": "@jupyter-widgets/controls",
       "_model_module_version": "1.5.0",
       "_model_name": "ProgressStyleModel",
       "_view_count": null,
       "_view_module": "@jupyter-widgets/base",
       "_view_module_version": "1.2.0",
       "_view_name": "StyleView",
       "bar_color": null,
       "description_width": ""
      }
     },
     "ab99382a455d44789245ba4e4a3403e7": {
      "model_module": "@jupyter-widgets/base",
      "model_module_version": "1.2.0",
      "model_name": "LayoutModel",
      "state": {
       "_model_module": "@jupyter-widgets/base",
       "_model_module_version": "1.2.0",
       "_model_name": "LayoutModel",
       "_view_count": null,
       "_view_module": "@jupyter-widgets/base",
       "_view_module_version": "1.2.0",
       "_view_name": "LayoutView",
       "align_content": null,
       "align_items": null,
       "align_self": null,
       "border": null,
       "bottom": null,
       "display": null,
       "flex": null,
       "flex_flow": null,
       "grid_area": null,
       "grid_auto_columns": null,
       "grid_auto_flow": null,
       "grid_auto_rows": null,
       "grid_column": null,
       "grid_gap": null,
       "grid_row": null,
       "grid_template_areas": null,
       "grid_template_columns": null,
       "grid_template_rows": null,
       "height": null,
       "justify_content": null,
       "justify_items": null,
       "left": null,
       "margin": null,
       "max_height": null,
       "max_width": null,
       "min_height": null,
       "min_width": null,
       "object_fit": null,
       "object_position": null,
       "order": null,
       "overflow": null,
       "overflow_x": null,
       "overflow_y": null,
       "padding": null,
       "right": null,
       "top": null,
       "visibility": null,
       "width": null
      }
     },
     "b0543ec8e95e417d89225f698a8cc865": {
      "model_module": "@jupyter-widgets/base",
      "model_module_version": "1.2.0",
      "model_name": "LayoutModel",
      "state": {
       "_model_module": "@jupyter-widgets/base",
       "_model_module_version": "1.2.0",
       "_model_name": "LayoutModel",
       "_view_count": null,
       "_view_module": "@jupyter-widgets/base",
       "_view_module_version": "1.2.0",
       "_view_name": "LayoutView",
       "align_content": null,
       "align_items": null,
       "align_self": null,
       "border": null,
       "bottom": null,
       "display": null,
       "flex": null,
       "flex_flow": null,
       "grid_area": null,
       "grid_auto_columns": null,
       "grid_auto_flow": null,
       "grid_auto_rows": null,
       "grid_column": null,
       "grid_gap": null,
       "grid_row": null,
       "grid_template_areas": null,
       "grid_template_columns": null,
       "grid_template_rows": null,
       "height": null,
       "justify_content": null,
       "justify_items": null,
       "left": null,
       "margin": null,
       "max_height": null,
       "max_width": null,
       "min_height": null,
       "min_width": null,
       "object_fit": null,
       "object_position": null,
       "order": null,
       "overflow": null,
       "overflow_x": null,
       "overflow_y": null,
       "padding": null,
       "right": null,
       "top": null,
       "visibility": null,
       "width": null
      }
     },
     "b31585b2bcd64d80bacad82fdc53ea50": {
      "model_module": "@jupyter-widgets/base",
      "model_module_version": "1.2.0",
      "model_name": "LayoutModel",
      "state": {
       "_model_module": "@jupyter-widgets/base",
       "_model_module_version": "1.2.0",
       "_model_name": "LayoutModel",
       "_view_count": null,
       "_view_module": "@jupyter-widgets/base",
       "_view_module_version": "1.2.0",
       "_view_name": "LayoutView",
       "align_content": null,
       "align_items": null,
       "align_self": null,
       "border": null,
       "bottom": null,
       "display": null,
       "flex": null,
       "flex_flow": null,
       "grid_area": null,
       "grid_auto_columns": null,
       "grid_auto_flow": null,
       "grid_auto_rows": null,
       "grid_column": null,
       "grid_gap": null,
       "grid_row": null,
       "grid_template_areas": null,
       "grid_template_columns": null,
       "grid_template_rows": null,
       "height": null,
       "justify_content": null,
       "justify_items": null,
       "left": null,
       "margin": null,
       "max_height": null,
       "max_width": null,
       "min_height": null,
       "min_width": null,
       "object_fit": null,
       "object_position": null,
       "order": null,
       "overflow": null,
       "overflow_x": null,
       "overflow_y": null,
       "padding": null,
       "right": null,
       "top": null,
       "visibility": null,
       "width": null
      }
     },
     "b96bcc09f433454ca7ec4823d30dfe6f": {
      "model_module": "@jupyter-widgets/base",
      "model_module_version": "1.2.0",
      "model_name": "LayoutModel",
      "state": {
       "_model_module": "@jupyter-widgets/base",
       "_model_module_version": "1.2.0",
       "_model_name": "LayoutModel",
       "_view_count": null,
       "_view_module": "@jupyter-widgets/base",
       "_view_module_version": "1.2.0",
       "_view_name": "LayoutView",
       "align_content": null,
       "align_items": null,
       "align_self": null,
       "border": null,
       "bottom": null,
       "display": null,
       "flex": null,
       "flex_flow": null,
       "grid_area": null,
       "grid_auto_columns": null,
       "grid_auto_flow": null,
       "grid_auto_rows": null,
       "grid_column": null,
       "grid_gap": null,
       "grid_row": null,
       "grid_template_areas": null,
       "grid_template_columns": null,
       "grid_template_rows": null,
       "height": null,
       "justify_content": null,
       "justify_items": null,
       "left": null,
       "margin": null,
       "max_height": null,
       "max_width": null,
       "min_height": null,
       "min_width": null,
       "object_fit": null,
       "object_position": null,
       "order": null,
       "overflow": null,
       "overflow_x": null,
       "overflow_y": null,
       "padding": null,
       "right": null,
       "top": null,
       "visibility": null,
       "width": null
      }
     },
     "ba736dfd3f1e460080b48bfa273e3a14": {
      "model_module": "@jupyter-widgets/base",
      "model_module_version": "1.2.0",
      "model_name": "LayoutModel",
      "state": {
       "_model_module": "@jupyter-widgets/base",
       "_model_module_version": "1.2.0",
       "_model_name": "LayoutModel",
       "_view_count": null,
       "_view_module": "@jupyter-widgets/base",
       "_view_module_version": "1.2.0",
       "_view_name": "LayoutView",
       "align_content": null,
       "align_items": null,
       "align_self": null,
       "border": null,
       "bottom": null,
       "display": null,
       "flex": null,
       "flex_flow": null,
       "grid_area": null,
       "grid_auto_columns": null,
       "grid_auto_flow": null,
       "grid_auto_rows": null,
       "grid_column": null,
       "grid_gap": null,
       "grid_row": null,
       "grid_template_areas": null,
       "grid_template_columns": null,
       "grid_template_rows": null,
       "height": null,
       "justify_content": null,
       "justify_items": null,
       "left": null,
       "margin": null,
       "max_height": null,
       "max_width": null,
       "min_height": null,
       "min_width": null,
       "object_fit": null,
       "object_position": null,
       "order": null,
       "overflow": null,
       "overflow_x": null,
       "overflow_y": null,
       "padding": null,
       "right": null,
       "top": null,
       "visibility": null,
       "width": null
      }
     },
     "be49303fe29844d6b76351ed3d8c9fe6": {
      "model_module": "@jupyter-widgets/controls",
      "model_module_version": "1.5.0",
      "model_name": "HTMLModel",
      "state": {
       "_dom_classes": [],
       "_model_module": "@jupyter-widgets/controls",
       "_model_module_version": "1.5.0",
       "_model_name": "HTMLModel",
       "_view_count": null,
       "_view_module": "@jupyter-widgets/controls",
       "_view_module_version": "1.5.0",
       "_view_name": "HTMLView",
       "description": "",
       "description_tooltip": null,
       "layout": "IPY_MODEL_ba736dfd3f1e460080b48bfa273e3a14",
       "placeholder": "​",
       "style": "IPY_MODEL_9a610053b2ec4ac28aa2ece0fb3639eb",
       "value": " 571/571 [00:00&lt;00:00, 18.2kB/s]"
      }
     },
     "c516d1e3e6e84c798538e5eaa0447f99": {
      "model_module": "@jupyter-widgets/base",
      "model_module_version": "1.2.0",
      "model_name": "LayoutModel",
      "state": {
       "_model_module": "@jupyter-widgets/base",
       "_model_module_version": "1.2.0",
       "_model_name": "LayoutModel",
       "_view_count": null,
       "_view_module": "@jupyter-widgets/base",
       "_view_module_version": "1.2.0",
       "_view_name": "LayoutView",
       "align_content": null,
       "align_items": null,
       "align_self": null,
       "border": null,
       "bottom": null,
       "display": null,
       "flex": null,
       "flex_flow": null,
       "grid_area": null,
       "grid_auto_columns": null,
       "grid_auto_flow": null,
       "grid_auto_rows": null,
       "grid_column": null,
       "grid_gap": null,
       "grid_row": null,
       "grid_template_areas": null,
       "grid_template_columns": null,
       "grid_template_rows": null,
       "height": null,
       "justify_content": null,
       "justify_items": null,
       "left": null,
       "margin": null,
       "max_height": null,
       "max_width": null,
       "min_height": null,
       "min_width": null,
       "object_fit": null,
       "object_position": null,
       "order": null,
       "overflow": null,
       "overflow_x": null,
       "overflow_y": null,
       "padding": null,
       "right": null,
       "top": null,
       "visibility": null,
       "width": null
      }
     },
     "c815c0470c6c4f29b96c46d9ac089c8d": {
      "model_module": "@jupyter-widgets/base",
      "model_module_version": "1.2.0",
      "model_name": "LayoutModel",
      "state": {
       "_model_module": "@jupyter-widgets/base",
       "_model_module_version": "1.2.0",
       "_model_name": "LayoutModel",
       "_view_count": null,
       "_view_module": "@jupyter-widgets/base",
       "_view_module_version": "1.2.0",
       "_view_name": "LayoutView",
       "align_content": null,
       "align_items": null,
       "align_self": null,
       "border": null,
       "bottom": null,
       "display": null,
       "flex": null,
       "flex_flow": null,
       "grid_area": null,
       "grid_auto_columns": null,
       "grid_auto_flow": null,
       "grid_auto_rows": null,
       "grid_column": null,
       "grid_gap": null,
       "grid_row": null,
       "grid_template_areas": null,
       "grid_template_columns": null,
       "grid_template_rows": null,
       "height": null,
       "justify_content": null,
       "justify_items": null,
       "left": null,
       "margin": null,
       "max_height": null,
       "max_width": null,
       "min_height": null,
       "min_width": null,
       "object_fit": null,
       "object_position": null,
       "order": null,
       "overflow": null,
       "overflow_x": null,
       "overflow_y": null,
       "padding": null,
       "right": null,
       "top": null,
       "visibility": null,
       "width": null
      }
     },
     "cca4d2d153534f288c924f14b4d8363a": {
      "model_module": "@jupyter-widgets/controls",
      "model_module_version": "1.5.0",
      "model_name": "ProgressStyleModel",
      "state": {
       "_model_module": "@jupyter-widgets/controls",
       "_model_module_version": "1.5.0",
       "_model_name": "ProgressStyleModel",
       "_view_count": null,
       "_view_module": "@jupyter-widgets/base",
       "_view_module_version": "1.2.0",
       "_view_name": "StyleView",
       "bar_color": null,
       "description_width": ""
      }
     },
     "cdaa02816cf649d0b25df6f52d11dbe5": {
      "model_module": "@jupyter-widgets/base",
      "model_module_version": "1.2.0",
      "model_name": "LayoutModel",
      "state": {
       "_model_module": "@jupyter-widgets/base",
       "_model_module_version": "1.2.0",
       "_model_name": "LayoutModel",
       "_view_count": null,
       "_view_module": "@jupyter-widgets/base",
       "_view_module_version": "1.2.0",
       "_view_name": "LayoutView",
       "align_content": null,
       "align_items": null,
       "align_self": null,
       "border": null,
       "bottom": null,
       "display": null,
       "flex": null,
       "flex_flow": null,
       "grid_area": null,
       "grid_auto_columns": null,
       "grid_auto_flow": null,
       "grid_auto_rows": null,
       "grid_column": null,
       "grid_gap": null,
       "grid_row": null,
       "grid_template_areas": null,
       "grid_template_columns": null,
       "grid_template_rows": null,
       "height": null,
       "justify_content": null,
       "justify_items": null,
       "left": null,
       "margin": null,
       "max_height": null,
       "max_width": null,
       "min_height": null,
       "min_width": null,
       "object_fit": null,
       "object_position": null,
       "order": null,
       "overflow": null,
       "overflow_x": null,
       "overflow_y": null,
       "padding": null,
       "right": null,
       "top": null,
       "visibility": null,
       "width": null
      }
     },
     "d7988995b3814468adadeb2a1948019d": {
      "model_module": "@jupyter-widgets/controls",
      "model_module_version": "1.5.0",
      "model_name": "FloatProgressModel",
      "state": {
       "_dom_classes": [],
       "_model_module": "@jupyter-widgets/controls",
       "_model_module_version": "1.5.0",
       "_model_name": "FloatProgressModel",
       "_view_count": null,
       "_view_module": "@jupyter-widgets/controls",
       "_view_module_version": "1.5.0",
       "_view_name": "ProgressView",
       "bar_style": "success",
       "description": "",
       "description_tooltip": null,
       "layout": "IPY_MODEL_cdaa02816cf649d0b25df6f52d11dbe5",
       "max": 571.0,
       "min": 0.0,
       "orientation": "horizontal",
       "style": "IPY_MODEL_aaff7b424ebf48ae9c033594b5c81a86",
       "value": 571.0
      }
     },
     "dafc17e52bff47ca963d68ed4c1ef74e": {
      "model_module": "@jupyter-widgets/base",
      "model_module_version": "1.2.0",
      "model_name": "LayoutModel",
      "state": {
       "_model_module": "@jupyter-widgets/base",
       "_model_module_version": "1.2.0",
       "_model_name": "LayoutModel",
       "_view_count": null,
       "_view_module": "@jupyter-widgets/base",
       "_view_module_version": "1.2.0",
       "_view_name": "LayoutView",
       "align_content": null,
       "align_items": null,
       "align_self": null,
       "border": null,
       "bottom": null,
       "display": null,
       "flex": null,
       "flex_flow": null,
       "grid_area": null,
       "grid_auto_columns": null,
       "grid_auto_flow": null,
       "grid_auto_rows": null,
       "grid_column": null,
       "grid_gap": null,
       "grid_row": null,
       "grid_template_areas": null,
       "grid_template_columns": null,
       "grid_template_rows": null,
       "height": null,
       "justify_content": null,
       "justify_items": null,
       "left": null,
       "margin": null,
       "max_height": null,
       "max_width": null,
       "min_height": null,
       "min_width": null,
       "object_fit": null,
       "object_position": null,
       "order": null,
       "overflow": null,
       "overflow_x": null,
       "overflow_y": null,
       "padding": null,
       "right": null,
       "top": null,
       "visibility": null,
       "width": null
      }
     },
     "df19a2ef22a446f2af6e4c9f619b53c0": {
      "model_module": "@jupyter-widgets/controls",
      "model_module_version": "1.5.0",
      "model_name": "DescriptionStyleModel",
      "state": {
       "_model_module": "@jupyter-widgets/controls",
       "_model_module_version": "1.5.0",
       "_model_name": "DescriptionStyleModel",
       "_view_count": null,
       "_view_module": "@jupyter-widgets/base",
       "_view_module_version": "1.2.0",
       "_view_name": "StyleView",
       "description_width": ""
      }
     },
     "e2f43508dd7143ad918b23e74cbbb28c": {
      "model_module": "@jupyter-widgets/controls",
      "model_module_version": "1.5.0",
      "model_name": "DescriptionStyleModel",
      "state": {
       "_model_module": "@jupyter-widgets/controls",
       "_model_module_version": "1.5.0",
       "_model_name": "DescriptionStyleModel",
       "_view_count": null,
       "_view_module": "@jupyter-widgets/base",
       "_view_module_version": "1.2.0",
       "_view_name": "StyleView",
       "description_width": ""
      }
     },
     "e3053833c36642b184660311a966d3a0": {
      "model_module": "@jupyter-widgets/controls",
      "model_module_version": "1.5.0",
      "model_name": "HBoxModel",
      "state": {
       "_dom_classes": [],
       "_model_module": "@jupyter-widgets/controls",
       "_model_module_version": "1.5.0",
       "_model_name": "HBoxModel",
       "_view_count": null,
       "_view_module": "@jupyter-widgets/controls",
       "_view_module_version": "1.5.0",
       "_view_name": "HBoxView",
       "box_style": "",
       "children": [
        "IPY_MODEL_5ce9df36b5ba405790a3e3d8c60c353d",
        "IPY_MODEL_1d5ce255cd4845ef8b67789d510532cc",
        "IPY_MODEL_14093d79d8d74a0eb364773b41eb5c91"
       ],
       "layout": "IPY_MODEL_2e65f690f5124527889721e7b158aa0a"
      }
     },
     "e3fd6d65ddb9484183778b94fcb649b2": {
      "model_module": "@jupyter-widgets/controls",
      "model_module_version": "1.5.0",
      "model_name": "HBoxModel",
      "state": {
       "_dom_classes": [],
       "_model_module": "@jupyter-widgets/controls",
       "_model_module_version": "1.5.0",
       "_model_name": "HBoxModel",
       "_view_count": null,
       "_view_module": "@jupyter-widgets/controls",
       "_view_module_version": "1.5.0",
       "_view_name": "HBoxView",
       "box_style": "",
       "children": [
        "IPY_MODEL_584ba4e2080d43979ad27b10aafb21ee",
        "IPY_MODEL_ec815ab5c93b415e8c16b2a4578f86a8",
        "IPY_MODEL_8eca05e0fe39428482b3901a3cb7bfa1"
       ],
       "layout": "IPY_MODEL_a7ed57c990c24cb2be1661314f808357"
      }
     },
     "e456b67d39f84f9aa9fb43acd386f79d": {
      "model_module": "@jupyter-widgets/controls",
      "model_module_version": "1.5.0",
      "model_name": "HTMLModel",
      "state": {
       "_dom_classes": [],
       "_model_module": "@jupyter-widgets/controls",
       "_model_module_version": "1.5.0",
       "_model_name": "HTMLModel",
       "_view_count": null,
       "_view_module": "@jupyter-widgets/controls",
       "_view_module_version": "1.5.0",
       "_view_name": "HTMLView",
       "description": "",
       "description_tooltip": null,
       "layout": "IPY_MODEL_c815c0470c6c4f29b96c46d9ac089c8d",
       "placeholder": "​",
       "style": "IPY_MODEL_e2f43508dd7143ad918b23e74cbbb28c",
       "value": "Downloading: 100%"
      }
     },
     "ea026de36e0e4bcd95bb9740fa2c0ba3": {
      "model_module": "@jupyter-widgets/controls",
      "model_module_version": "1.5.0",
      "model_name": "ProgressStyleModel",
      "state": {
       "_model_module": "@jupyter-widgets/controls",
       "_model_module_version": "1.5.0",
       "_model_name": "ProgressStyleModel",
       "_view_count": null,
       "_view_module": "@jupyter-widgets/base",
       "_view_module_version": "1.2.0",
       "_view_name": "StyleView",
       "bar_color": null,
       "description_width": ""
      }
     },
     "ec5c0124bb0e4505acaf790a2e6713f4": {
      "model_module": "@jupyter-widgets/controls",
      "model_module_version": "1.5.0",
      "model_name": "ProgressStyleModel",
      "state": {
       "_model_module": "@jupyter-widgets/controls",
       "_model_module_version": "1.5.0",
       "_model_name": "ProgressStyleModel",
       "_view_count": null,
       "_view_module": "@jupyter-widgets/base",
       "_view_module_version": "1.2.0",
       "_view_name": "StyleView",
       "bar_color": null,
       "description_width": ""
      }
     },
     "ec815ab5c93b415e8c16b2a4578f86a8": {
      "model_module": "@jupyter-widgets/controls",
      "model_module_version": "1.5.0",
      "model_name": "FloatProgressModel",
      "state": {
       "_dom_classes": [],
       "_model_module": "@jupyter-widgets/controls",
       "_model_module_version": "1.5.0",
       "_model_name": "FloatProgressModel",
       "_view_count": null,
       "_view_module": "@jupyter-widgets/controls",
       "_view_module_version": "1.5.0",
       "_view_name": "ProgressView",
       "bar_style": "success",
       "description": "",
       "description_tooltip": null,
       "layout": "IPY_MODEL_b96bcc09f433454ca7ec4823d30dfe6f",
       "max": 898823.0,
       "min": 0.0,
       "orientation": "horizontal",
       "style": "IPY_MODEL_34f45f01f9f54171868a2e9102d797d7",
       "value": 898823.0
      }
     },
     "eeb90344c5d84c60abe186639eb32520": {
      "model_module": "@jupyter-widgets/controls",
      "model_module_version": "1.5.0",
      "model_name": "HBoxModel",
      "state": {
       "_dom_classes": [],
       "_model_module": "@jupyter-widgets/controls",
       "_model_module_version": "1.5.0",
       "_model_name": "HBoxModel",
       "_view_count": null,
       "_view_module": "@jupyter-widgets/controls",
       "_view_module_version": "1.5.0",
       "_view_name": "HBoxView",
       "box_style": "",
       "children": [
        "IPY_MODEL_e456b67d39f84f9aa9fb43acd386f79d",
        "IPY_MODEL_2ae8ecf3f353470e9a4cd46938f7e4d3",
        "IPY_MODEL_3ad444a0c649418990e636ccc38f64e3"
       ],
       "layout": "IPY_MODEL_f51107eb6e0a40339ce259451be72fb8"
      }
     },
     "f09f595042964ffaa98aab718cf3ac35": {
      "model_module": "@jupyter-widgets/controls",
      "model_module_version": "1.5.0",
      "model_name": "ProgressStyleModel",
      "state": {
       "_model_module": "@jupyter-widgets/controls",
       "_model_module_version": "1.5.0",
       "_model_name": "ProgressStyleModel",
       "_view_count": null,
       "_view_module": "@jupyter-widgets/base",
       "_view_module_version": "1.2.0",
       "_view_name": "StyleView",
       "bar_color": null,
       "description_width": ""
      }
     },
     "f27b495ce2804a1ba63a3ffffeddd69b": {
      "model_module": "@jupyter-widgets/controls",
      "model_module_version": "1.5.0",
      "model_name": "HTMLModel",
      "state": {
       "_dom_classes": [],
       "_model_module": "@jupyter-widgets/controls",
       "_model_module_version": "1.5.0",
       "_model_name": "HTMLModel",
       "_view_count": null,
       "_view_module": "@jupyter-widgets/controls",
       "_view_module_version": "1.5.0",
       "_view_name": "HTMLView",
       "description": "",
       "description_tooltip": null,
       "layout": "IPY_MODEL_7d842f467f9a49dc872ad6a1234c91ba",
       "placeholder": "​",
       "style": "IPY_MODEL_2254688b64b54a529849776bdf48199b",
       "value": "Downloading: 100%"
      }
     },
     "f33d9d8c25904424a78cc8b8db5dd07d": {
      "model_module": "@jupyter-widgets/base",
      "model_module_version": "1.2.0",
      "model_name": "LayoutModel",
      "state": {
       "_model_module": "@jupyter-widgets/base",
       "_model_module_version": "1.2.0",
       "_model_name": "LayoutModel",
       "_view_count": null,
       "_view_module": "@jupyter-widgets/base",
       "_view_module_version": "1.2.0",
       "_view_name": "LayoutView",
       "align_content": null,
       "align_items": null,
       "align_self": null,
       "border": null,
       "bottom": null,
       "display": null,
       "flex": null,
       "flex_flow": null,
       "grid_area": null,
       "grid_auto_columns": null,
       "grid_auto_flow": null,
       "grid_auto_rows": null,
       "grid_column": null,
       "grid_gap": null,
       "grid_row": null,
       "grid_template_areas": null,
       "grid_template_columns": null,
       "grid_template_rows": null,
       "height": null,
       "justify_content": null,
       "justify_items": null,
       "left": null,
       "margin": null,
       "max_height": null,
       "max_width": null,
       "min_height": null,
       "min_width": null,
       "object_fit": null,
       "object_position": null,
       "order": null,
       "overflow": null,
       "overflow_x": null,
       "overflow_y": null,
       "padding": null,
       "right": null,
       "top": null,
       "visibility": null,
       "width": null
      }
     },
     "f51107eb6e0a40339ce259451be72fb8": {
      "model_module": "@jupyter-widgets/base",
      "model_module_version": "1.2.0",
      "model_name": "LayoutModel",
      "state": {
       "_model_module": "@jupyter-widgets/base",
       "_model_module_version": "1.2.0",
       "_model_name": "LayoutModel",
       "_view_count": null,
       "_view_module": "@jupyter-widgets/base",
       "_view_module_version": "1.2.0",
       "_view_name": "LayoutView",
       "align_content": null,
       "align_items": null,
       "align_self": null,
       "border": null,
       "bottom": null,
       "display": null,
       "flex": null,
       "flex_flow": null,
       "grid_area": null,
       "grid_auto_columns": null,
       "grid_auto_flow": null,
       "grid_auto_rows": null,
       "grid_column": null,
       "grid_gap": null,
       "grid_row": null,
       "grid_template_areas": null,
       "grid_template_columns": null,
       "grid_template_rows": null,
       "height": null,
       "justify_content": null,
       "justify_items": null,
       "left": null,
       "margin": null,
       "max_height": null,
       "max_width": null,
       "min_height": null,
       "min_width": null,
       "object_fit": null,
       "object_position": null,
       "order": null,
       "overflow": null,
       "overflow_x": null,
       "overflow_y": null,
       "padding": null,
       "right": null,
       "top": null,
       "visibility": null,
       "width": null
      }
     },
     "f6024b0245ad400c9193fddd9b87cecb": {
      "model_module": "@jupyter-widgets/controls",
      "model_module_version": "1.5.0",
      "model_name": "DescriptionStyleModel",
      "state": {
       "_model_module": "@jupyter-widgets/controls",
       "_model_module_version": "1.5.0",
       "_model_name": "DescriptionStyleModel",
       "_view_count": null,
       "_view_module": "@jupyter-widgets/base",
       "_view_module_version": "1.2.0",
       "_view_name": "StyleView",
       "description_width": ""
      }
     },
     "f9415a9c0d7c4d7d8703a6c7df203cbf": {
      "model_module": "@jupyter-widgets/base",
      "model_module_version": "1.2.0",
      "model_name": "LayoutModel",
      "state": {
       "_model_module": "@jupyter-widgets/base",
       "_model_module_version": "1.2.0",
       "_model_name": "LayoutModel",
       "_view_count": null,
       "_view_module": "@jupyter-widgets/base",
       "_view_module_version": "1.2.0",
       "_view_name": "LayoutView",
       "align_content": null,
       "align_items": null,
       "align_self": null,
       "border": null,
       "bottom": null,
       "display": null,
       "flex": null,
       "flex_flow": null,
       "grid_area": null,
       "grid_auto_columns": null,
       "grid_auto_flow": null,
       "grid_auto_rows": null,
       "grid_column": null,
       "grid_gap": null,
       "grid_row": null,
       "grid_template_areas": null,
       "grid_template_columns": null,
       "grid_template_rows": null,
       "height": null,
       "justify_content": null,
       "justify_items": null,
       "left": null,
       "margin": null,
       "max_height": null,
       "max_width": null,
       "min_height": null,
       "min_width": null,
       "object_fit": null,
       "object_position": null,
       "order": null,
       "overflow": null,
       "overflow_x": null,
       "overflow_y": null,
       "padding": null,
       "right": null,
       "top": null,
       "visibility": null,
       "width": null
      }
     },
     "f9d6ab5af2db4e0a982d82a67c1e454b": {
      "model_module": "@jupyter-widgets/controls",
      "model_module_version": "1.5.0",
      "model_name": "HBoxModel",
      "state": {
       "_dom_classes": [],
       "_model_module": "@jupyter-widgets/controls",
       "_model_module_version": "1.5.0",
       "_model_name": "HBoxModel",
       "_view_count": null,
       "_view_module": "@jupyter-widgets/controls",
       "_view_module_version": "1.5.0",
       "_view_name": "HBoxView",
       "box_style": "",
       "children": [
        "IPY_MODEL_11f50d41ab2d409fa26663ea0a4f760f",
        "IPY_MODEL_d7988995b3814468adadeb2a1948019d",
        "IPY_MODEL_be49303fe29844d6b76351ed3d8c9fe6"
       ],
       "layout": "IPY_MODEL_f33d9d8c25904424a78cc8b8db5dd07d"
      }
     },
     "fa79d799cc5b438fae2f0129dbab3276": {
      "model_module": "@jupyter-widgets/controls",
      "model_module_version": "1.5.0",
      "model_name": "HTMLModel",
      "state": {
       "_dom_classes": [],
       "_model_module": "@jupyter-widgets/controls",
       "_model_module_version": "1.5.0",
       "_model_name": "HTMLModel",
       "_view_count": null,
       "_view_module": "@jupyter-widgets/controls",
       "_view_module_version": "1.5.0",
       "_view_name": "HTMLView",
       "description": "",
       "description_tooltip": null,
       "layout": "IPY_MODEL_95a5e33f6c984b2285fee6d3cfab0320",
       "placeholder": "​",
       "style": "IPY_MODEL_6e137b0aeab84380b742bcd6d3987c3d",
       "value": " 1.25G/1.25G [00:44&lt;00:00, 30.4MB/s]"
      }
     },
     "fddc562e02f3427eba896674ac663a67": {
      "model_module": "@jupyter-widgets/controls",
      "model_module_version": "1.5.0",
      "model_name": "ProgressStyleModel",
      "state": {
       "_model_module": "@jupyter-widgets/controls",
       "_model_module_version": "1.5.0",
       "_model_name": "ProgressStyleModel",
       "_view_count": null,
       "_view_module": "@jupyter-widgets/base",
       "_view_module_version": "1.2.0",
       "_view_name": "StyleView",
       "bar_color": null,
       "description_width": ""
      }
     }
    },
    "version_major": 2,
    "version_minor": 0
   }
  }
 },
 "nbformat": 4,
 "nbformat_minor": 5
}
