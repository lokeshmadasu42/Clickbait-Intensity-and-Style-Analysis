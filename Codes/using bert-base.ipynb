{
 "cells": [
  {
   "cell_type": "code",
   "execution_count": 1,
   "id": "cb743b0b",
   "metadata": {
    "_cell_guid": "b1076dfc-b9ad-4769-8c92-a6c4dae69d19",
    "_uuid": "8f2839f25d086af736a60e9eeb907d3b93b6e0e5",
    "execution": {
     "iopub.execute_input": "2022-10-20T18:03:43.600898Z",
     "iopub.status.busy": "2022-10-20T18:03:43.599978Z",
     "iopub.status.idle": "2022-10-20T18:03:43.610281Z",
     "shell.execute_reply": "2022-10-20T18:03:43.609441Z"
    },
    "papermill": {
     "duration": 0.026727,
     "end_time": "2022-10-20T18:03:43.612332",
     "exception": false,
     "start_time": "2022-10-20T18:03:43.585605",
     "status": "completed"
    },
    "tags": []
   },
   "outputs": [],
   "source": [
    "import pandas as pd\n",
    "import numpy as np\n",
    "import re\n",
    "from tqdm import tqdm"
   ]
  },
  {
   "cell_type": "code",
   "execution_count": 2,
   "id": "0dae2cfb",
   "metadata": {
    "execution": {
     "iopub.execute_input": "2022-10-20T18:03:43.636354Z",
     "iopub.status.busy": "2022-10-20T18:03:43.635531Z",
     "iopub.status.idle": "2022-10-20T18:03:49.536185Z",
     "shell.execute_reply": "2022-10-20T18:03:49.535206Z"
    },
    "papermill": {
     "duration": 5.91597,
     "end_time": "2022-10-20T18:03:49.538648",
     "exception": false,
     "start_time": "2022-10-20T18:03:43.622678",
     "status": "completed"
    },
    "tags": []
   },
   "outputs": [],
   "source": [
    "import tensorflow as tf\n",
    "import tensorflow_hub as hub"
   ]
  },
  {
   "cell_type": "code",
   "execution_count": 3,
   "id": "76a63b6b",
   "metadata": {
    "execution": {
     "iopub.execute_input": "2022-10-20T18:03:49.561696Z",
     "iopub.status.busy": "2022-10-20T18:03:49.561161Z",
     "iopub.status.idle": "2022-10-20T18:03:52.328061Z",
     "shell.execute_reply": "2022-10-20T18:03:52.327088Z"
    },
    "papermill": {
     "duration": 2.782113,
     "end_time": "2022-10-20T18:03:52.331373",
     "exception": false,
     "start_time": "2022-10-20T18:03:49.549260",
     "status": "completed"
    },
    "tags": []
   },
   "outputs": [
    {
     "name": "stderr",
     "output_type": "stream",
     "text": [
      "2022-10-20 18:03:49.651813: I tensorflow/stream_executor/cuda/cuda_gpu_executor.cc:937] successful NUMA node read from SysFS had negative value (-1), but there must be at least one NUMA node, so returning NUMA node zero\n",
      "2022-10-20 18:03:49.825367: I tensorflow/stream_executor/cuda/cuda_gpu_executor.cc:937] successful NUMA node read from SysFS had negative value (-1), but there must be at least one NUMA node, so returning NUMA node zero\n",
      "2022-10-20 18:03:49.826485: I tensorflow/stream_executor/cuda/cuda_gpu_executor.cc:937] successful NUMA node read from SysFS had negative value (-1), but there must be at least one NUMA node, so returning NUMA node zero\n",
      "2022-10-20 18:03:49.835404: I tensorflow/core/platform/cpu_feature_guard.cc:142] This TensorFlow binary is optimized with oneAPI Deep Neural Network Library (oneDNN) to use the following CPU instructions in performance-critical operations:  AVX2 AVX512F FMA\n",
      "To enable them in other operations, rebuild TensorFlow with the appropriate compiler flags.\n",
      "2022-10-20 18:03:49.835764: I tensorflow/stream_executor/cuda/cuda_gpu_executor.cc:937] successful NUMA node read from SysFS had negative value (-1), but there must be at least one NUMA node, so returning NUMA node zero\n",
      "2022-10-20 18:03:49.836526: I tensorflow/stream_executor/cuda/cuda_gpu_executor.cc:937] successful NUMA node read from SysFS had negative value (-1), but there must be at least one NUMA node, so returning NUMA node zero\n",
      "2022-10-20 18:03:49.837284: I tensorflow/stream_executor/cuda/cuda_gpu_executor.cc:937] successful NUMA node read from SysFS had negative value (-1), but there must be at least one NUMA node, so returning NUMA node zero\n",
      "2022-10-20 18:03:52.311293: I tensorflow/stream_executor/cuda/cuda_gpu_executor.cc:937] successful NUMA node read from SysFS had negative value (-1), but there must be at least one NUMA node, so returning NUMA node zero\n",
      "2022-10-20 18:03:52.312580: I tensorflow/stream_executor/cuda/cuda_gpu_executor.cc:937] successful NUMA node read from SysFS had negative value (-1), but there must be at least one NUMA node, so returning NUMA node zero\n",
      "2022-10-20 18:03:52.313660: I tensorflow/stream_executor/cuda/cuda_gpu_executor.cc:937] successful NUMA node read from SysFS had negative value (-1), but there must be at least one NUMA node, so returning NUMA node zero\n",
      "2022-10-20 18:03:52.314446: I tensorflow/core/common_runtime/gpu/gpu_device.cc:1510] Created device /job:localhost/replica:0/task:0/device:GPU:0 with 15401 MB memory:  -> device: 0, name: Tesla P100-PCIE-16GB, pci bus id: 0000:00:04.0, compute capability: 6.0\n"
     ]
    },
    {
     "data": {
      "text/plain": [
       "<tensorflow.python.eager.context._EagerDeviceContext at 0x7fefdc5a5910>"
      ]
     },
     "execution_count": 3,
     "metadata": {},
     "output_type": "execute_result"
    }
   ],
   "source": [
    "tf.device('cuda')"
   ]
  },
  {
   "cell_type": "code",
   "execution_count": 4,
   "id": "ef6f0aa3",
   "metadata": {
    "execution": {
     "iopub.execute_input": "2022-10-20T18:03:52.354306Z",
     "iopub.status.busy": "2022-10-20T18:03:52.353734Z",
     "iopub.status.idle": "2022-10-20T18:03:52.457544Z",
     "shell.execute_reply": "2022-10-20T18:03:52.456574Z"
    },
    "papermill": {
     "duration": 0.117834,
     "end_time": "2022-10-20T18:03:52.459924",
     "exception": false,
     "start_time": "2022-10-20T18:03:52.342090",
     "status": "completed"
    },
    "tags": []
   },
   "outputs": [],
   "source": [
    "# train_df=pd.read_excel('../input/ire-major-project-data/train.xlsx')\n",
    "# dev_df=pd.read_excel('../input/ire-major-project-data/dev.xlsx')\n",
    "# test_df=pd.read_excel('../input/ire-major-project-data/test.xlsx')\n",
    "\n",
    "train_df=pd.read_table('../input/ire-major-data-v2/en_train_pt.tsv',names=['SNO','Intensity','Text'],sep='\\t')\n",
    "test_df=pd.read_table('../input/ire-major-data-v2/en_test_pt.tsv',names=['SNO','Intensity','Text'],sep='\\t')"
   ]
  },
  {
   "cell_type": "code",
   "execution_count": 5,
   "id": "1cac56d6",
   "metadata": {
    "execution": {
     "iopub.execute_input": "2022-10-20T18:03:52.484480Z",
     "iopub.status.busy": "2022-10-20T18:03:52.482916Z",
     "iopub.status.idle": "2022-10-20T18:03:58.281988Z",
     "shell.execute_reply": "2022-10-20T18:03:58.280104Z"
    },
    "papermill": {
     "duration": 5.819996,
     "end_time": "2022-10-20T18:03:58.290726",
     "exception": false,
     "start_time": "2022-10-20T18:03:52.470730",
     "status": "completed"
    },
    "tags": []
   },
   "outputs": [
    {
     "data": {
      "application/vnd.jupyter.widget-view+json": {
       "model_id": "1f2e0eeaa5744e779167e171cce5fd8a",
       "version_major": 2,
       "version_minor": 0
      },
      "text/plain": [
       "Downloading:   0%|          | 0.00/878k [00:00<?, ?B/s]"
      ]
     },
     "metadata": {},
     "output_type": "display_data"
    },
    {
     "data": {
      "application/vnd.jupyter.widget-view+json": {
       "model_id": "6a9044707d414bb99e8ebbb543f3f998",
       "version_major": 2,
       "version_minor": 0
      },
      "text/plain": [
       "Downloading:   0%|          | 0.00/446k [00:00<?, ?B/s]"
      ]
     },
     "metadata": {},
     "output_type": "display_data"
    },
    {
     "data": {
      "application/vnd.jupyter.widget-view+json": {
       "model_id": "3bed413d059e40a0b5ff1f3f6062ac27",
       "version_major": 2,
       "version_minor": 0
      },
      "text/plain": [
       "Downloading:   0%|          | 0.00/481 [00:00<?, ?B/s]"
      ]
     },
     "metadata": {},
     "output_type": "display_data"
    }
   ],
   "source": [
    "from transformers import RobertaTokenizer\n",
    "tokenizer = RobertaTokenizer.from_pretrained(\"roberta-base\")"
   ]
  },
  {
   "cell_type": "code",
   "execution_count": 6,
   "id": "87818f50",
   "metadata": {
    "execution": {
     "iopub.execute_input": "2022-10-20T18:03:58.346175Z",
     "iopub.status.busy": "2022-10-20T18:03:58.344141Z",
     "iopub.status.idle": "2022-10-20T18:03:58.353098Z",
     "shell.execute_reply": "2022-10-20T18:03:58.351975Z"
    },
    "papermill": {
     "duration": 0.040417,
     "end_time": "2022-10-20T18:03:58.356238",
     "exception": false,
     "start_time": "2022-10-20T18:03:58.315821",
     "status": "completed"
    },
    "tags": []
   },
   "outputs": [],
   "source": [
    "def return_length(df):\n",
    "    length=[]\n",
    "    for i in df['Text']:\n",
    "        tok = tokenizer(i, return_tensors=\"pt\")\n",
    "        length.append(len(tok['input_ids'][0]))\n",
    "        \n",
    "    return length"
   ]
  },
  {
   "cell_type": "code",
   "execution_count": 7,
   "id": "9e06bc90",
   "metadata": {
    "execution": {
     "iopub.execute_input": "2022-10-20T18:03:58.402048Z",
     "iopub.status.busy": "2022-10-20T18:03:58.401603Z",
     "iopub.status.idle": "2022-10-20T18:04:07.757652Z",
     "shell.execute_reply": "2022-10-20T18:04:07.756650Z"
    },
    "papermill": {
     "duration": 9.384999,
     "end_time": "2022-10-20T18:04:07.760031",
     "exception": false,
     "start_time": "2022-10-20T18:03:58.375032",
     "status": "completed"
    },
    "tags": []
   },
   "outputs": [
    {
     "name": "stderr",
     "output_type": "stream",
     "text": [
      "Token indices sequence length is longer than the specified maximum sequence length for this model (573 > 512). Running this sequence through the model will result in indexing errors\n"
     ]
    }
   ],
   "source": [
    "train_df['#tokens']=return_length(train_df)\n",
    "test_df['#tokens']=return_length(test_df)"
   ]
  },
  {
   "cell_type": "code",
   "execution_count": 8,
   "id": "90f08c2b",
   "metadata": {
    "execution": {
     "iopub.execute_input": "2022-10-20T18:04:07.783457Z",
     "iopub.status.busy": "2022-10-20T18:04:07.783124Z",
     "iopub.status.idle": "2022-10-20T18:04:07.796718Z",
     "shell.execute_reply": "2022-10-20T18:04:07.795417Z"
    },
    "papermill": {
     "duration": 0.027937,
     "end_time": "2022-10-20T18:04:07.799099",
     "exception": false,
     "start_time": "2022-10-20T18:04:07.771162",
     "status": "completed"
    },
    "tags": []
   },
   "outputs": [
    {
     "name": "stdout",
     "output_type": "stream",
     "text": [
      "Length of Train_df: 17497\n",
      "Length of Test_df: 4337\n"
     ]
    }
   ],
   "source": [
    "train_df=train_df[train_df['#tokens']<50]\n",
    "test_df=test_df[test_df['#tokens']<50]\n",
    "print('Length of Train_df:',len(train_df))\n",
    "print('Length of Test_df:',len(test_df))"
   ]
  },
  {
   "cell_type": "code",
   "execution_count": 9,
   "id": "077ec56f",
   "metadata": {
    "execution": {
     "iopub.execute_input": "2022-10-20T18:04:07.823076Z",
     "iopub.status.busy": "2022-10-20T18:04:07.822180Z",
     "iopub.status.idle": "2022-10-20T18:04:07.832117Z",
     "shell.execute_reply": "2022-10-20T18:04:07.831241Z"
    },
    "papermill": {
     "duration": 0.023588,
     "end_time": "2022-10-20T18:04:07.834126",
     "exception": false,
     "start_time": "2022-10-20T18:04:07.810538",
     "status": "completed"
    },
    "tags": []
   },
   "outputs": [],
   "source": [
    "train_df['label']=['clickbait' if i>=0.5 else 'no-clickbait' for i in train_df['Intensity']]\n",
    "test_df['label']=['clickbait' if i>=0.5 else 'no-clickbait' for i in test_df['Intensity']]"
   ]
  },
  {
   "cell_type": "markdown",
   "id": "6f5e6507",
   "metadata": {
    "papermill": {
     "duration": 0.01074,
     "end_time": "2022-10-20T18:04:07.855738",
     "exception": false,
     "start_time": "2022-10-20T18:04:07.844998",
     "status": "completed"
    },
    "tags": []
   },
   "source": [
    "## Replacing/Masking Words\n",
    "- Replace Non Named Entities\n",
    "- Replace Pronouns\n",
    "- Replace Random Words"
   ]
  },
  {
   "cell_type": "code",
   "execution_count": 10,
   "id": "98705c99",
   "metadata": {
    "execution": {
     "iopub.execute_input": "2022-10-20T18:04:07.879030Z",
     "iopub.status.busy": "2022-10-20T18:04:07.878455Z",
     "iopub.status.idle": "2022-10-20T18:04:29.888205Z",
     "shell.execute_reply": "2022-10-20T18:04:29.886937Z"
    },
    "papermill": {
     "duration": 22.024281,
     "end_time": "2022-10-20T18:04:29.891111",
     "exception": false,
     "start_time": "2022-10-20T18:04:07.866830",
     "status": "completed"
    },
    "tags": []
   },
   "outputs": [
    {
     "name": "stdout",
     "output_type": "stream",
     "text": [
      "\u001b[33mWARNING: Running pip as the 'root' user can result in broken permissions and conflicting behaviour with the system package manager. It is recommended to use a virtual environment instead: https://pip.pypa.io/warnings/venv\u001b[0m\u001b[33m\r\n",
      "\u001b[0m\u001b[38;5;2m✔ Download and installation successful\u001b[0m\r\n",
      "You can now load the package via spacy.load('en_core_web_sm')\r\n"
     ]
    }
   ],
   "source": [
    "# ! pip install spacy --q\n",
    "# ! pip install nltk --q\n",
    "! python -m spacy download en_core_web_sm --q"
   ]
  },
  {
   "cell_type": "code",
   "execution_count": 11,
   "id": "e70b4895",
   "metadata": {
    "execution": {
     "iopub.execute_input": "2022-10-20T18:04:29.916580Z",
     "iopub.status.busy": "2022-10-20T18:04:29.915500Z",
     "iopub.status.idle": "2022-10-20T18:04:33.061727Z",
     "shell.execute_reply": "2022-10-20T18:04:33.060689Z"
    },
    "papermill": {
     "duration": 3.161671,
     "end_time": "2022-10-20T18:04:33.064307",
     "exception": false,
     "start_time": "2022-10-20T18:04:29.902636",
     "status": "completed"
    },
    "tags": []
   },
   "outputs": [],
   "source": [
    "import spacy\n",
    "from spacy import displacy\n",
    "from spacy import tokenizer\n",
    "nlp = spacy.load('en_core_web_sm')"
   ]
  },
  {
   "cell_type": "code",
   "execution_count": 12,
   "id": "03ae35c3",
   "metadata": {
    "execution": {
     "iopub.execute_input": "2022-10-20T18:04:33.091760Z",
     "iopub.status.busy": "2022-10-20T18:04:33.091423Z",
     "iopub.status.idle": "2022-10-20T18:04:33.098387Z",
     "shell.execute_reply": "2022-10-20T18:04:33.097455Z"
    },
    "papermill": {
     "duration": 0.023195,
     "end_time": "2022-10-20T18:04:33.100662",
     "exception": false,
     "start_time": "2022-10-20T18:04:33.077467",
     "status": "completed"
    },
    "tags": []
   },
   "outputs": [],
   "source": [
    "def get_entities(text):\n",
    "    doc = nlp(text)\n",
    "    tokens=[token.text for token in doc]\n",
    "    ent_tokens=[]\n",
    "    ent_labels=[]\n",
    "    for e in doc.ents:\n",
    "        toks=e.text.split()\n",
    "        for tok in toks:\n",
    "            ent_tokens.append(tok)\n",
    "            ent_labels.append(e.label_)\n",
    "#     displacy.render(doc, style='ent', jupyter=True)\n",
    "    #return tokens,ent_tokens,ent_labels\n",
    "    \n",
    "    #print(tokens,'\\n',ent_tokens,'\\n',ent_labels)\n",
    "    return tokens,ent_tokens,ent_labels"
   ]
  },
  {
   "cell_type": "code",
   "execution_count": 13,
   "id": "4a35205f",
   "metadata": {
    "execution": {
     "iopub.execute_input": "2022-10-20T18:04:33.124870Z",
     "iopub.status.busy": "2022-10-20T18:04:33.124080Z",
     "iopub.status.idle": "2022-10-20T18:04:33.130212Z",
     "shell.execute_reply": "2022-10-20T18:04:33.129310Z"
    },
    "papermill": {
     "duration": 0.020024,
     "end_time": "2022-10-20T18:04:33.132297",
     "exception": false,
     "start_time": "2022-10-20T18:04:33.112273",
     "status": "completed"
    },
    "tags": []
   },
   "outputs": [],
   "source": [
    "def get_pos_tags(text):\n",
    "    sent = text\n",
    "    doc=nlp(sent)\n",
    "\n",
    "    sub_toks = [tok for tok in doc if ((tok.dep_ == \"nsubj\") )]\n",
    "    nc= [x for x in doc.noun_chunks]\n",
    "    l=[]\n",
    "    for i,token in enumerate(doc):\n",
    "        #print(token.pos_)\n",
    "        if token.pos_ in ['PRON','DET']:\n",
    "            #l.append([token.text,i,token.pos_])\n",
    "            l.append(token.text)\n",
    "\n",
    "    #print(l)\n",
    "    return l"
   ]
  },
  {
   "cell_type": "code",
   "execution_count": 14,
   "id": "56f4c3ad",
   "metadata": {
    "execution": {
     "iopub.execute_input": "2022-10-20T18:04:33.165051Z",
     "iopub.status.busy": "2022-10-20T18:04:33.164785Z",
     "iopub.status.idle": "2022-10-20T18:05:33.224157Z",
     "shell.execute_reply": "2022-10-20T18:05:33.223030Z"
    },
    "papermill": {
     "duration": 60.073696,
     "end_time": "2022-10-20T18:05:33.226808",
     "exception": false,
     "start_time": "2022-10-20T18:04:33.153112",
     "status": "completed"
    },
    "tags": []
   },
   "outputs": [],
   "source": [
    "new_test_sents=[]\n",
    "for i in test_df['Text']:\n",
    "    tokens,ent_tokens,ent_labels=get_entities(i)\n",
    "    pos_tag_tokens=get_pos_tags(i)\n",
    "    new_tokens=[]\n",
    "    for token in tokens:\n",
    "        if ((token not in ent_tokens) & (token in pos_tag_tokens)):\n",
    "            continue\n",
    "        else:\n",
    "            new_tokens.append(token)\n",
    "    new_text=' '.join(new_tokens).strip()\n",
    "    new_test_sents.append(new_text)"
   ]
  },
  {
   "cell_type": "markdown",
   "id": "7cd4bef8",
   "metadata": {
    "papermill": {
     "duration": 0.010875,
     "end_time": "2022-10-20T18:05:33.249461",
     "exception": false,
     "start_time": "2022-10-20T18:05:33.238586",
     "status": "completed"
    },
    "tags": []
   },
   "source": [
    "# Embeddings"
   ]
  },
  {
   "cell_type": "code",
   "execution_count": 15,
   "id": "4d7bdbe1",
   "metadata": {
    "execution": {
     "iopub.execute_input": "2022-10-20T18:05:33.273130Z",
     "iopub.status.busy": "2022-10-20T18:05:33.272270Z",
     "iopub.status.idle": "2022-10-20T18:06:01.994107Z",
     "shell.execute_reply": "2022-10-20T18:06:01.992619Z"
    },
    "papermill": {
     "duration": 28.736037,
     "end_time": "2022-10-20T18:06:01.996376",
     "exception": false,
     "start_time": "2022-10-20T18:05:33.260339",
     "status": "completed"
    },
    "tags": []
   },
   "outputs": [
    {
     "data": {
      "application/vnd.jupyter.widget-view+json": {
       "model_id": "9afc2cf3b3dd45f48d7da4197e4b77fb",
       "version_major": 2,
       "version_minor": 0
      },
      "text/plain": [
       "Downloading:   0%|          | 0.00/226k [00:00<?, ?B/s]"
      ]
     },
     "metadata": {},
     "output_type": "display_data"
    },
    {
     "data": {
      "application/vnd.jupyter.widget-view+json": {
       "model_id": "2bf3eb48b536466d8c854f76ab6404c2",
       "version_major": 2,
       "version_minor": 0
      },
      "text/plain": [
       "Downloading:   0%|          | 0.00/28.0 [00:00<?, ?B/s]"
      ]
     },
     "metadata": {},
     "output_type": "display_data"
    },
    {
     "data": {
      "application/vnd.jupyter.widget-view+json": {
       "model_id": "98802d6461ee4db3abbd7848bfcb3964",
       "version_major": 2,
       "version_minor": 0
      },
      "text/plain": [
       "Downloading:   0%|          | 0.00/570 [00:00<?, ?B/s]"
      ]
     },
     "metadata": {},
     "output_type": "display_data"
    },
    {
     "data": {
      "application/vnd.jupyter.widget-view+json": {
       "model_id": "d9e5500d8ed848f9b9fa11c31fb8e95c",
       "version_major": 2,
       "version_minor": 0
      },
      "text/plain": [
       "Downloading:   0%|          | 0.00/420M [00:00<?, ?B/s]"
      ]
     },
     "metadata": {},
     "output_type": "display_data"
    },
    {
     "name": "stderr",
     "output_type": "stream",
     "text": [
      "Some weights of the model checkpoint at bert-base-uncased were not used when initializing BertModel: ['cls.predictions.transform.LayerNorm.weight', 'cls.predictions.bias', 'cls.predictions.transform.LayerNorm.bias', 'cls.predictions.transform.dense.weight', 'cls.seq_relationship.weight', 'cls.predictions.decoder.weight', 'cls.predictions.transform.dense.bias', 'cls.seq_relationship.bias']\n",
      "- This IS expected if you are initializing BertModel from the checkpoint of a model trained on another task or with another architecture (e.g. initializing a BertForSequenceClassification model from a BertForPreTraining model).\n",
      "- This IS NOT expected if you are initializing BertModel from the checkpoint of a model that you expect to be exactly identical (initializing a BertForSequenceClassification model from a BertForSequenceClassification model).\n"
     ]
    }
   ],
   "source": [
    "from transformers import BertTokenizer, BertModel\n",
    "tokenizer = BertTokenizer.from_pretrained('bert-base-uncased')\n",
    "model = BertModel.from_pretrained(\"bert-base-uncased\")"
   ]
  },
  {
   "cell_type": "code",
   "execution_count": 16,
   "id": "2d013738",
   "metadata": {
    "execution": {
     "iopub.execute_input": "2022-10-20T18:06:02.022365Z",
     "iopub.status.busy": "2022-10-20T18:06:02.021563Z",
     "iopub.status.idle": "2022-10-20T18:06:09.504329Z",
     "shell.execute_reply": "2022-10-20T18:06:09.503415Z"
    },
    "papermill": {
     "duration": 7.497612,
     "end_time": "2022-10-20T18:06:09.506456",
     "exception": false,
     "start_time": "2022-10-20T18:06:02.008844",
     "status": "completed"
    },
    "tags": []
   },
   "outputs": [
    {
     "data": {
      "text/plain": [
       "BertModel(\n",
       "  (embeddings): BertEmbeddings(\n",
       "    (word_embeddings): Embedding(30522, 768, padding_idx=0)\n",
       "    (position_embeddings): Embedding(512, 768)\n",
       "    (token_type_embeddings): Embedding(2, 768)\n",
       "    (LayerNorm): LayerNorm((768,), eps=1e-12, elementwise_affine=True)\n",
       "    (dropout): Dropout(p=0.1, inplace=False)\n",
       "  )\n",
       "  (encoder): BertEncoder(\n",
       "    (layer): ModuleList(\n",
       "      (0): BertLayer(\n",
       "        (attention): BertAttention(\n",
       "          (self): BertSelfAttention(\n",
       "            (query): Linear(in_features=768, out_features=768, bias=True)\n",
       "            (key): Linear(in_features=768, out_features=768, bias=True)\n",
       "            (value): Linear(in_features=768, out_features=768, bias=True)\n",
       "            (dropout): Dropout(p=0.1, inplace=False)\n",
       "          )\n",
       "          (output): BertSelfOutput(\n",
       "            (dense): Linear(in_features=768, out_features=768, bias=True)\n",
       "            (LayerNorm): LayerNorm((768,), eps=1e-12, elementwise_affine=True)\n",
       "            (dropout): Dropout(p=0.1, inplace=False)\n",
       "          )\n",
       "        )\n",
       "        (intermediate): BertIntermediate(\n",
       "          (dense): Linear(in_features=768, out_features=3072, bias=True)\n",
       "          (intermediate_act_fn): GELUActivation()\n",
       "        )\n",
       "        (output): BertOutput(\n",
       "          (dense): Linear(in_features=3072, out_features=768, bias=True)\n",
       "          (LayerNorm): LayerNorm((768,), eps=1e-12, elementwise_affine=True)\n",
       "          (dropout): Dropout(p=0.1, inplace=False)\n",
       "        )\n",
       "      )\n",
       "      (1): BertLayer(\n",
       "        (attention): BertAttention(\n",
       "          (self): BertSelfAttention(\n",
       "            (query): Linear(in_features=768, out_features=768, bias=True)\n",
       "            (key): Linear(in_features=768, out_features=768, bias=True)\n",
       "            (value): Linear(in_features=768, out_features=768, bias=True)\n",
       "            (dropout): Dropout(p=0.1, inplace=False)\n",
       "          )\n",
       "          (output): BertSelfOutput(\n",
       "            (dense): Linear(in_features=768, out_features=768, bias=True)\n",
       "            (LayerNorm): LayerNorm((768,), eps=1e-12, elementwise_affine=True)\n",
       "            (dropout): Dropout(p=0.1, inplace=False)\n",
       "          )\n",
       "        )\n",
       "        (intermediate): BertIntermediate(\n",
       "          (dense): Linear(in_features=768, out_features=3072, bias=True)\n",
       "          (intermediate_act_fn): GELUActivation()\n",
       "        )\n",
       "        (output): BertOutput(\n",
       "          (dense): Linear(in_features=3072, out_features=768, bias=True)\n",
       "          (LayerNorm): LayerNorm((768,), eps=1e-12, elementwise_affine=True)\n",
       "          (dropout): Dropout(p=0.1, inplace=False)\n",
       "        )\n",
       "      )\n",
       "      (2): BertLayer(\n",
       "        (attention): BertAttention(\n",
       "          (self): BertSelfAttention(\n",
       "            (query): Linear(in_features=768, out_features=768, bias=True)\n",
       "            (key): Linear(in_features=768, out_features=768, bias=True)\n",
       "            (value): Linear(in_features=768, out_features=768, bias=True)\n",
       "            (dropout): Dropout(p=0.1, inplace=False)\n",
       "          )\n",
       "          (output): BertSelfOutput(\n",
       "            (dense): Linear(in_features=768, out_features=768, bias=True)\n",
       "            (LayerNorm): LayerNorm((768,), eps=1e-12, elementwise_affine=True)\n",
       "            (dropout): Dropout(p=0.1, inplace=False)\n",
       "          )\n",
       "        )\n",
       "        (intermediate): BertIntermediate(\n",
       "          (dense): Linear(in_features=768, out_features=3072, bias=True)\n",
       "          (intermediate_act_fn): GELUActivation()\n",
       "        )\n",
       "        (output): BertOutput(\n",
       "          (dense): Linear(in_features=3072, out_features=768, bias=True)\n",
       "          (LayerNorm): LayerNorm((768,), eps=1e-12, elementwise_affine=True)\n",
       "          (dropout): Dropout(p=0.1, inplace=False)\n",
       "        )\n",
       "      )\n",
       "      (3): BertLayer(\n",
       "        (attention): BertAttention(\n",
       "          (self): BertSelfAttention(\n",
       "            (query): Linear(in_features=768, out_features=768, bias=True)\n",
       "            (key): Linear(in_features=768, out_features=768, bias=True)\n",
       "            (value): Linear(in_features=768, out_features=768, bias=True)\n",
       "            (dropout): Dropout(p=0.1, inplace=False)\n",
       "          )\n",
       "          (output): BertSelfOutput(\n",
       "            (dense): Linear(in_features=768, out_features=768, bias=True)\n",
       "            (LayerNorm): LayerNorm((768,), eps=1e-12, elementwise_affine=True)\n",
       "            (dropout): Dropout(p=0.1, inplace=False)\n",
       "          )\n",
       "        )\n",
       "        (intermediate): BertIntermediate(\n",
       "          (dense): Linear(in_features=768, out_features=3072, bias=True)\n",
       "          (intermediate_act_fn): GELUActivation()\n",
       "        )\n",
       "        (output): BertOutput(\n",
       "          (dense): Linear(in_features=3072, out_features=768, bias=True)\n",
       "          (LayerNorm): LayerNorm((768,), eps=1e-12, elementwise_affine=True)\n",
       "          (dropout): Dropout(p=0.1, inplace=False)\n",
       "        )\n",
       "      )\n",
       "      (4): BertLayer(\n",
       "        (attention): BertAttention(\n",
       "          (self): BertSelfAttention(\n",
       "            (query): Linear(in_features=768, out_features=768, bias=True)\n",
       "            (key): Linear(in_features=768, out_features=768, bias=True)\n",
       "            (value): Linear(in_features=768, out_features=768, bias=True)\n",
       "            (dropout): Dropout(p=0.1, inplace=False)\n",
       "          )\n",
       "          (output): BertSelfOutput(\n",
       "            (dense): Linear(in_features=768, out_features=768, bias=True)\n",
       "            (LayerNorm): LayerNorm((768,), eps=1e-12, elementwise_affine=True)\n",
       "            (dropout): Dropout(p=0.1, inplace=False)\n",
       "          )\n",
       "        )\n",
       "        (intermediate): BertIntermediate(\n",
       "          (dense): Linear(in_features=768, out_features=3072, bias=True)\n",
       "          (intermediate_act_fn): GELUActivation()\n",
       "        )\n",
       "        (output): BertOutput(\n",
       "          (dense): Linear(in_features=3072, out_features=768, bias=True)\n",
       "          (LayerNorm): LayerNorm((768,), eps=1e-12, elementwise_affine=True)\n",
       "          (dropout): Dropout(p=0.1, inplace=False)\n",
       "        )\n",
       "      )\n",
       "      (5): BertLayer(\n",
       "        (attention): BertAttention(\n",
       "          (self): BertSelfAttention(\n",
       "            (query): Linear(in_features=768, out_features=768, bias=True)\n",
       "            (key): Linear(in_features=768, out_features=768, bias=True)\n",
       "            (value): Linear(in_features=768, out_features=768, bias=True)\n",
       "            (dropout): Dropout(p=0.1, inplace=False)\n",
       "          )\n",
       "          (output): BertSelfOutput(\n",
       "            (dense): Linear(in_features=768, out_features=768, bias=True)\n",
       "            (LayerNorm): LayerNorm((768,), eps=1e-12, elementwise_affine=True)\n",
       "            (dropout): Dropout(p=0.1, inplace=False)\n",
       "          )\n",
       "        )\n",
       "        (intermediate): BertIntermediate(\n",
       "          (dense): Linear(in_features=768, out_features=3072, bias=True)\n",
       "          (intermediate_act_fn): GELUActivation()\n",
       "        )\n",
       "        (output): BertOutput(\n",
       "          (dense): Linear(in_features=3072, out_features=768, bias=True)\n",
       "          (LayerNorm): LayerNorm((768,), eps=1e-12, elementwise_affine=True)\n",
       "          (dropout): Dropout(p=0.1, inplace=False)\n",
       "        )\n",
       "      )\n",
       "      (6): BertLayer(\n",
       "        (attention): BertAttention(\n",
       "          (self): BertSelfAttention(\n",
       "            (query): Linear(in_features=768, out_features=768, bias=True)\n",
       "            (key): Linear(in_features=768, out_features=768, bias=True)\n",
       "            (value): Linear(in_features=768, out_features=768, bias=True)\n",
       "            (dropout): Dropout(p=0.1, inplace=False)\n",
       "          )\n",
       "          (output): BertSelfOutput(\n",
       "            (dense): Linear(in_features=768, out_features=768, bias=True)\n",
       "            (LayerNorm): LayerNorm((768,), eps=1e-12, elementwise_affine=True)\n",
       "            (dropout): Dropout(p=0.1, inplace=False)\n",
       "          )\n",
       "        )\n",
       "        (intermediate): BertIntermediate(\n",
       "          (dense): Linear(in_features=768, out_features=3072, bias=True)\n",
       "          (intermediate_act_fn): GELUActivation()\n",
       "        )\n",
       "        (output): BertOutput(\n",
       "          (dense): Linear(in_features=3072, out_features=768, bias=True)\n",
       "          (LayerNorm): LayerNorm((768,), eps=1e-12, elementwise_affine=True)\n",
       "          (dropout): Dropout(p=0.1, inplace=False)\n",
       "        )\n",
       "      )\n",
       "      (7): BertLayer(\n",
       "        (attention): BertAttention(\n",
       "          (self): BertSelfAttention(\n",
       "            (query): Linear(in_features=768, out_features=768, bias=True)\n",
       "            (key): Linear(in_features=768, out_features=768, bias=True)\n",
       "            (value): Linear(in_features=768, out_features=768, bias=True)\n",
       "            (dropout): Dropout(p=0.1, inplace=False)\n",
       "          )\n",
       "          (output): BertSelfOutput(\n",
       "            (dense): Linear(in_features=768, out_features=768, bias=True)\n",
       "            (LayerNorm): LayerNorm((768,), eps=1e-12, elementwise_affine=True)\n",
       "            (dropout): Dropout(p=0.1, inplace=False)\n",
       "          )\n",
       "        )\n",
       "        (intermediate): BertIntermediate(\n",
       "          (dense): Linear(in_features=768, out_features=3072, bias=True)\n",
       "          (intermediate_act_fn): GELUActivation()\n",
       "        )\n",
       "        (output): BertOutput(\n",
       "          (dense): Linear(in_features=3072, out_features=768, bias=True)\n",
       "          (LayerNorm): LayerNorm((768,), eps=1e-12, elementwise_affine=True)\n",
       "          (dropout): Dropout(p=0.1, inplace=False)\n",
       "        )\n",
       "      )\n",
       "      (8): BertLayer(\n",
       "        (attention): BertAttention(\n",
       "          (self): BertSelfAttention(\n",
       "            (query): Linear(in_features=768, out_features=768, bias=True)\n",
       "            (key): Linear(in_features=768, out_features=768, bias=True)\n",
       "            (value): Linear(in_features=768, out_features=768, bias=True)\n",
       "            (dropout): Dropout(p=0.1, inplace=False)\n",
       "          )\n",
       "          (output): BertSelfOutput(\n",
       "            (dense): Linear(in_features=768, out_features=768, bias=True)\n",
       "            (LayerNorm): LayerNorm((768,), eps=1e-12, elementwise_affine=True)\n",
       "            (dropout): Dropout(p=0.1, inplace=False)\n",
       "          )\n",
       "        )\n",
       "        (intermediate): BertIntermediate(\n",
       "          (dense): Linear(in_features=768, out_features=3072, bias=True)\n",
       "          (intermediate_act_fn): GELUActivation()\n",
       "        )\n",
       "        (output): BertOutput(\n",
       "          (dense): Linear(in_features=3072, out_features=768, bias=True)\n",
       "          (LayerNorm): LayerNorm((768,), eps=1e-12, elementwise_affine=True)\n",
       "          (dropout): Dropout(p=0.1, inplace=False)\n",
       "        )\n",
       "      )\n",
       "      (9): BertLayer(\n",
       "        (attention): BertAttention(\n",
       "          (self): BertSelfAttention(\n",
       "            (query): Linear(in_features=768, out_features=768, bias=True)\n",
       "            (key): Linear(in_features=768, out_features=768, bias=True)\n",
       "            (value): Linear(in_features=768, out_features=768, bias=True)\n",
       "            (dropout): Dropout(p=0.1, inplace=False)\n",
       "          )\n",
       "          (output): BertSelfOutput(\n",
       "            (dense): Linear(in_features=768, out_features=768, bias=True)\n",
       "            (LayerNorm): LayerNorm((768,), eps=1e-12, elementwise_affine=True)\n",
       "            (dropout): Dropout(p=0.1, inplace=False)\n",
       "          )\n",
       "        )\n",
       "        (intermediate): BertIntermediate(\n",
       "          (dense): Linear(in_features=768, out_features=3072, bias=True)\n",
       "          (intermediate_act_fn): GELUActivation()\n",
       "        )\n",
       "        (output): BertOutput(\n",
       "          (dense): Linear(in_features=3072, out_features=768, bias=True)\n",
       "          (LayerNorm): LayerNorm((768,), eps=1e-12, elementwise_affine=True)\n",
       "          (dropout): Dropout(p=0.1, inplace=False)\n",
       "        )\n",
       "      )\n",
       "      (10): BertLayer(\n",
       "        (attention): BertAttention(\n",
       "          (self): BertSelfAttention(\n",
       "            (query): Linear(in_features=768, out_features=768, bias=True)\n",
       "            (key): Linear(in_features=768, out_features=768, bias=True)\n",
       "            (value): Linear(in_features=768, out_features=768, bias=True)\n",
       "            (dropout): Dropout(p=0.1, inplace=False)\n",
       "          )\n",
       "          (output): BertSelfOutput(\n",
       "            (dense): Linear(in_features=768, out_features=768, bias=True)\n",
       "            (LayerNorm): LayerNorm((768,), eps=1e-12, elementwise_affine=True)\n",
       "            (dropout): Dropout(p=0.1, inplace=False)\n",
       "          )\n",
       "        )\n",
       "        (intermediate): BertIntermediate(\n",
       "          (dense): Linear(in_features=768, out_features=3072, bias=True)\n",
       "          (intermediate_act_fn): GELUActivation()\n",
       "        )\n",
       "        (output): BertOutput(\n",
       "          (dense): Linear(in_features=3072, out_features=768, bias=True)\n",
       "          (LayerNorm): LayerNorm((768,), eps=1e-12, elementwise_affine=True)\n",
       "          (dropout): Dropout(p=0.1, inplace=False)\n",
       "        )\n",
       "      )\n",
       "      (11): BertLayer(\n",
       "        (attention): BertAttention(\n",
       "          (self): BertSelfAttention(\n",
       "            (query): Linear(in_features=768, out_features=768, bias=True)\n",
       "            (key): Linear(in_features=768, out_features=768, bias=True)\n",
       "            (value): Linear(in_features=768, out_features=768, bias=True)\n",
       "            (dropout): Dropout(p=0.1, inplace=False)\n",
       "          )\n",
       "          (output): BertSelfOutput(\n",
       "            (dense): Linear(in_features=768, out_features=768, bias=True)\n",
       "            (LayerNorm): LayerNorm((768,), eps=1e-12, elementwise_affine=True)\n",
       "            (dropout): Dropout(p=0.1, inplace=False)\n",
       "          )\n",
       "        )\n",
       "        (intermediate): BertIntermediate(\n",
       "          (dense): Linear(in_features=768, out_features=3072, bias=True)\n",
       "          (intermediate_act_fn): GELUActivation()\n",
       "        )\n",
       "        (output): BertOutput(\n",
       "          (dense): Linear(in_features=3072, out_features=768, bias=True)\n",
       "          (LayerNorm): LayerNorm((768,), eps=1e-12, elementwise_affine=True)\n",
       "          (dropout): Dropout(p=0.1, inplace=False)\n",
       "        )\n",
       "      )\n",
       "    )\n",
       "  )\n",
       "  (pooler): BertPooler(\n",
       "    (dense): Linear(in_features=768, out_features=768, bias=True)\n",
       "    (activation): Tanh()\n",
       "  )\n",
       ")"
      ]
     },
     "execution_count": 16,
     "metadata": {},
     "output_type": "execute_result"
    }
   ],
   "source": [
    "model.cuda()"
   ]
  },
  {
   "cell_type": "code",
   "execution_count": 17,
   "id": "d9a2ce4f",
   "metadata": {
    "execution": {
     "iopub.execute_input": "2022-10-20T18:06:09.533721Z",
     "iopub.status.busy": "2022-10-20T18:06:09.532091Z",
     "iopub.status.idle": "2022-10-20T18:06:09.537302Z",
     "shell.execute_reply": "2022-10-20T18:06:09.536358Z"
    },
    "papermill": {
     "duration": 0.020288,
     "end_time": "2022-10-20T18:06:09.539272",
     "exception": false,
     "start_time": "2022-10-20T18:06:09.518984",
     "status": "completed"
    },
    "tags": []
   },
   "outputs": [],
   "source": [
    "import torch\n",
    "device=torch.device('cuda:0')"
   ]
  },
  {
   "cell_type": "code",
   "execution_count": 18,
   "id": "8b431f61",
   "metadata": {
    "execution": {
     "iopub.execute_input": "2022-10-20T18:06:09.564516Z",
     "iopub.status.busy": "2022-10-20T18:06:09.564227Z",
     "iopub.status.idle": "2022-10-20T18:06:09.569201Z",
     "shell.execute_reply": "2022-10-20T18:06:09.568307Z"
    },
    "papermill": {
     "duration": 0.019906,
     "end_time": "2022-10-20T18:06:09.571226",
     "exception": false,
     "start_time": "2022-10-20T18:06:09.551320",
     "status": "completed"
    },
    "tags": []
   },
   "outputs": [],
   "source": [
    "def read_word_embedding(sentence):\n",
    "    inputs = tokenizer(sentence, return_tensors=\"pt\").to(device)\n",
    "    outputs = model(**inputs)\n",
    "    last_hidden_states = outputs.last_hidden_state.cpu()\n",
    "    embedding=np.mean(last_hidden_states[0].detach().numpy(),axis=0)\n",
    "#     embedding=np.mean(last_hidden_states[0].detach().to('cpu'),axis=0)\n",
    "    return embedding"
   ]
  },
  {
   "cell_type": "code",
   "execution_count": 19,
   "id": "8a292702",
   "metadata": {
    "execution": {
     "iopub.execute_input": "2022-10-20T18:06:09.597333Z",
     "iopub.status.busy": "2022-10-20T18:06:09.597063Z",
     "iopub.status.idle": "2022-10-20T18:09:24.151065Z",
     "shell.execute_reply": "2022-10-20T18:09:24.149244Z"
    },
    "papermill": {
     "duration": 194.569645,
     "end_time": "2022-10-20T18:09:24.153382",
     "exception": false,
     "start_time": "2022-10-20T18:06:09.583737",
     "status": "completed"
    },
    "tags": []
   },
   "outputs": [
    {
     "name": "stderr",
     "output_type": "stream",
     "text": [
      "100%|██████████| 17497/17497 [03:14<00:00, 89.94it/s]\n"
     ]
    }
   ],
   "source": [
    "x_train_embeddings=[]\n",
    "for i in tqdm(range(len(train_df))):\n",
    "    try:\n",
    "        x_train_embeddings.append(read_word_embedding(train_df['Text'].iloc[i]))\n",
    "    except:\n",
    "        print(i)\n",
    "        break"
   ]
  },
  {
   "cell_type": "code",
   "execution_count": 20,
   "id": "03e09691",
   "metadata": {
    "execution": {
     "iopub.execute_input": "2022-10-20T18:09:24.358187Z",
     "iopub.status.busy": "2022-10-20T18:09:24.357280Z",
     "iopub.status.idle": "2022-10-20T18:09:24.395705Z",
     "shell.execute_reply": "2022-10-20T18:09:24.394664Z"
    },
    "papermill": {
     "duration": 0.142807,
     "end_time": "2022-10-20T18:09:24.398237",
     "exception": false,
     "start_time": "2022-10-20T18:09:24.255430",
     "status": "completed"
    },
    "tags": []
   },
   "outputs": [],
   "source": [
    "x_train_embeddings=np.array(x_train_embeddings)\n",
    "y_train_intensity=np.array(list(train_df['Intensity'].values))"
   ]
  },
  {
   "cell_type": "code",
   "execution_count": 21,
   "id": "dd003f2d",
   "metadata": {
    "execution": {
     "iopub.execute_input": "2022-10-20T18:09:24.601223Z",
     "iopub.status.busy": "2022-10-20T18:09:24.600838Z",
     "iopub.status.idle": "2022-10-20T18:10:12.091220Z",
     "shell.execute_reply": "2022-10-20T18:10:12.089993Z"
    },
    "papermill": {
     "duration": 47.59444,
     "end_time": "2022-10-20T18:10:12.093736",
     "exception": false,
     "start_time": "2022-10-20T18:09:24.499296",
     "status": "completed"
    },
    "tags": []
   },
   "outputs": [
    {
     "name": "stderr",
     "output_type": "stream",
     "text": [
      "100%|██████████| 4337/4337 [00:47<00:00, 91.34it/s]\n"
     ]
    }
   ],
   "source": [
    "x_test_embeddings=[]\n",
    "for i in tqdm(range(len(test_df))):\n",
    "    try:\n",
    "        x_test_embeddings.append(read_word_embedding(test_df['Text'].iloc[i]))\n",
    "    except:\n",
    "        print(i)\n",
    "        break"
   ]
  },
  {
   "cell_type": "code",
   "execution_count": 22,
   "id": "6479d4ad",
   "metadata": {
    "execution": {
     "iopub.execute_input": "2022-10-20T18:10:12.413615Z",
     "iopub.status.busy": "2022-10-20T18:10:12.413040Z",
     "iopub.status.idle": "2022-10-20T18:10:12.433531Z",
     "shell.execute_reply": "2022-10-20T18:10:12.432118Z"
    },
    "papermill": {
     "duration": 0.221465,
     "end_time": "2022-10-20T18:10:12.436121",
     "exception": false,
     "start_time": "2022-10-20T18:10:12.214656",
     "status": "completed"
    },
    "tags": []
   },
   "outputs": [],
   "source": [
    "x_test_embeddings=np.array(x_test_embeddings)\n",
    "y_test_intensity=np.array(list(test_df['Intensity'].values))\n",
    "y_test_actual_label=np.array(list(test_df['label'].values))"
   ]
  },
  {
   "cell_type": "code",
   "execution_count": 23,
   "id": "f271c4f8",
   "metadata": {
    "execution": {
     "iopub.execute_input": "2022-10-20T18:10:12.895981Z",
     "iopub.status.busy": "2022-10-20T18:10:12.895614Z",
     "iopub.status.idle": "2022-10-20T18:10:59.689168Z",
     "shell.execute_reply": "2022-10-20T18:10:59.687899Z"
    },
    "papermill": {
     "duration": 46.993878,
     "end_time": "2022-10-20T18:10:59.691828",
     "exception": false,
     "start_time": "2022-10-20T18:10:12.697950",
     "status": "completed"
    },
    "tags": []
   },
   "outputs": [
    {
     "name": "stderr",
     "output_type": "stream",
     "text": [
      "100%|██████████| 4337/4337 [00:46<00:00, 92.70it/s]\n"
     ]
    }
   ],
   "source": [
    "x_test_embeddings_new=[]\n",
    "for i in tqdm(new_test_sents):\n",
    "    try:\n",
    "        x_test_embeddings_new.append(read_word_embedding(i))\n",
    "    except:\n",
    "        print(i)\n",
    "        break"
   ]
  },
  {
   "cell_type": "markdown",
   "id": "2b4fbc98",
   "metadata": {
    "papermill": {
     "duration": 0.143746,
     "end_time": "2022-10-20T18:10:59.982481",
     "exception": false,
     "start_time": "2022-10-20T18:10:59.838735",
     "status": "completed"
    },
    "tags": []
   },
   "source": [
    "# Linear Regression"
   ]
  },
  {
   "cell_type": "code",
   "execution_count": 24,
   "id": "ce4ffa4f",
   "metadata": {
    "execution": {
     "iopub.execute_input": "2022-10-20T18:11:00.270648Z",
     "iopub.status.busy": "2022-10-20T18:11:00.270239Z",
     "iopub.status.idle": "2022-10-20T18:11:00.407259Z",
     "shell.execute_reply": "2022-10-20T18:11:00.406268Z"
    },
    "papermill": {
     "duration": 0.28476,
     "end_time": "2022-10-20T18:11:00.409546",
     "exception": false,
     "start_time": "2022-10-20T18:11:00.124786",
     "status": "completed"
    },
    "tags": []
   },
   "outputs": [],
   "source": [
    "from sklearn.linear_model import LinearRegression\n",
    "from sklearn.model_selection import cross_val_score"
   ]
  },
  {
   "cell_type": "code",
   "execution_count": 25,
   "id": "4d384320",
   "metadata": {
    "execution": {
     "iopub.execute_input": "2022-10-20T18:11:00.698972Z",
     "iopub.status.busy": "2022-10-20T18:11:00.698292Z",
     "iopub.status.idle": "2022-10-20T18:11:01.726840Z",
     "shell.execute_reply": "2022-10-20T18:11:01.725407Z"
    },
    "papermill": {
     "duration": 1.178104,
     "end_time": "2022-10-20T18:11:01.731205",
     "exception": false,
     "start_time": "2022-10-20T18:11:00.553101",
     "status": "completed"
    },
    "tags": []
   },
   "outputs": [],
   "source": [
    "linear_reg = LinearRegression().fit(x_train_embeddings, y_train_intensity)"
   ]
  },
  {
   "cell_type": "code",
   "execution_count": 26,
   "id": "0bc6e109",
   "metadata": {
    "execution": {
     "iopub.execute_input": "2022-10-20T18:11:02.098867Z",
     "iopub.status.busy": "2022-10-20T18:11:02.098502Z",
     "iopub.status.idle": "2022-10-20T18:11:02.167250Z",
     "shell.execute_reply": "2022-10-20T18:11:02.165765Z"
    },
    "papermill": {
     "duration": 0.216354,
     "end_time": "2022-10-20T18:11:02.170745",
     "exception": false,
     "start_time": "2022-10-20T18:11:01.954391",
     "status": "completed"
    },
    "tags": []
   },
   "outputs": [],
   "source": [
    "y_test_pred = linear_reg.predict(x_test_embeddings)\n",
    "y_test_new_pred = linear_reg.predict(x_test_embeddings_new)\n",
    "y_test_pred_classes=['clickbait' if i>=0.5 else 'no-clickbait' for i in y_test_pred]\n",
    "y_test_pred_classes_new=['clickbait' if i>=0.5 else 'no-clickbait' for i in y_test_new_pred]\n",
    "y_test_actual_classes=list(test_df['label'].values)"
   ]
  },
  {
   "cell_type": "code",
   "execution_count": 27,
   "id": "d9a96257",
   "metadata": {
    "execution": {
     "iopub.execute_input": "2022-10-20T18:11:02.516844Z",
     "iopub.status.busy": "2022-10-20T18:11:02.516482Z",
     "iopub.status.idle": "2022-10-20T18:11:02.521365Z",
     "shell.execute_reply": "2022-10-20T18:11:02.520420Z"
    },
    "papermill": {
     "duration": 0.152891,
     "end_time": "2022-10-20T18:11:02.523422",
     "exception": false,
     "start_time": "2022-10-20T18:11:02.370531",
     "status": "completed"
    },
    "tags": []
   },
   "outputs": [],
   "source": [
    "actual_sents=list(test_df['Text'].values)"
   ]
  },
  {
   "cell_type": "code",
   "execution_count": 28,
   "id": "e1595ae4",
   "metadata": {
    "execution": {
     "iopub.execute_input": "2022-10-20T18:11:02.872112Z",
     "iopub.status.busy": "2022-10-20T18:11:02.871709Z",
     "iopub.status.idle": "2022-10-20T18:11:02.885944Z",
     "shell.execute_reply": "2022-10-20T18:11:02.884886Z"
    },
    "papermill": {
     "duration": 0.17838,
     "end_time": "2022-10-20T18:11:02.888312",
     "exception": false,
     "start_time": "2022-10-20T18:11:02.709932",
     "status": "completed"
    },
    "tags": []
   },
   "outputs": [],
   "source": [
    "out_df=pd.DataFrame(list(zip(actual_sents,y_test_intensity,y_test_pred,new_test_sents,y_test_new_pred)),columns=['actual_sentence','actual_intensity','predicted_intensity','modified_sentence','modified_predicted_intensity'])"
   ]
  },
  {
   "cell_type": "code",
   "execution_count": 29,
   "id": "6fc1fe29",
   "metadata": {
    "execution": {
     "iopub.execute_input": "2022-10-20T18:11:03.196550Z",
     "iopub.status.busy": "2022-10-20T18:11:03.195868Z",
     "iopub.status.idle": "2022-10-20T18:11:03.201319Z",
     "shell.execute_reply": "2022-10-20T18:11:03.200423Z"
    },
    "papermill": {
     "duration": 0.1671,
     "end_time": "2022-10-20T18:11:03.203353",
     "exception": false,
     "start_time": "2022-10-20T18:11:03.036253",
     "status": "completed"
    },
    "tags": []
   },
   "outputs": [],
   "source": [
    "# out_df.head()"
   ]
  },
  {
   "cell_type": "code",
   "execution_count": 30,
   "id": "7d35aa3c",
   "metadata": {
    "execution": {
     "iopub.execute_input": "2022-10-20T18:11:03.492179Z",
     "iopub.status.busy": "2022-10-20T18:11:03.491194Z",
     "iopub.status.idle": "2022-10-20T18:11:03.530036Z",
     "shell.execute_reply": "2022-10-20T18:11:03.528907Z"
    },
    "papermill": {
     "duration": 0.18531,
     "end_time": "2022-10-20T18:11:03.532496",
     "exception": false,
     "start_time": "2022-10-20T18:11:03.347186",
     "status": "completed"
    },
    "tags": []
   },
   "outputs": [],
   "source": [
    "out_df.to_csv('./Test_Results_LR.csv')"
   ]
  },
  {
   "cell_type": "code",
   "execution_count": 31,
   "id": "ddba3710",
   "metadata": {
    "execution": {
     "iopub.execute_input": "2022-10-20T18:11:03.826628Z",
     "iopub.status.busy": "2022-10-20T18:11:03.825654Z",
     "iopub.status.idle": "2022-10-20T18:11:03.830756Z",
     "shell.execute_reply": "2022-10-20T18:11:03.829803Z"
    },
    "papermill": {
     "duration": 0.150898,
     "end_time": "2022-10-20T18:11:03.832789",
     "exception": false,
     "start_time": "2022-10-20T18:11:03.681891",
     "status": "completed"
    },
    "tags": []
   },
   "outputs": [],
   "source": [
    "from sklearn.metrics import median_absolute_error,mean_squared_error, f1_score, accuracy_score"
   ]
  },
  {
   "cell_type": "code",
   "execution_count": 32,
   "id": "2de3fe91",
   "metadata": {
    "execution": {
     "iopub.execute_input": "2022-10-20T18:11:04.122284Z",
     "iopub.status.busy": "2022-10-20T18:11:04.121921Z",
     "iopub.status.idle": "2022-10-20T18:11:04.127999Z",
     "shell.execute_reply": "2022-10-20T18:11:04.126944Z"
    },
    "papermill": {
     "duration": 0.152437,
     "end_time": "2022-10-20T18:11:04.129910",
     "exception": false,
     "start_time": "2022-10-20T18:11:03.977473",
     "status": "completed"
    },
    "tags": []
   },
   "outputs": [],
   "source": [
    "def results(y_true,y_pred,y_actual_classes,y_pred_classes):\n",
    "    Medae = median_absolute_error(y_true,y_pred)\n",
    "    mse = mean_squared_error(y_true,y_pred) #default=True\n",
    "    rmse = mean_squared_error(y_true,y_pred,squared=False)\n",
    "    accuracy=accuracy_score(y_actual_classes,y_pred_classes)\n",
    "    f1=f1_score(y_actual_classes,y_pred_classes,pos_label='clickbait')\n",
    "    \n",
    "    print(\"MedAE:\",Medae)\n",
    "    print(\"MSE:\",mse)\n",
    "    print(\"RMSE:\",rmse)\n",
    "    print(\"Accuracy:\",accuracy)\n",
    "    print(\"f1-score:\",f1)"
   ]
  },
  {
   "cell_type": "code",
   "execution_count": 33,
   "id": "6b384ae9",
   "metadata": {
    "execution": {
     "iopub.execute_input": "2022-10-20T18:11:04.416758Z",
     "iopub.status.busy": "2022-10-20T18:11:04.415056Z",
     "iopub.status.idle": "2022-10-20T18:11:04.450634Z",
     "shell.execute_reply": "2022-10-20T18:11:04.449213Z"
    },
    "papermill": {
     "duration": 0.181813,
     "end_time": "2022-10-20T18:11:04.452866",
     "exception": false,
     "start_time": "2022-10-20T18:11:04.271053",
     "status": "completed"
    },
    "tags": []
   },
   "outputs": [
    {
     "name": "stdout",
     "output_type": "stream",
     "text": [
      "Without Masking/Replacing Words\n",
      "\n",
      "MedAE: 0.11189683275068357\n",
      "MSE: 0.028805320712794416\n",
      "RMSE: 0.169721303061208\n",
      "Accuracy: 0.853816001844593\n",
      "f1-score: 0.6649048625792813\n"
     ]
    }
   ],
   "source": [
    "print('Without Masking/Replacing Words\\n')\n",
    "results(y_test_intensity,y_test_pred,y_test_actual_classes,y_test_pred_classes)"
   ]
  },
  {
   "cell_type": "code",
   "execution_count": 34,
   "id": "e362bafa",
   "metadata": {
    "execution": {
     "iopub.execute_input": "2022-10-20T18:11:04.745518Z",
     "iopub.status.busy": "2022-10-20T18:11:04.744468Z",
     "iopub.status.idle": "2022-10-20T18:11:04.778737Z",
     "shell.execute_reply": "2022-10-20T18:11:04.777446Z"
    },
    "papermill": {
     "duration": 0.18009,
     "end_time": "2022-10-20T18:11:04.780972",
     "exception": false,
     "start_time": "2022-10-20T18:11:04.600882",
     "status": "completed"
    },
    "tags": []
   },
   "outputs": [
    {
     "name": "stdout",
     "output_type": "stream",
     "text": [
      "With Masking/Replacing Words\n",
      "\n",
      "MedAE: 0.11327641805679688\n",
      "MSE: 0.031164582885681965\n",
      "RMSE: 0.1765349338960478\n",
      "Accuracy: 0.8390592575513027\n",
      "f1-score: 0.5983889528193327\n"
     ]
    }
   ],
   "source": [
    "print('With Masking/Replacing Words\\n')\n",
    "results(y_test_intensity,y_test_new_pred,y_test_actual_classes,y_test_pred_classes_new)"
   ]
  },
  {
   "cell_type": "markdown",
   "id": "d9f5e883",
   "metadata": {
    "papermill": {
     "duration": 0.192062,
     "end_time": "2022-10-20T18:11:05.117861",
     "exception": false,
     "start_time": "2022-10-20T18:11:04.925799",
     "status": "completed"
    },
    "tags": []
   },
   "source": [
    "# Ridge Regression"
   ]
  },
  {
   "cell_type": "code",
   "execution_count": 35,
   "id": "cd68ce9c",
   "metadata": {
    "execution": {
     "iopub.execute_input": "2022-10-20T18:11:05.415477Z",
     "iopub.status.busy": "2022-10-20T18:11:05.414347Z",
     "iopub.status.idle": "2022-10-20T18:11:05.622898Z",
     "shell.execute_reply": "2022-10-20T18:11:05.621170Z"
    },
    "papermill": {
     "duration": 0.366002,
     "end_time": "2022-10-20T18:11:05.626970",
     "exception": false,
     "start_time": "2022-10-20T18:11:05.260968",
     "status": "completed"
    },
    "tags": []
   },
   "outputs": [],
   "source": [
    "from sklearn.linear_model import Ridge\n",
    "clf = Ridge(alpha=2).fit(x_train_embeddings, y_train_intensity)"
   ]
  },
  {
   "cell_type": "code",
   "execution_count": 36,
   "id": "4379b3f2",
   "metadata": {
    "execution": {
     "iopub.execute_input": "2022-10-20T18:11:06.006459Z",
     "iopub.status.busy": "2022-10-20T18:11:06.006070Z",
     "iopub.status.idle": "2022-10-20T18:11:06.072150Z",
     "shell.execute_reply": "2022-10-20T18:11:06.070765Z"
    },
    "papermill": {
     "duration": 0.212986,
     "end_time": "2022-10-20T18:11:06.075685",
     "exception": false,
     "start_time": "2022-10-20T18:11:05.862699",
     "status": "completed"
    },
    "tags": []
   },
   "outputs": [],
   "source": [
    "y_test_pred = clf.predict(x_test_embeddings)\n",
    "y_test_new_pred = clf.predict(x_test_embeddings_new)\n",
    "y_test_pred_classes=['clickbait' if i>=0.5 else 'no-clickbait' for i in y_test_pred]\n",
    "y_test_pred_classes_new=['clickbait' if i>=0.5 else 'no-clickbait' for i in y_test_new_pred]\n",
    "y_test_actual_classes=list(test_df['label'].values)"
   ]
  },
  {
   "cell_type": "code",
   "execution_count": 37,
   "id": "736eebfb",
   "metadata": {
    "execution": {
     "iopub.execute_input": "2022-10-20T18:11:06.426707Z",
     "iopub.status.busy": "2022-10-20T18:11:06.426025Z",
     "iopub.status.idle": "2022-10-20T18:11:06.461704Z",
     "shell.execute_reply": "2022-10-20T18:11:06.460787Z"
    },
    "papermill": {
     "duration": 0.186877,
     "end_time": "2022-10-20T18:11:06.463724",
     "exception": false,
     "start_time": "2022-10-20T18:11:06.276847",
     "status": "completed"
    },
    "tags": []
   },
   "outputs": [
    {
     "name": "stdout",
     "output_type": "stream",
     "text": [
      "Without Masking/Replacing Words\n",
      "\n",
      "MedAE: 0.11202437877655025\n",
      "MSE: 0.028756566829425873\n",
      "RMSE: 0.16957761299601393\n",
      "Accuracy: 0.8540465759741757\n",
      "f1-score: 0.6652564780539397\n"
     ]
    }
   ],
   "source": [
    "print('Without Masking/Replacing Words\\n')\n",
    "results(y_test_intensity,y_test_pred,y_test_actual_classes,y_test_pred_classes)"
   ]
  },
  {
   "cell_type": "code",
   "execution_count": 38,
   "id": "a4b994e7",
   "metadata": {
    "execution": {
     "iopub.execute_input": "2022-10-20T18:11:06.864512Z",
     "iopub.status.busy": "2022-10-20T18:11:06.863886Z",
     "iopub.status.idle": "2022-10-20T18:11:06.924650Z",
     "shell.execute_reply": "2022-10-20T18:11:06.923680Z"
    },
    "papermill": {
     "duration": 0.298239,
     "end_time": "2022-10-20T18:11:06.927678",
     "exception": false,
     "start_time": "2022-10-20T18:11:06.629439",
     "status": "completed"
    },
    "tags": []
   },
   "outputs": [
    {
     "name": "stdout",
     "output_type": "stream",
     "text": [
      "With Masking/Replacing Words\n",
      "\n",
      "MedAE: 0.11322512825996765\n",
      "MSE: 0.031114110569236113\n",
      "RMSE: 0.1763919231972828\n",
      "Accuracy: 0.8392898316808854\n",
      "f1-score: 0.598270893371758\n"
     ]
    }
   ],
   "source": [
    "print('With Masking/Replacing Words\\n')\n",
    "results(y_test_intensity,y_test_new_pred,y_test_actual_classes,y_test_pred_classes_new)"
   ]
  },
  {
   "cell_type": "markdown",
   "id": "444bffb7",
   "metadata": {
    "papermill": {
     "duration": 0.30353,
     "end_time": "2022-10-20T18:11:07.459660",
     "exception": false,
     "start_time": "2022-10-20T18:11:07.156130",
     "status": "completed"
    },
    "tags": []
   },
   "source": [
    "# Gradient Boosted Regression"
   ]
  },
  {
   "cell_type": "code",
   "execution_count": 39,
   "id": "0d3e8500",
   "metadata": {
    "execution": {
     "iopub.execute_input": "2022-10-20T18:11:08.240591Z",
     "iopub.status.busy": "2022-10-20T18:11:08.240195Z",
     "iopub.status.idle": "2022-10-20T18:18:44.122310Z",
     "shell.execute_reply": "2022-10-20T18:18:44.120700Z"
    },
    "papermill": {
     "duration": 456.204241,
     "end_time": "2022-10-20T18:18:44.125440",
     "exception": false,
     "start_time": "2022-10-20T18:11:07.921199",
     "status": "completed"
    },
    "tags": []
   },
   "outputs": [],
   "source": [
    "from sklearn.ensemble import GradientBoostingRegressor\n",
    "clf = GradientBoostingRegressor().fit(x_train_embeddings, y_train_intensity)"
   ]
  },
  {
   "cell_type": "code",
   "execution_count": 40,
   "id": "b070ac1a",
   "metadata": {
    "execution": {
     "iopub.execute_input": "2022-10-20T18:18:44.429948Z",
     "iopub.status.busy": "2022-10-20T18:18:44.429527Z",
     "iopub.status.idle": "2022-10-20T18:18:44.481431Z",
     "shell.execute_reply": "2022-10-20T18:18:44.480427Z"
    },
    "papermill": {
     "duration": 0.203989,
     "end_time": "2022-10-20T18:18:44.484426",
     "exception": false,
     "start_time": "2022-10-20T18:18:44.280437",
     "status": "completed"
    },
    "tags": []
   },
   "outputs": [],
   "source": [
    "y_test_pred = clf.predict(x_test_embeddings)\n",
    "y_test_new_pred = clf.predict(x_test_embeddings_new)\n",
    "y_test_pred_classes=['clickbait' if i>=0.5 else 'no-clickbait' for i in y_test_pred]\n",
    "y_test_pred_classes_new=['clickbait' if i>=0.5 else 'no-clickbait' for i in y_test_new_pred]\n",
    "y_test_actual_classes=list(test_df['label'].values)"
   ]
  },
  {
   "cell_type": "code",
   "execution_count": 41,
   "id": "9292cc25",
   "metadata": {
    "execution": {
     "iopub.execute_input": "2022-10-20T18:18:44.780598Z",
     "iopub.status.busy": "2022-10-20T18:18:44.780219Z",
     "iopub.status.idle": "2022-10-20T18:18:44.817014Z",
     "shell.execute_reply": "2022-10-20T18:18:44.815569Z"
    },
    "papermill": {
     "duration": 0.185296,
     "end_time": "2022-10-20T18:18:44.819247",
     "exception": false,
     "start_time": "2022-10-20T18:18:44.633951",
     "status": "completed"
    },
    "tags": []
   },
   "outputs": [
    {
     "name": "stdout",
     "output_type": "stream",
     "text": [
      "Without Masking/Replacing Words\n",
      "\n",
      "MedAE: 0.11821696720126305\n",
      "MSE: 0.031683247465642064\n",
      "RMSE: 0.17799788612689216\n",
      "Accuracy: 0.8360617938667282\n",
      "f1-score: 0.6034578918014502\n"
     ]
    }
   ],
   "source": [
    "print('Without Masking/Replacing Words\\n')\n",
    "results(y_test_intensity,y_test_pred,y_test_actual_classes,y_test_pred_classes)"
   ]
  },
  {
   "cell_type": "code",
   "execution_count": 42,
   "id": "1a12fbc9",
   "metadata": {
    "execution": {
     "iopub.execute_input": "2022-10-20T18:18:45.119747Z",
     "iopub.status.busy": "2022-10-20T18:18:45.119340Z",
     "iopub.status.idle": "2022-10-20T18:18:45.154080Z",
     "shell.execute_reply": "2022-10-20T18:18:45.152766Z"
    },
    "papermill": {
     "duration": 0.184558,
     "end_time": "2022-10-20T18:18:45.156098",
     "exception": false,
     "start_time": "2022-10-20T18:18:44.971540",
     "status": "completed"
    },
    "tags": []
   },
   "outputs": [
    {
     "name": "stdout",
     "output_type": "stream",
     "text": [
      "With Masking/Replacing Words\n",
      "\n",
      "MedAE: 0.11891124131419625\n",
      "MSE: 0.034455537403084206\n",
      "RMSE: 0.18562202833468933\n",
      "Accuracy: 0.8222273460917685\n",
      "f1-score: 0.5335753176043557\n"
     ]
    }
   ],
   "source": [
    "print('With Masking/Replacing Words\\n')\n",
    "results(y_test_intensity,y_test_new_pred,y_test_actual_classes,y_test_pred_classes_new)"
   ]
  },
  {
   "cell_type": "markdown",
   "id": "31a08efe",
   "metadata": {
    "papermill": {
     "duration": 0.145875,
     "end_time": "2022-10-20T18:18:45.458082",
     "exception": false,
     "start_time": "2022-10-20T18:18:45.312207",
     "status": "completed"
    },
    "tags": []
   },
   "source": [
    "# Random Forest Regression"
   ]
  },
  {
   "cell_type": "code",
   "execution_count": 43,
   "id": "d6bc9299",
   "metadata": {
    "execution": {
     "iopub.execute_input": "2022-10-20T18:18:45.800157Z",
     "iopub.status.busy": "2022-10-20T18:18:45.799159Z",
     "iopub.status.idle": "2022-10-20T18:23:16.045308Z",
     "shell.execute_reply": "2022-10-20T18:23:16.044223Z"
    },
    "papermill": {
     "duration": 270.445961,
     "end_time": "2022-10-20T18:23:16.048922",
     "exception": false,
     "start_time": "2022-10-20T18:18:45.602961",
     "status": "completed"
    },
    "tags": []
   },
   "outputs": [],
   "source": [
    "from sklearn.ensemble import RandomForestRegressor\n",
    "clf= RandomForestRegressor(max_depth=3, random_state=0).fit(x_train_embeddings, y_train_intensity)"
   ]
  },
  {
   "cell_type": "code",
   "execution_count": 44,
   "id": "7b1101fd",
   "metadata": {
    "execution": {
     "iopub.execute_input": "2022-10-20T18:23:16.491754Z",
     "iopub.status.busy": "2022-10-20T18:23:16.491356Z",
     "iopub.status.idle": "2022-10-20T18:23:16.584639Z",
     "shell.execute_reply": "2022-10-20T18:23:16.583607Z"
    },
    "papermill": {
     "duration": 0.313205,
     "end_time": "2022-10-20T18:23:16.587186",
     "exception": false,
     "start_time": "2022-10-20T18:23:16.273981",
     "status": "completed"
    },
    "tags": []
   },
   "outputs": [],
   "source": [
    "y_test_pred = clf.predict(x_test_embeddings)\n",
    "y_test_new_pred = clf.predict(x_test_embeddings_new)\n",
    "y_test_pred_classes=['clickbait' if i>=0.5 else 'no-clickbait' for i in y_test_pred]\n",
    "y_test_pred_classes_new=['clickbait' if i>=0.5 else 'no-clickbait' for i in y_test_new_pred]\n",
    "y_test_actual_classes=list(test_df['label'].values)"
   ]
  },
  {
   "cell_type": "code",
   "execution_count": 45,
   "id": "7535baf3",
   "metadata": {
    "execution": {
     "iopub.execute_input": "2022-10-20T18:23:16.878337Z",
     "iopub.status.busy": "2022-10-20T18:23:16.877982Z",
     "iopub.status.idle": "2022-10-20T18:23:16.912239Z",
     "shell.execute_reply": "2022-10-20T18:23:16.911316Z"
    },
    "papermill": {
     "duration": 0.181822,
     "end_time": "2022-10-20T18:23:16.914454",
     "exception": false,
     "start_time": "2022-10-20T18:23:16.732632",
     "status": "completed"
    },
    "tags": []
   },
   "outputs": [
    {
     "name": "stdout",
     "output_type": "stream",
     "text": [
      "Without Masking/Replacing Words\n",
      "\n",
      "MedAE: 0.14852186742304518\n",
      "MSE: 0.04480462448842558\n",
      "RMSE: 0.21167102893033232\n",
      "Accuracy: 0.7809545768964722\n",
      "f1-score: 0.32142857142857145\n"
     ]
    }
   ],
   "source": [
    "print('Without Masking/Replacing Words\\n')\n",
    "results(y_test_intensity,y_test_pred,y_test_actual_classes,y_test_pred_classes)"
   ]
  },
  {
   "cell_type": "code",
   "execution_count": 46,
   "id": "f28b57e5",
   "metadata": {
    "execution": {
     "iopub.execute_input": "2022-10-20T18:23:17.205798Z",
     "iopub.status.busy": "2022-10-20T18:23:17.204957Z",
     "iopub.status.idle": "2022-10-20T18:23:17.238006Z",
     "shell.execute_reply": "2022-10-20T18:23:17.236812Z"
    },
    "papermill": {
     "duration": 0.178908,
     "end_time": "2022-10-20T18:23:17.239872",
     "exception": false,
     "start_time": "2022-10-20T18:23:17.060964",
     "status": "completed"
    },
    "tags": []
   },
   "outputs": [
    {
     "name": "stdout",
     "output_type": "stream",
     "text": [
      "With Masking/Replacing Words\n",
      "\n",
      "MedAE: 0.14785918869599707\n",
      "MSE: 0.046903241780818804\n",
      "RMSE: 0.21657156272423858\n",
      "Accuracy: 0.7874106525247867\n",
      "f1-score: 0.37021857923497264\n"
     ]
    }
   ],
   "source": [
    "print('With Masking/Replacing Words\\n')\n",
    "results(y_test_intensity,y_test_new_pred,y_test_actual_classes,y_test_pred_classes_new)"
   ]
  },
  {
   "cell_type": "markdown",
   "id": "064f5452",
   "metadata": {
    "papermill": {
     "duration": 0.144832,
     "end_time": "2022-10-20T18:23:17.525602",
     "exception": false,
     "start_time": "2022-10-20T18:23:17.380770",
     "status": "completed"
    },
    "tags": []
   },
   "source": [
    "# Adaboost Regression"
   ]
  },
  {
   "cell_type": "code",
   "execution_count": 47,
   "id": "bd635829",
   "metadata": {
    "execution": {
     "iopub.execute_input": "2022-10-20T18:23:17.876580Z",
     "iopub.status.busy": "2022-10-20T18:23:17.876198Z",
     "iopub.status.idle": "2022-10-20T18:27:43.879138Z",
     "shell.execute_reply": "2022-10-20T18:27:43.877902Z"
    },
    "papermill": {
     "duration": 266.151158,
     "end_time": "2022-10-20T18:27:43.882014",
     "exception": false,
     "start_time": "2022-10-20T18:23:17.730856",
     "status": "completed"
    },
    "tags": []
   },
   "outputs": [],
   "source": [
    "from sklearn.ensemble import AdaBoostRegressor\n",
    "clf = AdaBoostRegressor(random_state=0, n_estimators=100).fit(x_train_embeddings, y_train_intensity)"
   ]
  },
  {
   "cell_type": "code",
   "execution_count": 48,
   "id": "9eff1cae",
   "metadata": {
    "execution": {
     "iopub.execute_input": "2022-10-20T18:27:44.172597Z",
     "iopub.status.busy": "2022-10-20T18:27:44.172244Z",
     "iopub.status.idle": "2022-10-20T18:27:44.683804Z",
     "shell.execute_reply": "2022-10-20T18:27:44.682782Z"
    },
    "papermill": {
     "duration": 0.65785,
     "end_time": "2022-10-20T18:27:44.686235",
     "exception": false,
     "start_time": "2022-10-20T18:27:44.028385",
     "status": "completed"
    },
    "tags": []
   },
   "outputs": [],
   "source": [
    "y_test_pred = clf.predict(x_test_embeddings)\n",
    "y_test_new_pred = clf.predict(x_test_embeddings_new)\n",
    "y_test_pred_classes=['clickbait' if i>=0.5 else 'no-clickbait' for i in y_test_pred]\n",
    "y_test_pred_classes_new=['clickbait' if i>=0.5 else 'no-clickbait' for i in y_test_new_pred]\n",
    "y_test_actual_classes=list(test_df['label'].values)"
   ]
  },
  {
   "cell_type": "code",
   "execution_count": 49,
   "id": "5f0cc361",
   "metadata": {
    "execution": {
     "iopub.execute_input": "2022-10-20T18:27:44.976001Z",
     "iopub.status.busy": "2022-10-20T18:27:44.975649Z",
     "iopub.status.idle": "2022-10-20T18:27:45.010000Z",
     "shell.execute_reply": "2022-10-20T18:27:45.008440Z"
    },
    "papermill": {
     "duration": 0.181479,
     "end_time": "2022-10-20T18:27:45.012122",
     "exception": false,
     "start_time": "2022-10-20T18:27:44.830643",
     "status": "completed"
    },
    "tags": []
   },
   "outputs": [
    {
     "name": "stdout",
     "output_type": "stream",
     "text": [
      "Without Masking/Replacing Words\n",
      "\n",
      "MedAE: 0.16793908003634422\n",
      "MSE: 0.042562842303200885\n",
      "RMSE: 0.20630763995354337\n",
      "Accuracy: 0.8319114595342403\n",
      "f1-score: 0.5683836589698046\n"
     ]
    }
   ],
   "source": [
    "print('Without Masking/Replacing Words\\n')\n",
    "results(y_test_intensity,y_test_pred,y_test_actual_classes,y_test_pred_classes)"
   ]
  },
  {
   "cell_type": "code",
   "execution_count": 50,
   "id": "3fbdf43e",
   "metadata": {
    "execution": {
     "iopub.execute_input": "2022-10-20T18:27:45.316532Z",
     "iopub.status.busy": "2022-10-20T18:27:45.314755Z",
     "iopub.status.idle": "2022-10-20T18:27:45.350161Z",
     "shell.execute_reply": "2022-10-20T18:27:45.349027Z"
    },
    "papermill": {
     "duration": 0.19665,
     "end_time": "2022-10-20T18:27:45.353187",
     "exception": false,
     "start_time": "2022-10-20T18:27:45.156537",
     "status": "completed"
    },
    "tags": []
   },
   "outputs": [
    {
     "name": "stdout",
     "output_type": "stream",
     "text": [
      "With Masking/Replacing Words\n",
      "\n",
      "MedAE: 0.1687812616844537\n",
      "MSE: 0.04312457423387685\n",
      "RMSE: 0.20766457144606262\n",
      "Accuracy: 0.8201521789255246\n",
      "f1-score: 0.5088161209068011\n"
     ]
    }
   ],
   "source": [
    "print('With Masking/Replacing Words\\n')\n",
    "results(y_test_intensity,y_test_new_pred,y_test_actual_classes,y_test_pred_classes_new)"
   ]
  },
  {
   "cell_type": "code",
   "execution_count": null,
   "id": "f19f1883",
   "metadata": {
    "papermill": {
     "duration": 0.143023,
     "end_time": "2022-10-20T18:27:45.640573",
     "exception": false,
     "start_time": "2022-10-20T18:27:45.497550",
     "status": "completed"
    },
    "tags": []
   },
   "outputs": [],
   "source": []
  },
  {
   "cell_type": "code",
   "execution_count": null,
   "id": "88ee62b3",
   "metadata": {
    "papermill": {
     "duration": 0.143216,
     "end_time": "2022-10-20T18:27:45.927439",
     "exception": false,
     "start_time": "2022-10-20T18:27:45.784223",
     "status": "completed"
    },
    "tags": []
   },
   "outputs": [],
   "source": []
  }
 ],
 "metadata": {
  "kernelspec": {
   "display_name": "Python 3",
   "language": "python",
   "name": "python3"
  },
  "language_info": {
   "codemirror_mode": {
    "name": "ipython",
    "version": 3
   },
   "file_extension": ".py",
   "mimetype": "text/x-python",
   "name": "python",
   "nbconvert_exporter": "python",
   "pygments_lexer": "ipython3",
   "version": "3.7.12"
  },
  "papermill": {
   "default_parameters": {},
   "duration": 1453.291443,
   "end_time": "2022-10-20T18:27:49.405709",
   "environment_variables": {},
   "exception": null,
   "input_path": "__notebook__.ipynb",
   "output_path": "__notebook__.ipynb",
   "parameters": {},
   "start_time": "2022-10-20T18:03:36.114266",
   "version": "2.3.4"
  },
  "widgets": {
   "application/vnd.jupyter.widget-state+json": {
    "state": {
     "0645852cf9cb4f60b6fe8a28a368e37c": {
      "model_module": "@jupyter-widgets/controls",
      "model_module_version": "1.5.0",
      "model_name": "ProgressStyleModel",
      "state": {
       "_model_module": "@jupyter-widgets/controls",
       "_model_module_version": "1.5.0",
       "_model_name": "ProgressStyleModel",
       "_view_count": null,
       "_view_module": "@jupyter-widgets/base",
       "_view_module_version": "1.2.0",
       "_view_name": "StyleView",
       "bar_color": null,
       "description_width": ""
      }
     },
     "0786a8dafe5d4e5487a5cb35e6d9f6f8": {
      "model_module": "@jupyter-widgets/base",
      "model_module_version": "1.2.0",
      "model_name": "LayoutModel",
      "state": {
       "_model_module": "@jupyter-widgets/base",
       "_model_module_version": "1.2.0",
       "_model_name": "LayoutModel",
       "_view_count": null,
       "_view_module": "@jupyter-widgets/base",
       "_view_module_version": "1.2.0",
       "_view_name": "LayoutView",
       "align_content": null,
       "align_items": null,
       "align_self": null,
       "border": null,
       "bottom": null,
       "display": null,
       "flex": null,
       "flex_flow": null,
       "grid_area": null,
       "grid_auto_columns": null,
       "grid_auto_flow": null,
       "grid_auto_rows": null,
       "grid_column": null,
       "grid_gap": null,
       "grid_row": null,
       "grid_template_areas": null,
       "grid_template_columns": null,
       "grid_template_rows": null,
       "height": null,
       "justify_content": null,
       "justify_items": null,
       "left": null,
       "margin": null,
       "max_height": null,
       "max_width": null,
       "min_height": null,
       "min_width": null,
       "object_fit": null,
       "object_position": null,
       "order": null,
       "overflow": null,
       "overflow_x": null,
       "overflow_y": null,
       "padding": null,
       "right": null,
       "top": null,
       "visibility": null,
       "width": null
      }
     },
     "07c24549fa4145e28fbcd13e99522c1b": {
      "model_module": "@jupyter-widgets/base",
      "model_module_version": "1.2.0",
      "model_name": "LayoutModel",
      "state": {
       "_model_module": "@jupyter-widgets/base",
       "_model_module_version": "1.2.0",
       "_model_name": "LayoutModel",
       "_view_count": null,
       "_view_module": "@jupyter-widgets/base",
       "_view_module_version": "1.2.0",
       "_view_name": "LayoutView",
       "align_content": null,
       "align_items": null,
       "align_self": null,
       "border": null,
       "bottom": null,
       "display": null,
       "flex": null,
       "flex_flow": null,
       "grid_area": null,
       "grid_auto_columns": null,
       "grid_auto_flow": null,
       "grid_auto_rows": null,
       "grid_column": null,
       "grid_gap": null,
       "grid_row": null,
       "grid_template_areas": null,
       "grid_template_columns": null,
       "grid_template_rows": null,
       "height": null,
       "justify_content": null,
       "justify_items": null,
       "left": null,
       "margin": null,
       "max_height": null,
       "max_width": null,
       "min_height": null,
       "min_width": null,
       "object_fit": null,
       "object_position": null,
       "order": null,
       "overflow": null,
       "overflow_x": null,
       "overflow_y": null,
       "padding": null,
       "right": null,
       "top": null,
       "visibility": null,
       "width": null
      }
     },
     "0aa082b6900e48ebab210dc2b7cc1868": {
      "model_module": "@jupyter-widgets/base",
      "model_module_version": "1.2.0",
      "model_name": "LayoutModel",
      "state": {
       "_model_module": "@jupyter-widgets/base",
       "_model_module_version": "1.2.0",
       "_model_name": "LayoutModel",
       "_view_count": null,
       "_view_module": "@jupyter-widgets/base",
       "_view_module_version": "1.2.0",
       "_view_name": "LayoutView",
       "align_content": null,
       "align_items": null,
       "align_self": null,
       "border": null,
       "bottom": null,
       "display": null,
       "flex": null,
       "flex_flow": null,
       "grid_area": null,
       "grid_auto_columns": null,
       "grid_auto_flow": null,
       "grid_auto_rows": null,
       "grid_column": null,
       "grid_gap": null,
       "grid_row": null,
       "grid_template_areas": null,
       "grid_template_columns": null,
       "grid_template_rows": null,
       "height": null,
       "justify_content": null,
       "justify_items": null,
       "left": null,
       "margin": null,
       "max_height": null,
       "max_width": null,
       "min_height": null,
       "min_width": null,
       "object_fit": null,
       "object_position": null,
       "order": null,
       "overflow": null,
       "overflow_x": null,
       "overflow_y": null,
       "padding": null,
       "right": null,
       "top": null,
       "visibility": null,
       "width": null
      }
     },
     "0b643b88413f4babb066413e521dc698": {
      "model_module": "@jupyter-widgets/base",
      "model_module_version": "1.2.0",
      "model_name": "LayoutModel",
      "state": {
       "_model_module": "@jupyter-widgets/base",
       "_model_module_version": "1.2.0",
       "_model_name": "LayoutModel",
       "_view_count": null,
       "_view_module": "@jupyter-widgets/base",
       "_view_module_version": "1.2.0",
       "_view_name": "LayoutView",
       "align_content": null,
       "align_items": null,
       "align_self": null,
       "border": null,
       "bottom": null,
       "display": null,
       "flex": null,
       "flex_flow": null,
       "grid_area": null,
       "grid_auto_columns": null,
       "grid_auto_flow": null,
       "grid_auto_rows": null,
       "grid_column": null,
       "grid_gap": null,
       "grid_row": null,
       "grid_template_areas": null,
       "grid_template_columns": null,
       "grid_template_rows": null,
       "height": null,
       "justify_content": null,
       "justify_items": null,
       "left": null,
       "margin": null,
       "max_height": null,
       "max_width": null,
       "min_height": null,
       "min_width": null,
       "object_fit": null,
       "object_position": null,
       "order": null,
       "overflow": null,
       "overflow_x": null,
       "overflow_y": null,
       "padding": null,
       "right": null,
       "top": null,
       "visibility": null,
       "width": null
      }
     },
     "0d68ee4910cf44579627587df2e76b88": {
      "model_module": "@jupyter-widgets/base",
      "model_module_version": "1.2.0",
      "model_name": "LayoutModel",
      "state": {
       "_model_module": "@jupyter-widgets/base",
       "_model_module_version": "1.2.0",
       "_model_name": "LayoutModel",
       "_view_count": null,
       "_view_module": "@jupyter-widgets/base",
       "_view_module_version": "1.2.0",
       "_view_name": "LayoutView",
       "align_content": null,
       "align_items": null,
       "align_self": null,
       "border": null,
       "bottom": null,
       "display": null,
       "flex": null,
       "flex_flow": null,
       "grid_area": null,
       "grid_auto_columns": null,
       "grid_auto_flow": null,
       "grid_auto_rows": null,
       "grid_column": null,
       "grid_gap": null,
       "grid_row": null,
       "grid_template_areas": null,
       "grid_template_columns": null,
       "grid_template_rows": null,
       "height": null,
       "justify_content": null,
       "justify_items": null,
       "left": null,
       "margin": null,
       "max_height": null,
       "max_width": null,
       "min_height": null,
       "min_width": null,
       "object_fit": null,
       "object_position": null,
       "order": null,
       "overflow": null,
       "overflow_x": null,
       "overflow_y": null,
       "padding": null,
       "right": null,
       "top": null,
       "visibility": null,
       "width": null
      }
     },
     "1391e13b8fab44349acfa3de476eae75": {
      "model_module": "@jupyter-widgets/controls",
      "model_module_version": "1.5.0",
      "model_name": "ProgressStyleModel",
      "state": {
       "_model_module": "@jupyter-widgets/controls",
       "_model_module_version": "1.5.0",
       "_model_name": "ProgressStyleModel",
       "_view_count": null,
       "_view_module": "@jupyter-widgets/base",
       "_view_module_version": "1.2.0",
       "_view_name": "StyleView",
       "bar_color": null,
       "description_width": ""
      }
     },
     "1683214dd86544e69fdb43f5f2337307": {
      "model_module": "@jupyter-widgets/base",
      "model_module_version": "1.2.0",
      "model_name": "LayoutModel",
      "state": {
       "_model_module": "@jupyter-widgets/base",
       "_model_module_version": "1.2.0",
       "_model_name": "LayoutModel",
       "_view_count": null,
       "_view_module": "@jupyter-widgets/base",
       "_view_module_version": "1.2.0",
       "_view_name": "LayoutView",
       "align_content": null,
       "align_items": null,
       "align_self": null,
       "border": null,
       "bottom": null,
       "display": null,
       "flex": null,
       "flex_flow": null,
       "grid_area": null,
       "grid_auto_columns": null,
       "grid_auto_flow": null,
       "grid_auto_rows": null,
       "grid_column": null,
       "grid_gap": null,
       "grid_row": null,
       "grid_template_areas": null,
       "grid_template_columns": null,
       "grid_template_rows": null,
       "height": null,
       "justify_content": null,
       "justify_items": null,
       "left": null,
       "margin": null,
       "max_height": null,
       "max_width": null,
       "min_height": null,
       "min_width": null,
       "object_fit": null,
       "object_position": null,
       "order": null,
       "overflow": null,
       "overflow_x": null,
       "overflow_y": null,
       "padding": null,
       "right": null,
       "top": null,
       "visibility": null,
       "width": null
      }
     },
     "193dab58461544a1a0d498d955b00425": {
      "model_module": "@jupyter-widgets/base",
      "model_module_version": "1.2.0",
      "model_name": "LayoutModel",
      "state": {
       "_model_module": "@jupyter-widgets/base",
       "_model_module_version": "1.2.0",
       "_model_name": "LayoutModel",
       "_view_count": null,
       "_view_module": "@jupyter-widgets/base",
       "_view_module_version": "1.2.0",
       "_view_name": "LayoutView",
       "align_content": null,
       "align_items": null,
       "align_self": null,
       "border": null,
       "bottom": null,
       "display": null,
       "flex": null,
       "flex_flow": null,
       "grid_area": null,
       "grid_auto_columns": null,
       "grid_auto_flow": null,
       "grid_auto_rows": null,
       "grid_column": null,
       "grid_gap": null,
       "grid_row": null,
       "grid_template_areas": null,
       "grid_template_columns": null,
       "grid_template_rows": null,
       "height": null,
       "justify_content": null,
       "justify_items": null,
       "left": null,
       "margin": null,
       "max_height": null,
       "max_width": null,
       "min_height": null,
       "min_width": null,
       "object_fit": null,
       "object_position": null,
       "order": null,
       "overflow": null,
       "overflow_x": null,
       "overflow_y": null,
       "padding": null,
       "right": null,
       "top": null,
       "visibility": null,
       "width": null
      }
     },
     "1a20304a53d14db4bd2812d9289d415c": {
      "model_module": "@jupyter-widgets/base",
      "model_module_version": "1.2.0",
      "model_name": "LayoutModel",
      "state": {
       "_model_module": "@jupyter-widgets/base",
       "_model_module_version": "1.2.0",
       "_model_name": "LayoutModel",
       "_view_count": null,
       "_view_module": "@jupyter-widgets/base",
       "_view_module_version": "1.2.0",
       "_view_name": "LayoutView",
       "align_content": null,
       "align_items": null,
       "align_self": null,
       "border": null,
       "bottom": null,
       "display": null,
       "flex": null,
       "flex_flow": null,
       "grid_area": null,
       "grid_auto_columns": null,
       "grid_auto_flow": null,
       "grid_auto_rows": null,
       "grid_column": null,
       "grid_gap": null,
       "grid_row": null,
       "grid_template_areas": null,
       "grid_template_columns": null,
       "grid_template_rows": null,
       "height": null,
       "justify_content": null,
       "justify_items": null,
       "left": null,
       "margin": null,
       "max_height": null,
       "max_width": null,
       "min_height": null,
       "min_width": null,
       "object_fit": null,
       "object_position": null,
       "order": null,
       "overflow": null,
       "overflow_x": null,
       "overflow_y": null,
       "padding": null,
       "right": null,
       "top": null,
       "visibility": null,
       "width": null
      }
     },
     "1f2e0eeaa5744e779167e171cce5fd8a": {
      "model_module": "@jupyter-widgets/controls",
      "model_module_version": "1.5.0",
      "model_name": "HBoxModel",
      "state": {
       "_dom_classes": [],
       "_model_module": "@jupyter-widgets/controls",
       "_model_module_version": "1.5.0",
       "_model_name": "HBoxModel",
       "_view_count": null,
       "_view_module": "@jupyter-widgets/controls",
       "_view_module_version": "1.5.0",
       "_view_name": "HBoxView",
       "box_style": "",
       "children": [
        "IPY_MODEL_7b666d49158a49b082065e07962b6577",
        "IPY_MODEL_dbe6f7d47f414b989c099af079a66353",
        "IPY_MODEL_e48377e74097414b97a3206f7017ab73"
       ],
       "layout": "IPY_MODEL_a4f09d5ca7bd49f18c188355ec56f6a6"
      }
     },
     "22be129eb7df4b598cdab4759f44cb3e": {
      "model_module": "@jupyter-widgets/controls",
      "model_module_version": "1.5.0",
      "model_name": "HTMLModel",
      "state": {
       "_dom_classes": [],
       "_model_module": "@jupyter-widgets/controls",
       "_model_module_version": "1.5.0",
       "_model_name": "HTMLModel",
       "_view_count": null,
       "_view_module": "@jupyter-widgets/controls",
       "_view_module_version": "1.5.0",
       "_view_name": "HTMLView",
       "description": "",
       "description_tooltip": null,
       "layout": "IPY_MODEL_0aa082b6900e48ebab210dc2b7cc1868",
       "placeholder": "​",
       "style": "IPY_MODEL_314c476b675048ca99a89cd5f71cc2bb",
       "value": "Downloading: 100%"
      }
     },
     "23b9b3af17ee4bb789bfa64abf536e83": {
      "model_module": "@jupyter-widgets/base",
      "model_module_version": "1.2.0",
      "model_name": "LayoutModel",
      "state": {
       "_model_module": "@jupyter-widgets/base",
       "_model_module_version": "1.2.0",
       "_model_name": "LayoutModel",
       "_view_count": null,
       "_view_module": "@jupyter-widgets/base",
       "_view_module_version": "1.2.0",
       "_view_name": "LayoutView",
       "align_content": null,
       "align_items": null,
       "align_self": null,
       "border": null,
       "bottom": null,
       "display": null,
       "flex": null,
       "flex_flow": null,
       "grid_area": null,
       "grid_auto_columns": null,
       "grid_auto_flow": null,
       "grid_auto_rows": null,
       "grid_column": null,
       "grid_gap": null,
       "grid_row": null,
       "grid_template_areas": null,
       "grid_template_columns": null,
       "grid_template_rows": null,
       "height": null,
       "justify_content": null,
       "justify_items": null,
       "left": null,
       "margin": null,
       "max_height": null,
       "max_width": null,
       "min_height": null,
       "min_width": null,
       "object_fit": null,
       "object_position": null,
       "order": null,
       "overflow": null,
       "overflow_x": null,
       "overflow_y": null,
       "padding": null,
       "right": null,
       "top": null,
       "visibility": null,
       "width": null
      }
     },
     "263fd7c8721141be93cea43c57e14efd": {
      "model_module": "@jupyter-widgets/controls",
      "model_module_version": "1.5.0",
      "model_name": "ProgressStyleModel",
      "state": {
       "_model_module": "@jupyter-widgets/controls",
       "_model_module_version": "1.5.0",
       "_model_name": "ProgressStyleModel",
       "_view_count": null,
       "_view_module": "@jupyter-widgets/base",
       "_view_module_version": "1.2.0",
       "_view_name": "StyleView",
       "bar_color": null,
       "description_width": ""
      }
     },
     "2bf3eb48b536466d8c854f76ab6404c2": {
      "model_module": "@jupyter-widgets/controls",
      "model_module_version": "1.5.0",
      "model_name": "HBoxModel",
      "state": {
       "_dom_classes": [],
       "_model_module": "@jupyter-widgets/controls",
       "_model_module_version": "1.5.0",
       "_model_name": "HBoxModel",
       "_view_count": null,
       "_view_module": "@jupyter-widgets/controls",
       "_view_module_version": "1.5.0",
       "_view_name": "HBoxView",
       "box_style": "",
       "children": [
        "IPY_MODEL_56b45ae82ccf4a8bb4fd29abad65c8b5",
        "IPY_MODEL_5c385544aeef493eb562b1baf341e0eb",
        "IPY_MODEL_3ec97cea3ec24fe184e924ffffa10916"
       ],
       "layout": "IPY_MODEL_6321c921fa804af3bf0dc9f241d07fb3"
      }
     },
     "2d9d9e4464944baf97c9dd48e2822bcd": {
      "model_module": "@jupyter-widgets/base",
      "model_module_version": "1.2.0",
      "model_name": "LayoutModel",
      "state": {
       "_model_module": "@jupyter-widgets/base",
       "_model_module_version": "1.2.0",
       "_model_name": "LayoutModel",
       "_view_count": null,
       "_view_module": "@jupyter-widgets/base",
       "_view_module_version": "1.2.0",
       "_view_name": "LayoutView",
       "align_content": null,
       "align_items": null,
       "align_self": null,
       "border": null,
       "bottom": null,
       "display": null,
       "flex": null,
       "flex_flow": null,
       "grid_area": null,
       "grid_auto_columns": null,
       "grid_auto_flow": null,
       "grid_auto_rows": null,
       "grid_column": null,
       "grid_gap": null,
       "grid_row": null,
       "grid_template_areas": null,
       "grid_template_columns": null,
       "grid_template_rows": null,
       "height": null,
       "justify_content": null,
       "justify_items": null,
       "left": null,
       "margin": null,
       "max_height": null,
       "max_width": null,
       "min_height": null,
       "min_width": null,
       "object_fit": null,
       "object_position": null,
       "order": null,
       "overflow": null,
       "overflow_x": null,
       "overflow_y": null,
       "padding": null,
       "right": null,
       "top": null,
       "visibility": null,
       "width": null
      }
     },
     "314c476b675048ca99a89cd5f71cc2bb": {
      "model_module": "@jupyter-widgets/controls",
      "model_module_version": "1.5.0",
      "model_name": "DescriptionStyleModel",
      "state": {
       "_model_module": "@jupyter-widgets/controls",
       "_model_module_version": "1.5.0",
       "_model_name": "DescriptionStyleModel",
       "_view_count": null,
       "_view_module": "@jupyter-widgets/base",
       "_view_module_version": "1.2.0",
       "_view_name": "StyleView",
       "description_width": ""
      }
     },
     "3bed413d059e40a0b5ff1f3f6062ac27": {
      "model_module": "@jupyter-widgets/controls",
      "model_module_version": "1.5.0",
      "model_name": "HBoxModel",
      "state": {
       "_dom_classes": [],
       "_model_module": "@jupyter-widgets/controls",
       "_model_module_version": "1.5.0",
       "_model_name": "HBoxModel",
       "_view_count": null,
       "_view_module": "@jupyter-widgets/controls",
       "_view_module_version": "1.5.0",
       "_view_name": "HBoxView",
       "box_style": "",
       "children": [
        "IPY_MODEL_afa7be60ed3f487bb0910ce959bef740",
        "IPY_MODEL_f42ba3a459bb4ac3968757e83f420c20",
        "IPY_MODEL_b9ab883c6c37484399e083561477b922"
       ],
       "layout": "IPY_MODEL_ede289e70acd4c07aab6a418c49037fd"
      }
     },
     "3ec97cea3ec24fe184e924ffffa10916": {
      "model_module": "@jupyter-widgets/controls",
      "model_module_version": "1.5.0",
      "model_name": "HTMLModel",
      "state": {
       "_dom_classes": [],
       "_model_module": "@jupyter-widgets/controls",
       "_model_module_version": "1.5.0",
       "_model_name": "HTMLModel",
       "_view_count": null,
       "_view_module": "@jupyter-widgets/controls",
       "_view_module_version": "1.5.0",
       "_view_name": "HTMLView",
       "description": "",
       "description_tooltip": null,
       "layout": "IPY_MODEL_0b643b88413f4babb066413e521dc698",
       "placeholder": "​",
       "style": "IPY_MODEL_b890a72d1393416c9ab0e5d51a380c74",
       "value": " 28.0/28.0 [00:00&lt;00:00, 1.09kB/s]"
      }
     },
     "4064f498cf1c4e4abd6b9c730f4fd43d": {
      "model_module": "@jupyter-widgets/base",
      "model_module_version": "1.2.0",
      "model_name": "LayoutModel",
      "state": {
       "_model_module": "@jupyter-widgets/base",
       "_model_module_version": "1.2.0",
       "_model_name": "LayoutModel",
       "_view_count": null,
       "_view_module": "@jupyter-widgets/base",
       "_view_module_version": "1.2.0",
       "_view_name": "LayoutView",
       "align_content": null,
       "align_items": null,
       "align_self": null,
       "border": null,
       "bottom": null,
       "display": null,
       "flex": null,
       "flex_flow": null,
       "grid_area": null,
       "grid_auto_columns": null,
       "grid_auto_flow": null,
       "grid_auto_rows": null,
       "grid_column": null,
       "grid_gap": null,
       "grid_row": null,
       "grid_template_areas": null,
       "grid_template_columns": null,
       "grid_template_rows": null,
       "height": null,
       "justify_content": null,
       "justify_items": null,
       "left": null,
       "margin": null,
       "max_height": null,
       "max_width": null,
       "min_height": null,
       "min_width": null,
       "object_fit": null,
       "object_position": null,
       "order": null,
       "overflow": null,
       "overflow_x": null,
       "overflow_y": null,
       "padding": null,
       "right": null,
       "top": null,
       "visibility": null,
       "width": null
      }
     },
     "41e4b8618c614031923183f0ff823437": {
      "model_module": "@jupyter-widgets/controls",
      "model_module_version": "1.5.0",
      "model_name": "HTMLModel",
      "state": {
       "_dom_classes": [],
       "_model_module": "@jupyter-widgets/controls",
       "_model_module_version": "1.5.0",
       "_model_name": "HTMLModel",
       "_view_count": null,
       "_view_module": "@jupyter-widgets/controls",
       "_view_module_version": "1.5.0",
       "_view_name": "HTMLView",
       "description": "",
       "description_tooltip": null,
       "layout": "IPY_MODEL_d715e865d5da4f7284a4266516f835f1",
       "placeholder": "​",
       "style": "IPY_MODEL_f7c6e08cd5e64cfb8431bd0e35efe0b2",
       "value": " 446k/446k [00:00&lt;00:00, 681kB/s]"
      }
     },
     "4a1af1feb9874e2986a7da6123f6cf91": {
      "model_module": "@jupyter-widgets/base",
      "model_module_version": "1.2.0",
      "model_name": "LayoutModel",
      "state": {
       "_model_module": "@jupyter-widgets/base",
       "_model_module_version": "1.2.0",
       "_model_name": "LayoutModel",
       "_view_count": null,
       "_view_module": "@jupyter-widgets/base",
       "_view_module_version": "1.2.0",
       "_view_name": "LayoutView",
       "align_content": null,
       "align_items": null,
       "align_self": null,
       "border": null,
       "bottom": null,
       "display": null,
       "flex": null,
       "flex_flow": null,
       "grid_area": null,
       "grid_auto_columns": null,
       "grid_auto_flow": null,
       "grid_auto_rows": null,
       "grid_column": null,
       "grid_gap": null,
       "grid_row": null,
       "grid_template_areas": null,
       "grid_template_columns": null,
       "grid_template_rows": null,
       "height": null,
       "justify_content": null,
       "justify_items": null,
       "left": null,
       "margin": null,
       "max_height": null,
       "max_width": null,
       "min_height": null,
       "min_width": null,
       "object_fit": null,
       "object_position": null,
       "order": null,
       "overflow": null,
       "overflow_x": null,
       "overflow_y": null,
       "padding": null,
       "right": null,
       "top": null,
       "visibility": null,
       "width": null
      }
     },
     "4b29f78707404c9ea4a52e15ebcf32d6": {
      "model_module": "@jupyter-widgets/controls",
      "model_module_version": "1.5.0",
      "model_name": "DescriptionStyleModel",
      "state": {
       "_model_module": "@jupyter-widgets/controls",
       "_model_module_version": "1.5.0",
       "_model_name": "DescriptionStyleModel",
       "_view_count": null,
       "_view_module": "@jupyter-widgets/base",
       "_view_module_version": "1.2.0",
       "_view_name": "StyleView",
       "description_width": ""
      }
     },
     "5166040767994537b69434d291cf4283": {
      "model_module": "@jupyter-widgets/controls",
      "model_module_version": "1.5.0",
      "model_name": "FloatProgressModel",
      "state": {
       "_dom_classes": [],
       "_model_module": "@jupyter-widgets/controls",
       "_model_module_version": "1.5.0",
       "_model_name": "FloatProgressModel",
       "_view_count": null,
       "_view_module": "@jupyter-widgets/controls",
       "_view_module_version": "1.5.0",
       "_view_name": "ProgressView",
       "bar_style": "success",
       "description": "",
       "description_tooltip": null,
       "layout": "IPY_MODEL_1a20304a53d14db4bd2812d9289d415c",
       "max": 440473133.0,
       "min": 0.0,
       "orientation": "horizontal",
       "style": "IPY_MODEL_0645852cf9cb4f60b6fe8a28a368e37c",
       "value": 440473133.0
      }
     },
     "56b45ae82ccf4a8bb4fd29abad65c8b5": {
      "model_module": "@jupyter-widgets/controls",
      "model_module_version": "1.5.0",
      "model_name": "HTMLModel",
      "state": {
       "_dom_classes": [],
       "_model_module": "@jupyter-widgets/controls",
       "_model_module_version": "1.5.0",
       "_model_name": "HTMLModel",
       "_view_count": null,
       "_view_module": "@jupyter-widgets/controls",
       "_view_module_version": "1.5.0",
       "_view_name": "HTMLView",
       "description": "",
       "description_tooltip": null,
       "layout": "IPY_MODEL_0d68ee4910cf44579627587df2e76b88",
       "placeholder": "​",
       "style": "IPY_MODEL_deb5d6c310c948f598c0bdaa31071e14",
       "value": "Downloading: 100%"
      }
     },
     "58db517d2ed64d0f984a7cd80cd3e366": {
      "model_module": "@jupyter-widgets/controls",
      "model_module_version": "1.5.0",
      "model_name": "DescriptionStyleModel",
      "state": {
       "_model_module": "@jupyter-widgets/controls",
       "_model_module_version": "1.5.0",
       "_model_name": "DescriptionStyleModel",
       "_view_count": null,
       "_view_module": "@jupyter-widgets/base",
       "_view_module_version": "1.2.0",
       "_view_name": "StyleView",
       "description_width": ""
      }
     },
     "5b284815a25c49bd880587814c8cda5c": {
      "model_module": "@jupyter-widgets/controls",
      "model_module_version": "1.5.0",
      "model_name": "DescriptionStyleModel",
      "state": {
       "_model_module": "@jupyter-widgets/controls",
       "_model_module_version": "1.5.0",
       "_model_name": "DescriptionStyleModel",
       "_view_count": null,
       "_view_module": "@jupyter-widgets/base",
       "_view_module_version": "1.2.0",
       "_view_name": "StyleView",
       "description_width": ""
      }
     },
     "5c385544aeef493eb562b1baf341e0eb": {
      "model_module": "@jupyter-widgets/controls",
      "model_module_version": "1.5.0",
      "model_name": "FloatProgressModel",
      "state": {
       "_dom_classes": [],
       "_model_module": "@jupyter-widgets/controls",
       "_model_module_version": "1.5.0",
       "_model_name": "FloatProgressModel",
       "_view_count": null,
       "_view_module": "@jupyter-widgets/controls",
       "_view_module_version": "1.5.0",
       "_view_name": "ProgressView",
       "bar_style": "success",
       "description": "",
       "description_tooltip": null,
       "layout": "IPY_MODEL_ac08ff7d8944480d9d033c342331fba0",
       "max": 28.0,
       "min": 0.0,
       "orientation": "horizontal",
       "style": "IPY_MODEL_d988b46fc529414aade15c2f4cbb42b5",
       "value": 28.0
      }
     },
     "5cb3afa5ac3f4c8fa9a483e7c0bdb7ac": {
      "model_module": "@jupyter-widgets/base",
      "model_module_version": "1.2.0",
      "model_name": "LayoutModel",
      "state": {
       "_model_module": "@jupyter-widgets/base",
       "_model_module_version": "1.2.0",
       "_model_name": "LayoutModel",
       "_view_count": null,
       "_view_module": "@jupyter-widgets/base",
       "_view_module_version": "1.2.0",
       "_view_name": "LayoutView",
       "align_content": null,
       "align_items": null,
       "align_self": null,
       "border": null,
       "bottom": null,
       "display": null,
       "flex": null,
       "flex_flow": null,
       "grid_area": null,
       "grid_auto_columns": null,
       "grid_auto_flow": null,
       "grid_auto_rows": null,
       "grid_column": null,
       "grid_gap": null,
       "grid_row": null,
       "grid_template_areas": null,
       "grid_template_columns": null,
       "grid_template_rows": null,
       "height": null,
       "justify_content": null,
       "justify_items": null,
       "left": null,
       "margin": null,
       "max_height": null,
       "max_width": null,
       "min_height": null,
       "min_width": null,
       "object_fit": null,
       "object_position": null,
       "order": null,
       "overflow": null,
       "overflow_x": null,
       "overflow_y": null,
       "padding": null,
       "right": null,
       "top": null,
       "visibility": null,
       "width": null
      }
     },
     "5d3572e562414fbcba6babd412461918": {
      "model_module": "@jupyter-widgets/controls",
      "model_module_version": "1.5.0",
      "model_name": "HTMLModel",
      "state": {
       "_dom_classes": [],
       "_model_module": "@jupyter-widgets/controls",
       "_model_module_version": "1.5.0",
       "_model_name": "HTMLModel",
       "_view_count": null,
       "_view_module": "@jupyter-widgets/controls",
       "_view_module_version": "1.5.0",
       "_view_name": "HTMLView",
       "description": "",
       "description_tooltip": null,
       "layout": "IPY_MODEL_1683214dd86544e69fdb43f5f2337307",
       "placeholder": "​",
       "style": "IPY_MODEL_f275d106bcf1450ba9eb24c034d7ea67",
       "value": "Downloading: 100%"
      }
     },
     "60e0c39bae0a4582b86f8ebb6501831f": {
      "model_module": "@jupyter-widgets/controls",
      "model_module_version": "1.5.0",
      "model_name": "FloatProgressModel",
      "state": {
       "_dom_classes": [],
       "_model_module": "@jupyter-widgets/controls",
       "_model_module_version": "1.5.0",
       "_model_name": "FloatProgressModel",
       "_view_count": null,
       "_view_module": "@jupyter-widgets/controls",
       "_view_module_version": "1.5.0",
       "_view_name": "ProgressView",
       "bar_style": "success",
       "description": "",
       "description_tooltip": null,
       "layout": "IPY_MODEL_07c24549fa4145e28fbcd13e99522c1b",
       "max": 570.0,
       "min": 0.0,
       "orientation": "horizontal",
       "style": "IPY_MODEL_7761b591e9924a2ba7f587212e758006",
       "value": 570.0
      }
     },
     "6321c921fa804af3bf0dc9f241d07fb3": {
      "model_module": "@jupyter-widgets/base",
      "model_module_version": "1.2.0",
      "model_name": "LayoutModel",
      "state": {
       "_model_module": "@jupyter-widgets/base",
       "_model_module_version": "1.2.0",
       "_model_name": "LayoutModel",
       "_view_count": null,
       "_view_module": "@jupyter-widgets/base",
       "_view_module_version": "1.2.0",
       "_view_name": "LayoutView",
       "align_content": null,
       "align_items": null,
       "align_self": null,
       "border": null,
       "bottom": null,
       "display": null,
       "flex": null,
       "flex_flow": null,
       "grid_area": null,
       "grid_auto_columns": null,
       "grid_auto_flow": null,
       "grid_auto_rows": null,
       "grid_column": null,
       "grid_gap": null,
       "grid_row": null,
       "grid_template_areas": null,
       "grid_template_columns": null,
       "grid_template_rows": null,
       "height": null,
       "justify_content": null,
       "justify_items": null,
       "left": null,
       "margin": null,
       "max_height": null,
       "max_width": null,
       "min_height": null,
       "min_width": null,
       "object_fit": null,
       "object_position": null,
       "order": null,
       "overflow": null,
       "overflow_x": null,
       "overflow_y": null,
       "padding": null,
       "right": null,
       "top": null,
       "visibility": null,
       "width": null
      }
     },
     "6490d546cd0c45e4bcc9a403c3bb845c": {
      "model_module": "@jupyter-widgets/controls",
      "model_module_version": "1.5.0",
      "model_name": "HTMLModel",
      "state": {
       "_dom_classes": [],
       "_model_module": "@jupyter-widgets/controls",
       "_model_module_version": "1.5.0",
       "_model_name": "HTMLModel",
       "_view_count": null,
       "_view_module": "@jupyter-widgets/controls",
       "_view_module_version": "1.5.0",
       "_view_name": "HTMLView",
       "description": "",
       "description_tooltip": null,
       "layout": "IPY_MODEL_4a1af1feb9874e2986a7da6123f6cf91",
       "placeholder": "​",
       "style": "IPY_MODEL_b0b9a4edf67740c780d8cd3135f7d78a",
       "value": " 420M/420M [00:20&lt;00:00, 9.73MB/s]"
      }
     },
     "6a9044707d414bb99e8ebbb543f3f998": {
      "model_module": "@jupyter-widgets/controls",
      "model_module_version": "1.5.0",
      "model_name": "HBoxModel",
      "state": {
       "_dom_classes": [],
       "_model_module": "@jupyter-widgets/controls",
       "_model_module_version": "1.5.0",
       "_model_name": "HBoxModel",
       "_view_count": null,
       "_view_module": "@jupyter-widgets/controls",
       "_view_module_version": "1.5.0",
       "_view_name": "HBoxView",
       "box_style": "",
       "children": [
        "IPY_MODEL_db89244066a640899c546282f1477d4a",
        "IPY_MODEL_cbfc2c9795a14265b0ad2fa3b4a6504f",
        "IPY_MODEL_41e4b8618c614031923183f0ff823437"
       ],
       "layout": "IPY_MODEL_193dab58461544a1a0d498d955b00425"
      }
     },
     "6b548817740c4fb68cd19654dcf3b6ea": {
      "model_module": "@jupyter-widgets/base",
      "model_module_version": "1.2.0",
      "model_name": "LayoutModel",
      "state": {
       "_model_module": "@jupyter-widgets/base",
       "_model_module_version": "1.2.0",
       "_model_name": "LayoutModel",
       "_view_count": null,
       "_view_module": "@jupyter-widgets/base",
       "_view_module_version": "1.2.0",
       "_view_name": "LayoutView",
       "align_content": null,
       "align_items": null,
       "align_self": null,
       "border": null,
       "bottom": null,
       "display": null,
       "flex": null,
       "flex_flow": null,
       "grid_area": null,
       "grid_auto_columns": null,
       "grid_auto_flow": null,
       "grid_auto_rows": null,
       "grid_column": null,
       "grid_gap": null,
       "grid_row": null,
       "grid_template_areas": null,
       "grid_template_columns": null,
       "grid_template_rows": null,
       "height": null,
       "justify_content": null,
       "justify_items": null,
       "left": null,
       "margin": null,
       "max_height": null,
       "max_width": null,
       "min_height": null,
       "min_width": null,
       "object_fit": null,
       "object_position": null,
       "order": null,
       "overflow": null,
       "overflow_x": null,
       "overflow_y": null,
       "padding": null,
       "right": null,
       "top": null,
       "visibility": null,
       "width": null
      }
     },
     "6e333f290111490ca826e1d2e4d0d289": {
      "model_module": "@jupyter-widgets/base",
      "model_module_version": "1.2.0",
      "model_name": "LayoutModel",
      "state": {
       "_model_module": "@jupyter-widgets/base",
       "_model_module_version": "1.2.0",
       "_model_name": "LayoutModel",
       "_view_count": null,
       "_view_module": "@jupyter-widgets/base",
       "_view_module_version": "1.2.0",
       "_view_name": "LayoutView",
       "align_content": null,
       "align_items": null,
       "align_self": null,
       "border": null,
       "bottom": null,
       "display": null,
       "flex": null,
       "flex_flow": null,
       "grid_area": null,
       "grid_auto_columns": null,
       "grid_auto_flow": null,
       "grid_auto_rows": null,
       "grid_column": null,
       "grid_gap": null,
       "grid_row": null,
       "grid_template_areas": null,
       "grid_template_columns": null,
       "grid_template_rows": null,
       "height": null,
       "justify_content": null,
       "justify_items": null,
       "left": null,
       "margin": null,
       "max_height": null,
       "max_width": null,
       "min_height": null,
       "min_width": null,
       "object_fit": null,
       "object_position": null,
       "order": null,
       "overflow": null,
       "overflow_x": null,
       "overflow_y": null,
       "padding": null,
       "right": null,
       "top": null,
       "visibility": null,
       "width": null
      }
     },
     "7761b591e9924a2ba7f587212e758006": {
      "model_module": "@jupyter-widgets/controls",
      "model_module_version": "1.5.0",
      "model_name": "ProgressStyleModel",
      "state": {
       "_model_module": "@jupyter-widgets/controls",
       "_model_module_version": "1.5.0",
       "_model_name": "ProgressStyleModel",
       "_view_count": null,
       "_view_module": "@jupyter-widgets/base",
       "_view_module_version": "1.2.0",
       "_view_name": "StyleView",
       "bar_color": null,
       "description_width": ""
      }
     },
     "7b666d49158a49b082065e07962b6577": {
      "model_module": "@jupyter-widgets/controls",
      "model_module_version": "1.5.0",
      "model_name": "HTMLModel",
      "state": {
       "_dom_classes": [],
       "_model_module": "@jupyter-widgets/controls",
       "_model_module_version": "1.5.0",
       "_model_name": "HTMLModel",
       "_view_count": null,
       "_view_module": "@jupyter-widgets/controls",
       "_view_module_version": "1.5.0",
       "_view_name": "HTMLView",
       "description": "",
       "description_tooltip": null,
       "layout": "IPY_MODEL_acb6b7fa3c6741b5acfa7f357891f12a",
       "placeholder": "​",
       "style": "IPY_MODEL_58db517d2ed64d0f984a7cd80cd3e366",
       "value": "Downloading: 100%"
      }
     },
     "7f54b98a919d451e87413ed4fcb69dc6": {
      "model_module": "@jupyter-widgets/base",
      "model_module_version": "1.2.0",
      "model_name": "LayoutModel",
      "state": {
       "_model_module": "@jupyter-widgets/base",
       "_model_module_version": "1.2.0",
       "_model_name": "LayoutModel",
       "_view_count": null,
       "_view_module": "@jupyter-widgets/base",
       "_view_module_version": "1.2.0",
       "_view_name": "LayoutView",
       "align_content": null,
       "align_items": null,
       "align_self": null,
       "border": null,
       "bottom": null,
       "display": null,
       "flex": null,
       "flex_flow": null,
       "grid_area": null,
       "grid_auto_columns": null,
       "grid_auto_flow": null,
       "grid_auto_rows": null,
       "grid_column": null,
       "grid_gap": null,
       "grid_row": null,
       "grid_template_areas": null,
       "grid_template_columns": null,
       "grid_template_rows": null,
       "height": null,
       "justify_content": null,
       "justify_items": null,
       "left": null,
       "margin": null,
       "max_height": null,
       "max_width": null,
       "min_height": null,
       "min_width": null,
       "object_fit": null,
       "object_position": null,
       "order": null,
       "overflow": null,
       "overflow_x": null,
       "overflow_y": null,
       "padding": null,
       "right": null,
       "top": null,
       "visibility": null,
       "width": null
      }
     },
     "8698743bd61348a4b4df4a95e5bb6946": {
      "model_module": "@jupyter-widgets/base",
      "model_module_version": "1.2.0",
      "model_name": "LayoutModel",
      "state": {
       "_model_module": "@jupyter-widgets/base",
       "_model_module_version": "1.2.0",
       "_model_name": "LayoutModel",
       "_view_count": null,
       "_view_module": "@jupyter-widgets/base",
       "_view_module_version": "1.2.0",
       "_view_name": "LayoutView",
       "align_content": null,
       "align_items": null,
       "align_self": null,
       "border": null,
       "bottom": null,
       "display": null,
       "flex": null,
       "flex_flow": null,
       "grid_area": null,
       "grid_auto_columns": null,
       "grid_auto_flow": null,
       "grid_auto_rows": null,
       "grid_column": null,
       "grid_gap": null,
       "grid_row": null,
       "grid_template_areas": null,
       "grid_template_columns": null,
       "grid_template_rows": null,
       "height": null,
       "justify_content": null,
       "justify_items": null,
       "left": null,
       "margin": null,
       "max_height": null,
       "max_width": null,
       "min_height": null,
       "min_width": null,
       "object_fit": null,
       "object_position": null,
       "order": null,
       "overflow": null,
       "overflow_x": null,
       "overflow_y": null,
       "padding": null,
       "right": null,
       "top": null,
       "visibility": null,
       "width": null
      }
     },
     "8a7aacd9e4d14f94b36fc749161b1c58": {
      "model_module": "@jupyter-widgets/controls",
      "model_module_version": "1.5.0",
      "model_name": "DescriptionStyleModel",
      "state": {
       "_model_module": "@jupyter-widgets/controls",
       "_model_module_version": "1.5.0",
       "_model_name": "DescriptionStyleModel",
       "_view_count": null,
       "_view_module": "@jupyter-widgets/base",
       "_view_module_version": "1.2.0",
       "_view_name": "StyleView",
       "description_width": ""
      }
     },
     "8d0fdac87a9f4793b379f7902d6d7e15": {
      "model_module": "@jupyter-widgets/base",
      "model_module_version": "1.2.0",
      "model_name": "LayoutModel",
      "state": {
       "_model_module": "@jupyter-widgets/base",
       "_model_module_version": "1.2.0",
       "_model_name": "LayoutModel",
       "_view_count": null,
       "_view_module": "@jupyter-widgets/base",
       "_view_module_version": "1.2.0",
       "_view_name": "LayoutView",
       "align_content": null,
       "align_items": null,
       "align_self": null,
       "border": null,
       "bottom": null,
       "display": null,
       "flex": null,
       "flex_flow": null,
       "grid_area": null,
       "grid_auto_columns": null,
       "grid_auto_flow": null,
       "grid_auto_rows": null,
       "grid_column": null,
       "grid_gap": null,
       "grid_row": null,
       "grid_template_areas": null,
       "grid_template_columns": null,
       "grid_template_rows": null,
       "height": null,
       "justify_content": null,
       "justify_items": null,
       "left": null,
       "margin": null,
       "max_height": null,
       "max_width": null,
       "min_height": null,
       "min_width": null,
       "object_fit": null,
       "object_position": null,
       "order": null,
       "overflow": null,
       "overflow_x": null,
       "overflow_y": null,
       "padding": null,
       "right": null,
       "top": null,
       "visibility": null,
       "width": null
      }
     },
     "8e35b6fe711c49f5ae981d908a94035d": {
      "model_module": "@jupyter-widgets/base",
      "model_module_version": "1.2.0",
      "model_name": "LayoutModel",
      "state": {
       "_model_module": "@jupyter-widgets/base",
       "_model_module_version": "1.2.0",
       "_model_name": "LayoutModel",
       "_view_count": null,
       "_view_module": "@jupyter-widgets/base",
       "_view_module_version": "1.2.0",
       "_view_name": "LayoutView",
       "align_content": null,
       "align_items": null,
       "align_self": null,
       "border": null,
       "bottom": null,
       "display": null,
       "flex": null,
       "flex_flow": null,
       "grid_area": null,
       "grid_auto_columns": null,
       "grid_auto_flow": null,
       "grid_auto_rows": null,
       "grid_column": null,
       "grid_gap": null,
       "grid_row": null,
       "grid_template_areas": null,
       "grid_template_columns": null,
       "grid_template_rows": null,
       "height": null,
       "justify_content": null,
       "justify_items": null,
       "left": null,
       "margin": null,
       "max_height": null,
       "max_width": null,
       "min_height": null,
       "min_width": null,
       "object_fit": null,
       "object_position": null,
       "order": null,
       "overflow": null,
       "overflow_x": null,
       "overflow_y": null,
       "padding": null,
       "right": null,
       "top": null,
       "visibility": null,
       "width": null
      }
     },
     "98802d6461ee4db3abbd7848bfcb3964": {
      "model_module": "@jupyter-widgets/controls",
      "model_module_version": "1.5.0",
      "model_name": "HBoxModel",
      "state": {
       "_dom_classes": [],
       "_model_module": "@jupyter-widgets/controls",
       "_model_module_version": "1.5.0",
       "_model_name": "HBoxModel",
       "_view_count": null,
       "_view_module": "@jupyter-widgets/controls",
       "_view_module_version": "1.5.0",
       "_view_name": "HBoxView",
       "box_style": "",
       "children": [
        "IPY_MODEL_22be129eb7df4b598cdab4759f44cb3e",
        "IPY_MODEL_60e0c39bae0a4582b86f8ebb6501831f",
        "IPY_MODEL_a329a462a9ac4ea5a07da8b1a7e3389b"
       ],
       "layout": "IPY_MODEL_2d9d9e4464944baf97c9dd48e2822bcd"
      }
     },
     "99fa028d66864ed88cdfdbe8daf19559": {
      "model_module": "@jupyter-widgets/controls",
      "model_module_version": "1.5.0",
      "model_name": "HTMLModel",
      "state": {
       "_dom_classes": [],
       "_model_module": "@jupyter-widgets/controls",
       "_model_module_version": "1.5.0",
       "_model_name": "HTMLModel",
       "_view_count": null,
       "_view_module": "@jupyter-widgets/controls",
       "_view_module_version": "1.5.0",
       "_view_name": "HTMLView",
       "description": "",
       "description_tooltip": null,
       "layout": "IPY_MODEL_5cb3afa5ac3f4c8fa9a483e7c0bdb7ac",
       "placeholder": "​",
       "style": "IPY_MODEL_4b29f78707404c9ea4a52e15ebcf32d6",
       "value": "Downloading: 100%"
      }
     },
     "9afc2cf3b3dd45f48d7da4197e4b77fb": {
      "model_module": "@jupyter-widgets/controls",
      "model_module_version": "1.5.0",
      "model_name": "HBoxModel",
      "state": {
       "_dom_classes": [],
       "_model_module": "@jupyter-widgets/controls",
       "_model_module_version": "1.5.0",
       "_model_name": "HBoxModel",
       "_view_count": null,
       "_view_module": "@jupyter-widgets/controls",
       "_view_module_version": "1.5.0",
       "_view_name": "HBoxView",
       "box_style": "",
       "children": [
        "IPY_MODEL_5d3572e562414fbcba6babd412461918",
        "IPY_MODEL_b83ab1c6e7e84aad968320fb52c40622",
        "IPY_MODEL_a0b494352d1746b9a40dcf95ad58caf0"
       ],
       "layout": "IPY_MODEL_4064f498cf1c4e4abd6b9c730f4fd43d"
      }
     },
     "a0b494352d1746b9a40dcf95ad58caf0": {
      "model_module": "@jupyter-widgets/controls",
      "model_module_version": "1.5.0",
      "model_name": "HTMLModel",
      "state": {
       "_dom_classes": [],
       "_model_module": "@jupyter-widgets/controls",
       "_model_module_version": "1.5.0",
       "_model_name": "HTMLModel",
       "_view_count": null,
       "_view_module": "@jupyter-widgets/controls",
       "_view_module_version": "1.5.0",
       "_view_name": "HTMLView",
       "description": "",
       "description_tooltip": null,
       "layout": "IPY_MODEL_6e333f290111490ca826e1d2e4d0d289",
       "placeholder": "​",
       "style": "IPY_MODEL_8a7aacd9e4d14f94b36fc749161b1c58",
       "value": " 226k/226k [00:00&lt;00:00, 419kB/s]"
      }
     },
     "a329a462a9ac4ea5a07da8b1a7e3389b": {
      "model_module": "@jupyter-widgets/controls",
      "model_module_version": "1.5.0",
      "model_name": "HTMLModel",
      "state": {
       "_dom_classes": [],
       "_model_module": "@jupyter-widgets/controls",
       "_model_module_version": "1.5.0",
       "_model_name": "HTMLModel",
       "_view_count": null,
       "_view_module": "@jupyter-widgets/controls",
       "_view_module_version": "1.5.0",
       "_view_name": "HTMLView",
       "description": "",
       "description_tooltip": null,
       "layout": "IPY_MODEL_7f54b98a919d451e87413ed4fcb69dc6",
       "placeholder": "​",
       "style": "IPY_MODEL_b3f45b8b04c34b2699db51db4495ecb0",
       "value": " 570/570 [00:00&lt;00:00, 21.7kB/s]"
      }
     },
     "a4f09d5ca7bd49f18c188355ec56f6a6": {
      "model_module": "@jupyter-widgets/base",
      "model_module_version": "1.2.0",
      "model_name": "LayoutModel",
      "state": {
       "_model_module": "@jupyter-widgets/base",
       "_model_module_version": "1.2.0",
       "_model_name": "LayoutModel",
       "_view_count": null,
       "_view_module": "@jupyter-widgets/base",
       "_view_module_version": "1.2.0",
       "_view_name": "LayoutView",
       "align_content": null,
       "align_items": null,
       "align_self": null,
       "border": null,
       "bottom": null,
       "display": null,
       "flex": null,
       "flex_flow": null,
       "grid_area": null,
       "grid_auto_columns": null,
       "grid_auto_flow": null,
       "grid_auto_rows": null,
       "grid_column": null,
       "grid_gap": null,
       "grid_row": null,
       "grid_template_areas": null,
       "grid_template_columns": null,
       "grid_template_rows": null,
       "height": null,
       "justify_content": null,
       "justify_items": null,
       "left": null,
       "margin": null,
       "max_height": null,
       "max_width": null,
       "min_height": null,
       "min_width": null,
       "object_fit": null,
       "object_position": null,
       "order": null,
       "overflow": null,
       "overflow_x": null,
       "overflow_y": null,
       "padding": null,
       "right": null,
       "top": null,
       "visibility": null,
       "width": null
      }
     },
     "a90948e5f14c47e0b22a0b92b510b592": {
      "model_module": "@jupyter-widgets/controls",
      "model_module_version": "1.5.0",
      "model_name": "DescriptionStyleModel",
      "state": {
       "_model_module": "@jupyter-widgets/controls",
       "_model_module_version": "1.5.0",
       "_model_name": "DescriptionStyleModel",
       "_view_count": null,
       "_view_module": "@jupyter-widgets/base",
       "_view_module_version": "1.2.0",
       "_view_name": "StyleView",
       "description_width": ""
      }
     },
     "aa03d63732314880bc6bc690ec33301a": {
      "model_module": "@jupyter-widgets/controls",
      "model_module_version": "1.5.0",
      "model_name": "DescriptionStyleModel",
      "state": {
       "_model_module": "@jupyter-widgets/controls",
       "_model_module_version": "1.5.0",
       "_model_name": "DescriptionStyleModel",
       "_view_count": null,
       "_view_module": "@jupyter-widgets/base",
       "_view_module_version": "1.2.0",
       "_view_name": "StyleView",
       "description_width": ""
      }
     },
     "ac08ff7d8944480d9d033c342331fba0": {
      "model_module": "@jupyter-widgets/base",
      "model_module_version": "1.2.0",
      "model_name": "LayoutModel",
      "state": {
       "_model_module": "@jupyter-widgets/base",
       "_model_module_version": "1.2.0",
       "_model_name": "LayoutModel",
       "_view_count": null,
       "_view_module": "@jupyter-widgets/base",
       "_view_module_version": "1.2.0",
       "_view_name": "LayoutView",
       "align_content": null,
       "align_items": null,
       "align_self": null,
       "border": null,
       "bottom": null,
       "display": null,
       "flex": null,
       "flex_flow": null,
       "grid_area": null,
       "grid_auto_columns": null,
       "grid_auto_flow": null,
       "grid_auto_rows": null,
       "grid_column": null,
       "grid_gap": null,
       "grid_row": null,
       "grid_template_areas": null,
       "grid_template_columns": null,
       "grid_template_rows": null,
       "height": null,
       "justify_content": null,
       "justify_items": null,
       "left": null,
       "margin": null,
       "max_height": null,
       "max_width": null,
       "min_height": null,
       "min_width": null,
       "object_fit": null,
       "object_position": null,
       "order": null,
       "overflow": null,
       "overflow_x": null,
       "overflow_y": null,
       "padding": null,
       "right": null,
       "top": null,
       "visibility": null,
       "width": null
      }
     },
     "ac738b325f144804a53a81034fdbce88": {
      "model_module": "@jupyter-widgets/controls",
      "model_module_version": "1.5.0",
      "model_name": "ProgressStyleModel",
      "state": {
       "_model_module": "@jupyter-widgets/controls",
       "_model_module_version": "1.5.0",
       "_model_name": "ProgressStyleModel",
       "_view_count": null,
       "_view_module": "@jupyter-widgets/base",
       "_view_module_version": "1.2.0",
       "_view_name": "StyleView",
       "bar_color": null,
       "description_width": ""
      }
     },
     "acb6b7fa3c6741b5acfa7f357891f12a": {
      "model_module": "@jupyter-widgets/base",
      "model_module_version": "1.2.0",
      "model_name": "LayoutModel",
      "state": {
       "_model_module": "@jupyter-widgets/base",
       "_model_module_version": "1.2.0",
       "_model_name": "LayoutModel",
       "_view_count": null,
       "_view_module": "@jupyter-widgets/base",
       "_view_module_version": "1.2.0",
       "_view_name": "LayoutView",
       "align_content": null,
       "align_items": null,
       "align_self": null,
       "border": null,
       "bottom": null,
       "display": null,
       "flex": null,
       "flex_flow": null,
       "grid_area": null,
       "grid_auto_columns": null,
       "grid_auto_flow": null,
       "grid_auto_rows": null,
       "grid_column": null,
       "grid_gap": null,
       "grid_row": null,
       "grid_template_areas": null,
       "grid_template_columns": null,
       "grid_template_rows": null,
       "height": null,
       "justify_content": null,
       "justify_items": null,
       "left": null,
       "margin": null,
       "max_height": null,
       "max_width": null,
       "min_height": null,
       "min_width": null,
       "object_fit": null,
       "object_position": null,
       "order": null,
       "overflow": null,
       "overflow_x": null,
       "overflow_y": null,
       "padding": null,
       "right": null,
       "top": null,
       "visibility": null,
       "width": null
      }
     },
     "af517b9a872f40c29a8f4b8215556f5e": {
      "model_module": "@jupyter-widgets/base",
      "model_module_version": "1.2.0",
      "model_name": "LayoutModel",
      "state": {
       "_model_module": "@jupyter-widgets/base",
       "_model_module_version": "1.2.0",
       "_model_name": "LayoutModel",
       "_view_count": null,
       "_view_module": "@jupyter-widgets/base",
       "_view_module_version": "1.2.0",
       "_view_name": "LayoutView",
       "align_content": null,
       "align_items": null,
       "align_self": null,
       "border": null,
       "bottom": null,
       "display": null,
       "flex": null,
       "flex_flow": null,
       "grid_area": null,
       "grid_auto_columns": null,
       "grid_auto_flow": null,
       "grid_auto_rows": null,
       "grid_column": null,
       "grid_gap": null,
       "grid_row": null,
       "grid_template_areas": null,
       "grid_template_columns": null,
       "grid_template_rows": null,
       "height": null,
       "justify_content": null,
       "justify_items": null,
       "left": null,
       "margin": null,
       "max_height": null,
       "max_width": null,
       "min_height": null,
       "min_width": null,
       "object_fit": null,
       "object_position": null,
       "order": null,
       "overflow": null,
       "overflow_x": null,
       "overflow_y": null,
       "padding": null,
       "right": null,
       "top": null,
       "visibility": null,
       "width": null
      }
     },
     "afa7be60ed3f487bb0910ce959bef740": {
      "model_module": "@jupyter-widgets/controls",
      "model_module_version": "1.5.0",
      "model_name": "HTMLModel",
      "state": {
       "_dom_classes": [],
       "_model_module": "@jupyter-widgets/controls",
       "_model_module_version": "1.5.0",
       "_model_name": "HTMLModel",
       "_view_count": null,
       "_view_module": "@jupyter-widgets/controls",
       "_view_module_version": "1.5.0",
       "_view_name": "HTMLView",
       "description": "",
       "description_tooltip": null,
       "layout": "IPY_MODEL_f5025ace3b7b472dae12ac63346dfbef",
       "placeholder": "​",
       "style": "IPY_MODEL_fd63c7383ab9487a886752b3bc25f1aa",
       "value": "Downloading: 100%"
      }
     },
     "b0b9a4edf67740c780d8cd3135f7d78a": {
      "model_module": "@jupyter-widgets/controls",
      "model_module_version": "1.5.0",
      "model_name": "DescriptionStyleModel",
      "state": {
       "_model_module": "@jupyter-widgets/controls",
       "_model_module_version": "1.5.0",
       "_model_name": "DescriptionStyleModel",
       "_view_count": null,
       "_view_module": "@jupyter-widgets/base",
       "_view_module_version": "1.2.0",
       "_view_name": "StyleView",
       "description_width": ""
      }
     },
     "b2a8bedb76e044cfa6ce2bf71e94b87f": {
      "model_module": "@jupyter-widgets/controls",
      "model_module_version": "1.5.0",
      "model_name": "ProgressStyleModel",
      "state": {
       "_model_module": "@jupyter-widgets/controls",
       "_model_module_version": "1.5.0",
       "_model_name": "ProgressStyleModel",
       "_view_count": null,
       "_view_module": "@jupyter-widgets/base",
       "_view_module_version": "1.2.0",
       "_view_name": "StyleView",
       "bar_color": null,
       "description_width": ""
      }
     },
     "b3f45b8b04c34b2699db51db4495ecb0": {
      "model_module": "@jupyter-widgets/controls",
      "model_module_version": "1.5.0",
      "model_name": "DescriptionStyleModel",
      "state": {
       "_model_module": "@jupyter-widgets/controls",
       "_model_module_version": "1.5.0",
       "_model_name": "DescriptionStyleModel",
       "_view_count": null,
       "_view_module": "@jupyter-widgets/base",
       "_view_module_version": "1.2.0",
       "_view_name": "StyleView",
       "description_width": ""
      }
     },
     "b83ab1c6e7e84aad968320fb52c40622": {
      "model_module": "@jupyter-widgets/controls",
      "model_module_version": "1.5.0",
      "model_name": "FloatProgressModel",
      "state": {
       "_dom_classes": [],
       "_model_module": "@jupyter-widgets/controls",
       "_model_module_version": "1.5.0",
       "_model_name": "FloatProgressModel",
       "_view_count": null,
       "_view_module": "@jupyter-widgets/controls",
       "_view_module_version": "1.5.0",
       "_view_name": "ProgressView",
       "bar_style": "success",
       "description": "",
       "description_tooltip": null,
       "layout": "IPY_MODEL_af517b9a872f40c29a8f4b8215556f5e",
       "max": 231508.0,
       "min": 0.0,
       "orientation": "horizontal",
       "style": "IPY_MODEL_b2a8bedb76e044cfa6ce2bf71e94b87f",
       "value": 231508.0
      }
     },
     "b890a72d1393416c9ab0e5d51a380c74": {
      "model_module": "@jupyter-widgets/controls",
      "model_module_version": "1.5.0",
      "model_name": "DescriptionStyleModel",
      "state": {
       "_model_module": "@jupyter-widgets/controls",
       "_model_module_version": "1.5.0",
       "_model_name": "DescriptionStyleModel",
       "_view_count": null,
       "_view_module": "@jupyter-widgets/base",
       "_view_module_version": "1.2.0",
       "_view_name": "StyleView",
       "description_width": ""
      }
     },
     "b9ab883c6c37484399e083561477b922": {
      "model_module": "@jupyter-widgets/controls",
      "model_module_version": "1.5.0",
      "model_name": "HTMLModel",
      "state": {
       "_dom_classes": [],
       "_model_module": "@jupyter-widgets/controls",
       "_model_module_version": "1.5.0",
       "_model_name": "HTMLModel",
       "_view_count": null,
       "_view_module": "@jupyter-widgets/controls",
       "_view_module_version": "1.5.0",
       "_view_name": "HTMLView",
       "description": "",
       "description_tooltip": null,
       "layout": "IPY_MODEL_23b9b3af17ee4bb789bfa64abf536e83",
       "placeholder": "​",
       "style": "IPY_MODEL_5b284815a25c49bd880587814c8cda5c",
       "value": " 481/481 [00:00&lt;00:00, 17.0kB/s]"
      }
     },
     "cbfc2c9795a14265b0ad2fa3b4a6504f": {
      "model_module": "@jupyter-widgets/controls",
      "model_module_version": "1.5.0",
      "model_name": "FloatProgressModel",
      "state": {
       "_dom_classes": [],
       "_model_module": "@jupyter-widgets/controls",
       "_model_module_version": "1.5.0",
       "_model_name": "FloatProgressModel",
       "_view_count": null,
       "_view_module": "@jupyter-widgets/controls",
       "_view_module_version": "1.5.0",
       "_view_name": "ProgressView",
       "bar_style": "success",
       "description": "",
       "description_tooltip": null,
       "layout": "IPY_MODEL_8698743bd61348a4b4df4a95e5bb6946",
       "max": 456318.0,
       "min": 0.0,
       "orientation": "horizontal",
       "style": "IPY_MODEL_1391e13b8fab44349acfa3de476eae75",
       "value": 456318.0
      }
     },
     "d715e865d5da4f7284a4266516f835f1": {
      "model_module": "@jupyter-widgets/base",
      "model_module_version": "1.2.0",
      "model_name": "LayoutModel",
      "state": {
       "_model_module": "@jupyter-widgets/base",
       "_model_module_version": "1.2.0",
       "_model_name": "LayoutModel",
       "_view_count": null,
       "_view_module": "@jupyter-widgets/base",
       "_view_module_version": "1.2.0",
       "_view_name": "LayoutView",
       "align_content": null,
       "align_items": null,
       "align_self": null,
       "border": null,
       "bottom": null,
       "display": null,
       "flex": null,
       "flex_flow": null,
       "grid_area": null,
       "grid_auto_columns": null,
       "grid_auto_flow": null,
       "grid_auto_rows": null,
       "grid_column": null,
       "grid_gap": null,
       "grid_row": null,
       "grid_template_areas": null,
       "grid_template_columns": null,
       "grid_template_rows": null,
       "height": null,
       "justify_content": null,
       "justify_items": null,
       "left": null,
       "margin": null,
       "max_height": null,
       "max_width": null,
       "min_height": null,
       "min_width": null,
       "object_fit": null,
       "object_position": null,
       "order": null,
       "overflow": null,
       "overflow_x": null,
       "overflow_y": null,
       "padding": null,
       "right": null,
       "top": null,
       "visibility": null,
       "width": null
      }
     },
     "d988b46fc529414aade15c2f4cbb42b5": {
      "model_module": "@jupyter-widgets/controls",
      "model_module_version": "1.5.0",
      "model_name": "ProgressStyleModel",
      "state": {
       "_model_module": "@jupyter-widgets/controls",
       "_model_module_version": "1.5.0",
       "_model_name": "ProgressStyleModel",
       "_view_count": null,
       "_view_module": "@jupyter-widgets/base",
       "_view_module_version": "1.2.0",
       "_view_name": "StyleView",
       "bar_color": null,
       "description_width": ""
      }
     },
     "d9e5500d8ed848f9b9fa11c31fb8e95c": {
      "model_module": "@jupyter-widgets/controls",
      "model_module_version": "1.5.0",
      "model_name": "HBoxModel",
      "state": {
       "_dom_classes": [],
       "_model_module": "@jupyter-widgets/controls",
       "_model_module_version": "1.5.0",
       "_model_name": "HBoxModel",
       "_view_count": null,
       "_view_module": "@jupyter-widgets/controls",
       "_view_module_version": "1.5.0",
       "_view_name": "HBoxView",
       "box_style": "",
       "children": [
        "IPY_MODEL_99fa028d66864ed88cdfdbe8daf19559",
        "IPY_MODEL_5166040767994537b69434d291cf4283",
        "IPY_MODEL_6490d546cd0c45e4bcc9a403c3bb845c"
       ],
       "layout": "IPY_MODEL_8d0fdac87a9f4793b379f7902d6d7e15"
      }
     },
     "db89244066a640899c546282f1477d4a": {
      "model_module": "@jupyter-widgets/controls",
      "model_module_version": "1.5.0",
      "model_name": "HTMLModel",
      "state": {
       "_dom_classes": [],
       "_model_module": "@jupyter-widgets/controls",
       "_model_module_version": "1.5.0",
       "_model_name": "HTMLModel",
       "_view_count": null,
       "_view_module": "@jupyter-widgets/controls",
       "_view_module_version": "1.5.0",
       "_view_name": "HTMLView",
       "description": "",
       "description_tooltip": null,
       "layout": "IPY_MODEL_6b548817740c4fb68cd19654dcf3b6ea",
       "placeholder": "​",
       "style": "IPY_MODEL_aa03d63732314880bc6bc690ec33301a",
       "value": "Downloading: 100%"
      }
     },
     "dbe6f7d47f414b989c099af079a66353": {
      "model_module": "@jupyter-widgets/controls",
      "model_module_version": "1.5.0",
      "model_name": "FloatProgressModel",
      "state": {
       "_dom_classes": [],
       "_model_module": "@jupyter-widgets/controls",
       "_model_module_version": "1.5.0",
       "_model_name": "FloatProgressModel",
       "_view_count": null,
       "_view_module": "@jupyter-widgets/controls",
       "_view_module_version": "1.5.0",
       "_view_name": "ProgressView",
       "bar_style": "success",
       "description": "",
       "description_tooltip": null,
       "layout": "IPY_MODEL_0786a8dafe5d4e5487a5cb35e6d9f6f8",
       "max": 898823.0,
       "min": 0.0,
       "orientation": "horizontal",
       "style": "IPY_MODEL_ac738b325f144804a53a81034fdbce88",
       "value": 898823.0
      }
     },
     "deb5d6c310c948f598c0bdaa31071e14": {
      "model_module": "@jupyter-widgets/controls",
      "model_module_version": "1.5.0",
      "model_name": "DescriptionStyleModel",
      "state": {
       "_model_module": "@jupyter-widgets/controls",
       "_model_module_version": "1.5.0",
       "_model_name": "DescriptionStyleModel",
       "_view_count": null,
       "_view_module": "@jupyter-widgets/base",
       "_view_module_version": "1.2.0",
       "_view_name": "StyleView",
       "description_width": ""
      }
     },
     "e48377e74097414b97a3206f7017ab73": {
      "model_module": "@jupyter-widgets/controls",
      "model_module_version": "1.5.0",
      "model_name": "HTMLModel",
      "state": {
       "_dom_classes": [],
       "_model_module": "@jupyter-widgets/controls",
       "_model_module_version": "1.5.0",
       "_model_name": "HTMLModel",
       "_view_count": null,
       "_view_module": "@jupyter-widgets/controls",
       "_view_module_version": "1.5.0",
       "_view_name": "HTMLView",
       "description": "",
       "description_tooltip": null,
       "layout": "IPY_MODEL_8e35b6fe711c49f5ae981d908a94035d",
       "placeholder": "​",
       "style": "IPY_MODEL_a90948e5f14c47e0b22a0b92b510b592",
       "value": " 878k/878k [00:00&lt;00:00, 2.12MB/s]"
      }
     },
     "e53e23545c4a4085ac4a290bf6589cf6": {
      "model_module": "@jupyter-widgets/base",
      "model_module_version": "1.2.0",
      "model_name": "LayoutModel",
      "state": {
       "_model_module": "@jupyter-widgets/base",
       "_model_module_version": "1.2.0",
       "_model_name": "LayoutModel",
       "_view_count": null,
       "_view_module": "@jupyter-widgets/base",
       "_view_module_version": "1.2.0",
       "_view_name": "LayoutView",
       "align_content": null,
       "align_items": null,
       "align_self": null,
       "border": null,
       "bottom": null,
       "display": null,
       "flex": null,
       "flex_flow": null,
       "grid_area": null,
       "grid_auto_columns": null,
       "grid_auto_flow": null,
       "grid_auto_rows": null,
       "grid_column": null,
       "grid_gap": null,
       "grid_row": null,
       "grid_template_areas": null,
       "grid_template_columns": null,
       "grid_template_rows": null,
       "height": null,
       "justify_content": null,
       "justify_items": null,
       "left": null,
       "margin": null,
       "max_height": null,
       "max_width": null,
       "min_height": null,
       "min_width": null,
       "object_fit": null,
       "object_position": null,
       "order": null,
       "overflow": null,
       "overflow_x": null,
       "overflow_y": null,
       "padding": null,
       "right": null,
       "top": null,
       "visibility": null,
       "width": null
      }
     },
     "ede289e70acd4c07aab6a418c49037fd": {
      "model_module": "@jupyter-widgets/base",
      "model_module_version": "1.2.0",
      "model_name": "LayoutModel",
      "state": {
       "_model_module": "@jupyter-widgets/base",
       "_model_module_version": "1.2.0",
       "_model_name": "LayoutModel",
       "_view_count": null,
       "_view_module": "@jupyter-widgets/base",
       "_view_module_version": "1.2.0",
       "_view_name": "LayoutView",
       "align_content": null,
       "align_items": null,
       "align_self": null,
       "border": null,
       "bottom": null,
       "display": null,
       "flex": null,
       "flex_flow": null,
       "grid_area": null,
       "grid_auto_columns": null,
       "grid_auto_flow": null,
       "grid_auto_rows": null,
       "grid_column": null,
       "grid_gap": null,
       "grid_row": null,
       "grid_template_areas": null,
       "grid_template_columns": null,
       "grid_template_rows": null,
       "height": null,
       "justify_content": null,
       "justify_items": null,
       "left": null,
       "margin": null,
       "max_height": null,
       "max_width": null,
       "min_height": null,
       "min_width": null,
       "object_fit": null,
       "object_position": null,
       "order": null,
       "overflow": null,
       "overflow_x": null,
       "overflow_y": null,
       "padding": null,
       "right": null,
       "top": null,
       "visibility": null,
       "width": null
      }
     },
     "f275d106bcf1450ba9eb24c034d7ea67": {
      "model_module": "@jupyter-widgets/controls",
      "model_module_version": "1.5.0",
      "model_name": "DescriptionStyleModel",
      "state": {
       "_model_module": "@jupyter-widgets/controls",
       "_model_module_version": "1.5.0",
       "_model_name": "DescriptionStyleModel",
       "_view_count": null,
       "_view_module": "@jupyter-widgets/base",
       "_view_module_version": "1.2.0",
       "_view_name": "StyleView",
       "description_width": ""
      }
     },
     "f42ba3a459bb4ac3968757e83f420c20": {
      "model_module": "@jupyter-widgets/controls",
      "model_module_version": "1.5.0",
      "model_name": "FloatProgressModel",
      "state": {
       "_dom_classes": [],
       "_model_module": "@jupyter-widgets/controls",
       "_model_module_version": "1.5.0",
       "_model_name": "FloatProgressModel",
       "_view_count": null,
       "_view_module": "@jupyter-widgets/controls",
       "_view_module_version": "1.5.0",
       "_view_name": "ProgressView",
       "bar_style": "success",
       "description": "",
       "description_tooltip": null,
       "layout": "IPY_MODEL_e53e23545c4a4085ac4a290bf6589cf6",
       "max": 481.0,
       "min": 0.0,
       "orientation": "horizontal",
       "style": "IPY_MODEL_263fd7c8721141be93cea43c57e14efd",
       "value": 481.0
      }
     },
     "f5025ace3b7b472dae12ac63346dfbef": {
      "model_module": "@jupyter-widgets/base",
      "model_module_version": "1.2.0",
      "model_name": "LayoutModel",
      "state": {
       "_model_module": "@jupyter-widgets/base",
       "_model_module_version": "1.2.0",
       "_model_name": "LayoutModel",
       "_view_count": null,
       "_view_module": "@jupyter-widgets/base",
       "_view_module_version": "1.2.0",
       "_view_name": "LayoutView",
       "align_content": null,
       "align_items": null,
       "align_self": null,
       "border": null,
       "bottom": null,
       "display": null,
       "flex": null,
       "flex_flow": null,
       "grid_area": null,
       "grid_auto_columns": null,
       "grid_auto_flow": null,
       "grid_auto_rows": null,
       "grid_column": null,
       "grid_gap": null,
       "grid_row": null,
       "grid_template_areas": null,
       "grid_template_columns": null,
       "grid_template_rows": null,
       "height": null,
       "justify_content": null,
       "justify_items": null,
       "left": null,
       "margin": null,
       "max_height": null,
       "max_width": null,
       "min_height": null,
       "min_width": null,
       "object_fit": null,
       "object_position": null,
       "order": null,
       "overflow": null,
       "overflow_x": null,
       "overflow_y": null,
       "padding": null,
       "right": null,
       "top": null,
       "visibility": null,
       "width": null
      }
     },
     "f7c6e08cd5e64cfb8431bd0e35efe0b2": {
      "model_module": "@jupyter-widgets/controls",
      "model_module_version": "1.5.0",
      "model_name": "DescriptionStyleModel",
      "state": {
       "_model_module": "@jupyter-widgets/controls",
       "_model_module_version": "1.5.0",
       "_model_name": "DescriptionStyleModel",
       "_view_count": null,
       "_view_module": "@jupyter-widgets/base",
       "_view_module_version": "1.2.0",
       "_view_name": "StyleView",
       "description_width": ""
      }
     },
     "fd63c7383ab9487a886752b3bc25f1aa": {
      "model_module": "@jupyter-widgets/controls",
      "model_module_version": "1.5.0",
      "model_name": "DescriptionStyleModel",
      "state": {
       "_model_module": "@jupyter-widgets/controls",
       "_model_module_version": "1.5.0",
       "_model_name": "DescriptionStyleModel",
       "_view_count": null,
       "_view_module": "@jupyter-widgets/base",
       "_view_module_version": "1.2.0",
       "_view_name": "StyleView",
       "description_width": ""
      }
     }
    },
    "version_major": 2,
    "version_minor": 0
   }
  }
 },
 "nbformat": 4,
 "nbformat_minor": 5
}
