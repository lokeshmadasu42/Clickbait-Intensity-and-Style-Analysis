{
 "cells": [
  {
   "cell_type": "code",
   "execution_count": 1,
   "id": "92ee6d7a",
   "metadata": {
    "_cell_guid": "b1076dfc-b9ad-4769-8c92-a6c4dae69d19",
    "_uuid": "8f2839f25d086af736a60e9eeb907d3b93b6e0e5",
    "execution": {
     "iopub.execute_input": "2022-10-28T07:52:39.644883Z",
     "iopub.status.busy": "2022-10-28T07:52:39.644468Z",
     "iopub.status.idle": "2022-10-28T07:52:39.655711Z",
     "shell.execute_reply": "2022-10-28T07:52:39.654548Z"
    },
    "papermill": {
     "duration": 0.024502,
     "end_time": "2022-10-28T07:52:39.658039",
     "exception": false,
     "start_time": "2022-10-28T07:52:39.633537",
     "status": "completed"
    },
    "tags": []
   },
   "outputs": [],
   "source": [
    "import pandas as pd\n",
    "import numpy as np\n",
    "import re\n",
    "from tqdm import tqdm"
   ]
  },
  {
   "cell_type": "code",
   "execution_count": 2,
   "id": "26782abc",
   "metadata": {
    "execution": {
     "iopub.execute_input": "2022-10-28T07:52:39.676278Z",
     "iopub.status.busy": "2022-10-28T07:52:39.674940Z",
     "iopub.status.idle": "2022-10-28T07:52:45.566789Z",
     "shell.execute_reply": "2022-10-28T07:52:45.565817Z"
    },
    "papermill": {
     "duration": 5.902902,
     "end_time": "2022-10-28T07:52:45.569177",
     "exception": false,
     "start_time": "2022-10-28T07:52:39.666275",
     "status": "completed"
    },
    "tags": []
   },
   "outputs": [],
   "source": [
    "import tensorflow as tf\n",
    "import tensorflow_hub as hub"
   ]
  },
  {
   "cell_type": "code",
   "execution_count": 3,
   "id": "4066d9a3",
   "metadata": {
    "execution": {
     "iopub.execute_input": "2022-10-28T07:52:45.587341Z",
     "iopub.status.busy": "2022-10-28T07:52:45.586826Z",
     "iopub.status.idle": "2022-10-28T07:52:45.715731Z",
     "shell.execute_reply": "2022-10-28T07:52:45.714750Z"
    },
    "papermill": {
     "duration": 0.140517,
     "end_time": "2022-10-28T07:52:45.718245",
     "exception": false,
     "start_time": "2022-10-28T07:52:45.577728",
     "status": "completed"
    },
    "tags": []
   },
   "outputs": [],
   "source": [
    "train_df=pd.read_csv('../input/ire-major-data-v2/train_df.csv')\n",
    "test_df=pd.read_csv('../input/ire-major-data-v2/test_set_with_paraphrases.csv')"
   ]
  },
  {
   "cell_type": "code",
   "execution_count": 4,
   "id": "dee69a62",
   "metadata": {
    "execution": {
     "iopub.execute_input": "2022-10-28T07:52:45.736292Z",
     "iopub.status.busy": "2022-10-28T07:52:45.735969Z",
     "iopub.status.idle": "2022-10-28T07:52:45.752694Z",
     "shell.execute_reply": "2022-10-28T07:52:45.751660Z"
    },
    "papermill": {
     "duration": 0.028185,
     "end_time": "2022-10-28T07:52:45.755656",
     "exception": false,
     "start_time": "2022-10-28T07:52:45.727471",
     "status": "completed"
    },
    "tags": []
   },
   "outputs": [
    {
     "data": {
      "text/html": [
       "<div>\n",
       "<style scoped>\n",
       "    .dataframe tbody tr th:only-of-type {\n",
       "        vertical-align: middle;\n",
       "    }\n",
       "\n",
       "    .dataframe tbody tr th {\n",
       "        vertical-align: top;\n",
       "    }\n",
       "\n",
       "    .dataframe thead th {\n",
       "        text-align: right;\n",
       "    }\n",
       "</style>\n",
       "<table border=\"1\" class=\"dataframe\">\n",
       "  <thead>\n",
       "    <tr style=\"text-align: right;\">\n",
       "      <th></th>\n",
       "      <th>Unnamed: 0</th>\n",
       "      <th>SNO</th>\n",
       "      <th>Intensity</th>\n",
       "      <th>Text</th>\n",
       "      <th>label</th>\n",
       "      <th>#tokens</th>\n",
       "    </tr>\n",
       "  </thead>\n",
       "  <tbody>\n",
       "    <tr>\n",
       "      <th>0</th>\n",
       "      <td>0</td>\n",
       "      <td>839551577044234245</td>\n",
       "      <td>0.533333</td>\n",
       "      <td>Perspective: These agencies helped make Americ...</td>\n",
       "      <td>clickbait</td>\n",
       "      <td>26</td>\n",
       "    </tr>\n",
       "    <tr>\n",
       "      <th>1</th>\n",
       "      <td>1</td>\n",
       "      <td>844843703847944192</td>\n",
       "      <td>0.133333</td>\n",
       "      <td>Seven arrests made in raids after London attac...</td>\n",
       "      <td>no-clickbait</td>\n",
       "      <td>21</td>\n",
       "    </tr>\n",
       "  </tbody>\n",
       "</table>\n",
       "</div>"
      ],
      "text/plain": [
       "   Unnamed: 0                 SNO  Intensity  \\\n",
       "0           0  839551577044234245   0.533333   \n",
       "1           1  844843703847944192   0.133333   \n",
       "\n",
       "                                                Text         label  #tokens  \n",
       "0  Perspective: These agencies helped make Americ...     clickbait       26  \n",
       "1  Seven arrests made in raids after London attac...  no-clickbait       21  "
      ]
     },
     "execution_count": 4,
     "metadata": {},
     "output_type": "execute_result"
    }
   ],
   "source": [
    "train_df.head(2)"
   ]
  },
  {
   "cell_type": "code",
   "execution_count": 5,
   "id": "f235fd24",
   "metadata": {
    "execution": {
     "iopub.execute_input": "2022-10-28T07:52:45.772103Z",
     "iopub.status.busy": "2022-10-28T07:52:45.771815Z",
     "iopub.status.idle": "2022-10-28T07:52:45.782963Z",
     "shell.execute_reply": "2022-10-28T07:52:45.782101Z"
    },
    "papermill": {
     "duration": 0.021541,
     "end_time": "2022-10-28T07:52:45.784877",
     "exception": false,
     "start_time": "2022-10-28T07:52:45.763336",
     "status": "completed"
    },
    "tags": []
   },
   "outputs": [
    {
     "data": {
      "text/html": [
       "<div>\n",
       "<style scoped>\n",
       "    .dataframe tbody tr th:only-of-type {\n",
       "        vertical-align: middle;\n",
       "    }\n",
       "\n",
       "    .dataframe tbody tr th {\n",
       "        vertical-align: top;\n",
       "    }\n",
       "\n",
       "    .dataframe thead th {\n",
       "        text-align: right;\n",
       "    }\n",
       "</style>\n",
       "<table border=\"1\" class=\"dataframe\">\n",
       "  <thead>\n",
       "    <tr style=\"text-align: right;\">\n",
       "      <th></th>\n",
       "      <th>Unnamed: 0</th>\n",
       "      <th>SNO</th>\n",
       "      <th>Intensity</th>\n",
       "      <th>Text</th>\n",
       "      <th>label</th>\n",
       "      <th>#tokens</th>\n",
       "      <th>Paraphrased_Text</th>\n",
       "      <th>Paraphrased_Text_Pegasus</th>\n",
       "    </tr>\n",
       "  </thead>\n",
       "  <tbody>\n",
       "    <tr>\n",
       "      <th>0</th>\n",
       "      <td>0</td>\n",
       "      <td>833654544412340224</td>\n",
       "      <td>0.000000</td>\n",
       "      <td>Abu Dhabi awards China’s CNPC a stake in its l...</td>\n",
       "      <td>no-clickbait</td>\n",
       "      <td>25</td>\n",
       "      <td>Abu Dhabi awarded China's CNPC a stake in its ...</td>\n",
       "      <td>The largest oil concession in Abu Dhabi has a ...</td>\n",
       "    </tr>\n",
       "    <tr>\n",
       "      <th>1</th>\n",
       "      <td>1</td>\n",
       "      <td>821482229213728768</td>\n",
       "      <td>0.066667</td>\n",
       "      <td>Former CIA rendition agent issues plea to Dona...</td>\n",
       "      <td>no-clickbait</td>\n",
       "      <td>17</td>\n",
       "      <td>Former CIA rendition agent issues plea to Dona...</td>\n",
       "      <td>The former CIA rendition agent is facing jail ...</td>\n",
       "    </tr>\n",
       "  </tbody>\n",
       "</table>\n",
       "</div>"
      ],
      "text/plain": [
       "   Unnamed: 0                 SNO  Intensity  \\\n",
       "0           0  833654544412340224   0.000000   \n",
       "1           1  821482229213728768   0.066667   \n",
       "\n",
       "                                                Text         label  #tokens  \\\n",
       "0  Abu Dhabi awards China’s CNPC a stake in its l...  no-clickbait       25   \n",
       "1  Former CIA rendition agent issues plea to Dona...  no-clickbait       17   \n",
       "\n",
       "                                    Paraphrased_Text  \\\n",
       "0  Abu Dhabi awarded China's CNPC a stake in its ...   \n",
       "1  Former CIA rendition agent issues plea to Dona...   \n",
       "\n",
       "                            Paraphrased_Text_Pegasus  \n",
       "0  The largest oil concession in Abu Dhabi has a ...  \n",
       "1  The former CIA rendition agent is facing jail ...  "
      ]
     },
     "execution_count": 5,
     "metadata": {},
     "output_type": "execute_result"
    }
   ],
   "source": [
    "test_df.head(2)"
   ]
  },
  {
   "cell_type": "code",
   "execution_count": 6,
   "id": "fe8ee84a",
   "metadata": {
    "execution": {
     "iopub.execute_input": "2022-10-28T07:52:45.802430Z",
     "iopub.status.busy": "2022-10-28T07:52:45.801610Z",
     "iopub.status.idle": "2022-10-28T07:52:45.849573Z",
     "shell.execute_reply": "2022-10-28T07:52:45.848719Z"
    },
    "papermill": {
     "duration": 0.0588,
     "end_time": "2022-10-28T07:52:45.851571",
     "exception": false,
     "start_time": "2022-10-28T07:52:45.792771",
     "status": "completed"
    },
    "tags": []
   },
   "outputs": [],
   "source": [
    "fill_na=[]\n",
    "for i in range(len(test_df)):\n",
    "    text=test_df['Paraphrased_Text_Pegasus'].iloc[i]\n",
    "    if str(text)==str(np.nan):\n",
    "        fill_na.append(test_df['Text'].iloc[i])\n",
    "    else:\n",
    "        fill_na.append(text)"
   ]
  },
  {
   "cell_type": "code",
   "execution_count": 7,
   "id": "62a0dba4",
   "metadata": {
    "execution": {
     "iopub.execute_input": "2022-10-28T07:52:45.869177Z",
     "iopub.status.busy": "2022-10-28T07:52:45.868894Z",
     "iopub.status.idle": "2022-10-28T07:52:45.873440Z",
     "shell.execute_reply": "2022-10-28T07:52:45.872530Z"
    },
    "papermill": {
     "duration": 0.015617,
     "end_time": "2022-10-28T07:52:45.875727",
     "exception": false,
     "start_time": "2022-10-28T07:52:45.860110",
     "status": "completed"
    },
    "tags": []
   },
   "outputs": [],
   "source": [
    "test_df['Paraphrased_Text_Pegasus']=fill_na"
   ]
  },
  {
   "cell_type": "code",
   "execution_count": 8,
   "id": "8de258cc",
   "metadata": {
    "execution": {
     "iopub.execute_input": "2022-10-28T07:52:45.893726Z",
     "iopub.status.busy": "2022-10-28T07:52:45.892871Z",
     "iopub.status.idle": "2022-10-28T07:52:45.899462Z",
     "shell.execute_reply": "2022-10-28T07:52:45.897890Z"
    },
    "papermill": {
     "duration": 0.018272,
     "end_time": "2022-10-28T07:52:45.901971",
     "exception": false,
     "start_time": "2022-10-28T07:52:45.883699",
     "status": "completed"
    },
    "tags": []
   },
   "outputs": [
    {
     "name": "stdout",
     "output_type": "stream",
     "text": [
      "Length of train set\t: 17497\n",
      "Length of test set\t: 4337\n",
      "Total data size\t\t: 21834\n"
     ]
    }
   ],
   "source": [
    "print('Length of train set\\t:',len(train_df))\n",
    "print('Length of test set\\t:',len(test_df))\n",
    "print('Total data size\\t\\t:',len(train_df)+len(test_df))"
   ]
  },
  {
   "cell_type": "code",
   "execution_count": 9,
   "id": "5c76e501",
   "metadata": {
    "execution": {
     "iopub.execute_input": "2022-10-28T07:52:45.920001Z",
     "iopub.status.busy": "2022-10-28T07:52:45.919279Z",
     "iopub.status.idle": "2022-10-28T07:52:45.929157Z",
     "shell.execute_reply": "2022-10-28T07:52:45.928327Z"
    },
    "papermill": {
     "duration": 0.020628,
     "end_time": "2022-10-28T07:52:45.931131",
     "exception": false,
     "start_time": "2022-10-28T07:52:45.910503",
     "status": "completed"
    },
    "tags": []
   },
   "outputs": [],
   "source": [
    "train_df['label']=['clickbait' if i>=0.5 else 'no-clickbait' for i in train_df['Intensity']]\n",
    "test_df['label']=['clickbait' if i>=0.5 else 'no-clickbait' for i in test_df['Intensity']]"
   ]
  },
  {
   "cell_type": "code",
   "execution_count": 10,
   "id": "50b2cdca",
   "metadata": {
    "execution": {
     "iopub.execute_input": "2022-10-28T07:52:45.948327Z",
     "iopub.status.busy": "2022-10-28T07:52:45.947594Z",
     "iopub.status.idle": "2022-10-28T07:52:45.957643Z",
     "shell.execute_reply": "2022-10-28T07:52:45.956639Z"
    },
    "papermill": {
     "duration": 0.020771,
     "end_time": "2022-10-28T07:52:45.959699",
     "exception": false,
     "start_time": "2022-10-28T07:52:45.938928",
     "status": "completed"
    },
    "tags": []
   },
   "outputs": [
    {
     "data": {
      "text/plain": [
       "no-clickbait    13221\n",
       "clickbait        4276\n",
       "Name: label, dtype: int64"
      ]
     },
     "execution_count": 10,
     "metadata": {},
     "output_type": "execute_result"
    }
   ],
   "source": [
    "train_df['label'].value_counts()"
   ]
  },
  {
   "cell_type": "code",
   "execution_count": 11,
   "id": "2e7b48ed",
   "metadata": {
    "execution": {
     "iopub.execute_input": "2022-10-28T07:52:45.976896Z",
     "iopub.status.busy": "2022-10-28T07:52:45.976638Z",
     "iopub.status.idle": "2022-10-28T07:52:45.983689Z",
     "shell.execute_reply": "2022-10-28T07:52:45.982780Z"
    },
    "papermill": {
     "duration": 0.017834,
     "end_time": "2022-10-28T07:52:45.985631",
     "exception": false,
     "start_time": "2022-10-28T07:52:45.967797",
     "status": "completed"
    },
    "tags": []
   },
   "outputs": [
    {
     "data": {
      "text/plain": [
       "no-clickbait    3235\n",
       "clickbait       1102\n",
       "Name: label, dtype: int64"
      ]
     },
     "execution_count": 11,
     "metadata": {},
     "output_type": "execute_result"
    }
   ],
   "source": [
    "test_df['label'].value_counts()"
   ]
  },
  {
   "cell_type": "code",
   "execution_count": null,
   "id": "5e0b91d9",
   "metadata": {
    "papermill": {
     "duration": 0.007913,
     "end_time": "2022-10-28T07:52:46.001609",
     "exception": false,
     "start_time": "2022-10-28T07:52:45.993696",
     "status": "completed"
    },
    "tags": []
   },
   "outputs": [],
   "source": []
  },
  {
   "cell_type": "code",
   "execution_count": 12,
   "id": "3d8f4c17",
   "metadata": {
    "execution": {
     "iopub.execute_input": "2022-10-28T07:52:46.019461Z",
     "iopub.status.busy": "2022-10-28T07:52:46.018709Z",
     "iopub.status.idle": "2022-10-28T07:53:17.649243Z",
     "shell.execute_reply": "2022-10-28T07:53:17.648216Z"
    },
    "papermill": {
     "duration": 31.641679,
     "end_time": "2022-10-28T07:53:17.651376",
     "exception": false,
     "start_time": "2022-10-28T07:52:46.009697",
     "status": "completed"
    },
    "tags": []
   },
   "outputs": [
    {
     "data": {
      "application/vnd.jupyter.widget-view+json": {
       "model_id": "0c3c6e660da240e6b87a6396e627b7cd",
       "version_major": 2,
       "version_minor": 0
      },
      "text/plain": [
       "Downloading:   0%|          | 0.00/878k [00:00<?, ?B/s]"
      ]
     },
     "metadata": {},
     "output_type": "display_data"
    },
    {
     "data": {
      "application/vnd.jupyter.widget-view+json": {
       "model_id": "b195343fb09b4922a42ad21d9966500b",
       "version_major": 2,
       "version_minor": 0
      },
      "text/plain": [
       "Downloading:   0%|          | 0.00/446k [00:00<?, ?B/s]"
      ]
     },
     "metadata": {},
     "output_type": "display_data"
    },
    {
     "data": {
      "application/vnd.jupyter.widget-view+json": {
       "model_id": "0fb7d30a818e4badbd6e149d4d098ba4",
       "version_major": 2,
       "version_minor": 0
      },
      "text/plain": [
       "Downloading:   0%|          | 0.00/481 [00:00<?, ?B/s]"
      ]
     },
     "metadata": {},
     "output_type": "display_data"
    },
    {
     "data": {
      "application/vnd.jupyter.widget-view+json": {
       "model_id": "e4d27b9a4f8e4788a1900fdd5cf7905a",
       "version_major": 2,
       "version_minor": 0
      },
      "text/plain": [
       "Downloading:   0%|          | 0.00/478M [00:00<?, ?B/s]"
      ]
     },
     "metadata": {},
     "output_type": "display_data"
    },
    {
     "name": "stderr",
     "output_type": "stream",
     "text": [
      "Some weights of the model checkpoint at roberta-base were not used when initializing RobertaModel: ['lm_head.decoder.weight', 'lm_head.bias', 'lm_head.layer_norm.weight', 'lm_head.layer_norm.bias', 'lm_head.dense.weight', 'lm_head.dense.bias']\n",
      "- This IS expected if you are initializing RobertaModel from the checkpoint of a model trained on another task or with another architecture (e.g. initializing a BertForSequenceClassification model from a BertForPreTraining model).\n",
      "- This IS NOT expected if you are initializing RobertaModel from the checkpoint of a model that you expect to be exactly identical (initializing a BertForSequenceClassification model from a BertForSequenceClassification model).\n"
     ]
    }
   ],
   "source": [
    "from transformers import RobertaTokenizer, RobertaModel\n",
    "import torch\n",
    "\n",
    "tokenizer = RobertaTokenizer.from_pretrained(\"roberta-base\")\n",
    "model = RobertaModel.from_pretrained(\"roberta-base\")"
   ]
  },
  {
   "cell_type": "code",
   "execution_count": 13,
   "id": "94762532",
   "metadata": {
    "_kg_hide-output": true,
    "execution": {
     "iopub.execute_input": "2022-10-28T07:53:17.670629Z",
     "iopub.status.busy": "2022-10-28T07:53:17.670333Z",
     "iopub.status.idle": "2022-10-28T07:53:22.825919Z",
     "shell.execute_reply": "2022-10-28T07:53:22.824987Z"
    },
    "papermill": {
     "duration": 5.167716,
     "end_time": "2022-10-28T07:53:22.828124",
     "exception": false,
     "start_time": "2022-10-28T07:53:17.660408",
     "status": "completed"
    },
    "tags": []
   },
   "outputs": [
    {
     "data": {
      "text/plain": [
       "RobertaModel(\n",
       "  (embeddings): RobertaEmbeddings(\n",
       "    (word_embeddings): Embedding(50265, 768, padding_idx=1)\n",
       "    (position_embeddings): Embedding(514, 768, padding_idx=1)\n",
       "    (token_type_embeddings): Embedding(1, 768)\n",
       "    (LayerNorm): LayerNorm((768,), eps=1e-05, elementwise_affine=True)\n",
       "    (dropout): Dropout(p=0.1, inplace=False)\n",
       "  )\n",
       "  (encoder): RobertaEncoder(\n",
       "    (layer): ModuleList(\n",
       "      (0): RobertaLayer(\n",
       "        (attention): RobertaAttention(\n",
       "          (self): RobertaSelfAttention(\n",
       "            (query): Linear(in_features=768, out_features=768, bias=True)\n",
       "            (key): Linear(in_features=768, out_features=768, bias=True)\n",
       "            (value): Linear(in_features=768, out_features=768, bias=True)\n",
       "            (dropout): Dropout(p=0.1, inplace=False)\n",
       "          )\n",
       "          (output): RobertaSelfOutput(\n",
       "            (dense): Linear(in_features=768, out_features=768, bias=True)\n",
       "            (LayerNorm): LayerNorm((768,), eps=1e-05, elementwise_affine=True)\n",
       "            (dropout): Dropout(p=0.1, inplace=False)\n",
       "          )\n",
       "        )\n",
       "        (intermediate): RobertaIntermediate(\n",
       "          (dense): Linear(in_features=768, out_features=3072, bias=True)\n",
       "          (intermediate_act_fn): GELUActivation()\n",
       "        )\n",
       "        (output): RobertaOutput(\n",
       "          (dense): Linear(in_features=3072, out_features=768, bias=True)\n",
       "          (LayerNorm): LayerNorm((768,), eps=1e-05, elementwise_affine=True)\n",
       "          (dropout): Dropout(p=0.1, inplace=False)\n",
       "        )\n",
       "      )\n",
       "      (1): RobertaLayer(\n",
       "        (attention): RobertaAttention(\n",
       "          (self): RobertaSelfAttention(\n",
       "            (query): Linear(in_features=768, out_features=768, bias=True)\n",
       "            (key): Linear(in_features=768, out_features=768, bias=True)\n",
       "            (value): Linear(in_features=768, out_features=768, bias=True)\n",
       "            (dropout): Dropout(p=0.1, inplace=False)\n",
       "          )\n",
       "          (output): RobertaSelfOutput(\n",
       "            (dense): Linear(in_features=768, out_features=768, bias=True)\n",
       "            (LayerNorm): LayerNorm((768,), eps=1e-05, elementwise_affine=True)\n",
       "            (dropout): Dropout(p=0.1, inplace=False)\n",
       "          )\n",
       "        )\n",
       "        (intermediate): RobertaIntermediate(\n",
       "          (dense): Linear(in_features=768, out_features=3072, bias=True)\n",
       "          (intermediate_act_fn): GELUActivation()\n",
       "        )\n",
       "        (output): RobertaOutput(\n",
       "          (dense): Linear(in_features=3072, out_features=768, bias=True)\n",
       "          (LayerNorm): LayerNorm((768,), eps=1e-05, elementwise_affine=True)\n",
       "          (dropout): Dropout(p=0.1, inplace=False)\n",
       "        )\n",
       "      )\n",
       "      (2): RobertaLayer(\n",
       "        (attention): RobertaAttention(\n",
       "          (self): RobertaSelfAttention(\n",
       "            (query): Linear(in_features=768, out_features=768, bias=True)\n",
       "            (key): Linear(in_features=768, out_features=768, bias=True)\n",
       "            (value): Linear(in_features=768, out_features=768, bias=True)\n",
       "            (dropout): Dropout(p=0.1, inplace=False)\n",
       "          )\n",
       "          (output): RobertaSelfOutput(\n",
       "            (dense): Linear(in_features=768, out_features=768, bias=True)\n",
       "            (LayerNorm): LayerNorm((768,), eps=1e-05, elementwise_affine=True)\n",
       "            (dropout): Dropout(p=0.1, inplace=False)\n",
       "          )\n",
       "        )\n",
       "        (intermediate): RobertaIntermediate(\n",
       "          (dense): Linear(in_features=768, out_features=3072, bias=True)\n",
       "          (intermediate_act_fn): GELUActivation()\n",
       "        )\n",
       "        (output): RobertaOutput(\n",
       "          (dense): Linear(in_features=3072, out_features=768, bias=True)\n",
       "          (LayerNorm): LayerNorm((768,), eps=1e-05, elementwise_affine=True)\n",
       "          (dropout): Dropout(p=0.1, inplace=False)\n",
       "        )\n",
       "      )\n",
       "      (3): RobertaLayer(\n",
       "        (attention): RobertaAttention(\n",
       "          (self): RobertaSelfAttention(\n",
       "            (query): Linear(in_features=768, out_features=768, bias=True)\n",
       "            (key): Linear(in_features=768, out_features=768, bias=True)\n",
       "            (value): Linear(in_features=768, out_features=768, bias=True)\n",
       "            (dropout): Dropout(p=0.1, inplace=False)\n",
       "          )\n",
       "          (output): RobertaSelfOutput(\n",
       "            (dense): Linear(in_features=768, out_features=768, bias=True)\n",
       "            (LayerNorm): LayerNorm((768,), eps=1e-05, elementwise_affine=True)\n",
       "            (dropout): Dropout(p=0.1, inplace=False)\n",
       "          )\n",
       "        )\n",
       "        (intermediate): RobertaIntermediate(\n",
       "          (dense): Linear(in_features=768, out_features=3072, bias=True)\n",
       "          (intermediate_act_fn): GELUActivation()\n",
       "        )\n",
       "        (output): RobertaOutput(\n",
       "          (dense): Linear(in_features=3072, out_features=768, bias=True)\n",
       "          (LayerNorm): LayerNorm((768,), eps=1e-05, elementwise_affine=True)\n",
       "          (dropout): Dropout(p=0.1, inplace=False)\n",
       "        )\n",
       "      )\n",
       "      (4): RobertaLayer(\n",
       "        (attention): RobertaAttention(\n",
       "          (self): RobertaSelfAttention(\n",
       "            (query): Linear(in_features=768, out_features=768, bias=True)\n",
       "            (key): Linear(in_features=768, out_features=768, bias=True)\n",
       "            (value): Linear(in_features=768, out_features=768, bias=True)\n",
       "            (dropout): Dropout(p=0.1, inplace=False)\n",
       "          )\n",
       "          (output): RobertaSelfOutput(\n",
       "            (dense): Linear(in_features=768, out_features=768, bias=True)\n",
       "            (LayerNorm): LayerNorm((768,), eps=1e-05, elementwise_affine=True)\n",
       "            (dropout): Dropout(p=0.1, inplace=False)\n",
       "          )\n",
       "        )\n",
       "        (intermediate): RobertaIntermediate(\n",
       "          (dense): Linear(in_features=768, out_features=3072, bias=True)\n",
       "          (intermediate_act_fn): GELUActivation()\n",
       "        )\n",
       "        (output): RobertaOutput(\n",
       "          (dense): Linear(in_features=3072, out_features=768, bias=True)\n",
       "          (LayerNorm): LayerNorm((768,), eps=1e-05, elementwise_affine=True)\n",
       "          (dropout): Dropout(p=0.1, inplace=False)\n",
       "        )\n",
       "      )\n",
       "      (5): RobertaLayer(\n",
       "        (attention): RobertaAttention(\n",
       "          (self): RobertaSelfAttention(\n",
       "            (query): Linear(in_features=768, out_features=768, bias=True)\n",
       "            (key): Linear(in_features=768, out_features=768, bias=True)\n",
       "            (value): Linear(in_features=768, out_features=768, bias=True)\n",
       "            (dropout): Dropout(p=0.1, inplace=False)\n",
       "          )\n",
       "          (output): RobertaSelfOutput(\n",
       "            (dense): Linear(in_features=768, out_features=768, bias=True)\n",
       "            (LayerNorm): LayerNorm((768,), eps=1e-05, elementwise_affine=True)\n",
       "            (dropout): Dropout(p=0.1, inplace=False)\n",
       "          )\n",
       "        )\n",
       "        (intermediate): RobertaIntermediate(\n",
       "          (dense): Linear(in_features=768, out_features=3072, bias=True)\n",
       "          (intermediate_act_fn): GELUActivation()\n",
       "        )\n",
       "        (output): RobertaOutput(\n",
       "          (dense): Linear(in_features=3072, out_features=768, bias=True)\n",
       "          (LayerNorm): LayerNorm((768,), eps=1e-05, elementwise_affine=True)\n",
       "          (dropout): Dropout(p=0.1, inplace=False)\n",
       "        )\n",
       "      )\n",
       "      (6): RobertaLayer(\n",
       "        (attention): RobertaAttention(\n",
       "          (self): RobertaSelfAttention(\n",
       "            (query): Linear(in_features=768, out_features=768, bias=True)\n",
       "            (key): Linear(in_features=768, out_features=768, bias=True)\n",
       "            (value): Linear(in_features=768, out_features=768, bias=True)\n",
       "            (dropout): Dropout(p=0.1, inplace=False)\n",
       "          )\n",
       "          (output): RobertaSelfOutput(\n",
       "            (dense): Linear(in_features=768, out_features=768, bias=True)\n",
       "            (LayerNorm): LayerNorm((768,), eps=1e-05, elementwise_affine=True)\n",
       "            (dropout): Dropout(p=0.1, inplace=False)\n",
       "          )\n",
       "        )\n",
       "        (intermediate): RobertaIntermediate(\n",
       "          (dense): Linear(in_features=768, out_features=3072, bias=True)\n",
       "          (intermediate_act_fn): GELUActivation()\n",
       "        )\n",
       "        (output): RobertaOutput(\n",
       "          (dense): Linear(in_features=3072, out_features=768, bias=True)\n",
       "          (LayerNorm): LayerNorm((768,), eps=1e-05, elementwise_affine=True)\n",
       "          (dropout): Dropout(p=0.1, inplace=False)\n",
       "        )\n",
       "      )\n",
       "      (7): RobertaLayer(\n",
       "        (attention): RobertaAttention(\n",
       "          (self): RobertaSelfAttention(\n",
       "            (query): Linear(in_features=768, out_features=768, bias=True)\n",
       "            (key): Linear(in_features=768, out_features=768, bias=True)\n",
       "            (value): Linear(in_features=768, out_features=768, bias=True)\n",
       "            (dropout): Dropout(p=0.1, inplace=False)\n",
       "          )\n",
       "          (output): RobertaSelfOutput(\n",
       "            (dense): Linear(in_features=768, out_features=768, bias=True)\n",
       "            (LayerNorm): LayerNorm((768,), eps=1e-05, elementwise_affine=True)\n",
       "            (dropout): Dropout(p=0.1, inplace=False)\n",
       "          )\n",
       "        )\n",
       "        (intermediate): RobertaIntermediate(\n",
       "          (dense): Linear(in_features=768, out_features=3072, bias=True)\n",
       "          (intermediate_act_fn): GELUActivation()\n",
       "        )\n",
       "        (output): RobertaOutput(\n",
       "          (dense): Linear(in_features=3072, out_features=768, bias=True)\n",
       "          (LayerNorm): LayerNorm((768,), eps=1e-05, elementwise_affine=True)\n",
       "          (dropout): Dropout(p=0.1, inplace=False)\n",
       "        )\n",
       "      )\n",
       "      (8): RobertaLayer(\n",
       "        (attention): RobertaAttention(\n",
       "          (self): RobertaSelfAttention(\n",
       "            (query): Linear(in_features=768, out_features=768, bias=True)\n",
       "            (key): Linear(in_features=768, out_features=768, bias=True)\n",
       "            (value): Linear(in_features=768, out_features=768, bias=True)\n",
       "            (dropout): Dropout(p=0.1, inplace=False)\n",
       "          )\n",
       "          (output): RobertaSelfOutput(\n",
       "            (dense): Linear(in_features=768, out_features=768, bias=True)\n",
       "            (LayerNorm): LayerNorm((768,), eps=1e-05, elementwise_affine=True)\n",
       "            (dropout): Dropout(p=0.1, inplace=False)\n",
       "          )\n",
       "        )\n",
       "        (intermediate): RobertaIntermediate(\n",
       "          (dense): Linear(in_features=768, out_features=3072, bias=True)\n",
       "          (intermediate_act_fn): GELUActivation()\n",
       "        )\n",
       "        (output): RobertaOutput(\n",
       "          (dense): Linear(in_features=3072, out_features=768, bias=True)\n",
       "          (LayerNorm): LayerNorm((768,), eps=1e-05, elementwise_affine=True)\n",
       "          (dropout): Dropout(p=0.1, inplace=False)\n",
       "        )\n",
       "      )\n",
       "      (9): RobertaLayer(\n",
       "        (attention): RobertaAttention(\n",
       "          (self): RobertaSelfAttention(\n",
       "            (query): Linear(in_features=768, out_features=768, bias=True)\n",
       "            (key): Linear(in_features=768, out_features=768, bias=True)\n",
       "            (value): Linear(in_features=768, out_features=768, bias=True)\n",
       "            (dropout): Dropout(p=0.1, inplace=False)\n",
       "          )\n",
       "          (output): RobertaSelfOutput(\n",
       "            (dense): Linear(in_features=768, out_features=768, bias=True)\n",
       "            (LayerNorm): LayerNorm((768,), eps=1e-05, elementwise_affine=True)\n",
       "            (dropout): Dropout(p=0.1, inplace=False)\n",
       "          )\n",
       "        )\n",
       "        (intermediate): RobertaIntermediate(\n",
       "          (dense): Linear(in_features=768, out_features=3072, bias=True)\n",
       "          (intermediate_act_fn): GELUActivation()\n",
       "        )\n",
       "        (output): RobertaOutput(\n",
       "          (dense): Linear(in_features=3072, out_features=768, bias=True)\n",
       "          (LayerNorm): LayerNorm((768,), eps=1e-05, elementwise_affine=True)\n",
       "          (dropout): Dropout(p=0.1, inplace=False)\n",
       "        )\n",
       "      )\n",
       "      (10): RobertaLayer(\n",
       "        (attention): RobertaAttention(\n",
       "          (self): RobertaSelfAttention(\n",
       "            (query): Linear(in_features=768, out_features=768, bias=True)\n",
       "            (key): Linear(in_features=768, out_features=768, bias=True)\n",
       "            (value): Linear(in_features=768, out_features=768, bias=True)\n",
       "            (dropout): Dropout(p=0.1, inplace=False)\n",
       "          )\n",
       "          (output): RobertaSelfOutput(\n",
       "            (dense): Linear(in_features=768, out_features=768, bias=True)\n",
       "            (LayerNorm): LayerNorm((768,), eps=1e-05, elementwise_affine=True)\n",
       "            (dropout): Dropout(p=0.1, inplace=False)\n",
       "          )\n",
       "        )\n",
       "        (intermediate): RobertaIntermediate(\n",
       "          (dense): Linear(in_features=768, out_features=3072, bias=True)\n",
       "          (intermediate_act_fn): GELUActivation()\n",
       "        )\n",
       "        (output): RobertaOutput(\n",
       "          (dense): Linear(in_features=3072, out_features=768, bias=True)\n",
       "          (LayerNorm): LayerNorm((768,), eps=1e-05, elementwise_affine=True)\n",
       "          (dropout): Dropout(p=0.1, inplace=False)\n",
       "        )\n",
       "      )\n",
       "      (11): RobertaLayer(\n",
       "        (attention): RobertaAttention(\n",
       "          (self): RobertaSelfAttention(\n",
       "            (query): Linear(in_features=768, out_features=768, bias=True)\n",
       "            (key): Linear(in_features=768, out_features=768, bias=True)\n",
       "            (value): Linear(in_features=768, out_features=768, bias=True)\n",
       "            (dropout): Dropout(p=0.1, inplace=False)\n",
       "          )\n",
       "          (output): RobertaSelfOutput(\n",
       "            (dense): Linear(in_features=768, out_features=768, bias=True)\n",
       "            (LayerNorm): LayerNorm((768,), eps=1e-05, elementwise_affine=True)\n",
       "            (dropout): Dropout(p=0.1, inplace=False)\n",
       "          )\n",
       "        )\n",
       "        (intermediate): RobertaIntermediate(\n",
       "          (dense): Linear(in_features=768, out_features=3072, bias=True)\n",
       "          (intermediate_act_fn): GELUActivation()\n",
       "        )\n",
       "        (output): RobertaOutput(\n",
       "          (dense): Linear(in_features=3072, out_features=768, bias=True)\n",
       "          (LayerNorm): LayerNorm((768,), eps=1e-05, elementwise_affine=True)\n",
       "          (dropout): Dropout(p=0.1, inplace=False)\n",
       "        )\n",
       "      )\n",
       "    )\n",
       "  )\n",
       "  (pooler): RobertaPooler(\n",
       "    (dense): Linear(in_features=768, out_features=768, bias=True)\n",
       "    (activation): Tanh()\n",
       "  )\n",
       ")"
      ]
     },
     "execution_count": 13,
     "metadata": {},
     "output_type": "execute_result"
    }
   ],
   "source": [
    "model.to('cuda:0')"
   ]
  },
  {
   "cell_type": "code",
   "execution_count": 14,
   "id": "5b9b31c4",
   "metadata": {
    "execution": {
     "iopub.execute_input": "2022-10-28T07:53:22.848284Z",
     "iopub.status.busy": "2022-10-28T07:53:22.847472Z",
     "iopub.status.idle": "2022-10-28T07:53:22.853182Z",
     "shell.execute_reply": "2022-10-28T07:53:22.852220Z"
    },
    "papermill": {
     "duration": 0.017758,
     "end_time": "2022-10-28T07:53:22.855262",
     "exception": false,
     "start_time": "2022-10-28T07:53:22.837504",
     "status": "completed"
    },
    "tags": []
   },
   "outputs": [],
   "source": [
    "def read_word_embedding(sentence):\n",
    "    inputs = tokenizer(sentence, return_tensors=\"pt\").to('cuda:0')\n",
    "    outputs = model(**inputs)\n",
    "    last_hidden_states = outputs.last_hidden_state.cpu()\n",
    "    embedding=np.mean(last_hidden_states[0].detach().numpy(),axis=0)\n",
    "#     embedding=np.mean(last_hidden_states[0].detach().to('cpu'),axis=0)\n",
    "    return embedding"
   ]
  },
  {
   "cell_type": "code",
   "execution_count": 15,
   "id": "f04cbb6b",
   "metadata": {
    "execution": {
     "iopub.execute_input": "2022-10-28T07:53:22.875102Z",
     "iopub.status.busy": "2022-10-28T07:53:22.874333Z",
     "iopub.status.idle": "2022-10-28T07:56:10.214585Z",
     "shell.execute_reply": "2022-10-28T07:56:10.211088Z"
    },
    "papermill": {
     "duration": 167.352292,
     "end_time": "2022-10-28T07:56:10.216647",
     "exception": false,
     "start_time": "2022-10-28T07:53:22.864355",
     "status": "completed"
    },
    "tags": []
   },
   "outputs": [
    {
     "name": "stderr",
     "output_type": "stream",
     "text": [
      "100%|██████████| 17497/17497 [02:47<00:00, 104.57it/s]\n"
     ]
    }
   ],
   "source": [
    "x_train_embeddings=[]\n",
    "for i in tqdm(range(len(train_df))):\n",
    "    try:\n",
    "        x_train_embeddings.append(read_word_embedding(train_df['Text'].iloc[i]))\n",
    "    except:\n",
    "        print(i)\n",
    "        break"
   ]
  },
  {
   "cell_type": "code",
   "execution_count": 16,
   "id": "02e3cf43",
   "metadata": {
    "execution": {
     "iopub.execute_input": "2022-10-28T07:56:10.387473Z",
     "iopub.status.busy": "2022-10-28T07:56:10.386539Z",
     "iopub.status.idle": "2022-10-28T07:56:10.425902Z",
     "shell.execute_reply": "2022-10-28T07:56:10.424920Z"
    },
    "papermill": {
     "duration": 0.126943,
     "end_time": "2022-10-28T07:56:10.428341",
     "exception": false,
     "start_time": "2022-10-28T07:56:10.301398",
     "status": "completed"
    },
    "tags": []
   },
   "outputs": [],
   "source": [
    "x_train_embeddings=np.array(x_train_embeddings)\n",
    "y_train_intensity=np.array(list(train_df['Intensity'].values))"
   ]
  },
  {
   "cell_type": "code",
   "execution_count": 17,
   "id": "75abdbf7",
   "metadata": {
    "execution": {
     "iopub.execute_input": "2022-10-28T07:56:10.618786Z",
     "iopub.status.busy": "2022-10-28T07:56:10.618429Z",
     "iopub.status.idle": "2022-10-28T07:56:51.468397Z",
     "shell.execute_reply": "2022-10-28T07:56:51.467404Z"
    },
    "papermill": {
     "duration": 40.958549,
     "end_time": "2022-10-28T07:56:51.471411",
     "exception": false,
     "start_time": "2022-10-28T07:56:10.512862",
     "status": "completed"
    },
    "tags": []
   },
   "outputs": [
    {
     "name": "stderr",
     "output_type": "stream",
     "text": [
      "100%|██████████| 4337/4337 [00:40<00:00, 106.19it/s]\n"
     ]
    }
   ],
   "source": [
    "x_test_embeddings=[]\n",
    "for i in tqdm(range(len(test_df))):\n",
    "    try:\n",
    "        x_test_embeddings.append(read_word_embedding(test_df['Text'].iloc[i]))\n",
    "    except:\n",
    "        print(i)\n",
    "        break"
   ]
  },
  {
   "cell_type": "code",
   "execution_count": 18,
   "id": "65866f54",
   "metadata": {
    "execution": {
     "iopub.execute_input": "2022-10-28T07:56:51.679894Z",
     "iopub.status.busy": "2022-10-28T07:56:51.678932Z",
     "iopub.status.idle": "2022-10-28T07:56:51.692748Z",
     "shell.execute_reply": "2022-10-28T07:56:51.691874Z"
    },
    "papermill": {
     "duration": 0.12062,
     "end_time": "2022-10-28T07:56:51.694768",
     "exception": false,
     "start_time": "2022-10-28T07:56:51.574148",
     "status": "completed"
    },
    "tags": []
   },
   "outputs": [],
   "source": [
    "x_test_embeddings=np.array(x_test_embeddings)\n",
    "y_test_intensity=np.array(list(test_df['Intensity'].values))\n",
    "y_test_actual_label=np.array(list(test_df['label'].values))"
   ]
  },
  {
   "cell_type": "code",
   "execution_count": 19,
   "id": "d09ef168",
   "metadata": {
    "execution": {
     "iopub.execute_input": "2022-10-28T07:56:51.900754Z",
     "iopub.status.busy": "2022-10-28T07:56:51.900410Z",
     "iopub.status.idle": "2022-10-28T07:57:33.218885Z",
     "shell.execute_reply": "2022-10-28T07:57:33.217586Z"
    },
    "papermill": {
     "duration": 41.423309,
     "end_time": "2022-10-28T07:57:33.221200",
     "exception": false,
     "start_time": "2022-10-28T07:56:51.797891",
     "status": "completed"
    },
    "tags": []
   },
   "outputs": [
    {
     "name": "stderr",
     "output_type": "stream",
     "text": [
      "100%|██████████| 4337/4337 [00:41<00:00, 105.01it/s]\n"
     ]
    }
   ],
   "source": [
    "x_test_embeddings_new=[]\n",
    "for i in tqdm(range(len(test_df))):\n",
    "    try:\n",
    "        x_test_embeddings_new.append(read_word_embedding(test_df['Paraphrased_Text_Pegasus'].iloc[i]))\n",
    "    except:\n",
    "        print(i)\n",
    "        break\n",
    "\n",
    "x_test_embeddings_new=np.array(x_test_embeddings_new)"
   ]
  },
  {
   "cell_type": "code",
   "execution_count": 20,
   "id": "da225f04",
   "metadata": {
    "execution": {
     "iopub.execute_input": "2022-10-28T07:57:33.469694Z",
     "iopub.status.busy": "2022-10-28T07:57:33.469302Z",
     "iopub.status.idle": "2022-10-28T07:57:33.475764Z",
     "shell.execute_reply": "2022-10-28T07:57:33.474845Z"
    },
    "papermill": {
     "duration": 0.13123,
     "end_time": "2022-10-28T07:57:33.478316",
     "exception": false,
     "start_time": "2022-10-28T07:57:33.347086",
     "status": "completed"
    },
    "tags": []
   },
   "outputs": [
    {
     "data": {
      "text/plain": [
       "'🤔'"
      ]
     },
     "execution_count": 20,
     "metadata": {},
     "output_type": "execute_result"
    }
   ],
   "source": [
    "test_df['Text'].iloc[386]"
   ]
  },
  {
   "cell_type": "markdown",
   "id": "31df3325",
   "metadata": {
    "papermill": {
     "duration": 0.122983,
     "end_time": "2022-10-28T07:57:33.779848",
     "exception": false,
     "start_time": "2022-10-28T07:57:33.656865",
     "status": "completed"
    },
    "tags": []
   },
   "source": [
    "# Linear Regression"
   ]
  },
  {
   "cell_type": "code",
   "execution_count": 21,
   "id": "2cd63ccf",
   "metadata": {
    "execution": {
     "iopub.execute_input": "2022-10-28T07:57:34.024992Z",
     "iopub.status.busy": "2022-10-28T07:57:34.023982Z",
     "iopub.status.idle": "2022-10-28T07:57:34.877260Z",
     "shell.execute_reply": "2022-10-28T07:57:34.876098Z"
    },
    "papermill": {
     "duration": 0.978271,
     "end_time": "2022-10-28T07:57:34.879806",
     "exception": false,
     "start_time": "2022-10-28T07:57:33.901535",
     "status": "completed"
    },
    "tags": []
   },
   "outputs": [],
   "source": [
    "from sklearn.linear_model import LinearRegression\n",
    "from sklearn.model_selection import cross_val_score"
   ]
  },
  {
   "cell_type": "code",
   "execution_count": 22,
   "id": "ed35ac84",
   "metadata": {
    "execution": {
     "iopub.execute_input": "2022-10-28T07:57:35.126084Z",
     "iopub.status.busy": "2022-10-28T07:57:35.125722Z",
     "iopub.status.idle": "2022-10-28T07:57:35.986423Z",
     "shell.execute_reply": "2022-10-28T07:57:35.985035Z"
    },
    "papermill": {
     "duration": 0.987525,
     "end_time": "2022-10-28T07:57:35.990872",
     "exception": false,
     "start_time": "2022-10-28T07:57:35.003347",
     "status": "completed"
    },
    "tags": []
   },
   "outputs": [],
   "source": [
    "linear_reg = LinearRegression().fit(x_train_embeddings, y_train_intensity)"
   ]
  },
  {
   "cell_type": "code",
   "execution_count": 23,
   "id": "29a1a15a",
   "metadata": {
    "execution": {
     "iopub.execute_input": "2022-10-28T07:57:36.316669Z",
     "iopub.status.busy": "2022-10-28T07:57:36.316316Z",
     "iopub.status.idle": "2022-10-28T07:57:36.376233Z",
     "shell.execute_reply": "2022-10-28T07:57:36.374883Z"
    },
    "papermill": {
     "duration": 0.189045,
     "end_time": "2022-10-28T07:57:36.379834",
     "exception": false,
     "start_time": "2022-10-28T07:57:36.190789",
     "status": "completed"
    },
    "tags": []
   },
   "outputs": [],
   "source": [
    "y_test_pred = linear_reg.predict(x_test_embeddings)\n",
    "y_test_pred_classes=['clickbait' if i>=0.5 else 'no-clickbait' for i in y_test_pred]\n",
    "\n",
    "y_test_pred_new = linear_reg.predict(x_test_embeddings_new)\n",
    "y_test_pred_classes_new=['clickbait' if i>=0.5 else 'no-clickbait' for i in y_test_pred_new]\n",
    "\n",
    "y_test_actual_classes=list(test_df['label'].values)"
   ]
  },
  {
   "cell_type": "code",
   "execution_count": 24,
   "id": "95ddcffa",
   "metadata": {
    "execution": {
     "iopub.execute_input": "2022-10-28T07:57:36.693617Z",
     "iopub.status.busy": "2022-10-28T07:57:36.693270Z",
     "iopub.status.idle": "2022-10-28T07:57:36.697950Z",
     "shell.execute_reply": "2022-10-28T07:57:36.696955Z"
    },
    "papermill": {
     "duration": 0.130261,
     "end_time": "2022-10-28T07:57:36.699890",
     "exception": false,
     "start_time": "2022-10-28T07:57:36.569629",
     "status": "completed"
    },
    "tags": []
   },
   "outputs": [],
   "source": [
    "from sklearn.metrics import median_absolute_error,mean_squared_error, f1_score, accuracy_score"
   ]
  },
  {
   "cell_type": "code",
   "execution_count": 25,
   "id": "25ec7ffb",
   "metadata": {
    "execution": {
     "iopub.execute_input": "2022-10-28T07:57:36.948003Z",
     "iopub.status.busy": "2022-10-28T07:57:36.947017Z",
     "iopub.status.idle": "2022-10-28T07:57:36.954778Z",
     "shell.execute_reply": "2022-10-28T07:57:36.953824Z"
    },
    "papermill": {
     "duration": 0.134655,
     "end_time": "2022-10-28T07:57:36.956899",
     "exception": false,
     "start_time": "2022-10-28T07:57:36.822244",
     "status": "completed"
    },
    "tags": []
   },
   "outputs": [],
   "source": [
    "def results(y_true,y_pred,y_actual_classes,y_pred_classes):\n",
    "    Medae = median_absolute_error(y_true,y_pred)\n",
    "    mse = mean_squared_error(y_true,y_pred) #default=True\n",
    "    rmse = mean_squared_error(y_true,y_pred,squared=False)\n",
    "    accuracy=accuracy_score(y_actual_classes,y_pred_classes)\n",
    "    f1=f1_score(y_actual_classes,y_pred_classes,pos_label='clickbait')\n",
    "    \n",
    "    print(\"MedAE:\",Medae)\n",
    "    print(\"MSE:\",mse)\n",
    "    print(\"RMSE:\",rmse)\n",
    "    print(\"Accuracy:\",accuracy)\n",
    "    print(\"f1-score:\",f1)"
   ]
  },
  {
   "cell_type": "code",
   "execution_count": 26,
   "id": "940d4481",
   "metadata": {
    "execution": {
     "iopub.execute_input": "2022-10-28T07:57:37.204026Z",
     "iopub.status.busy": "2022-10-28T07:57:37.203675Z",
     "iopub.status.idle": "2022-10-28T07:57:37.238427Z",
     "shell.execute_reply": "2022-10-28T07:57:37.237180Z"
    },
    "papermill": {
     "duration": 0.161322,
     "end_time": "2022-10-28T07:57:37.240523",
     "exception": false,
     "start_time": "2022-10-28T07:57:37.079201",
     "status": "completed"
    },
    "tags": []
   },
   "outputs": [
    {
     "name": "stdout",
     "output_type": "stream",
     "text": [
      "MedAE: 0.10626551307554688\n",
      "MSE: 0.027650374498232728\n",
      "RMSE: 0.16628401756703115\n",
      "Accuracy: 0.8547382983629237\n",
      "f1-score: 0.6732365145228216\n"
     ]
    }
   ],
   "source": [
    "results(y_test_intensity,y_test_pred,y_test_actual_classes,y_test_pred_classes)"
   ]
  },
  {
   "cell_type": "code",
   "execution_count": 27,
   "id": "7ddbff7f",
   "metadata": {
    "execution": {
     "iopub.execute_input": "2022-10-28T07:57:37.488317Z",
     "iopub.status.busy": "2022-10-28T07:57:37.487904Z",
     "iopub.status.idle": "2022-10-28T07:57:37.524217Z",
     "shell.execute_reply": "2022-10-28T07:57:37.522747Z"
    },
    "papermill": {
     "duration": 0.163463,
     "end_time": "2022-10-28T07:57:37.526468",
     "exception": false,
     "start_time": "2022-10-28T07:57:37.363005",
     "status": "completed"
    },
    "tags": []
   },
   "outputs": [
    {
     "name": "stdout",
     "output_type": "stream",
     "text": [
      "MedAE: 0.14225667318375002\n",
      "MSE: 0.04147182429491902\n",
      "RMSE: 0.20364632158455262\n",
      "Accuracy: 0.8070094535393129\n",
      "f1-score: 0.6258381761287439\n"
     ]
    }
   ],
   "source": [
    "results(y_test_intensity,y_test_pred_new,y_test_actual_classes,y_test_pred_classes_new)"
   ]
  },
  {
   "cell_type": "code",
   "execution_count": 28,
   "id": "2514191a",
   "metadata": {
    "execution": {
     "iopub.execute_input": "2022-10-28T07:57:37.826938Z",
     "iopub.status.busy": "2022-10-28T07:57:37.825859Z",
     "iopub.status.idle": "2022-10-28T07:57:37.833350Z",
     "shell.execute_reply": "2022-10-28T07:57:37.832436Z"
    },
    "papermill": {
     "duration": 0.177255,
     "end_time": "2022-10-28T07:57:37.835346",
     "exception": false,
     "start_time": "2022-10-28T07:57:37.658091",
     "status": "completed"
    },
    "tags": []
   },
   "outputs": [],
   "source": [
    "test_df['predicted_intesity']=y_test_pred\n",
    "test_df['predicted_intesity_paraphrased']=y_test_pred_new"
   ]
  },
  {
   "cell_type": "code",
   "execution_count": 29,
   "id": "c9b68e85",
   "metadata": {
    "execution": {
     "iopub.execute_input": "2022-10-28T07:57:38.088252Z",
     "iopub.status.busy": "2022-10-28T07:57:38.087864Z",
     "iopub.status.idle": "2022-10-28T07:57:38.107510Z",
     "shell.execute_reply": "2022-10-28T07:57:38.106354Z"
    },
    "papermill": {
     "duration": 0.152224,
     "end_time": "2022-10-28T07:57:38.110101",
     "exception": false,
     "start_time": "2022-10-28T07:57:37.957877",
     "status": "completed"
    },
    "tags": []
   },
   "outputs": [
    {
     "data": {
      "text/html": [
       "<div>\n",
       "<style scoped>\n",
       "    .dataframe tbody tr th:only-of-type {\n",
       "        vertical-align: middle;\n",
       "    }\n",
       "\n",
       "    .dataframe tbody tr th {\n",
       "        vertical-align: top;\n",
       "    }\n",
       "\n",
       "    .dataframe thead th {\n",
       "        text-align: right;\n",
       "    }\n",
       "</style>\n",
       "<table border=\"1\" class=\"dataframe\">\n",
       "  <thead>\n",
       "    <tr style=\"text-align: right;\">\n",
       "      <th></th>\n",
       "      <th>SNO</th>\n",
       "      <th>Intensity</th>\n",
       "      <th>Text</th>\n",
       "      <th>label</th>\n",
       "      <th>#tokens</th>\n",
       "      <th>Paraphrased_Text</th>\n",
       "      <th>Paraphrased_Text_Pegasus</th>\n",
       "      <th>predicted_intesity</th>\n",
       "      <th>predicted_intesity_paraphrased</th>\n",
       "    </tr>\n",
       "  </thead>\n",
       "  <tbody>\n",
       "    <tr>\n",
       "      <th>0</th>\n",
       "      <td>833654544412340224</td>\n",
       "      <td>0.000000</td>\n",
       "      <td>Abu Dhabi awards China’s CNPC a stake in its l...</td>\n",
       "      <td>no-clickbait</td>\n",
       "      <td>25</td>\n",
       "      <td>Abu Dhabi awarded China's CNPC a stake in its ...</td>\n",
       "      <td>The largest oil concession in Abu Dhabi has a ...</td>\n",
       "      <td>0.075497</td>\n",
       "      <td>0.161243</td>\n",
       "    </tr>\n",
       "    <tr>\n",
       "      <th>1</th>\n",
       "      <td>821482229213728768</td>\n",
       "      <td>0.066667</td>\n",
       "      <td>Former CIA rendition agent issues plea to Dona...</td>\n",
       "      <td>no-clickbait</td>\n",
       "      <td>17</td>\n",
       "      <td>Former CIA rendition agent issues plea to Dona...</td>\n",
       "      <td>The former CIA rendition agent is facing jail ...</td>\n",
       "      <td>0.201714</td>\n",
       "      <td>0.329372</td>\n",
       "    </tr>\n",
       "    <tr>\n",
       "      <th>2</th>\n",
       "      <td>828736281328906241</td>\n",
       "      <td>0.133333</td>\n",
       "      <td>Eddie Jones warns England players not to use C...</td>\n",
       "      <td>no-clickbait</td>\n",
       "      <td>25</td>\n",
       "      <td>Eddie Jones warns England players not to use C...</td>\n",
       "      <td>Eddie Jones warned England players not to use ...</td>\n",
       "      <td>0.165798</td>\n",
       "      <td>0.213936</td>\n",
       "    </tr>\n",
       "    <tr>\n",
       "      <th>3</th>\n",
       "      <td>831914725311016960</td>\n",
       "      <td>0.466667</td>\n",
       "      <td>Rachel Matthews: Sorry, no refunds... why do m...</td>\n",
       "      <td>no-clickbait</td>\n",
       "      <td>25</td>\n",
       "      <td>Rachel Matthews: sorry, no refunds... why do m...</td>\n",
       "      <td>Men think they should get their money back aft...</td>\n",
       "      <td>0.583281</td>\n",
       "      <td>0.582115</td>\n",
       "    </tr>\n",
       "    <tr>\n",
       "      <th>4</th>\n",
       "      <td>829615888076828672</td>\n",
       "      <td>0.133333</td>\n",
       "      <td>Thordis Elva was sixteen when she was raped by...</td>\n",
       "      <td>no-clickbait</td>\n",
       "      <td>19</td>\n",
       "      <td>Thordis Elva was sixteen when she was raped by...</td>\n",
       "      <td>When she was sixteen, she was raped by her boy...</td>\n",
       "      <td>0.219322</td>\n",
       "      <td>0.440407</td>\n",
       "    </tr>\n",
       "  </tbody>\n",
       "</table>\n",
       "</div>"
      ],
      "text/plain": [
       "                  SNO  Intensity  \\\n",
       "0  833654544412340224   0.000000   \n",
       "1  821482229213728768   0.066667   \n",
       "2  828736281328906241   0.133333   \n",
       "3  831914725311016960   0.466667   \n",
       "4  829615888076828672   0.133333   \n",
       "\n",
       "                                                Text         label  #tokens  \\\n",
       "0  Abu Dhabi awards China’s CNPC a stake in its l...  no-clickbait       25   \n",
       "1  Former CIA rendition agent issues plea to Dona...  no-clickbait       17   \n",
       "2  Eddie Jones warns England players not to use C...  no-clickbait       25   \n",
       "3  Rachel Matthews: Sorry, no refunds... why do m...  no-clickbait       25   \n",
       "4  Thordis Elva was sixteen when she was raped by...  no-clickbait       19   \n",
       "\n",
       "                                    Paraphrased_Text  \\\n",
       "0  Abu Dhabi awarded China's CNPC a stake in its ...   \n",
       "1  Former CIA rendition agent issues plea to Dona...   \n",
       "2  Eddie Jones warns England players not to use C...   \n",
       "3  Rachel Matthews: sorry, no refunds... why do m...   \n",
       "4  Thordis Elva was sixteen when she was raped by...   \n",
       "\n",
       "                            Paraphrased_Text_Pegasus  predicted_intesity  \\\n",
       "0  The largest oil concession in Abu Dhabi has a ...            0.075497   \n",
       "1  The former CIA rendition agent is facing jail ...            0.201714   \n",
       "2  Eddie Jones warned England players not to use ...            0.165798   \n",
       "3  Men think they should get their money back aft...            0.583281   \n",
       "4  When she was sixteen, she was raped by her boy...            0.219322   \n",
       "\n",
       "   predicted_intesity_paraphrased  \n",
       "0                        0.161243  \n",
       "1                        0.329372  \n",
       "2                        0.213936  \n",
       "3                        0.582115  \n",
       "4                        0.440407  "
      ]
     },
     "execution_count": 29,
     "metadata": {},
     "output_type": "execute_result"
    }
   ],
   "source": [
    "test_df.drop(['Unnamed: 0'],axis=1,inplace=True)\n",
    "test_df.head()"
   ]
  },
  {
   "cell_type": "code",
   "execution_count": 30,
   "id": "711fdaf7",
   "metadata": {
    "execution": {
     "iopub.execute_input": "2022-10-28T07:57:38.358005Z",
     "iopub.status.busy": "2022-10-28T07:57:38.357674Z",
     "iopub.status.idle": "2022-10-28T07:57:38.401112Z",
     "shell.execute_reply": "2022-10-28T07:57:38.400232Z"
    },
    "papermill": {
     "duration": 0.168186,
     "end_time": "2022-10-28T07:57:38.403326",
     "exception": false,
     "start_time": "2022-10-28T07:57:38.235140",
     "status": "completed"
    },
    "tags": []
   },
   "outputs": [],
   "source": [
    "test_df.to_csv('test_set_outputs.csv')"
   ]
  },
  {
   "cell_type": "code",
   "execution_count": 31,
   "id": "51e871d2",
   "metadata": {
    "execution": {
     "iopub.execute_input": "2022-10-28T07:57:38.729517Z",
     "iopub.status.busy": "2022-10-28T07:57:38.728904Z",
     "iopub.status.idle": "2022-10-28T07:57:38.740348Z",
     "shell.execute_reply": "2022-10-28T07:57:38.739433Z"
    },
    "papermill": {
     "duration": 0.21966,
     "end_time": "2022-10-28T07:57:38.745127",
     "exception": false,
     "start_time": "2022-10-28T07:57:38.525467",
     "status": "completed"
    },
    "tags": []
   },
   "outputs": [
    {
     "data": {
      "text/plain": [
       "1123"
      ]
     },
     "execution_count": 31,
     "metadata": {},
     "output_type": "execute_result"
    }
   ],
   "source": [
    "# paraphrase intensity less than predicted intensity\n",
    "pplp_df=test_df[test_df['predicted_intesity_paraphrased']<=test_df['predicted_intesity']]\n",
    "len(pplp_df)"
   ]
  },
  {
   "cell_type": "code",
   "execution_count": 32,
   "id": "1cd3ae40",
   "metadata": {
    "execution": {
     "iopub.execute_input": "2022-10-28T07:57:39.132081Z",
     "iopub.status.busy": "2022-10-28T07:57:39.131517Z",
     "iopub.status.idle": "2022-10-28T07:57:39.155593Z",
     "shell.execute_reply": "2022-10-28T07:57:39.154729Z"
    },
    "papermill": {
     "duration": 0.219045,
     "end_time": "2022-10-28T07:57:39.158290",
     "exception": false,
     "start_time": "2022-10-28T07:57:38.939245",
     "status": "completed"
    },
    "tags": []
   },
   "outputs": [],
   "source": [
    "pplp_df.to_csv('paraphrase intensity less than predicted intensity.csv')"
   ]
  },
  {
   "cell_type": "code",
   "execution_count": 33,
   "id": "dae00f36",
   "metadata": {
    "execution": {
     "iopub.execute_input": "2022-10-28T07:57:39.431892Z",
     "iopub.status.busy": "2022-10-28T07:57:39.431529Z",
     "iopub.status.idle": "2022-10-28T07:57:39.439879Z",
     "shell.execute_reply": "2022-10-28T07:57:39.438874Z"
    },
    "papermill": {
     "duration": 0.134435,
     "end_time": "2022-10-28T07:57:39.441903",
     "exception": false,
     "start_time": "2022-10-28T07:57:39.307468",
     "status": "completed"
    },
    "tags": []
   },
   "outputs": [
    {
     "data": {
      "text/plain": [
       "3214"
      ]
     },
     "execution_count": 33,
     "metadata": {},
     "output_type": "execute_result"
    }
   ],
   "source": [
    "# paraphrase intensity greater than predicted intensity\n",
    "ppgp_df=test_df[test_df['predicted_intesity_paraphrased']>test_df['predicted_intesity']]\n",
    "len(ppgp_df)"
   ]
  },
  {
   "cell_type": "code",
   "execution_count": 34,
   "id": "483e200f",
   "metadata": {
    "execution": {
     "iopub.execute_input": "2022-10-28T07:57:39.704202Z",
     "iopub.status.busy": "2022-10-28T07:57:39.703822Z",
     "iopub.status.idle": "2022-10-28T07:57:39.736958Z",
     "shell.execute_reply": "2022-10-28T07:57:39.735877Z"
    },
    "papermill": {
     "duration": 0.172822,
     "end_time": "2022-10-28T07:57:39.739730",
     "exception": false,
     "start_time": "2022-10-28T07:57:39.566908",
     "status": "completed"
    },
    "tags": []
   },
   "outputs": [],
   "source": [
    "ppgp_df.to_csv('paraphrase intensity greater than predicted intensity.csv')"
   ]
  },
  {
   "cell_type": "code",
   "execution_count": 35,
   "id": "7e988ed5",
   "metadata": {
    "execution": {
     "iopub.execute_input": "2022-10-28T07:57:40.035679Z",
     "iopub.status.busy": "2022-10-28T07:57:40.035326Z",
     "iopub.status.idle": "2022-10-28T07:57:40.043932Z",
     "shell.execute_reply": "2022-10-28T07:57:40.042978Z"
    },
    "papermill": {
     "duration": 0.182355,
     "end_time": "2022-10-28T07:57:40.045922",
     "exception": false,
     "start_time": "2022-10-28T07:57:39.863567",
     "status": "completed"
    },
    "tags": []
   },
   "outputs": [
    {
     "data": {
      "text/plain": [
       "1492"
      ]
     },
     "execution_count": 35,
     "metadata": {},
     "output_type": "execute_result"
    }
   ],
   "source": [
    "# paraphrase intensity less than actual intensity\n",
    "ppla_df=test_df[test_df['predicted_intesity_paraphrased']<=test_df['Intensity']]\n",
    "len(ppla_df)"
   ]
  },
  {
   "cell_type": "code",
   "execution_count": 36,
   "id": "a1f1a7f1",
   "metadata": {
    "execution": {
     "iopub.execute_input": "2022-10-28T07:57:40.295255Z",
     "iopub.status.busy": "2022-10-28T07:57:40.294293Z",
     "iopub.status.idle": "2022-10-28T07:57:40.313064Z",
     "shell.execute_reply": "2022-10-28T07:57:40.312170Z"
    },
    "papermill": {
     "duration": 0.146204,
     "end_time": "2022-10-28T07:57:40.315495",
     "exception": false,
     "start_time": "2022-10-28T07:57:40.169291",
     "status": "completed"
    },
    "tags": []
   },
   "outputs": [],
   "source": [
    "ppla_df.to_csv('paraphrase intensity less than actual intensity.csv')"
   ]
  },
  {
   "cell_type": "code",
   "execution_count": 37,
   "id": "2a6390d3",
   "metadata": {
    "execution": {
     "iopub.execute_input": "2022-10-28T07:57:40.565567Z",
     "iopub.status.busy": "2022-10-28T07:57:40.565199Z",
     "iopub.status.idle": "2022-10-28T07:57:40.573436Z",
     "shell.execute_reply": "2022-10-28T07:57:40.572443Z"
    },
    "papermill": {
     "duration": 0.135464,
     "end_time": "2022-10-28T07:57:40.575400",
     "exception": false,
     "start_time": "2022-10-28T07:57:40.439936",
     "status": "completed"
    },
    "tags": []
   },
   "outputs": [
    {
     "data": {
      "text/plain": [
       "2845"
      ]
     },
     "execution_count": 37,
     "metadata": {},
     "output_type": "execute_result"
    }
   ],
   "source": [
    "# paraphrase intensity greater than actual intensity\n",
    "ppga_df=test_df[test_df['predicted_intesity_paraphrased']>test_df['Intensity']]\n",
    "len(ppga_df)"
   ]
  },
  {
   "cell_type": "code",
   "execution_count": 38,
   "id": "279736be",
   "metadata": {
    "execution": {
     "iopub.execute_input": "2022-10-28T07:57:40.823550Z",
     "iopub.status.busy": "2022-10-28T07:57:40.823187Z",
     "iopub.status.idle": "2022-10-28T07:57:40.853828Z",
     "shell.execute_reply": "2022-10-28T07:57:40.852825Z"
    },
    "papermill": {
     "duration": 0.15759,
     "end_time": "2022-10-28T07:57:40.856284",
     "exception": false,
     "start_time": "2022-10-28T07:57:40.698694",
     "status": "completed"
    },
    "tags": []
   },
   "outputs": [],
   "source": [
    "ppga_df.to_csv('paraphrase intensity greater than actual intensity.csv')"
   ]
  },
  {
   "cell_type": "code",
   "execution_count": null,
   "id": "6672dcde",
   "metadata": {
    "papermill": {
     "duration": 0.12259,
     "end_time": "2022-10-28T07:57:41.106533",
     "exception": false,
     "start_time": "2022-10-28T07:57:40.983943",
     "status": "completed"
    },
    "tags": []
   },
   "outputs": [],
   "source": []
  }
 ],
 "metadata": {
  "kernelspec": {
   "display_name": "Python 3",
   "language": "python",
   "name": "python3"
  },
  "language_info": {
   "codemirror_mode": {
    "name": "ipython",
    "version": 3
   },
   "file_extension": ".py",
   "mimetype": "text/x-python",
   "name": "python",
   "nbconvert_exporter": "python",
   "pygments_lexer": "ipython3",
   "version": "3.7.12"
  },
  "papermill": {
   "default_parameters": {},
   "duration": 312.494352,
   "end_time": "2022-10-28T07:57:44.483597",
   "environment_variables": {},
   "exception": null,
   "input_path": "__notebook__.ipynb",
   "output_path": "__notebook__.ipynb",
   "parameters": {},
   "start_time": "2022-10-28T07:52:31.989245",
   "version": "2.3.4"
  },
  "widgets": {
   "application/vnd.jupyter.widget-state+json": {
    "state": {
     "056d888ae50744e681cf57f2b7e350cc": {
      "model_module": "@jupyter-widgets/base",
      "model_module_version": "1.2.0",
      "model_name": "LayoutModel",
      "state": {
       "_model_module": "@jupyter-widgets/base",
       "_model_module_version": "1.2.0",
       "_model_name": "LayoutModel",
       "_view_count": null,
       "_view_module": "@jupyter-widgets/base",
       "_view_module_version": "1.2.0",
       "_view_name": "LayoutView",
       "align_content": null,
       "align_items": null,
       "align_self": null,
       "border": null,
       "bottom": null,
       "display": null,
       "flex": null,
       "flex_flow": null,
       "grid_area": null,
       "grid_auto_columns": null,
       "grid_auto_flow": null,
       "grid_auto_rows": null,
       "grid_column": null,
       "grid_gap": null,
       "grid_row": null,
       "grid_template_areas": null,
       "grid_template_columns": null,
       "grid_template_rows": null,
       "height": null,
       "justify_content": null,
       "justify_items": null,
       "left": null,
       "margin": null,
       "max_height": null,
       "max_width": null,
       "min_height": null,
       "min_width": null,
       "object_fit": null,
       "object_position": null,
       "order": null,
       "overflow": null,
       "overflow_x": null,
       "overflow_y": null,
       "padding": null,
       "right": null,
       "top": null,
       "visibility": null,
       "width": null
      }
     },
     "0bee5e24f02448c584ede1b3cb5ef035": {
      "model_module": "@jupyter-widgets/base",
      "model_module_version": "1.2.0",
      "model_name": "LayoutModel",
      "state": {
       "_model_module": "@jupyter-widgets/base",
       "_model_module_version": "1.2.0",
       "_model_name": "LayoutModel",
       "_view_count": null,
       "_view_module": "@jupyter-widgets/base",
       "_view_module_version": "1.2.0",
       "_view_name": "LayoutView",
       "align_content": null,
       "align_items": null,
       "align_self": null,
       "border": null,
       "bottom": null,
       "display": null,
       "flex": null,
       "flex_flow": null,
       "grid_area": null,
       "grid_auto_columns": null,
       "grid_auto_flow": null,
       "grid_auto_rows": null,
       "grid_column": null,
       "grid_gap": null,
       "grid_row": null,
       "grid_template_areas": null,
       "grid_template_columns": null,
       "grid_template_rows": null,
       "height": null,
       "justify_content": null,
       "justify_items": null,
       "left": null,
       "margin": null,
       "max_height": null,
       "max_width": null,
       "min_height": null,
       "min_width": null,
       "object_fit": null,
       "object_position": null,
       "order": null,
       "overflow": null,
       "overflow_x": null,
       "overflow_y": null,
       "padding": null,
       "right": null,
       "top": null,
       "visibility": null,
       "width": null
      }
     },
     "0c3c6e660da240e6b87a6396e627b7cd": {
      "model_module": "@jupyter-widgets/controls",
      "model_module_version": "1.5.0",
      "model_name": "HBoxModel",
      "state": {
       "_dom_classes": [],
       "_model_module": "@jupyter-widgets/controls",
       "_model_module_version": "1.5.0",
       "_model_name": "HBoxModel",
       "_view_count": null,
       "_view_module": "@jupyter-widgets/controls",
       "_view_module_version": "1.5.0",
       "_view_name": "HBoxView",
       "box_style": "",
       "children": [
        "IPY_MODEL_19c2a72bebda44e8926c564ea2dc2856",
        "IPY_MODEL_54e19c952bd14ffcb844853154ea2fb0",
        "IPY_MODEL_f69e9374010e4cbb805a557bb3271052"
       ],
       "layout": "IPY_MODEL_60aa638a4089485e80a52eaddf172802"
      }
     },
     "0fb7d30a818e4badbd6e149d4d098ba4": {
      "model_module": "@jupyter-widgets/controls",
      "model_module_version": "1.5.0",
      "model_name": "HBoxModel",
      "state": {
       "_dom_classes": [],
       "_model_module": "@jupyter-widgets/controls",
       "_model_module_version": "1.5.0",
       "_model_name": "HBoxModel",
       "_view_count": null,
       "_view_module": "@jupyter-widgets/controls",
       "_view_module_version": "1.5.0",
       "_view_name": "HBoxView",
       "box_style": "",
       "children": [
        "IPY_MODEL_9ed46cf5949448c78e098839b54ac30d",
        "IPY_MODEL_5b11b6b50d424bd1b5d8158ae9ccb0af",
        "IPY_MODEL_e92155ce6808414c9fb88c76bb1a663b"
       ],
       "layout": "IPY_MODEL_1512f86492374ab2a6373166d66de5ea"
      }
     },
     "1088930be1c049c081bd49a47896165e": {
      "model_module": "@jupyter-widgets/controls",
      "model_module_version": "1.5.0",
      "model_name": "DescriptionStyleModel",
      "state": {
       "_model_module": "@jupyter-widgets/controls",
       "_model_module_version": "1.5.0",
       "_model_name": "DescriptionStyleModel",
       "_view_count": null,
       "_view_module": "@jupyter-widgets/base",
       "_view_module_version": "1.2.0",
       "_view_name": "StyleView",
       "description_width": ""
      }
     },
     "1512b9517ef14eff95595fb697e713b9": {
      "model_module": "@jupyter-widgets/controls",
      "model_module_version": "1.5.0",
      "model_name": "HTMLModel",
      "state": {
       "_dom_classes": [],
       "_model_module": "@jupyter-widgets/controls",
       "_model_module_version": "1.5.0",
       "_model_name": "HTMLModel",
       "_view_count": null,
       "_view_module": "@jupyter-widgets/controls",
       "_view_module_version": "1.5.0",
       "_view_name": "HTMLView",
       "description": "",
       "description_tooltip": null,
       "layout": "IPY_MODEL_0bee5e24f02448c584ede1b3cb5ef035",
       "placeholder": "​",
       "style": "IPY_MODEL_7190543e306f4b7a9b730116c1a52423",
       "value": " 446k/446k [00:00&lt;00:00, 924kB/s]"
      }
     },
     "1512f86492374ab2a6373166d66de5ea": {
      "model_module": "@jupyter-widgets/base",
      "model_module_version": "1.2.0",
      "model_name": "LayoutModel",
      "state": {
       "_model_module": "@jupyter-widgets/base",
       "_model_module_version": "1.2.0",
       "_model_name": "LayoutModel",
       "_view_count": null,
       "_view_module": "@jupyter-widgets/base",
       "_view_module_version": "1.2.0",
       "_view_name": "LayoutView",
       "align_content": null,
       "align_items": null,
       "align_self": null,
       "border": null,
       "bottom": null,
       "display": null,
       "flex": null,
       "flex_flow": null,
       "grid_area": null,
       "grid_auto_columns": null,
       "grid_auto_flow": null,
       "grid_auto_rows": null,
       "grid_column": null,
       "grid_gap": null,
       "grid_row": null,
       "grid_template_areas": null,
       "grid_template_columns": null,
       "grid_template_rows": null,
       "height": null,
       "justify_content": null,
       "justify_items": null,
       "left": null,
       "margin": null,
       "max_height": null,
       "max_width": null,
       "min_height": null,
       "min_width": null,
       "object_fit": null,
       "object_position": null,
       "order": null,
       "overflow": null,
       "overflow_x": null,
       "overflow_y": null,
       "padding": null,
       "right": null,
       "top": null,
       "visibility": null,
       "width": null
      }
     },
     "19c2a72bebda44e8926c564ea2dc2856": {
      "model_module": "@jupyter-widgets/controls",
      "model_module_version": "1.5.0",
      "model_name": "HTMLModel",
      "state": {
       "_dom_classes": [],
       "_model_module": "@jupyter-widgets/controls",
       "_model_module_version": "1.5.0",
       "_model_name": "HTMLModel",
       "_view_count": null,
       "_view_module": "@jupyter-widgets/controls",
       "_view_module_version": "1.5.0",
       "_view_name": "HTMLView",
       "description": "",
       "description_tooltip": null,
       "layout": "IPY_MODEL_9373ef94398c4d3c9880f74d4352a52d",
       "placeholder": "​",
       "style": "IPY_MODEL_1ef4f70751cb431f8f9262adbe0dc686",
       "value": "Downloading: 100%"
      }
     },
     "1d4182852cf24bf7850288f15ca354c1": {
      "model_module": "@jupyter-widgets/controls",
      "model_module_version": "1.5.0",
      "model_name": "ProgressStyleModel",
      "state": {
       "_model_module": "@jupyter-widgets/controls",
       "_model_module_version": "1.5.0",
       "_model_name": "ProgressStyleModel",
       "_view_count": null,
       "_view_module": "@jupyter-widgets/base",
       "_view_module_version": "1.2.0",
       "_view_name": "StyleView",
       "bar_color": null,
       "description_width": ""
      }
     },
     "1ef4f70751cb431f8f9262adbe0dc686": {
      "model_module": "@jupyter-widgets/controls",
      "model_module_version": "1.5.0",
      "model_name": "DescriptionStyleModel",
      "state": {
       "_model_module": "@jupyter-widgets/controls",
       "_model_module_version": "1.5.0",
       "_model_name": "DescriptionStyleModel",
       "_view_count": null,
       "_view_module": "@jupyter-widgets/base",
       "_view_module_version": "1.2.0",
       "_view_name": "StyleView",
       "description_width": ""
      }
     },
     "1f16d0abd96e4d6995f6d517524f8d85": {
      "model_module": "@jupyter-widgets/controls",
      "model_module_version": "1.5.0",
      "model_name": "DescriptionStyleModel",
      "state": {
       "_model_module": "@jupyter-widgets/controls",
       "_model_module_version": "1.5.0",
       "_model_name": "DescriptionStyleModel",
       "_view_count": null,
       "_view_module": "@jupyter-widgets/base",
       "_view_module_version": "1.2.0",
       "_view_name": "StyleView",
       "description_width": ""
      }
     },
     "237bb52ef97e48ab8ae0dd6e3c218168": {
      "model_module": "@jupyter-widgets/base",
      "model_module_version": "1.2.0",
      "model_name": "LayoutModel",
      "state": {
       "_model_module": "@jupyter-widgets/base",
       "_model_module_version": "1.2.0",
       "_model_name": "LayoutModel",
       "_view_count": null,
       "_view_module": "@jupyter-widgets/base",
       "_view_module_version": "1.2.0",
       "_view_name": "LayoutView",
       "align_content": null,
       "align_items": null,
       "align_self": null,
       "border": null,
       "bottom": null,
       "display": null,
       "flex": null,
       "flex_flow": null,
       "grid_area": null,
       "grid_auto_columns": null,
       "grid_auto_flow": null,
       "grid_auto_rows": null,
       "grid_column": null,
       "grid_gap": null,
       "grid_row": null,
       "grid_template_areas": null,
       "grid_template_columns": null,
       "grid_template_rows": null,
       "height": null,
       "justify_content": null,
       "justify_items": null,
       "left": null,
       "margin": null,
       "max_height": null,
       "max_width": null,
       "min_height": null,
       "min_width": null,
       "object_fit": null,
       "object_position": null,
       "order": null,
       "overflow": null,
       "overflow_x": null,
       "overflow_y": null,
       "padding": null,
       "right": null,
       "top": null,
       "visibility": null,
       "width": null
      }
     },
     "27a8b350deb34e45afe8815adf9f19b2": {
      "model_module": "@jupyter-widgets/base",
      "model_module_version": "1.2.0",
      "model_name": "LayoutModel",
      "state": {
       "_model_module": "@jupyter-widgets/base",
       "_model_module_version": "1.2.0",
       "_model_name": "LayoutModel",
       "_view_count": null,
       "_view_module": "@jupyter-widgets/base",
       "_view_module_version": "1.2.0",
       "_view_name": "LayoutView",
       "align_content": null,
       "align_items": null,
       "align_self": null,
       "border": null,
       "bottom": null,
       "display": null,
       "flex": null,
       "flex_flow": null,
       "grid_area": null,
       "grid_auto_columns": null,
       "grid_auto_flow": null,
       "grid_auto_rows": null,
       "grid_column": null,
       "grid_gap": null,
       "grid_row": null,
       "grid_template_areas": null,
       "grid_template_columns": null,
       "grid_template_rows": null,
       "height": null,
       "justify_content": null,
       "justify_items": null,
       "left": null,
       "margin": null,
       "max_height": null,
       "max_width": null,
       "min_height": null,
       "min_width": null,
       "object_fit": null,
       "object_position": null,
       "order": null,
       "overflow": null,
       "overflow_x": null,
       "overflow_y": null,
       "padding": null,
       "right": null,
       "top": null,
       "visibility": null,
       "width": null
      }
     },
     "2b43d0269a604057a0a9ea859d2e8133": {
      "model_module": "@jupyter-widgets/base",
      "model_module_version": "1.2.0",
      "model_name": "LayoutModel",
      "state": {
       "_model_module": "@jupyter-widgets/base",
       "_model_module_version": "1.2.0",
       "_model_name": "LayoutModel",
       "_view_count": null,
       "_view_module": "@jupyter-widgets/base",
       "_view_module_version": "1.2.0",
       "_view_name": "LayoutView",
       "align_content": null,
       "align_items": null,
       "align_self": null,
       "border": null,
       "bottom": null,
       "display": null,
       "flex": null,
       "flex_flow": null,
       "grid_area": null,
       "grid_auto_columns": null,
       "grid_auto_flow": null,
       "grid_auto_rows": null,
       "grid_column": null,
       "grid_gap": null,
       "grid_row": null,
       "grid_template_areas": null,
       "grid_template_columns": null,
       "grid_template_rows": null,
       "height": null,
       "justify_content": null,
       "justify_items": null,
       "left": null,
       "margin": null,
       "max_height": null,
       "max_width": null,
       "min_height": null,
       "min_width": null,
       "object_fit": null,
       "object_position": null,
       "order": null,
       "overflow": null,
       "overflow_x": null,
       "overflow_y": null,
       "padding": null,
       "right": null,
       "top": null,
       "visibility": null,
       "width": null
      }
     },
     "3b78ef8bea1d4ea8a04f01e3cbb0a507": {
      "model_module": "@jupyter-widgets/controls",
      "model_module_version": "1.5.0",
      "model_name": "HTMLModel",
      "state": {
       "_dom_classes": [],
       "_model_module": "@jupyter-widgets/controls",
       "_model_module_version": "1.5.0",
       "_model_name": "HTMLModel",
       "_view_count": null,
       "_view_module": "@jupyter-widgets/controls",
       "_view_module_version": "1.5.0",
       "_view_name": "HTMLView",
       "description": "",
       "description_tooltip": null,
       "layout": "IPY_MODEL_237bb52ef97e48ab8ae0dd6e3c218168",
       "placeholder": "​",
       "style": "IPY_MODEL_66339cefb59c4523aa3a4c47c70c236a",
       "value": "Downloading: 100%"
      }
     },
     "5166caa872d040938ca37fe153f995d8": {
      "model_module": "@jupyter-widgets/base",
      "model_module_version": "1.2.0",
      "model_name": "LayoutModel",
      "state": {
       "_model_module": "@jupyter-widgets/base",
       "_model_module_version": "1.2.0",
       "_model_name": "LayoutModel",
       "_view_count": null,
       "_view_module": "@jupyter-widgets/base",
       "_view_module_version": "1.2.0",
       "_view_name": "LayoutView",
       "align_content": null,
       "align_items": null,
       "align_self": null,
       "border": null,
       "bottom": null,
       "display": null,
       "flex": null,
       "flex_flow": null,
       "grid_area": null,
       "grid_auto_columns": null,
       "grid_auto_flow": null,
       "grid_auto_rows": null,
       "grid_column": null,
       "grid_gap": null,
       "grid_row": null,
       "grid_template_areas": null,
       "grid_template_columns": null,
       "grid_template_rows": null,
       "height": null,
       "justify_content": null,
       "justify_items": null,
       "left": null,
       "margin": null,
       "max_height": null,
       "max_width": null,
       "min_height": null,
       "min_width": null,
       "object_fit": null,
       "object_position": null,
       "order": null,
       "overflow": null,
       "overflow_x": null,
       "overflow_y": null,
       "padding": null,
       "right": null,
       "top": null,
       "visibility": null,
       "width": null
      }
     },
     "54e19c952bd14ffcb844853154ea2fb0": {
      "model_module": "@jupyter-widgets/controls",
      "model_module_version": "1.5.0",
      "model_name": "FloatProgressModel",
      "state": {
       "_dom_classes": [],
       "_model_module": "@jupyter-widgets/controls",
       "_model_module_version": "1.5.0",
       "_model_name": "FloatProgressModel",
       "_view_count": null,
       "_view_module": "@jupyter-widgets/controls",
       "_view_module_version": "1.5.0",
       "_view_name": "ProgressView",
       "bar_style": "success",
       "description": "",
       "description_tooltip": null,
       "layout": "IPY_MODEL_c4aa5f85bcae465e8db9c831a6111630",
       "max": 898823.0,
       "min": 0.0,
       "orientation": "horizontal",
       "style": "IPY_MODEL_a418dcccd639439b8f35ee3e1d44b82b",
       "value": 898823.0
      }
     },
     "57149709146c452a9de50932f7cb9138": {
      "model_module": "@jupyter-widgets/controls",
      "model_module_version": "1.5.0",
      "model_name": "FloatProgressModel",
      "state": {
       "_dom_classes": [],
       "_model_module": "@jupyter-widgets/controls",
       "_model_module_version": "1.5.0",
       "_model_name": "FloatProgressModel",
       "_view_count": null,
       "_view_module": "@jupyter-widgets/controls",
       "_view_module_version": "1.5.0",
       "_view_name": "ProgressView",
       "bar_style": "success",
       "description": "",
       "description_tooltip": null,
       "layout": "IPY_MODEL_8bd84099529143d18118efbe9fd4f324",
       "max": 501200538.0,
       "min": 0.0,
       "orientation": "horizontal",
       "style": "IPY_MODEL_62b31e2ce53b4fc49a3758bed047abb7",
       "value": 501200538.0
      }
     },
     "5b11b6b50d424bd1b5d8158ae9ccb0af": {
      "model_module": "@jupyter-widgets/controls",
      "model_module_version": "1.5.0",
      "model_name": "FloatProgressModel",
      "state": {
       "_dom_classes": [],
       "_model_module": "@jupyter-widgets/controls",
       "_model_module_version": "1.5.0",
       "_model_name": "FloatProgressModel",
       "_view_count": null,
       "_view_module": "@jupyter-widgets/controls",
       "_view_module_version": "1.5.0",
       "_view_name": "ProgressView",
       "bar_style": "success",
       "description": "",
       "description_tooltip": null,
       "layout": "IPY_MODEL_71e6fb894af944a69eb714ee32b16dd7",
       "max": 481.0,
       "min": 0.0,
       "orientation": "horizontal",
       "style": "IPY_MODEL_1d4182852cf24bf7850288f15ca354c1",
       "value": 481.0
      }
     },
     "60aa638a4089485e80a52eaddf172802": {
      "model_module": "@jupyter-widgets/base",
      "model_module_version": "1.2.0",
      "model_name": "LayoutModel",
      "state": {
       "_model_module": "@jupyter-widgets/base",
       "_model_module_version": "1.2.0",
       "_model_name": "LayoutModel",
       "_view_count": null,
       "_view_module": "@jupyter-widgets/base",
       "_view_module_version": "1.2.0",
       "_view_name": "LayoutView",
       "align_content": null,
       "align_items": null,
       "align_self": null,
       "border": null,
       "bottom": null,
       "display": null,
       "flex": null,
       "flex_flow": null,
       "grid_area": null,
       "grid_auto_columns": null,
       "grid_auto_flow": null,
       "grid_auto_rows": null,
       "grid_column": null,
       "grid_gap": null,
       "grid_row": null,
       "grid_template_areas": null,
       "grid_template_columns": null,
       "grid_template_rows": null,
       "height": null,
       "justify_content": null,
       "justify_items": null,
       "left": null,
       "margin": null,
       "max_height": null,
       "max_width": null,
       "min_height": null,
       "min_width": null,
       "object_fit": null,
       "object_position": null,
       "order": null,
       "overflow": null,
       "overflow_x": null,
       "overflow_y": null,
       "padding": null,
       "right": null,
       "top": null,
       "visibility": null,
       "width": null
      }
     },
     "62b31e2ce53b4fc49a3758bed047abb7": {
      "model_module": "@jupyter-widgets/controls",
      "model_module_version": "1.5.0",
      "model_name": "ProgressStyleModel",
      "state": {
       "_model_module": "@jupyter-widgets/controls",
       "_model_module_version": "1.5.0",
       "_model_name": "ProgressStyleModel",
       "_view_count": null,
       "_view_module": "@jupyter-widgets/base",
       "_view_module_version": "1.2.0",
       "_view_name": "StyleView",
       "bar_color": null,
       "description_width": ""
      }
     },
     "66339cefb59c4523aa3a4c47c70c236a": {
      "model_module": "@jupyter-widgets/controls",
      "model_module_version": "1.5.0",
      "model_name": "DescriptionStyleModel",
      "state": {
       "_model_module": "@jupyter-widgets/controls",
       "_model_module_version": "1.5.0",
       "_model_name": "DescriptionStyleModel",
       "_view_count": null,
       "_view_module": "@jupyter-widgets/base",
       "_view_module_version": "1.2.0",
       "_view_name": "StyleView",
       "description_width": ""
      }
     },
     "7190543e306f4b7a9b730116c1a52423": {
      "model_module": "@jupyter-widgets/controls",
      "model_module_version": "1.5.0",
      "model_name": "DescriptionStyleModel",
      "state": {
       "_model_module": "@jupyter-widgets/controls",
       "_model_module_version": "1.5.0",
       "_model_name": "DescriptionStyleModel",
       "_view_count": null,
       "_view_module": "@jupyter-widgets/base",
       "_view_module_version": "1.2.0",
       "_view_name": "StyleView",
       "description_width": ""
      }
     },
     "71e6fb894af944a69eb714ee32b16dd7": {
      "model_module": "@jupyter-widgets/base",
      "model_module_version": "1.2.0",
      "model_name": "LayoutModel",
      "state": {
       "_model_module": "@jupyter-widgets/base",
       "_model_module_version": "1.2.0",
       "_model_name": "LayoutModel",
       "_view_count": null,
       "_view_module": "@jupyter-widgets/base",
       "_view_module_version": "1.2.0",
       "_view_name": "LayoutView",
       "align_content": null,
       "align_items": null,
       "align_self": null,
       "border": null,
       "bottom": null,
       "display": null,
       "flex": null,
       "flex_flow": null,
       "grid_area": null,
       "grid_auto_columns": null,
       "grid_auto_flow": null,
       "grid_auto_rows": null,
       "grid_column": null,
       "grid_gap": null,
       "grid_row": null,
       "grid_template_areas": null,
       "grid_template_columns": null,
       "grid_template_rows": null,
       "height": null,
       "justify_content": null,
       "justify_items": null,
       "left": null,
       "margin": null,
       "max_height": null,
       "max_width": null,
       "min_height": null,
       "min_width": null,
       "object_fit": null,
       "object_position": null,
       "order": null,
       "overflow": null,
       "overflow_x": null,
       "overflow_y": null,
       "padding": null,
       "right": null,
       "top": null,
       "visibility": null,
       "width": null
      }
     },
     "73cefdf4da6c440cbc53cb16e0c56d02": {
      "model_module": "@jupyter-widgets/controls",
      "model_module_version": "1.5.0",
      "model_name": "DescriptionStyleModel",
      "state": {
       "_model_module": "@jupyter-widgets/controls",
       "_model_module_version": "1.5.0",
       "_model_name": "DescriptionStyleModel",
       "_view_count": null,
       "_view_module": "@jupyter-widgets/base",
       "_view_module_version": "1.2.0",
       "_view_name": "StyleView",
       "description_width": ""
      }
     },
     "8a11540e217e4b91a3d8bc18d47d6bcc": {
      "model_module": "@jupyter-widgets/controls",
      "model_module_version": "1.5.0",
      "model_name": "HTMLModel",
      "state": {
       "_dom_classes": [],
       "_model_module": "@jupyter-widgets/controls",
       "_model_module_version": "1.5.0",
       "_model_name": "HTMLModel",
       "_view_count": null,
       "_view_module": "@jupyter-widgets/controls",
       "_view_module_version": "1.5.0",
       "_view_name": "HTMLView",
       "description": "",
       "description_tooltip": null,
       "layout": "IPY_MODEL_2b43d0269a604057a0a9ea859d2e8133",
       "placeholder": "​",
       "style": "IPY_MODEL_c91e4bceef16465098396c10eb863cca",
       "value": "Downloading: 100%"
      }
     },
     "8bd84099529143d18118efbe9fd4f324": {
      "model_module": "@jupyter-widgets/base",
      "model_module_version": "1.2.0",
      "model_name": "LayoutModel",
      "state": {
       "_model_module": "@jupyter-widgets/base",
       "_model_module_version": "1.2.0",
       "_model_name": "LayoutModel",
       "_view_count": null,
       "_view_module": "@jupyter-widgets/base",
       "_view_module_version": "1.2.0",
       "_view_name": "LayoutView",
       "align_content": null,
       "align_items": null,
       "align_self": null,
       "border": null,
       "bottom": null,
       "display": null,
       "flex": null,
       "flex_flow": null,
       "grid_area": null,
       "grid_auto_columns": null,
       "grid_auto_flow": null,
       "grid_auto_rows": null,
       "grid_column": null,
       "grid_gap": null,
       "grid_row": null,
       "grid_template_areas": null,
       "grid_template_columns": null,
       "grid_template_rows": null,
       "height": null,
       "justify_content": null,
       "justify_items": null,
       "left": null,
       "margin": null,
       "max_height": null,
       "max_width": null,
       "min_height": null,
       "min_width": null,
       "object_fit": null,
       "object_position": null,
       "order": null,
       "overflow": null,
       "overflow_x": null,
       "overflow_y": null,
       "padding": null,
       "right": null,
       "top": null,
       "visibility": null,
       "width": null
      }
     },
     "9373ef94398c4d3c9880f74d4352a52d": {
      "model_module": "@jupyter-widgets/base",
      "model_module_version": "1.2.0",
      "model_name": "LayoutModel",
      "state": {
       "_model_module": "@jupyter-widgets/base",
       "_model_module_version": "1.2.0",
       "_model_name": "LayoutModel",
       "_view_count": null,
       "_view_module": "@jupyter-widgets/base",
       "_view_module_version": "1.2.0",
       "_view_name": "LayoutView",
       "align_content": null,
       "align_items": null,
       "align_self": null,
       "border": null,
       "bottom": null,
       "display": null,
       "flex": null,
       "flex_flow": null,
       "grid_area": null,
       "grid_auto_columns": null,
       "grid_auto_flow": null,
       "grid_auto_rows": null,
       "grid_column": null,
       "grid_gap": null,
       "grid_row": null,
       "grid_template_areas": null,
       "grid_template_columns": null,
       "grid_template_rows": null,
       "height": null,
       "justify_content": null,
       "justify_items": null,
       "left": null,
       "margin": null,
       "max_height": null,
       "max_width": null,
       "min_height": null,
       "min_width": null,
       "object_fit": null,
       "object_position": null,
       "order": null,
       "overflow": null,
       "overflow_x": null,
       "overflow_y": null,
       "padding": null,
       "right": null,
       "top": null,
       "visibility": null,
       "width": null
      }
     },
     "9ed46cf5949448c78e098839b54ac30d": {
      "model_module": "@jupyter-widgets/controls",
      "model_module_version": "1.5.0",
      "model_name": "HTMLModel",
      "state": {
       "_dom_classes": [],
       "_model_module": "@jupyter-widgets/controls",
       "_model_module_version": "1.5.0",
       "_model_name": "HTMLModel",
       "_view_count": null,
       "_view_module": "@jupyter-widgets/controls",
       "_view_module_version": "1.5.0",
       "_view_name": "HTMLView",
       "description": "",
       "description_tooltip": null,
       "layout": "IPY_MODEL_056d888ae50744e681cf57f2b7e350cc",
       "placeholder": "​",
       "style": "IPY_MODEL_1088930be1c049c081bd49a47896165e",
       "value": "Downloading: 100%"
      }
     },
     "a2f67e0e27c54b1fa252a80181798ebe": {
      "model_module": "@jupyter-widgets/controls",
      "model_module_version": "1.5.0",
      "model_name": "DescriptionStyleModel",
      "state": {
       "_model_module": "@jupyter-widgets/controls",
       "_model_module_version": "1.5.0",
       "_model_name": "DescriptionStyleModel",
       "_view_count": null,
       "_view_module": "@jupyter-widgets/base",
       "_view_module_version": "1.2.0",
       "_view_name": "StyleView",
       "description_width": ""
      }
     },
     "a418dcccd639439b8f35ee3e1d44b82b": {
      "model_module": "@jupyter-widgets/controls",
      "model_module_version": "1.5.0",
      "model_name": "ProgressStyleModel",
      "state": {
       "_model_module": "@jupyter-widgets/controls",
       "_model_module_version": "1.5.0",
       "_model_name": "ProgressStyleModel",
       "_view_count": null,
       "_view_module": "@jupyter-widgets/base",
       "_view_module_version": "1.2.0",
       "_view_name": "StyleView",
       "bar_color": null,
       "description_width": ""
      }
     },
     "b195343fb09b4922a42ad21d9966500b": {
      "model_module": "@jupyter-widgets/controls",
      "model_module_version": "1.5.0",
      "model_name": "HBoxModel",
      "state": {
       "_dom_classes": [],
       "_model_module": "@jupyter-widgets/controls",
       "_model_module_version": "1.5.0",
       "_model_name": "HBoxModel",
       "_view_count": null,
       "_view_module": "@jupyter-widgets/controls",
       "_view_module_version": "1.5.0",
       "_view_name": "HBoxView",
       "box_style": "",
       "children": [
        "IPY_MODEL_8a11540e217e4b91a3d8bc18d47d6bcc",
        "IPY_MODEL_b9346aa742b34fc8980ebe0823b43226",
        "IPY_MODEL_1512b9517ef14eff95595fb697e713b9"
       ],
       "layout": "IPY_MODEL_5166caa872d040938ca37fe153f995d8"
      }
     },
     "b9346aa742b34fc8980ebe0823b43226": {
      "model_module": "@jupyter-widgets/controls",
      "model_module_version": "1.5.0",
      "model_name": "FloatProgressModel",
      "state": {
       "_dom_classes": [],
       "_model_module": "@jupyter-widgets/controls",
       "_model_module_version": "1.5.0",
       "_model_name": "FloatProgressModel",
       "_view_count": null,
       "_view_module": "@jupyter-widgets/controls",
       "_view_module_version": "1.5.0",
       "_view_name": "ProgressView",
       "bar_style": "success",
       "description": "",
       "description_tooltip": null,
       "layout": "IPY_MODEL_ccb52272cb8b46a085eb24e4582dd36e",
       "max": 456318.0,
       "min": 0.0,
       "orientation": "horizontal",
       "style": "IPY_MODEL_efbcfde1030745aeb96f14154240ad0f",
       "value": 456318.0
      }
     },
     "bf3dd6edab1344f4b29285d43f5a0f57": {
      "model_module": "@jupyter-widgets/controls",
      "model_module_version": "1.5.0",
      "model_name": "HTMLModel",
      "state": {
       "_dom_classes": [],
       "_model_module": "@jupyter-widgets/controls",
       "_model_module_version": "1.5.0",
       "_model_name": "HTMLModel",
       "_view_count": null,
       "_view_module": "@jupyter-widgets/controls",
       "_view_module_version": "1.5.0",
       "_view_name": "HTMLView",
       "description": "",
       "description_tooltip": null,
       "layout": "IPY_MODEL_f9e7404b37b7400b96db9d00767081fb",
       "placeholder": "​",
       "style": "IPY_MODEL_1f16d0abd96e4d6995f6d517524f8d85",
       "value": " 478M/478M [00:22&lt;00:00, 23.4MB/s]"
      }
     },
     "c4aa5f85bcae465e8db9c831a6111630": {
      "model_module": "@jupyter-widgets/base",
      "model_module_version": "1.2.0",
      "model_name": "LayoutModel",
      "state": {
       "_model_module": "@jupyter-widgets/base",
       "_model_module_version": "1.2.0",
       "_model_name": "LayoutModel",
       "_view_count": null,
       "_view_module": "@jupyter-widgets/base",
       "_view_module_version": "1.2.0",
       "_view_name": "LayoutView",
       "align_content": null,
       "align_items": null,
       "align_self": null,
       "border": null,
       "bottom": null,
       "display": null,
       "flex": null,
       "flex_flow": null,
       "grid_area": null,
       "grid_auto_columns": null,
       "grid_auto_flow": null,
       "grid_auto_rows": null,
       "grid_column": null,
       "grid_gap": null,
       "grid_row": null,
       "grid_template_areas": null,
       "grid_template_columns": null,
       "grid_template_rows": null,
       "height": null,
       "justify_content": null,
       "justify_items": null,
       "left": null,
       "margin": null,
       "max_height": null,
       "max_width": null,
       "min_height": null,
       "min_width": null,
       "object_fit": null,
       "object_position": null,
       "order": null,
       "overflow": null,
       "overflow_x": null,
       "overflow_y": null,
       "padding": null,
       "right": null,
       "top": null,
       "visibility": null,
       "width": null
      }
     },
     "c7fbc32952f74a11baf528c5f00931aa": {
      "model_module": "@jupyter-widgets/base",
      "model_module_version": "1.2.0",
      "model_name": "LayoutModel",
      "state": {
       "_model_module": "@jupyter-widgets/base",
       "_model_module_version": "1.2.0",
       "_model_name": "LayoutModel",
       "_view_count": null,
       "_view_module": "@jupyter-widgets/base",
       "_view_module_version": "1.2.0",
       "_view_name": "LayoutView",
       "align_content": null,
       "align_items": null,
       "align_self": null,
       "border": null,
       "bottom": null,
       "display": null,
       "flex": null,
       "flex_flow": null,
       "grid_area": null,
       "grid_auto_columns": null,
       "grid_auto_flow": null,
       "grid_auto_rows": null,
       "grid_column": null,
       "grid_gap": null,
       "grid_row": null,
       "grid_template_areas": null,
       "grid_template_columns": null,
       "grid_template_rows": null,
       "height": null,
       "justify_content": null,
       "justify_items": null,
       "left": null,
       "margin": null,
       "max_height": null,
       "max_width": null,
       "min_height": null,
       "min_width": null,
       "object_fit": null,
       "object_position": null,
       "order": null,
       "overflow": null,
       "overflow_x": null,
       "overflow_y": null,
       "padding": null,
       "right": null,
       "top": null,
       "visibility": null,
       "width": null
      }
     },
     "c91e4bceef16465098396c10eb863cca": {
      "model_module": "@jupyter-widgets/controls",
      "model_module_version": "1.5.0",
      "model_name": "DescriptionStyleModel",
      "state": {
       "_model_module": "@jupyter-widgets/controls",
       "_model_module_version": "1.5.0",
       "_model_name": "DescriptionStyleModel",
       "_view_count": null,
       "_view_module": "@jupyter-widgets/base",
       "_view_module_version": "1.2.0",
       "_view_name": "StyleView",
       "description_width": ""
      }
     },
     "ccb52272cb8b46a085eb24e4582dd36e": {
      "model_module": "@jupyter-widgets/base",
      "model_module_version": "1.2.0",
      "model_name": "LayoutModel",
      "state": {
       "_model_module": "@jupyter-widgets/base",
       "_model_module_version": "1.2.0",
       "_model_name": "LayoutModel",
       "_view_count": null,
       "_view_module": "@jupyter-widgets/base",
       "_view_module_version": "1.2.0",
       "_view_name": "LayoutView",
       "align_content": null,
       "align_items": null,
       "align_self": null,
       "border": null,
       "bottom": null,
       "display": null,
       "flex": null,
       "flex_flow": null,
       "grid_area": null,
       "grid_auto_columns": null,
       "grid_auto_flow": null,
       "grid_auto_rows": null,
       "grid_column": null,
       "grid_gap": null,
       "grid_row": null,
       "grid_template_areas": null,
       "grid_template_columns": null,
       "grid_template_rows": null,
       "height": null,
       "justify_content": null,
       "justify_items": null,
       "left": null,
       "margin": null,
       "max_height": null,
       "max_width": null,
       "min_height": null,
       "min_width": null,
       "object_fit": null,
       "object_position": null,
       "order": null,
       "overflow": null,
       "overflow_x": null,
       "overflow_y": null,
       "padding": null,
       "right": null,
       "top": null,
       "visibility": null,
       "width": null
      }
     },
     "e4d27b9a4f8e4788a1900fdd5cf7905a": {
      "model_module": "@jupyter-widgets/controls",
      "model_module_version": "1.5.0",
      "model_name": "HBoxModel",
      "state": {
       "_dom_classes": [],
       "_model_module": "@jupyter-widgets/controls",
       "_model_module_version": "1.5.0",
       "_model_name": "HBoxModel",
       "_view_count": null,
       "_view_module": "@jupyter-widgets/controls",
       "_view_module_version": "1.5.0",
       "_view_name": "HBoxView",
       "box_style": "",
       "children": [
        "IPY_MODEL_3b78ef8bea1d4ea8a04f01e3cbb0a507",
        "IPY_MODEL_57149709146c452a9de50932f7cb9138",
        "IPY_MODEL_bf3dd6edab1344f4b29285d43f5a0f57"
       ],
       "layout": "IPY_MODEL_27a8b350deb34e45afe8815adf9f19b2"
      }
     },
     "e92155ce6808414c9fb88c76bb1a663b": {
      "model_module": "@jupyter-widgets/controls",
      "model_module_version": "1.5.0",
      "model_name": "HTMLModel",
      "state": {
       "_dom_classes": [],
       "_model_module": "@jupyter-widgets/controls",
       "_model_module_version": "1.5.0",
       "_model_name": "HTMLModel",
       "_view_count": null,
       "_view_module": "@jupyter-widgets/controls",
       "_view_module_version": "1.5.0",
       "_view_name": "HTMLView",
       "description": "",
       "description_tooltip": null,
       "layout": "IPY_MODEL_c7fbc32952f74a11baf528c5f00931aa",
       "placeholder": "​",
       "style": "IPY_MODEL_73cefdf4da6c440cbc53cb16e0c56d02",
       "value": " 481/481 [00:00&lt;00:00, 15.8kB/s]"
      }
     },
     "efbcfde1030745aeb96f14154240ad0f": {
      "model_module": "@jupyter-widgets/controls",
      "model_module_version": "1.5.0",
      "model_name": "ProgressStyleModel",
      "state": {
       "_model_module": "@jupyter-widgets/controls",
       "_model_module_version": "1.5.0",
       "_model_name": "ProgressStyleModel",
       "_view_count": null,
       "_view_module": "@jupyter-widgets/base",
       "_view_module_version": "1.2.0",
       "_view_name": "StyleView",
       "bar_color": null,
       "description_width": ""
      }
     },
     "f69e9374010e4cbb805a557bb3271052": {
      "model_module": "@jupyter-widgets/controls",
      "model_module_version": "1.5.0",
      "model_name": "HTMLModel",
      "state": {
       "_dom_classes": [],
       "_model_module": "@jupyter-widgets/controls",
       "_model_module_version": "1.5.0",
       "_model_name": "HTMLModel",
       "_view_count": null,
       "_view_module": "@jupyter-widgets/controls",
       "_view_module_version": "1.5.0",
       "_view_name": "HTMLView",
       "description": "",
       "description_tooltip": null,
       "layout": "IPY_MODEL_fcdeffee8c574e539f181b3c3ffc0fe0",
       "placeholder": "​",
       "style": "IPY_MODEL_a2f67e0e27c54b1fa252a80181798ebe",
       "value": " 878k/878k [00:00&lt;00:00, 958kB/s]"
      }
     },
     "f9e7404b37b7400b96db9d00767081fb": {
      "model_module": "@jupyter-widgets/base",
      "model_module_version": "1.2.0",
      "model_name": "LayoutModel",
      "state": {
       "_model_module": "@jupyter-widgets/base",
       "_model_module_version": "1.2.0",
       "_model_name": "LayoutModel",
       "_view_count": null,
       "_view_module": "@jupyter-widgets/base",
       "_view_module_version": "1.2.0",
       "_view_name": "LayoutView",
       "align_content": null,
       "align_items": null,
       "align_self": null,
       "border": null,
       "bottom": null,
       "display": null,
       "flex": null,
       "flex_flow": null,
       "grid_area": null,
       "grid_auto_columns": null,
       "grid_auto_flow": null,
       "grid_auto_rows": null,
       "grid_column": null,
       "grid_gap": null,
       "grid_row": null,
       "grid_template_areas": null,
       "grid_template_columns": null,
       "grid_template_rows": null,
       "height": null,
       "justify_content": null,
       "justify_items": null,
       "left": null,
       "margin": null,
       "max_height": null,
       "max_width": null,
       "min_height": null,
       "min_width": null,
       "object_fit": null,
       "object_position": null,
       "order": null,
       "overflow": null,
       "overflow_x": null,
       "overflow_y": null,
       "padding": null,
       "right": null,
       "top": null,
       "visibility": null,
       "width": null
      }
     },
     "fcdeffee8c574e539f181b3c3ffc0fe0": {
      "model_module": "@jupyter-widgets/base",
      "model_module_version": "1.2.0",
      "model_name": "LayoutModel",
      "state": {
       "_model_module": "@jupyter-widgets/base",
       "_model_module_version": "1.2.0",
       "_model_name": "LayoutModel",
       "_view_count": null,
       "_view_module": "@jupyter-widgets/base",
       "_view_module_version": "1.2.0",
       "_view_name": "LayoutView",
       "align_content": null,
       "align_items": null,
       "align_self": null,
       "border": null,
       "bottom": null,
       "display": null,
       "flex": null,
       "flex_flow": null,
       "grid_area": null,
       "grid_auto_columns": null,
       "grid_auto_flow": null,
       "grid_auto_rows": null,
       "grid_column": null,
       "grid_gap": null,
       "grid_row": null,
       "grid_template_areas": null,
       "grid_template_columns": null,
       "grid_template_rows": null,
       "height": null,
       "justify_content": null,
       "justify_items": null,
       "left": null,
       "margin": null,
       "max_height": null,
       "max_width": null,
       "min_height": null,
       "min_width": null,
       "object_fit": null,
       "object_position": null,
       "order": null,
       "overflow": null,
       "overflow_x": null,
       "overflow_y": null,
       "padding": null,
       "right": null,
       "top": null,
       "visibility": null,
       "width": null
      }
     }
    },
    "version_major": 2,
    "version_minor": 0
   }
  }
 },
 "nbformat": 4,
 "nbformat_minor": 5
}
