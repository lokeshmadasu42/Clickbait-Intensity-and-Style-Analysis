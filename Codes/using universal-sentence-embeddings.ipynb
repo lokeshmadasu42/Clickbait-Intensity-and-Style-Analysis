{
 "cells": [
  {
   "cell_type": "code",
   "execution_count": 1,
   "id": "0f4900f3",
   "metadata": {
    "_cell_guid": "b1076dfc-b9ad-4769-8c92-a6c4dae69d19",
    "_uuid": "8f2839f25d086af736a60e9eeb907d3b93b6e0e5",
    "execution": {
     "iopub.execute_input": "2022-10-20T11:44:19.690523Z",
     "iopub.status.busy": "2022-10-20T11:44:19.689636Z",
     "iopub.status.idle": "2022-10-20T11:44:19.700525Z",
     "shell.execute_reply": "2022-10-20T11:44:19.699507Z"
    },
    "papermill": {
     "duration": 0.022925,
     "end_time": "2022-10-20T11:44:19.702787",
     "exception": false,
     "start_time": "2022-10-20T11:44:19.679862",
     "status": "completed"
    },
    "tags": []
   },
   "outputs": [],
   "source": [
    "import pandas as pd\n",
    "import numpy as np\n",
    "import re\n",
    "from tqdm import tqdm"
   ]
  },
  {
   "cell_type": "code",
   "execution_count": 2,
   "id": "a9b26c57",
   "metadata": {
    "execution": {
     "iopub.execute_input": "2022-10-20T11:44:19.717812Z",
     "iopub.status.busy": "2022-10-20T11:44:19.717007Z",
     "iopub.status.idle": "2022-10-20T11:44:25.305788Z",
     "shell.execute_reply": "2022-10-20T11:44:25.304828Z"
    },
    "papermill": {
     "duration": 5.59855,
     "end_time": "2022-10-20T11:44:25.308220",
     "exception": false,
     "start_time": "2022-10-20T11:44:19.709670",
     "status": "completed"
    },
    "tags": []
   },
   "outputs": [],
   "source": [
    "import tensorflow as tf\n",
    "import tensorflow_hub as hub"
   ]
  },
  {
   "cell_type": "code",
   "execution_count": 3,
   "id": "4c18a560",
   "metadata": {
    "execution": {
     "iopub.execute_input": "2022-10-20T11:44:25.324900Z",
     "iopub.status.busy": "2022-10-20T11:44:25.323039Z",
     "iopub.status.idle": "2022-10-20T11:44:25.441051Z",
     "shell.execute_reply": "2022-10-20T11:44:25.439849Z"
    },
    "papermill": {
     "duration": 0.128226,
     "end_time": "2022-10-20T11:44:25.443516",
     "exception": false,
     "start_time": "2022-10-20T11:44:25.315290",
     "status": "completed"
    },
    "tags": []
   },
   "outputs": [],
   "source": [
    "# train_df=pd.read_excel('../input/ire-major-project-data/train.xlsx')\n",
    "# dev_df=pd.read_excel('../input/ire-major-project-data/dev.xlsx')\n",
    "# test_df=pd.read_excel('../input/ire-major-project-data/test.xlsx')\n",
    "\n",
    "train_df=pd.read_table('../input/ire-major-data-v2/en_train_pt.tsv',names=['SNO','Intensity','Text'],sep='\\t')\n",
    "test_df=pd.read_table('../input/ire-major-data-v2/en_test_pt.tsv',names=['SNO','Intensity','Text'],sep='\\t')"
   ]
  },
  {
   "cell_type": "code",
   "execution_count": 4,
   "id": "19f1c848",
   "metadata": {
    "execution": {
     "iopub.execute_input": "2022-10-20T11:44:25.459031Z",
     "iopub.status.busy": "2022-10-20T11:44:25.458322Z",
     "iopub.status.idle": "2022-10-20T11:44:31.284262Z",
     "shell.execute_reply": "2022-10-20T11:44:31.283291Z"
    },
    "papermill": {
     "duration": 5.836353,
     "end_time": "2022-10-20T11:44:31.287016",
     "exception": false,
     "start_time": "2022-10-20T11:44:25.450663",
     "status": "completed"
    },
    "tags": []
   },
   "outputs": [
    {
     "data": {
      "application/vnd.jupyter.widget-view+json": {
       "model_id": "e48e20e999874b8f9a0b550ab090ccb8",
       "version_major": 2,
       "version_minor": 0
      },
      "text/plain": [
       "Downloading:   0%|          | 0.00/878k [00:00<?, ?B/s]"
      ]
     },
     "metadata": {},
     "output_type": "display_data"
    },
    {
     "data": {
      "application/vnd.jupyter.widget-view+json": {
       "model_id": "8554166699be456f85c9c766b92d8041",
       "version_major": 2,
       "version_minor": 0
      },
      "text/plain": [
       "Downloading:   0%|          | 0.00/446k [00:00<?, ?B/s]"
      ]
     },
     "metadata": {},
     "output_type": "display_data"
    },
    {
     "data": {
      "application/vnd.jupyter.widget-view+json": {
       "model_id": "9a33016c0a364cacbf080e60502b258c",
       "version_major": 2,
       "version_minor": 0
      },
      "text/plain": [
       "Downloading:   0%|          | 0.00/481 [00:00<?, ?B/s]"
      ]
     },
     "metadata": {},
     "output_type": "display_data"
    }
   ],
   "source": [
    "from transformers import RobertaTokenizer\n",
    "tokenizer = RobertaTokenizer.from_pretrained(\"roberta-base\")"
   ]
  },
  {
   "cell_type": "code",
   "execution_count": 5,
   "id": "47b75258",
   "metadata": {
    "execution": {
     "iopub.execute_input": "2022-10-20T11:44:31.303820Z",
     "iopub.status.busy": "2022-10-20T11:44:31.303529Z",
     "iopub.status.idle": "2022-10-20T11:44:31.309272Z",
     "shell.execute_reply": "2022-10-20T11:44:31.308417Z"
    },
    "papermill": {
     "duration": 0.015864,
     "end_time": "2022-10-20T11:44:31.311248",
     "exception": false,
     "start_time": "2022-10-20T11:44:31.295384",
     "status": "completed"
    },
    "tags": []
   },
   "outputs": [],
   "source": [
    "def return_length(df):\n",
    "    length=[]\n",
    "    for i in df['Text']:\n",
    "        tok = tokenizer(i, return_tensors=\"pt\")\n",
    "        length.append(len(tok['input_ids'][0]))\n",
    "        \n",
    "    return length"
   ]
  },
  {
   "cell_type": "code",
   "execution_count": 6,
   "id": "413cfa9c",
   "metadata": {
    "execution": {
     "iopub.execute_input": "2022-10-20T11:44:31.328148Z",
     "iopub.status.busy": "2022-10-20T11:44:31.327333Z",
     "iopub.status.idle": "2022-10-20T11:44:39.362302Z",
     "shell.execute_reply": "2022-10-20T11:44:39.361334Z"
    },
    "papermill": {
     "duration": 8.045466,
     "end_time": "2022-10-20T11:44:39.364900",
     "exception": false,
     "start_time": "2022-10-20T11:44:31.319434",
     "status": "completed"
    },
    "tags": []
   },
   "outputs": [
    {
     "name": "stderr",
     "output_type": "stream",
     "text": [
      "Token indices sequence length is longer than the specified maximum sequence length for this model (573 > 512). Running this sequence through the model will result in indexing errors\n"
     ]
    }
   ],
   "source": [
    " train_df['#tokens']=return_length(train_df)"
   ]
  },
  {
   "cell_type": "code",
   "execution_count": 7,
   "id": "db42c614",
   "metadata": {
    "execution": {
     "iopub.execute_input": "2022-10-20T11:44:39.382389Z",
     "iopub.status.busy": "2022-10-20T11:44:39.380987Z",
     "iopub.status.idle": "2022-10-20T11:44:40.745406Z",
     "shell.execute_reply": "2022-10-20T11:44:40.744454Z"
    },
    "papermill": {
     "duration": 1.375549,
     "end_time": "2022-10-20T11:44:40.747993",
     "exception": false,
     "start_time": "2022-10-20T11:44:39.372444",
     "status": "completed"
    },
    "tags": []
   },
   "outputs": [],
   "source": [
    " test_df['#tokens']=return_length(test_df)"
   ]
  },
  {
   "cell_type": "code",
   "execution_count": 8,
   "id": "aaf51248",
   "metadata": {
    "execution": {
     "iopub.execute_input": "2022-10-20T11:44:40.764922Z",
     "iopub.status.busy": "2022-10-20T11:44:40.763432Z",
     "iopub.status.idle": "2022-10-20T11:44:40.775944Z",
     "shell.execute_reply": "2022-10-20T11:44:40.774897Z"
    },
    "papermill": {
     "duration": 0.022635,
     "end_time": "2022-10-20T11:44:40.777954",
     "exception": false,
     "start_time": "2022-10-20T11:44:40.755319",
     "status": "completed"
    },
    "tags": []
   },
   "outputs": [
    {
     "name": "stdout",
     "output_type": "stream",
     "text": [
      "Length of Train_df: 17497\n",
      "Length of Test_df: 4337\n"
     ]
    }
   ],
   "source": [
    "train_df=train_df[train_df['#tokens']<50]\n",
    "test_df=test_df[test_df['#tokens']<50]\n",
    "print('Length of Train_df:',len(train_df))\n",
    "print('Length of Test_df:',len(test_df))"
   ]
  },
  {
   "cell_type": "code",
   "execution_count": 9,
   "id": "49724ec0",
   "metadata": {
    "execution": {
     "iopub.execute_input": "2022-10-20T11:44:40.793202Z",
     "iopub.status.busy": "2022-10-20T11:44:40.792936Z",
     "iopub.status.idle": "2022-10-20T11:44:40.802644Z",
     "shell.execute_reply": "2022-10-20T11:44:40.801707Z"
    },
    "papermill": {
     "duration": 0.019593,
     "end_time": "2022-10-20T11:44:40.804627",
     "exception": false,
     "start_time": "2022-10-20T11:44:40.785034",
     "status": "completed"
    },
    "tags": []
   },
   "outputs": [],
   "source": [
    "train_df['label']=['clickbait' if i>=0.5 else 'no-clickbait' for i in train_df['Intensity']]\n",
    "test_df['label']=['clickbait' if i>=0.5 else 'no-clickbait' for i in test_df['Intensity']]"
   ]
  },
  {
   "cell_type": "code",
   "execution_count": 10,
   "id": "ba709427",
   "metadata": {
    "execution": {
     "iopub.execute_input": "2022-10-20T11:44:40.819753Z",
     "iopub.status.busy": "2022-10-20T11:44:40.819477Z",
     "iopub.status.idle": "2022-10-20T11:45:05.385346Z",
     "shell.execute_reply": "2022-10-20T11:45:05.384376Z"
    },
    "papermill": {
     "duration": 24.576222,
     "end_time": "2022-10-20T11:45:05.387798",
     "exception": false,
     "start_time": "2022-10-20T11:44:40.811576",
     "status": "completed"
    },
    "tags": []
   },
   "outputs": [
    {
     "name": "stderr",
     "output_type": "stream",
     "text": [
      "2022-10-20 11:44:54.186546: I tensorflow/stream_executor/cuda/cuda_gpu_executor.cc:937] successful NUMA node read from SysFS had negative value (-1), but there must be at least one NUMA node, so returning NUMA node zero\n",
      "2022-10-20 11:44:54.187642: I tensorflow/stream_executor/cuda/cuda_gpu_executor.cc:937] successful NUMA node read from SysFS had negative value (-1), but there must be at least one NUMA node, so returning NUMA node zero\n",
      "2022-10-20 11:44:54.188351: I tensorflow/stream_executor/cuda/cuda_gpu_executor.cc:937] successful NUMA node read from SysFS had negative value (-1), but there must be at least one NUMA node, so returning NUMA node zero\n",
      "2022-10-20 11:44:54.189255: I tensorflow/core/platform/cpu_feature_guard.cc:142] This TensorFlow binary is optimized with oneAPI Deep Neural Network Library (oneDNN) to use the following CPU instructions in performance-critical operations:  AVX2 AVX512F FMA\n",
      "To enable them in other operations, rebuild TensorFlow with the appropriate compiler flags.\n",
      "2022-10-20 11:44:54.189612: I tensorflow/stream_executor/cuda/cuda_gpu_executor.cc:937] successful NUMA node read from SysFS had negative value (-1), but there must be at least one NUMA node, so returning NUMA node zero\n",
      "2022-10-20 11:44:54.190296: I tensorflow/stream_executor/cuda/cuda_gpu_executor.cc:937] successful NUMA node read from SysFS had negative value (-1), but there must be at least one NUMA node, so returning NUMA node zero\n",
      "2022-10-20 11:44:54.190974: I tensorflow/stream_executor/cuda/cuda_gpu_executor.cc:937] successful NUMA node read from SysFS had negative value (-1), but there must be at least one NUMA node, so returning NUMA node zero\n",
      "2022-10-20 11:44:59.908663: I tensorflow/stream_executor/cuda/cuda_gpu_executor.cc:937] successful NUMA node read from SysFS had negative value (-1), but there must be at least one NUMA node, so returning NUMA node zero\n",
      "2022-10-20 11:44:59.909457: I tensorflow/stream_executor/cuda/cuda_gpu_executor.cc:937] successful NUMA node read from SysFS had negative value (-1), but there must be at least one NUMA node, so returning NUMA node zero\n",
      "2022-10-20 11:44:59.910142: I tensorflow/stream_executor/cuda/cuda_gpu_executor.cc:937] successful NUMA node read from SysFS had negative value (-1), but there must be at least one NUMA node, so returning NUMA node zero\n",
      "2022-10-20 11:44:59.910730: I tensorflow/core/common_runtime/gpu/gpu_device.cc:1510] Created device /job:localhost/replica:0/task:0/device:GPU:0 with 15043 MB memory:  -> device: 0, name: Tesla P100-PCIE-16GB, pci bus id: 0000:00:04.0, compute capability: 6.0\n",
      "2022-10-20 11:45:02.605910: I tensorflow/compiler/mlir/mlir_graph_optimization_pass.cc:185] None of the MLIR Optimization Passes are enabled (registered 2)\n"
     ]
    }
   ],
   "source": [
    "embed = hub.load(\"https://tfhub.dev/google/universal-sentence-encoder/4\")"
   ]
  },
  {
   "cell_type": "code",
   "execution_count": 11,
   "id": "38bd00e1",
   "metadata": {
    "execution": {
     "iopub.execute_input": "2022-10-20T11:45:05.407086Z",
     "iopub.status.busy": "2022-10-20T11:45:05.405577Z",
     "iopub.status.idle": "2022-10-20T11:45:05.411329Z",
     "shell.execute_reply": "2022-10-20T11:45:05.410502Z"
    },
    "papermill": {
     "duration": 0.016501,
     "end_time": "2022-10-20T11:45:05.413354",
     "exception": false,
     "start_time": "2022-10-20T11:45:05.396853",
     "status": "completed"
    },
    "tags": []
   },
   "outputs": [],
   "source": [
    "def read_word_embedding(sentence):\n",
    "    embedding=embed([sentence])[0]\n",
    "    return embedding"
   ]
  },
  {
   "cell_type": "code",
   "execution_count": 12,
   "id": "20c3023d",
   "metadata": {
    "execution": {
     "iopub.execute_input": "2022-10-20T11:45:05.429699Z",
     "iopub.status.busy": "2022-10-20T11:45:05.428740Z",
     "iopub.status.idle": "2022-10-20T11:47:01.630797Z",
     "shell.execute_reply": "2022-10-20T11:47:01.629863Z"
    },
    "papermill": {
     "duration": 116.212205,
     "end_time": "2022-10-20T11:47:01.632865",
     "exception": false,
     "start_time": "2022-10-20T11:45:05.420660",
     "status": "completed"
    },
    "tags": []
   },
   "outputs": [
    {
     "name": "stderr",
     "output_type": "stream",
     "text": [
      "100%|██████████| 17497/17497 [01:56<00:00, 150.59it/s]\n"
     ]
    }
   ],
   "source": [
    "x_train_embeddings=[]\n",
    "for i in tqdm(range(len(train_df))):\n",
    "    try:\n",
    "        x_train_embeddings.append(read_word_embedding(train_df['Text'].iloc[i]))\n",
    "    except:\n",
    "        print(i)\n",
    "        break"
   ]
  },
  {
   "cell_type": "code",
   "execution_count": 13,
   "id": "88d0eb51",
   "metadata": {
    "execution": {
     "iopub.execute_input": "2022-10-20T11:47:01.755658Z",
     "iopub.status.busy": "2022-10-20T11:47:01.755323Z",
     "iopub.status.idle": "2022-10-20T11:47:02.690759Z",
     "shell.execute_reply": "2022-10-20T11:47:02.689721Z"
    },
    "papermill": {
     "duration": 0.99891,
     "end_time": "2022-10-20T11:47:02.693393",
     "exception": false,
     "start_time": "2022-10-20T11:47:01.694483",
     "status": "completed"
    },
    "tags": []
   },
   "outputs": [],
   "source": [
    "x_train_embeddings=np.array(x_train_embeddings)\n",
    "y_train_intensity=np.array(list(train_df['Intensity'].values))"
   ]
  },
  {
   "cell_type": "code",
   "execution_count": 14,
   "id": "21c82b12",
   "metadata": {
    "execution": {
     "iopub.execute_input": "2022-10-20T11:47:02.814750Z",
     "iopub.status.busy": "2022-10-20T11:47:02.813878Z",
     "iopub.status.idle": "2022-10-20T11:47:02.818434Z",
     "shell.execute_reply": "2022-10-20T11:47:02.817513Z"
    },
    "papermill": {
     "duration": 0.066405,
     "end_time": "2022-10-20T11:47:02.820611",
     "exception": false,
     "start_time": "2022-10-20T11:47:02.754206",
     "status": "completed"
    },
    "tags": []
   },
   "outputs": [],
   "source": [
    "# x_dev_embeddings=[read_word_embedding(sentence)[0] for sentence in tqdm(dev_df['text'])]\n",
    "# y_dev_intensity=list(dev_df['intensity'].values)\n",
    "# y_dev_actual_label=list(dev_df['class'].values)"
   ]
  },
  {
   "cell_type": "code",
   "execution_count": 15,
   "id": "4820b69f",
   "metadata": {
    "execution": {
     "iopub.execute_input": "2022-10-20T11:47:02.939646Z",
     "iopub.status.busy": "2022-10-20T11:47:02.939333Z",
     "iopub.status.idle": "2022-10-20T11:47:31.831541Z",
     "shell.execute_reply": "2022-10-20T11:47:31.829863Z"
    },
    "papermill": {
     "duration": 28.953569,
     "end_time": "2022-10-20T11:47:31.833656",
     "exception": false,
     "start_time": "2022-10-20T11:47:02.880087",
     "status": "completed"
    },
    "tags": []
   },
   "outputs": [
    {
     "name": "stderr",
     "output_type": "stream",
     "text": [
      "100%|██████████| 4337/4337 [00:28<00:00, 150.16it/s]\n"
     ]
    }
   ],
   "source": [
    "x_test_embeddings=[]\n",
    "for i in tqdm(range(len(test_df))):\n",
    "    try:\n",
    "        x_test_embeddings.append(read_word_embedding(test_df['Text'].iloc[i]))\n",
    "    except:\n",
    "        print(i)\n",
    "        break"
   ]
  },
  {
   "cell_type": "code",
   "execution_count": 16,
   "id": "8fe9ee2c",
   "metadata": {
    "execution": {
     "iopub.execute_input": "2022-10-20T11:47:31.982284Z",
     "iopub.status.busy": "2022-10-20T11:47:31.981949Z",
     "iopub.status.idle": "2022-10-20T11:47:32.196307Z",
     "shell.execute_reply": "2022-10-20T11:47:32.195356Z"
    },
    "papermill": {
     "duration": 0.2906,
     "end_time": "2022-10-20T11:47:32.198630",
     "exception": false,
     "start_time": "2022-10-20T11:47:31.908030",
     "status": "completed"
    },
    "tags": []
   },
   "outputs": [],
   "source": [
    "x_test_embeddings=np.array(x_test_embeddings)\n",
    "y_test_intensity=np.array(list(test_df['Intensity'].values))\n",
    "y_test_actual_label=np.array(list(test_df['label'].values))"
   ]
  },
  {
   "cell_type": "markdown",
   "id": "6882b0f1",
   "metadata": {
    "papermill": {
     "duration": 0.073212,
     "end_time": "2022-10-20T11:47:32.345580",
     "exception": false,
     "start_time": "2022-10-20T11:47:32.272368",
     "status": "completed"
    },
    "tags": []
   },
   "source": [
    "#### Linear Regression"
   ]
  },
  {
   "cell_type": "code",
   "execution_count": 17,
   "id": "b60324e7",
   "metadata": {
    "execution": {
     "iopub.execute_input": "2022-10-20T11:47:32.492041Z",
     "iopub.status.busy": "2022-10-20T11:47:32.491680Z",
     "iopub.status.idle": "2022-10-20T11:47:33.150033Z",
     "shell.execute_reply": "2022-10-20T11:47:33.149082Z"
    },
    "papermill": {
     "duration": 0.733994,
     "end_time": "2022-10-20T11:47:33.152408",
     "exception": false,
     "start_time": "2022-10-20T11:47:32.418414",
     "status": "completed"
    },
    "tags": []
   },
   "outputs": [],
   "source": [
    "from sklearn.linear_model import LinearRegression\n",
    "from sklearn.model_selection import cross_val_score\n",
    "from sklearn.metrics import median_absolute_error,mean_squared_error, f1_score, accuracy_score"
   ]
  },
  {
   "cell_type": "code",
   "execution_count": 18,
   "id": "022d6b3a",
   "metadata": {
    "execution": {
     "iopub.execute_input": "2022-10-20T11:47:33.300320Z",
     "iopub.status.busy": "2022-10-20T11:47:33.299413Z",
     "iopub.status.idle": "2022-10-20T11:47:33.305560Z",
     "shell.execute_reply": "2022-10-20T11:47:33.304530Z"
    },
    "papermill": {
     "duration": 0.082197,
     "end_time": "2022-10-20T11:47:33.308008",
     "exception": false,
     "start_time": "2022-10-20T11:47:33.225811",
     "status": "completed"
    },
    "tags": []
   },
   "outputs": [],
   "source": [
    "def results(y_true,y_pred,y_actual_classes,y_pred_classes):\n",
    "    Medae = median_absolute_error(y_true,y_pred)\n",
    "    mse = mean_squared_error(y_true,y_pred) #default=True\n",
    "    rmse = mean_squared_error(y_true,y_pred,squared=False)\n",
    "    accuracy=accuracy_score(y_actual_classes,y_pred_classes)\n",
    "    f1=f1_score(y_actual_classes,y_pred_classes,pos_label='clickbait')\n",
    "    \n",
    "    print(\"MedAE:\",Medae)\n",
    "    print(\"MSE:\",mse)\n",
    "    print(\"RMSE:\",rmse)\n",
    "    print(\"Accuracy:\",accuracy)\n",
    "    print(\"f1-score:\",f1)"
   ]
  },
  {
   "cell_type": "code",
   "execution_count": 19,
   "id": "84d9cf3e",
   "metadata": {
    "execution": {
     "iopub.execute_input": "2022-10-20T11:47:33.454582Z",
     "iopub.status.busy": "2022-10-20T11:47:33.454235Z",
     "iopub.status.idle": "2022-10-20T11:47:33.927344Z",
     "shell.execute_reply": "2022-10-20T11:47:33.925806Z"
    },
    "papermill": {
     "duration": 0.551063,
     "end_time": "2022-10-20T11:47:33.931359",
     "exception": false,
     "start_time": "2022-10-20T11:47:33.380296",
     "status": "completed"
    },
    "tags": []
   },
   "outputs": [],
   "source": [
    "linear_reg = LinearRegression().fit(x_train_embeddings, y_train_intensity)"
   ]
  },
  {
   "cell_type": "code",
   "execution_count": 20,
   "id": "23ec070c",
   "metadata": {
    "execution": {
     "iopub.execute_input": "2022-10-20T11:47:34.157060Z",
     "iopub.status.busy": "2022-10-20T11:47:34.156712Z",
     "iopub.status.idle": "2022-10-20T11:47:34.187900Z",
     "shell.execute_reply": "2022-10-20T11:47:34.186703Z"
    },
    "papermill": {
     "duration": 0.108398,
     "end_time": "2022-10-20T11:47:34.191759",
     "exception": false,
     "start_time": "2022-10-20T11:47:34.083361",
     "status": "completed"
    },
    "tags": []
   },
   "outputs": [],
   "source": [
    "y_test_pred = linear_reg.predict(x_test_embeddings)\n",
    "y_test_pred_classes=['clickbait' if i>=0.5 else 'no-clickbait' for i in y_test_pred]\n",
    "y_test_actual_classes=list(test_df['label'].values)"
   ]
  },
  {
   "cell_type": "code",
   "execution_count": 21,
   "id": "0299aea7",
   "metadata": {
    "execution": {
     "iopub.execute_input": "2022-10-20T11:47:34.459696Z",
     "iopub.status.busy": "2022-10-20T11:47:34.459213Z",
     "iopub.status.idle": "2022-10-20T11:47:34.495875Z",
     "shell.execute_reply": "2022-10-20T11:47:34.494513Z"
    },
    "papermill": {
     "duration": 0.166246,
     "end_time": "2022-10-20T11:47:34.498126",
     "exception": false,
     "start_time": "2022-10-20T11:47:34.331880",
     "status": "completed"
    },
    "tags": []
   },
   "outputs": [
    {
     "name": "stdout",
     "output_type": "stream",
     "text": [
      "MedAE: 0.11350554425177795\n",
      "MSE: 0.0310764670912838\n",
      "RMSE: 0.1762851868175083\n",
      "Accuracy: 0.842979017754208\n",
      "f1-score: 0.6356340288924559\n"
     ]
    }
   ],
   "source": [
    "results(y_test_intensity,y_test_pred,y_test_actual_classes,y_test_pred_classes)"
   ]
  },
  {
   "cell_type": "markdown",
   "id": "230cb717",
   "metadata": {
    "papermill": {
     "duration": 0.071123,
     "end_time": "2022-10-20T11:47:34.644221",
     "exception": false,
     "start_time": "2022-10-20T11:47:34.573098",
     "status": "completed"
    },
    "tags": []
   },
   "source": [
    "#### Ridge Regression"
   ]
  },
  {
   "cell_type": "code",
   "execution_count": 22,
   "id": "9af5c63f",
   "metadata": {
    "execution": {
     "iopub.execute_input": "2022-10-20T11:47:34.795233Z",
     "iopub.status.busy": "2022-10-20T11:47:34.794840Z",
     "iopub.status.idle": "2022-10-20T11:47:34.799615Z",
     "shell.execute_reply": "2022-10-20T11:47:34.798650Z"
    },
    "papermill": {
     "duration": 0.083109,
     "end_time": "2022-10-20T11:47:34.801596",
     "exception": false,
     "start_time": "2022-10-20T11:47:34.718487",
     "status": "completed"
    },
    "tags": []
   },
   "outputs": [],
   "source": [
    "from sklearn.linear_model import Ridge"
   ]
  },
  {
   "cell_type": "code",
   "execution_count": 23,
   "id": "2928bf77",
   "metadata": {
    "execution": {
     "iopub.execute_input": "2022-10-20T11:47:34.947096Z",
     "iopub.status.busy": "2022-10-20T11:47:34.946255Z",
     "iopub.status.idle": "2022-10-20T11:47:35.132424Z",
     "shell.execute_reply": "2022-10-20T11:47:35.130922Z"
    },
    "papermill": {
     "duration": 0.263611,
     "end_time": "2022-10-20T11:47:35.136297",
     "exception": false,
     "start_time": "2022-10-20T11:47:34.872686",
     "status": "completed"
    },
    "tags": []
   },
   "outputs": [],
   "source": [
    "ridge_reg = Ridge(alpha=2).fit(x_train_embeddings, y_train_intensity)\n",
    "y_test_pred = ridge_reg.predict(x_test_embeddings)\n",
    "y_test_pred_classes=['clickbait' if i>=0.5 else 'no-clickbait' for i in y_test_pred]\n",
    "y_test_actual_classes=list(test_df['label'].values)"
   ]
  },
  {
   "cell_type": "code",
   "execution_count": 24,
   "id": "d7ff88a6",
   "metadata": {
    "execution": {
     "iopub.execute_input": "2022-10-20T11:47:35.346149Z",
     "iopub.status.busy": "2022-10-20T11:47:35.345800Z",
     "iopub.status.idle": "2022-10-20T11:47:35.380769Z",
     "shell.execute_reply": "2022-10-20T11:47:35.379606Z"
    },
    "papermill": {
     "duration": 0.111688,
     "end_time": "2022-10-20T11:47:35.383593",
     "exception": false,
     "start_time": "2022-10-20T11:47:35.271905",
     "status": "completed"
    },
    "tags": []
   },
   "outputs": [
    {
     "name": "stdout",
     "output_type": "stream",
     "text": [
      "MedAE: 0.1142291108500525\n",
      "MSE: 0.030738736215767264\n",
      "RMSE: 0.1753246594628584\n",
      "Accuracy: 0.8418261471062947\n",
      "f1-score: 0.632762312633833\n"
     ]
    }
   ],
   "source": [
    "results(y_test_intensity,y_test_pred,y_test_actual_classes,y_test_pred_classes)"
   ]
  },
  {
   "cell_type": "markdown",
   "id": "e9f1cc9f",
   "metadata": {
    "papermill": {
     "duration": 0.072332,
     "end_time": "2022-10-20T11:47:35.529776",
     "exception": false,
     "start_time": "2022-10-20T11:47:35.457444",
     "status": "completed"
    },
    "tags": []
   },
   "source": [
    "#### Gradient Boosted Regression"
   ]
  },
  {
   "cell_type": "code",
   "execution_count": 25,
   "id": "f2cf9999",
   "metadata": {
    "execution": {
     "iopub.execute_input": "2022-10-20T11:47:35.677242Z",
     "iopub.status.busy": "2022-10-20T11:47:35.676293Z",
     "iopub.status.idle": "2022-10-20T11:47:35.782875Z",
     "shell.execute_reply": "2022-10-20T11:47:35.781986Z"
    },
    "papermill": {
     "duration": 0.182604,
     "end_time": "2022-10-20T11:47:35.785172",
     "exception": false,
     "start_time": "2022-10-20T11:47:35.602568",
     "status": "completed"
    },
    "tags": []
   },
   "outputs": [],
   "source": [
    "from sklearn.ensemble import GradientBoostingRegressor"
   ]
  },
  {
   "cell_type": "code",
   "execution_count": 26,
   "id": "66db335a",
   "metadata": {
    "execution": {
     "iopub.execute_input": "2022-10-20T11:47:35.930291Z",
     "iopub.status.busy": "2022-10-20T11:47:35.929942Z",
     "iopub.status.idle": "2022-10-20T11:52:40.283230Z",
     "shell.execute_reply": "2022-10-20T11:52:40.282152Z"
    },
    "papermill": {
     "duration": 304.504079,
     "end_time": "2022-10-20T11:52:40.360890",
     "exception": false,
     "start_time": "2022-10-20T11:47:35.856811",
     "status": "completed"
    },
    "tags": []
   },
   "outputs": [
    {
     "name": "stdout",
     "output_type": "stream",
     "text": [
      "MedAE: 0.11891341195347027\n",
      "MSE: 0.03146910043147234\n",
      "RMSE: 0.17739532246221246\n",
      "Accuracy: 0.8367535162554761\n",
      "f1-score: 0.6217948717948718\n"
     ]
    }
   ],
   "source": [
    "ridge_reg = GradientBoostingRegressor().fit(x_train_embeddings, y_train_intensity)\n",
    "y_test_pred = ridge_reg.predict(x_test_embeddings)\n",
    "y_test_pred_classes=['clickbait' if i>=0.5 else 'no-clickbait' for i in y_test_pred]\n",
    "y_test_actual_classes=list(test_df['label'].values)\n",
    "results(y_test_intensity,y_test_pred,y_test_actual_classes,y_test_pred_classes)"
   ]
  },
  {
   "cell_type": "markdown",
   "id": "2bc8dc0f",
   "metadata": {
    "papermill": {
     "duration": 0.071192,
     "end_time": "2022-10-20T11:52:40.505678",
     "exception": false,
     "start_time": "2022-10-20T11:52:40.434486",
     "status": "completed"
    },
    "tags": []
   },
   "source": [
    "#### Random Forest Regression"
   ]
  },
  {
   "cell_type": "code",
   "execution_count": 27,
   "id": "ca9fd98e",
   "metadata": {
    "execution": {
     "iopub.execute_input": "2022-10-20T11:52:40.653872Z",
     "iopub.status.busy": "2022-10-20T11:52:40.651855Z",
     "iopub.status.idle": "2022-10-20T11:52:40.657307Z",
     "shell.execute_reply": "2022-10-20T11:52:40.656433Z"
    },
    "papermill": {
     "duration": 0.081386,
     "end_time": "2022-10-20T11:52:40.659226",
     "exception": false,
     "start_time": "2022-10-20T11:52:40.577840",
     "status": "completed"
    },
    "tags": []
   },
   "outputs": [],
   "source": [
    "from sklearn.ensemble import RandomForestRegressor"
   ]
  },
  {
   "cell_type": "code",
   "execution_count": 28,
   "id": "631e026c",
   "metadata": {
    "execution": {
     "iopub.execute_input": "2022-10-20T11:52:40.806370Z",
     "iopub.status.busy": "2022-10-20T11:52:40.806078Z",
     "iopub.status.idle": "2022-10-20T11:54:44.050123Z",
     "shell.execute_reply": "2022-10-20T11:54:44.049143Z"
    },
    "papermill": {
     "duration": 123.391617,
     "end_time": "2022-10-20T11:54:44.123642",
     "exception": false,
     "start_time": "2022-10-20T11:52:40.732025",
     "status": "completed"
    },
    "tags": []
   },
   "outputs": [
    {
     "name": "stdout",
     "output_type": "stream",
     "text": [
      "MedAE: 0.15534439529352834\n",
      "MSE: 0.044830509962275604\n",
      "RMSE: 0.21173216562977767\n",
      "Accuracy: 0.7897163938206133\n",
      "f1-score: 0.4123711340206186\n"
     ]
    }
   ],
   "source": [
    "ridge_reg = RandomForestRegressor(max_depth=2, random_state=0).fit(x_train_embeddings, y_train_intensity)\n",
    "y_test_pred = ridge_reg.predict(x_test_embeddings)\n",
    "y_test_pred_classes=['clickbait' if i>=0.5 else 'no-clickbait' for i in y_test_pred]\n",
    "y_test_actual_classes=list(test_df['label'].values)\n",
    "results(y_test_intensity,y_test_pred,y_test_actual_classes,y_test_pred_classes)"
   ]
  },
  {
   "cell_type": "markdown",
   "id": "e56bfc36",
   "metadata": {
    "papermill": {
     "duration": 0.072602,
     "end_time": "2022-10-20T11:54:44.270167",
     "exception": false,
     "start_time": "2022-10-20T11:54:44.197565",
     "status": "completed"
    },
    "tags": []
   },
   "source": [
    "#### Adaboost Regression"
   ]
  },
  {
   "cell_type": "code",
   "execution_count": 29,
   "id": "2ffd323d",
   "metadata": {
    "execution": {
     "iopub.execute_input": "2022-10-20T11:54:44.420042Z",
     "iopub.status.busy": "2022-10-20T11:54:44.419676Z",
     "iopub.status.idle": "2022-10-20T11:54:44.424299Z",
     "shell.execute_reply": "2022-10-20T11:54:44.423364Z"
    },
    "papermill": {
     "duration": 0.082226,
     "end_time": "2022-10-20T11:54:44.426224",
     "exception": false,
     "start_time": "2022-10-20T11:54:44.343998",
     "status": "completed"
    },
    "tags": []
   },
   "outputs": [],
   "source": [
    "from sklearn.ensemble import AdaBoostRegressor"
   ]
  },
  {
   "cell_type": "code",
   "execution_count": 30,
   "id": "92392e16",
   "metadata": {
    "execution": {
     "iopub.execute_input": "2022-10-20T11:54:44.575517Z",
     "iopub.status.busy": "2022-10-20T11:54:44.574544Z",
     "iopub.status.idle": "2022-10-20T11:57:38.310210Z",
     "shell.execute_reply": "2022-10-20T11:57:38.309142Z"
    },
    "papermill": {
     "duration": 173.887041,
     "end_time": "2022-10-20T11:57:38.386312",
     "exception": false,
     "start_time": "2022-10-20T11:54:44.499271",
     "status": "completed"
    },
    "tags": []
   },
   "outputs": [
    {
     "name": "stdout",
     "output_type": "stream",
     "text": [
      "MedAE: 0.16709814784708554\n",
      "MSE: 0.04396743016103345\n",
      "RMSE: 0.20968411995435765\n",
      "Accuracy: 0.8298362923679963\n",
      "f1-score: 0.5601907032181168\n"
     ]
    }
   ],
   "source": [
    "ridge_reg = AdaBoostRegressor(random_state=0, n_estimators=100).fit(x_train_embeddings, y_train_intensity)\n",
    "y_test_pred = ridge_reg.predict(x_test_embeddings)\n",
    "y_test_pred_classes=['clickbait' if i>=0.5 else 'no-clickbait' for i in y_test_pred]\n",
    "y_test_actual_classes=list(test_df['label'].values)\n",
    "results(y_test_intensity,y_test_pred,y_test_actual_classes,y_test_pred_classes)"
   ]
  },
  {
   "cell_type": "code",
   "execution_count": null,
   "id": "3bd4ecfd",
   "metadata": {
    "papermill": {
     "duration": 0.072973,
     "end_time": "2022-10-20T11:57:38.531412",
     "exception": false,
     "start_time": "2022-10-20T11:57:38.458439",
     "status": "completed"
    },
    "tags": []
   },
   "outputs": [],
   "source": []
  },
  {
   "cell_type": "code",
   "execution_count": null,
   "id": "04a31ab3",
   "metadata": {
    "papermill": {
     "duration": 0.071884,
     "end_time": "2022-10-20T11:57:38.676093",
     "exception": false,
     "start_time": "2022-10-20T11:57:38.604209",
     "status": "completed"
    },
    "tags": []
   },
   "outputs": [],
   "source": []
  },
  {
   "cell_type": "code",
   "execution_count": null,
   "id": "88a0ca11",
   "metadata": {
    "papermill": {
     "duration": 0.072868,
     "end_time": "2022-10-20T11:57:38.826274",
     "exception": false,
     "start_time": "2022-10-20T11:57:38.753406",
     "status": "completed"
    },
    "tags": []
   },
   "outputs": [],
   "source": []
  }
 ],
 "metadata": {
  "kernelspec": {
   "display_name": "Python 3",
   "language": "python",
   "name": "python3"
  },
  "language_info": {
   "codemirror_mode": {
    "name": "ipython",
    "version": 3
   },
   "file_extension": ".py",
   "mimetype": "text/x-python",
   "name": "python",
   "nbconvert_exporter": "python",
   "pygments_lexer": "ipython3",
   "version": "3.7.12"
  },
  "papermill": {
   "default_parameters": {},
   "duration": 809.716884,
   "end_time": "2022-10-20T11:57:41.851320",
   "environment_variables": {},
   "exception": null,
   "input_path": "__notebook__.ipynb",
   "output_path": "__notebook__.ipynb",
   "parameters": {},
   "start_time": "2022-10-20T11:44:12.134436",
   "version": "2.3.4"
  },
  "widgets": {
   "application/vnd.jupyter.widget-state+json": {
    "state": {
     "0bbcb9809085419ba4ec643d1aa7e0e5": {
      "model_module": "@jupyter-widgets/base",
      "model_module_version": "1.2.0",
      "model_name": "LayoutModel",
      "state": {
       "_model_module": "@jupyter-widgets/base",
       "_model_module_version": "1.2.0",
       "_model_name": "LayoutModel",
       "_view_count": null,
       "_view_module": "@jupyter-widgets/base",
       "_view_module_version": "1.2.0",
       "_view_name": "LayoutView",
       "align_content": null,
       "align_items": null,
       "align_self": null,
       "border": null,
       "bottom": null,
       "display": null,
       "flex": null,
       "flex_flow": null,
       "grid_area": null,
       "grid_auto_columns": null,
       "grid_auto_flow": null,
       "grid_auto_rows": null,
       "grid_column": null,
       "grid_gap": null,
       "grid_row": null,
       "grid_template_areas": null,
       "grid_template_columns": null,
       "grid_template_rows": null,
       "height": null,
       "justify_content": null,
       "justify_items": null,
       "left": null,
       "margin": null,
       "max_height": null,
       "max_width": null,
       "min_height": null,
       "min_width": null,
       "object_fit": null,
       "object_position": null,
       "order": null,
       "overflow": null,
       "overflow_x": null,
       "overflow_y": null,
       "padding": null,
       "right": null,
       "top": null,
       "visibility": null,
       "width": null
      }
     },
     "11b77715386347cba17ddcee2f84372a": {
      "model_module": "@jupyter-widgets/base",
      "model_module_version": "1.2.0",
      "model_name": "LayoutModel",
      "state": {
       "_model_module": "@jupyter-widgets/base",
       "_model_module_version": "1.2.0",
       "_model_name": "LayoutModel",
       "_view_count": null,
       "_view_module": "@jupyter-widgets/base",
       "_view_module_version": "1.2.0",
       "_view_name": "LayoutView",
       "align_content": null,
       "align_items": null,
       "align_self": null,
       "border": null,
       "bottom": null,
       "display": null,
       "flex": null,
       "flex_flow": null,
       "grid_area": null,
       "grid_auto_columns": null,
       "grid_auto_flow": null,
       "grid_auto_rows": null,
       "grid_column": null,
       "grid_gap": null,
       "grid_row": null,
       "grid_template_areas": null,
       "grid_template_columns": null,
       "grid_template_rows": null,
       "height": null,
       "justify_content": null,
       "justify_items": null,
       "left": null,
       "margin": null,
       "max_height": null,
       "max_width": null,
       "min_height": null,
       "min_width": null,
       "object_fit": null,
       "object_position": null,
       "order": null,
       "overflow": null,
       "overflow_x": null,
       "overflow_y": null,
       "padding": null,
       "right": null,
       "top": null,
       "visibility": null,
       "width": null
      }
     },
     "1291b56ba9d3490bb5b80a606843d2a1": {
      "model_module": "@jupyter-widgets/base",
      "model_module_version": "1.2.0",
      "model_name": "LayoutModel",
      "state": {
       "_model_module": "@jupyter-widgets/base",
       "_model_module_version": "1.2.0",
       "_model_name": "LayoutModel",
       "_view_count": null,
       "_view_module": "@jupyter-widgets/base",
       "_view_module_version": "1.2.0",
       "_view_name": "LayoutView",
       "align_content": null,
       "align_items": null,
       "align_self": null,
       "border": null,
       "bottom": null,
       "display": null,
       "flex": null,
       "flex_flow": null,
       "grid_area": null,
       "grid_auto_columns": null,
       "grid_auto_flow": null,
       "grid_auto_rows": null,
       "grid_column": null,
       "grid_gap": null,
       "grid_row": null,
       "grid_template_areas": null,
       "grid_template_columns": null,
       "grid_template_rows": null,
       "height": null,
       "justify_content": null,
       "justify_items": null,
       "left": null,
       "margin": null,
       "max_height": null,
       "max_width": null,
       "min_height": null,
       "min_width": null,
       "object_fit": null,
       "object_position": null,
       "order": null,
       "overflow": null,
       "overflow_x": null,
       "overflow_y": null,
       "padding": null,
       "right": null,
       "top": null,
       "visibility": null,
       "width": null
      }
     },
     "22b27d0b8f164097aa5875846d0f20cb": {
      "model_module": "@jupyter-widgets/base",
      "model_module_version": "1.2.0",
      "model_name": "LayoutModel",
      "state": {
       "_model_module": "@jupyter-widgets/base",
       "_model_module_version": "1.2.0",
       "_model_name": "LayoutModel",
       "_view_count": null,
       "_view_module": "@jupyter-widgets/base",
       "_view_module_version": "1.2.0",
       "_view_name": "LayoutView",
       "align_content": null,
       "align_items": null,
       "align_self": null,
       "border": null,
       "bottom": null,
       "display": null,
       "flex": null,
       "flex_flow": null,
       "grid_area": null,
       "grid_auto_columns": null,
       "grid_auto_flow": null,
       "grid_auto_rows": null,
       "grid_column": null,
       "grid_gap": null,
       "grid_row": null,
       "grid_template_areas": null,
       "grid_template_columns": null,
       "grid_template_rows": null,
       "height": null,
       "justify_content": null,
       "justify_items": null,
       "left": null,
       "margin": null,
       "max_height": null,
       "max_width": null,
       "min_height": null,
       "min_width": null,
       "object_fit": null,
       "object_position": null,
       "order": null,
       "overflow": null,
       "overflow_x": null,
       "overflow_y": null,
       "padding": null,
       "right": null,
       "top": null,
       "visibility": null,
       "width": null
      }
     },
     "245948dea696458fa1709ba60ce63ae4": {
      "model_module": "@jupyter-widgets/controls",
      "model_module_version": "1.5.0",
      "model_name": "HTMLModel",
      "state": {
       "_dom_classes": [],
       "_model_module": "@jupyter-widgets/controls",
       "_model_module_version": "1.5.0",
       "_model_name": "HTMLModel",
       "_view_count": null,
       "_view_module": "@jupyter-widgets/controls",
       "_view_module_version": "1.5.0",
       "_view_name": "HTMLView",
       "description": "",
       "description_tooltip": null,
       "layout": "IPY_MODEL_3fa92b33a02348e89759c899e9b9e975",
       "placeholder": "​",
       "style": "IPY_MODEL_f7c7b3085ef744e6aa1ac8768b7cae0a",
       "value": " 446k/446k [00:00&lt;00:00, 913kB/s]"
      }
     },
     "2fb8bed23a31467ca5958ca7c879ed08": {
      "model_module": "@jupyter-widgets/controls",
      "model_module_version": "1.5.0",
      "model_name": "HTMLModel",
      "state": {
       "_dom_classes": [],
       "_model_module": "@jupyter-widgets/controls",
       "_model_module_version": "1.5.0",
       "_model_name": "HTMLModel",
       "_view_count": null,
       "_view_module": "@jupyter-widgets/controls",
       "_view_module_version": "1.5.0",
       "_view_name": "HTMLView",
       "description": "",
       "description_tooltip": null,
       "layout": "IPY_MODEL_22b27d0b8f164097aa5875846d0f20cb",
       "placeholder": "​",
       "style": "IPY_MODEL_dccb358b00d0414fbf0fcdf684e12899",
       "value": " 481/481 [00:00&lt;00:00, 18.4kB/s]"
      }
     },
     "305f1b984c1d4c52ac8e789367dbb2b1": {
      "model_module": "@jupyter-widgets/controls",
      "model_module_version": "1.5.0",
      "model_name": "HTMLModel",
      "state": {
       "_dom_classes": [],
       "_model_module": "@jupyter-widgets/controls",
       "_model_module_version": "1.5.0",
       "_model_name": "HTMLModel",
       "_view_count": null,
       "_view_module": "@jupyter-widgets/controls",
       "_view_module_version": "1.5.0",
       "_view_name": "HTMLView",
       "description": "",
       "description_tooltip": null,
       "layout": "IPY_MODEL_e655df014ae74f218071d95a2ec2196a",
       "placeholder": "​",
       "style": "IPY_MODEL_d41116e4323a4c6895f24808fda692a1",
       "value": "Downloading: 100%"
      }
     },
     "3fa7393563e44921b1869ac1a97ee6f0": {
      "model_module": "@jupyter-widgets/controls",
      "model_module_version": "1.5.0",
      "model_name": "HTMLModel",
      "state": {
       "_dom_classes": [],
       "_model_module": "@jupyter-widgets/controls",
       "_model_module_version": "1.5.0",
       "_model_name": "HTMLModel",
       "_view_count": null,
       "_view_module": "@jupyter-widgets/controls",
       "_view_module_version": "1.5.0",
       "_view_name": "HTMLView",
       "description": "",
       "description_tooltip": null,
       "layout": "IPY_MODEL_d4f393a1e0a247c1975fff439c87dee7",
       "placeholder": "​",
       "style": "IPY_MODEL_706c7d87e2e94f1a9e8a3651398b4874",
       "value": "Downloading: 100%"
      }
     },
     "3fa92b33a02348e89759c899e9b9e975": {
      "model_module": "@jupyter-widgets/base",
      "model_module_version": "1.2.0",
      "model_name": "LayoutModel",
      "state": {
       "_model_module": "@jupyter-widgets/base",
       "_model_module_version": "1.2.0",
       "_model_name": "LayoutModel",
       "_view_count": null,
       "_view_module": "@jupyter-widgets/base",
       "_view_module_version": "1.2.0",
       "_view_name": "LayoutView",
       "align_content": null,
       "align_items": null,
       "align_self": null,
       "border": null,
       "bottom": null,
       "display": null,
       "flex": null,
       "flex_flow": null,
       "grid_area": null,
       "grid_auto_columns": null,
       "grid_auto_flow": null,
       "grid_auto_rows": null,
       "grid_column": null,
       "grid_gap": null,
       "grid_row": null,
       "grid_template_areas": null,
       "grid_template_columns": null,
       "grid_template_rows": null,
       "height": null,
       "justify_content": null,
       "justify_items": null,
       "left": null,
       "margin": null,
       "max_height": null,
       "max_width": null,
       "min_height": null,
       "min_width": null,
       "object_fit": null,
       "object_position": null,
       "order": null,
       "overflow": null,
       "overflow_x": null,
       "overflow_y": null,
       "padding": null,
       "right": null,
       "top": null,
       "visibility": null,
       "width": null
      }
     },
     "4a2ed121126a42d1b4fcad6d69908d1f": {
      "model_module": "@jupyter-widgets/controls",
      "model_module_version": "1.5.0",
      "model_name": "DescriptionStyleModel",
      "state": {
       "_model_module": "@jupyter-widgets/controls",
       "_model_module_version": "1.5.0",
       "_model_name": "DescriptionStyleModel",
       "_view_count": null,
       "_view_module": "@jupyter-widgets/base",
       "_view_module_version": "1.2.0",
       "_view_name": "StyleView",
       "description_width": ""
      }
     },
     "4b9113bb04474aa3a6ed074a80b7d8c7": {
      "model_module": "@jupyter-widgets/base",
      "model_module_version": "1.2.0",
      "model_name": "LayoutModel",
      "state": {
       "_model_module": "@jupyter-widgets/base",
       "_model_module_version": "1.2.0",
       "_model_name": "LayoutModel",
       "_view_count": null,
       "_view_module": "@jupyter-widgets/base",
       "_view_module_version": "1.2.0",
       "_view_name": "LayoutView",
       "align_content": null,
       "align_items": null,
       "align_self": null,
       "border": null,
       "bottom": null,
       "display": null,
       "flex": null,
       "flex_flow": null,
       "grid_area": null,
       "grid_auto_columns": null,
       "grid_auto_flow": null,
       "grid_auto_rows": null,
       "grid_column": null,
       "grid_gap": null,
       "grid_row": null,
       "grid_template_areas": null,
       "grid_template_columns": null,
       "grid_template_rows": null,
       "height": null,
       "justify_content": null,
       "justify_items": null,
       "left": null,
       "margin": null,
       "max_height": null,
       "max_width": null,
       "min_height": null,
       "min_width": null,
       "object_fit": null,
       "object_position": null,
       "order": null,
       "overflow": null,
       "overflow_x": null,
       "overflow_y": null,
       "padding": null,
       "right": null,
       "top": null,
       "visibility": null,
       "width": null
      }
     },
     "5b7ad36ac4694274a577f5f9149e2240": {
      "model_module": "@jupyter-widgets/controls",
      "model_module_version": "1.5.0",
      "model_name": "ProgressStyleModel",
      "state": {
       "_model_module": "@jupyter-widgets/controls",
       "_model_module_version": "1.5.0",
       "_model_name": "ProgressStyleModel",
       "_view_count": null,
       "_view_module": "@jupyter-widgets/base",
       "_view_module_version": "1.2.0",
       "_view_name": "StyleView",
       "bar_color": null,
       "description_width": ""
      }
     },
     "66b48b105c744a55bb0ed2ee107dacbf": {
      "model_module": "@jupyter-widgets/controls",
      "model_module_version": "1.5.0",
      "model_name": "FloatProgressModel",
      "state": {
       "_dom_classes": [],
       "_model_module": "@jupyter-widgets/controls",
       "_model_module_version": "1.5.0",
       "_model_name": "FloatProgressModel",
       "_view_count": null,
       "_view_module": "@jupyter-widgets/controls",
       "_view_module_version": "1.5.0",
       "_view_name": "ProgressView",
       "bar_style": "success",
       "description": "",
       "description_tooltip": null,
       "layout": "IPY_MODEL_0bbcb9809085419ba4ec643d1aa7e0e5",
       "max": 898823.0,
       "min": 0.0,
       "orientation": "horizontal",
       "style": "IPY_MODEL_5b7ad36ac4694274a577f5f9149e2240",
       "value": 898823.0
      }
     },
     "706c7d87e2e94f1a9e8a3651398b4874": {
      "model_module": "@jupyter-widgets/controls",
      "model_module_version": "1.5.0",
      "model_name": "DescriptionStyleModel",
      "state": {
       "_model_module": "@jupyter-widgets/controls",
       "_model_module_version": "1.5.0",
       "_model_name": "DescriptionStyleModel",
       "_view_count": null,
       "_view_module": "@jupyter-widgets/base",
       "_view_module_version": "1.2.0",
       "_view_name": "StyleView",
       "description_width": ""
      }
     },
     "7be26fa0c95d419fa524b33d99a5f157": {
      "model_module": "@jupyter-widgets/base",
      "model_module_version": "1.2.0",
      "model_name": "LayoutModel",
      "state": {
       "_model_module": "@jupyter-widgets/base",
       "_model_module_version": "1.2.0",
       "_model_name": "LayoutModel",
       "_view_count": null,
       "_view_module": "@jupyter-widgets/base",
       "_view_module_version": "1.2.0",
       "_view_name": "LayoutView",
       "align_content": null,
       "align_items": null,
       "align_self": null,
       "border": null,
       "bottom": null,
       "display": null,
       "flex": null,
       "flex_flow": null,
       "grid_area": null,
       "grid_auto_columns": null,
       "grid_auto_flow": null,
       "grid_auto_rows": null,
       "grid_column": null,
       "grid_gap": null,
       "grid_row": null,
       "grid_template_areas": null,
       "grid_template_columns": null,
       "grid_template_rows": null,
       "height": null,
       "justify_content": null,
       "justify_items": null,
       "left": null,
       "margin": null,
       "max_height": null,
       "max_width": null,
       "min_height": null,
       "min_width": null,
       "object_fit": null,
       "object_position": null,
       "order": null,
       "overflow": null,
       "overflow_x": null,
       "overflow_y": null,
       "padding": null,
       "right": null,
       "top": null,
       "visibility": null,
       "width": null
      }
     },
     "811fa06d284c4e20a476db4b51f01576": {
      "model_module": "@jupyter-widgets/controls",
      "model_module_version": "1.5.0",
      "model_name": "HTMLModel",
      "state": {
       "_dom_classes": [],
       "_model_module": "@jupyter-widgets/controls",
       "_model_module_version": "1.5.0",
       "_model_name": "HTMLModel",
       "_view_count": null,
       "_view_module": "@jupyter-widgets/controls",
       "_view_module_version": "1.5.0",
       "_view_name": "HTMLView",
       "description": "",
       "description_tooltip": null,
       "layout": "IPY_MODEL_7be26fa0c95d419fa524b33d99a5f157",
       "placeholder": "​",
       "style": "IPY_MODEL_fbc52a5352cc476ea703c6ef55c49312",
       "value": "Downloading: 100%"
      }
     },
     "8554166699be456f85c9c766b92d8041": {
      "model_module": "@jupyter-widgets/controls",
      "model_module_version": "1.5.0",
      "model_name": "HBoxModel",
      "state": {
       "_dom_classes": [],
       "_model_module": "@jupyter-widgets/controls",
       "_model_module_version": "1.5.0",
       "_model_name": "HBoxModel",
       "_view_count": null,
       "_view_module": "@jupyter-widgets/controls",
       "_view_module_version": "1.5.0",
       "_view_name": "HBoxView",
       "box_style": "",
       "children": [
        "IPY_MODEL_3fa7393563e44921b1869ac1a97ee6f0",
        "IPY_MODEL_ae68fda7feab4131ae8cd4fb90721fdb",
        "IPY_MODEL_245948dea696458fa1709ba60ce63ae4"
       ],
       "layout": "IPY_MODEL_eeae0b767afc444e8a9923a14e4589eb"
      }
     },
     "90aa459876b54ca2a9b401add4ab6590": {
      "model_module": "@jupyter-widgets/controls",
      "model_module_version": "1.5.0",
      "model_name": "ProgressStyleModel",
      "state": {
       "_model_module": "@jupyter-widgets/controls",
       "_model_module_version": "1.5.0",
       "_model_name": "ProgressStyleModel",
       "_view_count": null,
       "_view_module": "@jupyter-widgets/base",
       "_view_module_version": "1.2.0",
       "_view_name": "StyleView",
       "bar_color": null,
       "description_width": ""
      }
     },
     "98b6412a68a04bc3a50a87cce08d46b6": {
      "model_module": "@jupyter-widgets/controls",
      "model_module_version": "1.5.0",
      "model_name": "ProgressStyleModel",
      "state": {
       "_model_module": "@jupyter-widgets/controls",
       "_model_module_version": "1.5.0",
       "_model_name": "ProgressStyleModel",
       "_view_count": null,
       "_view_module": "@jupyter-widgets/base",
       "_view_module_version": "1.2.0",
       "_view_name": "StyleView",
       "bar_color": null,
       "description_width": ""
      }
     },
     "9a33016c0a364cacbf080e60502b258c": {
      "model_module": "@jupyter-widgets/controls",
      "model_module_version": "1.5.0",
      "model_name": "HBoxModel",
      "state": {
       "_dom_classes": [],
       "_model_module": "@jupyter-widgets/controls",
       "_model_module_version": "1.5.0",
       "_model_name": "HBoxModel",
       "_view_count": null,
       "_view_module": "@jupyter-widgets/controls",
       "_view_module_version": "1.5.0",
       "_view_name": "HBoxView",
       "box_style": "",
       "children": [
        "IPY_MODEL_305f1b984c1d4c52ac8e789367dbb2b1",
        "IPY_MODEL_bde32dcb07a94006862e2a179e803736",
        "IPY_MODEL_2fb8bed23a31467ca5958ca7c879ed08"
       ],
       "layout": "IPY_MODEL_11b77715386347cba17ddcee2f84372a"
      }
     },
     "ae68fda7feab4131ae8cd4fb90721fdb": {
      "model_module": "@jupyter-widgets/controls",
      "model_module_version": "1.5.0",
      "model_name": "FloatProgressModel",
      "state": {
       "_dom_classes": [],
       "_model_module": "@jupyter-widgets/controls",
       "_model_module_version": "1.5.0",
       "_model_name": "FloatProgressModel",
       "_view_count": null,
       "_view_module": "@jupyter-widgets/controls",
       "_view_module_version": "1.5.0",
       "_view_name": "ProgressView",
       "bar_style": "success",
       "description": "",
       "description_tooltip": null,
       "layout": "IPY_MODEL_ce6cb71ac9b54b6081e9d5756f404075",
       "max": 456318.0,
       "min": 0.0,
       "orientation": "horizontal",
       "style": "IPY_MODEL_90aa459876b54ca2a9b401add4ab6590",
       "value": 456318.0
      }
     },
     "bde32dcb07a94006862e2a179e803736": {
      "model_module": "@jupyter-widgets/controls",
      "model_module_version": "1.5.0",
      "model_name": "FloatProgressModel",
      "state": {
       "_dom_classes": [],
       "_model_module": "@jupyter-widgets/controls",
       "_model_module_version": "1.5.0",
       "_model_name": "FloatProgressModel",
       "_view_count": null,
       "_view_module": "@jupyter-widgets/controls",
       "_view_module_version": "1.5.0",
       "_view_name": "ProgressView",
       "bar_style": "success",
       "description": "",
       "description_tooltip": null,
       "layout": "IPY_MODEL_cd6ccc50d00445d6906d93089eac47f2",
       "max": 481.0,
       "min": 0.0,
       "orientation": "horizontal",
       "style": "IPY_MODEL_98b6412a68a04bc3a50a87cce08d46b6",
       "value": 481.0
      }
     },
     "cd6ccc50d00445d6906d93089eac47f2": {
      "model_module": "@jupyter-widgets/base",
      "model_module_version": "1.2.0",
      "model_name": "LayoutModel",
      "state": {
       "_model_module": "@jupyter-widgets/base",
       "_model_module_version": "1.2.0",
       "_model_name": "LayoutModel",
       "_view_count": null,
       "_view_module": "@jupyter-widgets/base",
       "_view_module_version": "1.2.0",
       "_view_name": "LayoutView",
       "align_content": null,
       "align_items": null,
       "align_self": null,
       "border": null,
       "bottom": null,
       "display": null,
       "flex": null,
       "flex_flow": null,
       "grid_area": null,
       "grid_auto_columns": null,
       "grid_auto_flow": null,
       "grid_auto_rows": null,
       "grid_column": null,
       "grid_gap": null,
       "grid_row": null,
       "grid_template_areas": null,
       "grid_template_columns": null,
       "grid_template_rows": null,
       "height": null,
       "justify_content": null,
       "justify_items": null,
       "left": null,
       "margin": null,
       "max_height": null,
       "max_width": null,
       "min_height": null,
       "min_width": null,
       "object_fit": null,
       "object_position": null,
       "order": null,
       "overflow": null,
       "overflow_x": null,
       "overflow_y": null,
       "padding": null,
       "right": null,
       "top": null,
       "visibility": null,
       "width": null
      }
     },
     "ce6cb71ac9b54b6081e9d5756f404075": {
      "model_module": "@jupyter-widgets/base",
      "model_module_version": "1.2.0",
      "model_name": "LayoutModel",
      "state": {
       "_model_module": "@jupyter-widgets/base",
       "_model_module_version": "1.2.0",
       "_model_name": "LayoutModel",
       "_view_count": null,
       "_view_module": "@jupyter-widgets/base",
       "_view_module_version": "1.2.0",
       "_view_name": "LayoutView",
       "align_content": null,
       "align_items": null,
       "align_self": null,
       "border": null,
       "bottom": null,
       "display": null,
       "flex": null,
       "flex_flow": null,
       "grid_area": null,
       "grid_auto_columns": null,
       "grid_auto_flow": null,
       "grid_auto_rows": null,
       "grid_column": null,
       "grid_gap": null,
       "grid_row": null,
       "grid_template_areas": null,
       "grid_template_columns": null,
       "grid_template_rows": null,
       "height": null,
       "justify_content": null,
       "justify_items": null,
       "left": null,
       "margin": null,
       "max_height": null,
       "max_width": null,
       "min_height": null,
       "min_width": null,
       "object_fit": null,
       "object_position": null,
       "order": null,
       "overflow": null,
       "overflow_x": null,
       "overflow_y": null,
       "padding": null,
       "right": null,
       "top": null,
       "visibility": null,
       "width": null
      }
     },
     "d41116e4323a4c6895f24808fda692a1": {
      "model_module": "@jupyter-widgets/controls",
      "model_module_version": "1.5.0",
      "model_name": "DescriptionStyleModel",
      "state": {
       "_model_module": "@jupyter-widgets/controls",
       "_model_module_version": "1.5.0",
       "_model_name": "DescriptionStyleModel",
       "_view_count": null,
       "_view_module": "@jupyter-widgets/base",
       "_view_module_version": "1.2.0",
       "_view_name": "StyleView",
       "description_width": ""
      }
     },
     "d4f393a1e0a247c1975fff439c87dee7": {
      "model_module": "@jupyter-widgets/base",
      "model_module_version": "1.2.0",
      "model_name": "LayoutModel",
      "state": {
       "_model_module": "@jupyter-widgets/base",
       "_model_module_version": "1.2.0",
       "_model_name": "LayoutModel",
       "_view_count": null,
       "_view_module": "@jupyter-widgets/base",
       "_view_module_version": "1.2.0",
       "_view_name": "LayoutView",
       "align_content": null,
       "align_items": null,
       "align_self": null,
       "border": null,
       "bottom": null,
       "display": null,
       "flex": null,
       "flex_flow": null,
       "grid_area": null,
       "grid_auto_columns": null,
       "grid_auto_flow": null,
       "grid_auto_rows": null,
       "grid_column": null,
       "grid_gap": null,
       "grid_row": null,
       "grid_template_areas": null,
       "grid_template_columns": null,
       "grid_template_rows": null,
       "height": null,
       "justify_content": null,
       "justify_items": null,
       "left": null,
       "margin": null,
       "max_height": null,
       "max_width": null,
       "min_height": null,
       "min_width": null,
       "object_fit": null,
       "object_position": null,
       "order": null,
       "overflow": null,
       "overflow_x": null,
       "overflow_y": null,
       "padding": null,
       "right": null,
       "top": null,
       "visibility": null,
       "width": null
      }
     },
     "dccb358b00d0414fbf0fcdf684e12899": {
      "model_module": "@jupyter-widgets/controls",
      "model_module_version": "1.5.0",
      "model_name": "DescriptionStyleModel",
      "state": {
       "_model_module": "@jupyter-widgets/controls",
       "_model_module_version": "1.5.0",
       "_model_name": "DescriptionStyleModel",
       "_view_count": null,
       "_view_module": "@jupyter-widgets/base",
       "_view_module_version": "1.2.0",
       "_view_name": "StyleView",
       "description_width": ""
      }
     },
     "e48e20e999874b8f9a0b550ab090ccb8": {
      "model_module": "@jupyter-widgets/controls",
      "model_module_version": "1.5.0",
      "model_name": "HBoxModel",
      "state": {
       "_dom_classes": [],
       "_model_module": "@jupyter-widgets/controls",
       "_model_module_version": "1.5.0",
       "_model_name": "HBoxModel",
       "_view_count": null,
       "_view_module": "@jupyter-widgets/controls",
       "_view_module_version": "1.5.0",
       "_view_name": "HBoxView",
       "box_style": "",
       "children": [
        "IPY_MODEL_811fa06d284c4e20a476db4b51f01576",
        "IPY_MODEL_66b48b105c744a55bb0ed2ee107dacbf",
        "IPY_MODEL_f49c1dbb555746188af981204f44d809"
       ],
       "layout": "IPY_MODEL_1291b56ba9d3490bb5b80a606843d2a1"
      }
     },
     "e655df014ae74f218071d95a2ec2196a": {
      "model_module": "@jupyter-widgets/base",
      "model_module_version": "1.2.0",
      "model_name": "LayoutModel",
      "state": {
       "_model_module": "@jupyter-widgets/base",
       "_model_module_version": "1.2.0",
       "_model_name": "LayoutModel",
       "_view_count": null,
       "_view_module": "@jupyter-widgets/base",
       "_view_module_version": "1.2.0",
       "_view_name": "LayoutView",
       "align_content": null,
       "align_items": null,
       "align_self": null,
       "border": null,
       "bottom": null,
       "display": null,
       "flex": null,
       "flex_flow": null,
       "grid_area": null,
       "grid_auto_columns": null,
       "grid_auto_flow": null,
       "grid_auto_rows": null,
       "grid_column": null,
       "grid_gap": null,
       "grid_row": null,
       "grid_template_areas": null,
       "grid_template_columns": null,
       "grid_template_rows": null,
       "height": null,
       "justify_content": null,
       "justify_items": null,
       "left": null,
       "margin": null,
       "max_height": null,
       "max_width": null,
       "min_height": null,
       "min_width": null,
       "object_fit": null,
       "object_position": null,
       "order": null,
       "overflow": null,
       "overflow_x": null,
       "overflow_y": null,
       "padding": null,
       "right": null,
       "top": null,
       "visibility": null,
       "width": null
      }
     },
     "eeae0b767afc444e8a9923a14e4589eb": {
      "model_module": "@jupyter-widgets/base",
      "model_module_version": "1.2.0",
      "model_name": "LayoutModel",
      "state": {
       "_model_module": "@jupyter-widgets/base",
       "_model_module_version": "1.2.0",
       "_model_name": "LayoutModel",
       "_view_count": null,
       "_view_module": "@jupyter-widgets/base",
       "_view_module_version": "1.2.0",
       "_view_name": "LayoutView",
       "align_content": null,
       "align_items": null,
       "align_self": null,
       "border": null,
       "bottom": null,
       "display": null,
       "flex": null,
       "flex_flow": null,
       "grid_area": null,
       "grid_auto_columns": null,
       "grid_auto_flow": null,
       "grid_auto_rows": null,
       "grid_column": null,
       "grid_gap": null,
       "grid_row": null,
       "grid_template_areas": null,
       "grid_template_columns": null,
       "grid_template_rows": null,
       "height": null,
       "justify_content": null,
       "justify_items": null,
       "left": null,
       "margin": null,
       "max_height": null,
       "max_width": null,
       "min_height": null,
       "min_width": null,
       "object_fit": null,
       "object_position": null,
       "order": null,
       "overflow": null,
       "overflow_x": null,
       "overflow_y": null,
       "padding": null,
       "right": null,
       "top": null,
       "visibility": null,
       "width": null
      }
     },
     "f49c1dbb555746188af981204f44d809": {
      "model_module": "@jupyter-widgets/controls",
      "model_module_version": "1.5.0",
      "model_name": "HTMLModel",
      "state": {
       "_dom_classes": [],
       "_model_module": "@jupyter-widgets/controls",
       "_model_module_version": "1.5.0",
       "_model_name": "HTMLModel",
       "_view_count": null,
       "_view_module": "@jupyter-widgets/controls",
       "_view_module_version": "1.5.0",
       "_view_name": "HTMLView",
       "description": "",
       "description_tooltip": null,
       "layout": "IPY_MODEL_4b9113bb04474aa3a6ed074a80b7d8c7",
       "placeholder": "​",
       "style": "IPY_MODEL_4a2ed121126a42d1b4fcad6d69908d1f",
       "value": " 878k/878k [00:00&lt;00:00, 1.27MB/s]"
      }
     },
     "f7c7b3085ef744e6aa1ac8768b7cae0a": {
      "model_module": "@jupyter-widgets/controls",
      "model_module_version": "1.5.0",
      "model_name": "DescriptionStyleModel",
      "state": {
       "_model_module": "@jupyter-widgets/controls",
       "_model_module_version": "1.5.0",
       "_model_name": "DescriptionStyleModel",
       "_view_count": null,
       "_view_module": "@jupyter-widgets/base",
       "_view_module_version": "1.2.0",
       "_view_name": "StyleView",
       "description_width": ""
      }
     },
     "fbc52a5352cc476ea703c6ef55c49312": {
      "model_module": "@jupyter-widgets/controls",
      "model_module_version": "1.5.0",
      "model_name": "DescriptionStyleModel",
      "state": {
       "_model_module": "@jupyter-widgets/controls",
       "_model_module_version": "1.5.0",
       "_model_name": "DescriptionStyleModel",
       "_view_count": null,
       "_view_module": "@jupyter-widgets/base",
       "_view_module_version": "1.2.0",
       "_view_name": "StyleView",
       "description_width": ""
      }
     }
    },
    "version_major": 2,
    "version_minor": 0
   }
  }
 },
 "nbformat": 4,
 "nbformat_minor": 5
}
