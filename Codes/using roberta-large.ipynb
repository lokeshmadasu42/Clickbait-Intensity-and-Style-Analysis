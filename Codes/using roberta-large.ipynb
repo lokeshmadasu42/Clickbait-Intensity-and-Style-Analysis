{
 "cells": [
  {
   "cell_type": "code",
   "execution_count": 1,
   "id": "7253eac5",
   "metadata": {
    "_cell_guid": "b1076dfc-b9ad-4769-8c92-a6c4dae69d19",
    "_uuid": "8f2839f25d086af736a60e9eeb907d3b93b6e0e5",
    "execution": {
     "iopub.execute_input": "2022-10-20T18:45:54.895752Z",
     "iopub.status.busy": "2022-10-20T18:45:54.894927Z",
     "iopub.status.idle": "2022-10-20T18:45:54.905576Z",
     "shell.execute_reply": "2022-10-20T18:45:54.904738Z"
    },
    "papermill": {
     "duration": 0.026203,
     "end_time": "2022-10-20T18:45:54.907623",
     "exception": false,
     "start_time": "2022-10-20T18:45:54.881420",
     "status": "completed"
    },
    "tags": []
   },
   "outputs": [],
   "source": [
    "import pandas as pd\n",
    "import numpy as np\n",
    "import re\n",
    "from tqdm import tqdm"
   ]
  },
  {
   "cell_type": "code",
   "execution_count": 2,
   "id": "a7b100ec",
   "metadata": {
    "execution": {
     "iopub.execute_input": "2022-10-20T18:45:54.931216Z",
     "iopub.status.busy": "2022-10-20T18:45:54.930412Z",
     "iopub.status.idle": "2022-10-20T18:46:00.679513Z",
     "shell.execute_reply": "2022-10-20T18:46:00.678476Z"
    },
    "papermill": {
     "duration": 5.764381,
     "end_time": "2022-10-20T18:46:00.682062",
     "exception": false,
     "start_time": "2022-10-20T18:45:54.917681",
     "status": "completed"
    },
    "tags": []
   },
   "outputs": [],
   "source": [
    "import tensorflow as tf\n",
    "import tensorflow_hub as hub"
   ]
  },
  {
   "cell_type": "code",
   "execution_count": 3,
   "id": "38a88f71",
   "metadata": {
    "execution": {
     "iopub.execute_input": "2022-10-20T18:46:00.705552Z",
     "iopub.status.busy": "2022-10-20T18:46:00.705018Z",
     "iopub.status.idle": "2022-10-20T18:46:02.943997Z",
     "shell.execute_reply": "2022-10-20T18:46:02.942952Z"
    },
    "papermill": {
     "duration": 2.252977,
     "end_time": "2022-10-20T18:46:02.945971",
     "exception": false,
     "start_time": "2022-10-20T18:46:00.692994",
     "status": "completed"
    },
    "tags": []
   },
   "outputs": [
    {
     "name": "stderr",
     "output_type": "stream",
     "text": [
      "2022-10-20 18:46:00.762923: I tensorflow/stream_executor/cuda/cuda_gpu_executor.cc:937] successful NUMA node read from SysFS had negative value (-1), but there must be at least one NUMA node, so returning NUMA node zero\n",
      "2022-10-20 18:46:00.856153: I tensorflow/stream_executor/cuda/cuda_gpu_executor.cc:937] successful NUMA node read from SysFS had negative value (-1), but there must be at least one NUMA node, so returning NUMA node zero\n",
      "2022-10-20 18:46:00.856920: I tensorflow/stream_executor/cuda/cuda_gpu_executor.cc:937] successful NUMA node read from SysFS had negative value (-1), but there must be at least one NUMA node, so returning NUMA node zero\n",
      "2022-10-20 18:46:00.866355: I tensorflow/core/platform/cpu_feature_guard.cc:142] This TensorFlow binary is optimized with oneAPI Deep Neural Network Library (oneDNN) to use the following CPU instructions in performance-critical operations:  AVX2 AVX512F FMA\n",
      "To enable them in other operations, rebuild TensorFlow with the appropriate compiler flags.\n",
      "2022-10-20 18:46:00.866709: I tensorflow/stream_executor/cuda/cuda_gpu_executor.cc:937] successful NUMA node read from SysFS had negative value (-1), but there must be at least one NUMA node, so returning NUMA node zero\n",
      "2022-10-20 18:46:00.867461: I tensorflow/stream_executor/cuda/cuda_gpu_executor.cc:937] successful NUMA node read from SysFS had negative value (-1), but there must be at least one NUMA node, so returning NUMA node zero\n",
      "2022-10-20 18:46:00.868118: I tensorflow/stream_executor/cuda/cuda_gpu_executor.cc:937] successful NUMA node read from SysFS had negative value (-1), but there must be at least one NUMA node, so returning NUMA node zero\n",
      "2022-10-20 18:46:02.926054: I tensorflow/stream_executor/cuda/cuda_gpu_executor.cc:937] successful NUMA node read from SysFS had negative value (-1), but there must be at least one NUMA node, so returning NUMA node zero\n",
      "2022-10-20 18:46:02.926880: I tensorflow/stream_executor/cuda/cuda_gpu_executor.cc:937] successful NUMA node read from SysFS had negative value (-1), but there must be at least one NUMA node, so returning NUMA node zero\n",
      "2022-10-20 18:46:02.927554: I tensorflow/stream_executor/cuda/cuda_gpu_executor.cc:937] successful NUMA node read from SysFS had negative value (-1), but there must be at least one NUMA node, so returning NUMA node zero\n",
      "2022-10-20 18:46:02.928236: I tensorflow/core/common_runtime/gpu/gpu_device.cc:1510] Created device /job:localhost/replica:0/task:0/device:GPU:0 with 15401 MB memory:  -> device: 0, name: Tesla P100-PCIE-16GB, pci bus id: 0000:00:04.0, compute capability: 6.0\n"
     ]
    },
    {
     "data": {
      "text/plain": [
       "<tensorflow.python.eager.context._EagerDeviceContext at 0x7f441f30c820>"
      ]
     },
     "execution_count": 3,
     "metadata": {},
     "output_type": "execute_result"
    }
   ],
   "source": [
    "tf.device('cuda:0')"
   ]
  },
  {
   "cell_type": "code",
   "execution_count": 4,
   "id": "e7ffd331",
   "metadata": {
    "execution": {
     "iopub.execute_input": "2022-10-20T18:46:02.968148Z",
     "iopub.status.busy": "2022-10-20T18:46:02.967863Z",
     "iopub.status.idle": "2022-10-20T18:46:03.056772Z",
     "shell.execute_reply": "2022-10-20T18:46:03.055850Z"
    },
    "papermill": {
     "duration": 0.102615,
     "end_time": "2022-10-20T18:46:03.059155",
     "exception": false,
     "start_time": "2022-10-20T18:46:02.956540",
     "status": "completed"
    },
    "tags": []
   },
   "outputs": [],
   "source": [
    "# train_df=pd.read_excel('../input/ire-major-project-data/train.xlsx')\n",
    "# dev_df=pd.read_excel('../input/ire-major-project-data/dev.xlsx')\n",
    "# test_df=pd.read_excel('../input/ire-major-project-data/test.xlsx')\n",
    "\n",
    "train_df=pd.read_table('../input/ire-major-data-v2/en_train_pt.tsv',names=['SNO','Intensity','Text'],sep='\\t')\n",
    "test_df=pd.read_table('../input/ire-major-data-v2/en_test_pt.tsv',names=['SNO','Intensity','Text'],sep='\\t')"
   ]
  },
  {
   "cell_type": "code",
   "execution_count": 5,
   "id": "4f7080c5",
   "metadata": {
    "execution": {
     "iopub.execute_input": "2022-10-20T18:46:03.082737Z",
     "iopub.status.busy": "2022-10-20T18:46:03.081256Z",
     "iopub.status.idle": "2022-10-20T18:46:15.270255Z",
     "shell.execute_reply": "2022-10-20T18:46:15.269316Z"
    },
    "papermill": {
     "duration": 12.202777,
     "end_time": "2022-10-20T18:46:15.272573",
     "exception": false,
     "start_time": "2022-10-20T18:46:03.069796",
     "status": "completed"
    },
    "tags": []
   },
   "outputs": [
    {
     "data": {
      "application/vnd.jupyter.widget-view+json": {
       "model_id": "f2c7cdc4ebd743c5956a51f9458c5092",
       "version_major": 2,
       "version_minor": 0
      },
      "text/plain": [
       "Downloading:   0%|          | 0.00/878k [00:00<?, ?B/s]"
      ]
     },
     "metadata": {},
     "output_type": "display_data"
    },
    {
     "data": {
      "application/vnd.jupyter.widget-view+json": {
       "model_id": "0f547617ab324880a67c4838cfb3b050",
       "version_major": 2,
       "version_minor": 0
      },
      "text/plain": [
       "Downloading:   0%|          | 0.00/446k [00:00<?, ?B/s]"
      ]
     },
     "metadata": {},
     "output_type": "display_data"
    },
    {
     "data": {
      "application/vnd.jupyter.widget-view+json": {
       "model_id": "68c1553128c945d0bd667ec5bfc2280c",
       "version_major": 2,
       "version_minor": 0
      },
      "text/plain": [
       "Downloading:   0%|          | 0.00/481 [00:00<?, ?B/s]"
      ]
     },
     "metadata": {},
     "output_type": "display_data"
    }
   ],
   "source": [
    "from transformers import RobertaTokenizer\n",
    "tokenizer = RobertaTokenizer.from_pretrained(\"roberta-base\")"
   ]
  },
  {
   "cell_type": "code",
   "execution_count": 6,
   "id": "b27983d0",
   "metadata": {
    "execution": {
     "iopub.execute_input": "2022-10-20T18:46:15.297097Z",
     "iopub.status.busy": "2022-10-20T18:46:15.295406Z",
     "iopub.status.idle": "2022-10-20T18:46:15.301238Z",
     "shell.execute_reply": "2022-10-20T18:46:15.300329Z"
    },
    "papermill": {
     "duration": 0.019419,
     "end_time": "2022-10-20T18:46:15.303201",
     "exception": false,
     "start_time": "2022-10-20T18:46:15.283782",
     "status": "completed"
    },
    "tags": []
   },
   "outputs": [],
   "source": [
    "def return_length(df):\n",
    "    length=[]\n",
    "    for i in df['Text']:\n",
    "        tok = tokenizer(i, return_tensors=\"pt\")\n",
    "        length.append(len(tok['input_ids'][0]))\n",
    "        \n",
    "    return length"
   ]
  },
  {
   "cell_type": "code",
   "execution_count": 7,
   "id": "4473fcad",
   "metadata": {
    "execution": {
     "iopub.execute_input": "2022-10-20T18:46:15.325221Z",
     "iopub.status.busy": "2022-10-20T18:46:15.324946Z",
     "iopub.status.idle": "2022-10-20T18:46:24.325972Z",
     "shell.execute_reply": "2022-10-20T18:46:24.324791Z"
    },
    "papermill": {
     "duration": 9.015114,
     "end_time": "2022-10-20T18:46:24.328676",
     "exception": false,
     "start_time": "2022-10-20T18:46:15.313562",
     "status": "completed"
    },
    "tags": []
   },
   "outputs": [
    {
     "name": "stderr",
     "output_type": "stream",
     "text": [
      "Token indices sequence length is longer than the specified maximum sequence length for this model (573 > 512). Running this sequence through the model will result in indexing errors\n"
     ]
    }
   ],
   "source": [
    "train_df['#tokens']=return_length(train_df)\n",
    "test_df['#tokens']=return_length(test_df)"
   ]
  },
  {
   "cell_type": "code",
   "execution_count": 8,
   "id": "88a68def",
   "metadata": {
    "execution": {
     "iopub.execute_input": "2022-10-20T18:46:24.353085Z",
     "iopub.status.busy": "2022-10-20T18:46:24.351630Z",
     "iopub.status.idle": "2022-10-20T18:46:24.364278Z",
     "shell.execute_reply": "2022-10-20T18:46:24.363107Z"
    },
    "papermill": {
     "duration": 0.027394,
     "end_time": "2022-10-20T18:46:24.367003",
     "exception": false,
     "start_time": "2022-10-20T18:46:24.339609",
     "status": "completed"
    },
    "tags": []
   },
   "outputs": [
    {
     "name": "stdout",
     "output_type": "stream",
     "text": [
      "Length of Train_df: 17497\n",
      "Length of Test_df: 4337\n"
     ]
    }
   ],
   "source": [
    "train_df=train_df[train_df['#tokens']<50]\n",
    "test_df=test_df[test_df['#tokens']<50]\n",
    "print('Length of Train_df:',len(train_df))\n",
    "print('Length of Test_df:',len(test_df))"
   ]
  },
  {
   "cell_type": "code",
   "execution_count": 9,
   "id": "c650d5da",
   "metadata": {
    "execution": {
     "iopub.execute_input": "2022-10-20T18:46:24.391246Z",
     "iopub.status.busy": "2022-10-20T18:46:24.389853Z",
     "iopub.status.idle": "2022-10-20T18:46:24.400869Z",
     "shell.execute_reply": "2022-10-20T18:46:24.400019Z"
    },
    "papermill": {
     "duration": 0.024418,
     "end_time": "2022-10-20T18:46:24.402910",
     "exception": false,
     "start_time": "2022-10-20T18:46:24.378492",
     "status": "completed"
    },
    "tags": []
   },
   "outputs": [],
   "source": [
    "train_df['label']=['clickbait' if i>=0.5 else 'no-clickbait' for i in train_df['Intensity']]\n",
    "test_df['label']=['clickbait' if i>=0.5 else 'no-clickbait' for i in test_df['Intensity']]"
   ]
  },
  {
   "cell_type": "markdown",
   "id": "2d974e4f",
   "metadata": {
    "papermill": {
     "duration": 0.010279,
     "end_time": "2022-10-20T18:46:24.423836",
     "exception": false,
     "start_time": "2022-10-20T18:46:24.413557",
     "status": "completed"
    },
    "tags": []
   },
   "source": [
    "## Replacing/Masking Words\n",
    "- Replace Non Named Entities\n",
    "- Replace Pronouns\n",
    "- Replace Random Words"
   ]
  },
  {
   "cell_type": "code",
   "execution_count": 10,
   "id": "3e307124",
   "metadata": {
    "execution": {
     "iopub.execute_input": "2022-10-20T18:46:24.446457Z",
     "iopub.status.busy": "2022-10-20T18:46:24.445696Z",
     "iopub.status.idle": "2022-10-20T18:46:50.263868Z",
     "shell.execute_reply": "2022-10-20T18:46:50.262708Z"
    },
    "papermill": {
     "duration": 25.832058,
     "end_time": "2022-10-20T18:46:50.266380",
     "exception": false,
     "start_time": "2022-10-20T18:46:24.434322",
     "status": "completed"
    },
    "tags": []
   },
   "outputs": [
    {
     "name": "stdout",
     "output_type": "stream",
     "text": [
      "\u001b[33mWARNING: Running pip as the 'root' user can result in broken permissions and conflicting behaviour with the system package manager. It is recommended to use a virtual environment instead: https://pip.pypa.io/warnings/venv\u001b[0m\u001b[33m\r\n",
      "\u001b[0m\u001b[38;5;2m✔ Download and installation successful\u001b[0m\r\n",
      "You can now load the package via spacy.load('en_core_web_sm')\r\n"
     ]
    }
   ],
   "source": [
    "# ! pip install spacy --q\n",
    "# ! pip install nltk --q\n",
    "! python -m spacy download en_core_web_sm --q"
   ]
  },
  {
   "cell_type": "code",
   "execution_count": 11,
   "id": "f5e28141",
   "metadata": {
    "execution": {
     "iopub.execute_input": "2022-10-20T18:46:50.290573Z",
     "iopub.status.busy": "2022-10-20T18:46:50.290226Z",
     "iopub.status.idle": "2022-10-20T18:46:53.122252Z",
     "shell.execute_reply": "2022-10-20T18:46:53.121285Z"
    },
    "papermill": {
     "duration": 2.84672,
     "end_time": "2022-10-20T18:46:53.124635",
     "exception": false,
     "start_time": "2022-10-20T18:46:50.277915",
     "status": "completed"
    },
    "tags": []
   },
   "outputs": [],
   "source": [
    "import spacy\n",
    "from spacy import displacy\n",
    "from spacy import tokenizer\n",
    "nlp = spacy.load('en_core_web_sm')"
   ]
  },
  {
   "cell_type": "code",
   "execution_count": 12,
   "id": "b789373b",
   "metadata": {
    "execution": {
     "iopub.execute_input": "2022-10-20T18:46:53.148113Z",
     "iopub.status.busy": "2022-10-20T18:46:53.147816Z",
     "iopub.status.idle": "2022-10-20T18:46:53.153615Z",
     "shell.execute_reply": "2022-10-20T18:46:53.152675Z"
    },
    "papermill": {
     "duration": 0.019625,
     "end_time": "2022-10-20T18:46:53.155572",
     "exception": false,
     "start_time": "2022-10-20T18:46:53.135947",
     "status": "completed"
    },
    "tags": []
   },
   "outputs": [],
   "source": [
    "def get_entities(text):\n",
    "    doc = nlp(text)\n",
    "    tokens=[token.text for token in doc]\n",
    "    ent_tokens=[]\n",
    "    ent_labels=[]\n",
    "    for e in doc.ents:\n",
    "        toks=e.text.split()\n",
    "        for tok in toks:\n",
    "            ent_tokens.append(tok)\n",
    "            ent_labels.append(e.label_)\n",
    "#     displacy.render(doc, style='ent', jupyter=True)\n",
    "    #return tokens,ent_tokens,ent_labels\n",
    "    \n",
    "    #print(tokens,'\\n',ent_tokens,'\\n',ent_labels)\n",
    "    return tokens,ent_tokens,ent_labels"
   ]
  },
  {
   "cell_type": "code",
   "execution_count": 13,
   "id": "fc81b6f7",
   "metadata": {
    "execution": {
     "iopub.execute_input": "2022-10-20T18:46:53.178554Z",
     "iopub.status.busy": "2022-10-20T18:46:53.178269Z",
     "iopub.status.idle": "2022-10-20T18:46:53.184142Z",
     "shell.execute_reply": "2022-10-20T18:46:53.183226Z"
    },
    "papermill": {
     "duration": 0.019602,
     "end_time": "2022-10-20T18:46:53.186086",
     "exception": false,
     "start_time": "2022-10-20T18:46:53.166484",
     "status": "completed"
    },
    "tags": []
   },
   "outputs": [],
   "source": [
    "def get_pos_tags(text):\n",
    "    sent = text\n",
    "    doc=nlp(sent)\n",
    "\n",
    "    sub_toks = [tok for tok in doc if ((tok.dep_ == \"nsubj\") )]\n",
    "    nc= [x for x in doc.noun_chunks]\n",
    "    l=[]\n",
    "    for i,token in enumerate(doc):\n",
    "        #print(token.pos_)\n",
    "        if token.pos_ in ['PRON','DET']:\n",
    "            #l.append([token.text,i,token.pos_])\n",
    "            l.append(token.text)\n",
    "\n",
    "    #print(l)\n",
    "    return l"
   ]
  },
  {
   "cell_type": "code",
   "execution_count": 14,
   "id": "78020fe2",
   "metadata": {
    "execution": {
     "iopub.execute_input": "2022-10-20T18:46:53.209370Z",
     "iopub.status.busy": "2022-10-20T18:46:53.208610Z",
     "iopub.status.idle": "2022-10-20T18:47:50.550863Z",
     "shell.execute_reply": "2022-10-20T18:47:50.549887Z"
    },
    "papermill": {
     "duration": 57.356352,
     "end_time": "2022-10-20T18:47:50.553321",
     "exception": false,
     "start_time": "2022-10-20T18:46:53.196969",
     "status": "completed"
    },
    "tags": []
   },
   "outputs": [],
   "source": [
    "new_test_sents=[]\n",
    "for i in test_df['Text']:\n",
    "    tokens,ent_tokens,ent_labels=get_entities(i)\n",
    "    pos_tag_tokens=get_pos_tags(i)\n",
    "    new_tokens=[]\n",
    "    for token in tokens:\n",
    "        if ((token not in ent_tokens) & (token in pos_tag_tokens)):\n",
    "            continue\n",
    "        else:\n",
    "            new_tokens.append(token)\n",
    "    new_text=' '.join(new_tokens).strip()\n",
    "    new_test_sents.append(new_text)"
   ]
  },
  {
   "cell_type": "code",
   "execution_count": 15,
   "id": "4b796146",
   "metadata": {
    "execution": {
     "iopub.execute_input": "2022-10-20T18:47:50.576881Z",
     "iopub.status.busy": "2022-10-20T18:47:50.576588Z",
     "iopub.status.idle": "2022-10-20T18:50:19.159401Z",
     "shell.execute_reply": "2022-10-20T18:50:19.157881Z"
    },
    "papermill": {
     "duration": 148.596932,
     "end_time": "2022-10-20T18:50:19.161622",
     "exception": false,
     "start_time": "2022-10-20T18:47:50.564690",
     "status": "completed"
    },
    "tags": []
   },
   "outputs": [
    {
     "data": {
      "application/vnd.jupyter.widget-view+json": {
       "model_id": "86388e54ac17495199a4673fcddfb475",
       "version_major": 2,
       "version_minor": 0
      },
      "text/plain": [
       "Downloading:   0%|          | 0.00/878k [00:00<?, ?B/s]"
      ]
     },
     "metadata": {},
     "output_type": "display_data"
    },
    {
     "data": {
      "application/vnd.jupyter.widget-view+json": {
       "model_id": "641df1b8ea7b46a2a54dd49d54dfd69d",
       "version_major": 2,
       "version_minor": 0
      },
      "text/plain": [
       "Downloading:   0%|          | 0.00/446k [00:00<?, ?B/s]"
      ]
     },
     "metadata": {},
     "output_type": "display_data"
    },
    {
     "data": {
      "application/vnd.jupyter.widget-view+json": {
       "model_id": "2a0c14ef541e4b61a1b40e667f1ab3e9",
       "version_major": 2,
       "version_minor": 0
      },
      "text/plain": [
       "Downloading:   0%|          | 0.00/482 [00:00<?, ?B/s]"
      ]
     },
     "metadata": {},
     "output_type": "display_data"
    },
    {
     "data": {
      "application/vnd.jupyter.widget-view+json": {
       "model_id": "0244c907d60f493cba5537be350dbf31",
       "version_major": 2,
       "version_minor": 0
      },
      "text/plain": [
       "Downloading:   0%|          | 0.00/1.33G [00:00<?, ?B/s]"
      ]
     },
     "metadata": {},
     "output_type": "display_data"
    },
    {
     "name": "stderr",
     "output_type": "stream",
     "text": [
      "Some weights of the model checkpoint at roberta-large were not used when initializing RobertaModel: ['lm_head.dense.bias', 'lm_head.bias', 'lm_head.layer_norm.weight', 'lm_head.dense.weight', 'lm_head.layer_norm.bias', 'lm_head.decoder.weight']\n",
      "- This IS expected if you are initializing RobertaModel from the checkpoint of a model trained on another task or with another architecture (e.g. initializing a BertForSequenceClassification model from a BertForPreTraining model).\n",
      "- This IS NOT expected if you are initializing RobertaModel from the checkpoint of a model that you expect to be exactly identical (initializing a BertForSequenceClassification model from a BertForSequenceClassification model).\n"
     ]
    }
   ],
   "source": [
    "from transformers import RobertaTokenizer, RobertaModel\n",
    "import torch\n",
    "\n",
    "tokenizer = RobertaTokenizer.from_pretrained(\"roberta-large\")\n",
    "model = RobertaModel.from_pretrained(\"roberta-large\")"
   ]
  },
  {
   "cell_type": "code",
   "execution_count": 16,
   "id": "7c5a9c41",
   "metadata": {
    "execution": {
     "iopub.execute_input": "2022-10-20T18:50:19.186463Z",
     "iopub.status.busy": "2022-10-20T18:50:19.186145Z",
     "iopub.status.idle": "2022-10-20T18:50:24.909950Z",
     "shell.execute_reply": "2022-10-20T18:50:24.909042Z"
    },
    "papermill": {
     "duration": 5.738638,
     "end_time": "2022-10-20T18:50:24.912190",
     "exception": false,
     "start_time": "2022-10-20T18:50:19.173552",
     "status": "completed"
    },
    "tags": []
   },
   "outputs": [
    {
     "data": {
      "text/plain": [
       "RobertaModel(\n",
       "  (embeddings): RobertaEmbeddings(\n",
       "    (word_embeddings): Embedding(50265, 1024, padding_idx=1)\n",
       "    (position_embeddings): Embedding(514, 1024, padding_idx=1)\n",
       "    (token_type_embeddings): Embedding(1, 1024)\n",
       "    (LayerNorm): LayerNorm((1024,), eps=1e-05, elementwise_affine=True)\n",
       "    (dropout): Dropout(p=0.1, inplace=False)\n",
       "  )\n",
       "  (encoder): RobertaEncoder(\n",
       "    (layer): ModuleList(\n",
       "      (0): RobertaLayer(\n",
       "        (attention): RobertaAttention(\n",
       "          (self): RobertaSelfAttention(\n",
       "            (query): Linear(in_features=1024, out_features=1024, bias=True)\n",
       "            (key): Linear(in_features=1024, out_features=1024, bias=True)\n",
       "            (value): Linear(in_features=1024, out_features=1024, bias=True)\n",
       "            (dropout): Dropout(p=0.1, inplace=False)\n",
       "          )\n",
       "          (output): RobertaSelfOutput(\n",
       "            (dense): Linear(in_features=1024, out_features=1024, bias=True)\n",
       "            (LayerNorm): LayerNorm((1024,), eps=1e-05, elementwise_affine=True)\n",
       "            (dropout): Dropout(p=0.1, inplace=False)\n",
       "          )\n",
       "        )\n",
       "        (intermediate): RobertaIntermediate(\n",
       "          (dense): Linear(in_features=1024, out_features=4096, bias=True)\n",
       "          (intermediate_act_fn): GELUActivation()\n",
       "        )\n",
       "        (output): RobertaOutput(\n",
       "          (dense): Linear(in_features=4096, out_features=1024, bias=True)\n",
       "          (LayerNorm): LayerNorm((1024,), eps=1e-05, elementwise_affine=True)\n",
       "          (dropout): Dropout(p=0.1, inplace=False)\n",
       "        )\n",
       "      )\n",
       "      (1): RobertaLayer(\n",
       "        (attention): RobertaAttention(\n",
       "          (self): RobertaSelfAttention(\n",
       "            (query): Linear(in_features=1024, out_features=1024, bias=True)\n",
       "            (key): Linear(in_features=1024, out_features=1024, bias=True)\n",
       "            (value): Linear(in_features=1024, out_features=1024, bias=True)\n",
       "            (dropout): Dropout(p=0.1, inplace=False)\n",
       "          )\n",
       "          (output): RobertaSelfOutput(\n",
       "            (dense): Linear(in_features=1024, out_features=1024, bias=True)\n",
       "            (LayerNorm): LayerNorm((1024,), eps=1e-05, elementwise_affine=True)\n",
       "            (dropout): Dropout(p=0.1, inplace=False)\n",
       "          )\n",
       "        )\n",
       "        (intermediate): RobertaIntermediate(\n",
       "          (dense): Linear(in_features=1024, out_features=4096, bias=True)\n",
       "          (intermediate_act_fn): GELUActivation()\n",
       "        )\n",
       "        (output): RobertaOutput(\n",
       "          (dense): Linear(in_features=4096, out_features=1024, bias=True)\n",
       "          (LayerNorm): LayerNorm((1024,), eps=1e-05, elementwise_affine=True)\n",
       "          (dropout): Dropout(p=0.1, inplace=False)\n",
       "        )\n",
       "      )\n",
       "      (2): RobertaLayer(\n",
       "        (attention): RobertaAttention(\n",
       "          (self): RobertaSelfAttention(\n",
       "            (query): Linear(in_features=1024, out_features=1024, bias=True)\n",
       "            (key): Linear(in_features=1024, out_features=1024, bias=True)\n",
       "            (value): Linear(in_features=1024, out_features=1024, bias=True)\n",
       "            (dropout): Dropout(p=0.1, inplace=False)\n",
       "          )\n",
       "          (output): RobertaSelfOutput(\n",
       "            (dense): Linear(in_features=1024, out_features=1024, bias=True)\n",
       "            (LayerNorm): LayerNorm((1024,), eps=1e-05, elementwise_affine=True)\n",
       "            (dropout): Dropout(p=0.1, inplace=False)\n",
       "          )\n",
       "        )\n",
       "        (intermediate): RobertaIntermediate(\n",
       "          (dense): Linear(in_features=1024, out_features=4096, bias=True)\n",
       "          (intermediate_act_fn): GELUActivation()\n",
       "        )\n",
       "        (output): RobertaOutput(\n",
       "          (dense): Linear(in_features=4096, out_features=1024, bias=True)\n",
       "          (LayerNorm): LayerNorm((1024,), eps=1e-05, elementwise_affine=True)\n",
       "          (dropout): Dropout(p=0.1, inplace=False)\n",
       "        )\n",
       "      )\n",
       "      (3): RobertaLayer(\n",
       "        (attention): RobertaAttention(\n",
       "          (self): RobertaSelfAttention(\n",
       "            (query): Linear(in_features=1024, out_features=1024, bias=True)\n",
       "            (key): Linear(in_features=1024, out_features=1024, bias=True)\n",
       "            (value): Linear(in_features=1024, out_features=1024, bias=True)\n",
       "            (dropout): Dropout(p=0.1, inplace=False)\n",
       "          )\n",
       "          (output): RobertaSelfOutput(\n",
       "            (dense): Linear(in_features=1024, out_features=1024, bias=True)\n",
       "            (LayerNorm): LayerNorm((1024,), eps=1e-05, elementwise_affine=True)\n",
       "            (dropout): Dropout(p=0.1, inplace=False)\n",
       "          )\n",
       "        )\n",
       "        (intermediate): RobertaIntermediate(\n",
       "          (dense): Linear(in_features=1024, out_features=4096, bias=True)\n",
       "          (intermediate_act_fn): GELUActivation()\n",
       "        )\n",
       "        (output): RobertaOutput(\n",
       "          (dense): Linear(in_features=4096, out_features=1024, bias=True)\n",
       "          (LayerNorm): LayerNorm((1024,), eps=1e-05, elementwise_affine=True)\n",
       "          (dropout): Dropout(p=0.1, inplace=False)\n",
       "        )\n",
       "      )\n",
       "      (4): RobertaLayer(\n",
       "        (attention): RobertaAttention(\n",
       "          (self): RobertaSelfAttention(\n",
       "            (query): Linear(in_features=1024, out_features=1024, bias=True)\n",
       "            (key): Linear(in_features=1024, out_features=1024, bias=True)\n",
       "            (value): Linear(in_features=1024, out_features=1024, bias=True)\n",
       "            (dropout): Dropout(p=0.1, inplace=False)\n",
       "          )\n",
       "          (output): RobertaSelfOutput(\n",
       "            (dense): Linear(in_features=1024, out_features=1024, bias=True)\n",
       "            (LayerNorm): LayerNorm((1024,), eps=1e-05, elementwise_affine=True)\n",
       "            (dropout): Dropout(p=0.1, inplace=False)\n",
       "          )\n",
       "        )\n",
       "        (intermediate): RobertaIntermediate(\n",
       "          (dense): Linear(in_features=1024, out_features=4096, bias=True)\n",
       "          (intermediate_act_fn): GELUActivation()\n",
       "        )\n",
       "        (output): RobertaOutput(\n",
       "          (dense): Linear(in_features=4096, out_features=1024, bias=True)\n",
       "          (LayerNorm): LayerNorm((1024,), eps=1e-05, elementwise_affine=True)\n",
       "          (dropout): Dropout(p=0.1, inplace=False)\n",
       "        )\n",
       "      )\n",
       "      (5): RobertaLayer(\n",
       "        (attention): RobertaAttention(\n",
       "          (self): RobertaSelfAttention(\n",
       "            (query): Linear(in_features=1024, out_features=1024, bias=True)\n",
       "            (key): Linear(in_features=1024, out_features=1024, bias=True)\n",
       "            (value): Linear(in_features=1024, out_features=1024, bias=True)\n",
       "            (dropout): Dropout(p=0.1, inplace=False)\n",
       "          )\n",
       "          (output): RobertaSelfOutput(\n",
       "            (dense): Linear(in_features=1024, out_features=1024, bias=True)\n",
       "            (LayerNorm): LayerNorm((1024,), eps=1e-05, elementwise_affine=True)\n",
       "            (dropout): Dropout(p=0.1, inplace=False)\n",
       "          )\n",
       "        )\n",
       "        (intermediate): RobertaIntermediate(\n",
       "          (dense): Linear(in_features=1024, out_features=4096, bias=True)\n",
       "          (intermediate_act_fn): GELUActivation()\n",
       "        )\n",
       "        (output): RobertaOutput(\n",
       "          (dense): Linear(in_features=4096, out_features=1024, bias=True)\n",
       "          (LayerNorm): LayerNorm((1024,), eps=1e-05, elementwise_affine=True)\n",
       "          (dropout): Dropout(p=0.1, inplace=False)\n",
       "        )\n",
       "      )\n",
       "      (6): RobertaLayer(\n",
       "        (attention): RobertaAttention(\n",
       "          (self): RobertaSelfAttention(\n",
       "            (query): Linear(in_features=1024, out_features=1024, bias=True)\n",
       "            (key): Linear(in_features=1024, out_features=1024, bias=True)\n",
       "            (value): Linear(in_features=1024, out_features=1024, bias=True)\n",
       "            (dropout): Dropout(p=0.1, inplace=False)\n",
       "          )\n",
       "          (output): RobertaSelfOutput(\n",
       "            (dense): Linear(in_features=1024, out_features=1024, bias=True)\n",
       "            (LayerNorm): LayerNorm((1024,), eps=1e-05, elementwise_affine=True)\n",
       "            (dropout): Dropout(p=0.1, inplace=False)\n",
       "          )\n",
       "        )\n",
       "        (intermediate): RobertaIntermediate(\n",
       "          (dense): Linear(in_features=1024, out_features=4096, bias=True)\n",
       "          (intermediate_act_fn): GELUActivation()\n",
       "        )\n",
       "        (output): RobertaOutput(\n",
       "          (dense): Linear(in_features=4096, out_features=1024, bias=True)\n",
       "          (LayerNorm): LayerNorm((1024,), eps=1e-05, elementwise_affine=True)\n",
       "          (dropout): Dropout(p=0.1, inplace=False)\n",
       "        )\n",
       "      )\n",
       "      (7): RobertaLayer(\n",
       "        (attention): RobertaAttention(\n",
       "          (self): RobertaSelfAttention(\n",
       "            (query): Linear(in_features=1024, out_features=1024, bias=True)\n",
       "            (key): Linear(in_features=1024, out_features=1024, bias=True)\n",
       "            (value): Linear(in_features=1024, out_features=1024, bias=True)\n",
       "            (dropout): Dropout(p=0.1, inplace=False)\n",
       "          )\n",
       "          (output): RobertaSelfOutput(\n",
       "            (dense): Linear(in_features=1024, out_features=1024, bias=True)\n",
       "            (LayerNorm): LayerNorm((1024,), eps=1e-05, elementwise_affine=True)\n",
       "            (dropout): Dropout(p=0.1, inplace=False)\n",
       "          )\n",
       "        )\n",
       "        (intermediate): RobertaIntermediate(\n",
       "          (dense): Linear(in_features=1024, out_features=4096, bias=True)\n",
       "          (intermediate_act_fn): GELUActivation()\n",
       "        )\n",
       "        (output): RobertaOutput(\n",
       "          (dense): Linear(in_features=4096, out_features=1024, bias=True)\n",
       "          (LayerNorm): LayerNorm((1024,), eps=1e-05, elementwise_affine=True)\n",
       "          (dropout): Dropout(p=0.1, inplace=False)\n",
       "        )\n",
       "      )\n",
       "      (8): RobertaLayer(\n",
       "        (attention): RobertaAttention(\n",
       "          (self): RobertaSelfAttention(\n",
       "            (query): Linear(in_features=1024, out_features=1024, bias=True)\n",
       "            (key): Linear(in_features=1024, out_features=1024, bias=True)\n",
       "            (value): Linear(in_features=1024, out_features=1024, bias=True)\n",
       "            (dropout): Dropout(p=0.1, inplace=False)\n",
       "          )\n",
       "          (output): RobertaSelfOutput(\n",
       "            (dense): Linear(in_features=1024, out_features=1024, bias=True)\n",
       "            (LayerNorm): LayerNorm((1024,), eps=1e-05, elementwise_affine=True)\n",
       "            (dropout): Dropout(p=0.1, inplace=False)\n",
       "          )\n",
       "        )\n",
       "        (intermediate): RobertaIntermediate(\n",
       "          (dense): Linear(in_features=1024, out_features=4096, bias=True)\n",
       "          (intermediate_act_fn): GELUActivation()\n",
       "        )\n",
       "        (output): RobertaOutput(\n",
       "          (dense): Linear(in_features=4096, out_features=1024, bias=True)\n",
       "          (LayerNorm): LayerNorm((1024,), eps=1e-05, elementwise_affine=True)\n",
       "          (dropout): Dropout(p=0.1, inplace=False)\n",
       "        )\n",
       "      )\n",
       "      (9): RobertaLayer(\n",
       "        (attention): RobertaAttention(\n",
       "          (self): RobertaSelfAttention(\n",
       "            (query): Linear(in_features=1024, out_features=1024, bias=True)\n",
       "            (key): Linear(in_features=1024, out_features=1024, bias=True)\n",
       "            (value): Linear(in_features=1024, out_features=1024, bias=True)\n",
       "            (dropout): Dropout(p=0.1, inplace=False)\n",
       "          )\n",
       "          (output): RobertaSelfOutput(\n",
       "            (dense): Linear(in_features=1024, out_features=1024, bias=True)\n",
       "            (LayerNorm): LayerNorm((1024,), eps=1e-05, elementwise_affine=True)\n",
       "            (dropout): Dropout(p=0.1, inplace=False)\n",
       "          )\n",
       "        )\n",
       "        (intermediate): RobertaIntermediate(\n",
       "          (dense): Linear(in_features=1024, out_features=4096, bias=True)\n",
       "          (intermediate_act_fn): GELUActivation()\n",
       "        )\n",
       "        (output): RobertaOutput(\n",
       "          (dense): Linear(in_features=4096, out_features=1024, bias=True)\n",
       "          (LayerNorm): LayerNorm((1024,), eps=1e-05, elementwise_affine=True)\n",
       "          (dropout): Dropout(p=0.1, inplace=False)\n",
       "        )\n",
       "      )\n",
       "      (10): RobertaLayer(\n",
       "        (attention): RobertaAttention(\n",
       "          (self): RobertaSelfAttention(\n",
       "            (query): Linear(in_features=1024, out_features=1024, bias=True)\n",
       "            (key): Linear(in_features=1024, out_features=1024, bias=True)\n",
       "            (value): Linear(in_features=1024, out_features=1024, bias=True)\n",
       "            (dropout): Dropout(p=0.1, inplace=False)\n",
       "          )\n",
       "          (output): RobertaSelfOutput(\n",
       "            (dense): Linear(in_features=1024, out_features=1024, bias=True)\n",
       "            (LayerNorm): LayerNorm((1024,), eps=1e-05, elementwise_affine=True)\n",
       "            (dropout): Dropout(p=0.1, inplace=False)\n",
       "          )\n",
       "        )\n",
       "        (intermediate): RobertaIntermediate(\n",
       "          (dense): Linear(in_features=1024, out_features=4096, bias=True)\n",
       "          (intermediate_act_fn): GELUActivation()\n",
       "        )\n",
       "        (output): RobertaOutput(\n",
       "          (dense): Linear(in_features=4096, out_features=1024, bias=True)\n",
       "          (LayerNorm): LayerNorm((1024,), eps=1e-05, elementwise_affine=True)\n",
       "          (dropout): Dropout(p=0.1, inplace=False)\n",
       "        )\n",
       "      )\n",
       "      (11): RobertaLayer(\n",
       "        (attention): RobertaAttention(\n",
       "          (self): RobertaSelfAttention(\n",
       "            (query): Linear(in_features=1024, out_features=1024, bias=True)\n",
       "            (key): Linear(in_features=1024, out_features=1024, bias=True)\n",
       "            (value): Linear(in_features=1024, out_features=1024, bias=True)\n",
       "            (dropout): Dropout(p=0.1, inplace=False)\n",
       "          )\n",
       "          (output): RobertaSelfOutput(\n",
       "            (dense): Linear(in_features=1024, out_features=1024, bias=True)\n",
       "            (LayerNorm): LayerNorm((1024,), eps=1e-05, elementwise_affine=True)\n",
       "            (dropout): Dropout(p=0.1, inplace=False)\n",
       "          )\n",
       "        )\n",
       "        (intermediate): RobertaIntermediate(\n",
       "          (dense): Linear(in_features=1024, out_features=4096, bias=True)\n",
       "          (intermediate_act_fn): GELUActivation()\n",
       "        )\n",
       "        (output): RobertaOutput(\n",
       "          (dense): Linear(in_features=4096, out_features=1024, bias=True)\n",
       "          (LayerNorm): LayerNorm((1024,), eps=1e-05, elementwise_affine=True)\n",
       "          (dropout): Dropout(p=0.1, inplace=False)\n",
       "        )\n",
       "      )\n",
       "      (12): RobertaLayer(\n",
       "        (attention): RobertaAttention(\n",
       "          (self): RobertaSelfAttention(\n",
       "            (query): Linear(in_features=1024, out_features=1024, bias=True)\n",
       "            (key): Linear(in_features=1024, out_features=1024, bias=True)\n",
       "            (value): Linear(in_features=1024, out_features=1024, bias=True)\n",
       "            (dropout): Dropout(p=0.1, inplace=False)\n",
       "          )\n",
       "          (output): RobertaSelfOutput(\n",
       "            (dense): Linear(in_features=1024, out_features=1024, bias=True)\n",
       "            (LayerNorm): LayerNorm((1024,), eps=1e-05, elementwise_affine=True)\n",
       "            (dropout): Dropout(p=0.1, inplace=False)\n",
       "          )\n",
       "        )\n",
       "        (intermediate): RobertaIntermediate(\n",
       "          (dense): Linear(in_features=1024, out_features=4096, bias=True)\n",
       "          (intermediate_act_fn): GELUActivation()\n",
       "        )\n",
       "        (output): RobertaOutput(\n",
       "          (dense): Linear(in_features=4096, out_features=1024, bias=True)\n",
       "          (LayerNorm): LayerNorm((1024,), eps=1e-05, elementwise_affine=True)\n",
       "          (dropout): Dropout(p=0.1, inplace=False)\n",
       "        )\n",
       "      )\n",
       "      (13): RobertaLayer(\n",
       "        (attention): RobertaAttention(\n",
       "          (self): RobertaSelfAttention(\n",
       "            (query): Linear(in_features=1024, out_features=1024, bias=True)\n",
       "            (key): Linear(in_features=1024, out_features=1024, bias=True)\n",
       "            (value): Linear(in_features=1024, out_features=1024, bias=True)\n",
       "            (dropout): Dropout(p=0.1, inplace=False)\n",
       "          )\n",
       "          (output): RobertaSelfOutput(\n",
       "            (dense): Linear(in_features=1024, out_features=1024, bias=True)\n",
       "            (LayerNorm): LayerNorm((1024,), eps=1e-05, elementwise_affine=True)\n",
       "            (dropout): Dropout(p=0.1, inplace=False)\n",
       "          )\n",
       "        )\n",
       "        (intermediate): RobertaIntermediate(\n",
       "          (dense): Linear(in_features=1024, out_features=4096, bias=True)\n",
       "          (intermediate_act_fn): GELUActivation()\n",
       "        )\n",
       "        (output): RobertaOutput(\n",
       "          (dense): Linear(in_features=4096, out_features=1024, bias=True)\n",
       "          (LayerNorm): LayerNorm((1024,), eps=1e-05, elementwise_affine=True)\n",
       "          (dropout): Dropout(p=0.1, inplace=False)\n",
       "        )\n",
       "      )\n",
       "      (14): RobertaLayer(\n",
       "        (attention): RobertaAttention(\n",
       "          (self): RobertaSelfAttention(\n",
       "            (query): Linear(in_features=1024, out_features=1024, bias=True)\n",
       "            (key): Linear(in_features=1024, out_features=1024, bias=True)\n",
       "            (value): Linear(in_features=1024, out_features=1024, bias=True)\n",
       "            (dropout): Dropout(p=0.1, inplace=False)\n",
       "          )\n",
       "          (output): RobertaSelfOutput(\n",
       "            (dense): Linear(in_features=1024, out_features=1024, bias=True)\n",
       "            (LayerNorm): LayerNorm((1024,), eps=1e-05, elementwise_affine=True)\n",
       "            (dropout): Dropout(p=0.1, inplace=False)\n",
       "          )\n",
       "        )\n",
       "        (intermediate): RobertaIntermediate(\n",
       "          (dense): Linear(in_features=1024, out_features=4096, bias=True)\n",
       "          (intermediate_act_fn): GELUActivation()\n",
       "        )\n",
       "        (output): RobertaOutput(\n",
       "          (dense): Linear(in_features=4096, out_features=1024, bias=True)\n",
       "          (LayerNorm): LayerNorm((1024,), eps=1e-05, elementwise_affine=True)\n",
       "          (dropout): Dropout(p=0.1, inplace=False)\n",
       "        )\n",
       "      )\n",
       "      (15): RobertaLayer(\n",
       "        (attention): RobertaAttention(\n",
       "          (self): RobertaSelfAttention(\n",
       "            (query): Linear(in_features=1024, out_features=1024, bias=True)\n",
       "            (key): Linear(in_features=1024, out_features=1024, bias=True)\n",
       "            (value): Linear(in_features=1024, out_features=1024, bias=True)\n",
       "            (dropout): Dropout(p=0.1, inplace=False)\n",
       "          )\n",
       "          (output): RobertaSelfOutput(\n",
       "            (dense): Linear(in_features=1024, out_features=1024, bias=True)\n",
       "            (LayerNorm): LayerNorm((1024,), eps=1e-05, elementwise_affine=True)\n",
       "            (dropout): Dropout(p=0.1, inplace=False)\n",
       "          )\n",
       "        )\n",
       "        (intermediate): RobertaIntermediate(\n",
       "          (dense): Linear(in_features=1024, out_features=4096, bias=True)\n",
       "          (intermediate_act_fn): GELUActivation()\n",
       "        )\n",
       "        (output): RobertaOutput(\n",
       "          (dense): Linear(in_features=4096, out_features=1024, bias=True)\n",
       "          (LayerNorm): LayerNorm((1024,), eps=1e-05, elementwise_affine=True)\n",
       "          (dropout): Dropout(p=0.1, inplace=False)\n",
       "        )\n",
       "      )\n",
       "      (16): RobertaLayer(\n",
       "        (attention): RobertaAttention(\n",
       "          (self): RobertaSelfAttention(\n",
       "            (query): Linear(in_features=1024, out_features=1024, bias=True)\n",
       "            (key): Linear(in_features=1024, out_features=1024, bias=True)\n",
       "            (value): Linear(in_features=1024, out_features=1024, bias=True)\n",
       "            (dropout): Dropout(p=0.1, inplace=False)\n",
       "          )\n",
       "          (output): RobertaSelfOutput(\n",
       "            (dense): Linear(in_features=1024, out_features=1024, bias=True)\n",
       "            (LayerNorm): LayerNorm((1024,), eps=1e-05, elementwise_affine=True)\n",
       "            (dropout): Dropout(p=0.1, inplace=False)\n",
       "          )\n",
       "        )\n",
       "        (intermediate): RobertaIntermediate(\n",
       "          (dense): Linear(in_features=1024, out_features=4096, bias=True)\n",
       "          (intermediate_act_fn): GELUActivation()\n",
       "        )\n",
       "        (output): RobertaOutput(\n",
       "          (dense): Linear(in_features=4096, out_features=1024, bias=True)\n",
       "          (LayerNorm): LayerNorm((1024,), eps=1e-05, elementwise_affine=True)\n",
       "          (dropout): Dropout(p=0.1, inplace=False)\n",
       "        )\n",
       "      )\n",
       "      (17): RobertaLayer(\n",
       "        (attention): RobertaAttention(\n",
       "          (self): RobertaSelfAttention(\n",
       "            (query): Linear(in_features=1024, out_features=1024, bias=True)\n",
       "            (key): Linear(in_features=1024, out_features=1024, bias=True)\n",
       "            (value): Linear(in_features=1024, out_features=1024, bias=True)\n",
       "            (dropout): Dropout(p=0.1, inplace=False)\n",
       "          )\n",
       "          (output): RobertaSelfOutput(\n",
       "            (dense): Linear(in_features=1024, out_features=1024, bias=True)\n",
       "            (LayerNorm): LayerNorm((1024,), eps=1e-05, elementwise_affine=True)\n",
       "            (dropout): Dropout(p=0.1, inplace=False)\n",
       "          )\n",
       "        )\n",
       "        (intermediate): RobertaIntermediate(\n",
       "          (dense): Linear(in_features=1024, out_features=4096, bias=True)\n",
       "          (intermediate_act_fn): GELUActivation()\n",
       "        )\n",
       "        (output): RobertaOutput(\n",
       "          (dense): Linear(in_features=4096, out_features=1024, bias=True)\n",
       "          (LayerNorm): LayerNorm((1024,), eps=1e-05, elementwise_affine=True)\n",
       "          (dropout): Dropout(p=0.1, inplace=False)\n",
       "        )\n",
       "      )\n",
       "      (18): RobertaLayer(\n",
       "        (attention): RobertaAttention(\n",
       "          (self): RobertaSelfAttention(\n",
       "            (query): Linear(in_features=1024, out_features=1024, bias=True)\n",
       "            (key): Linear(in_features=1024, out_features=1024, bias=True)\n",
       "            (value): Linear(in_features=1024, out_features=1024, bias=True)\n",
       "            (dropout): Dropout(p=0.1, inplace=False)\n",
       "          )\n",
       "          (output): RobertaSelfOutput(\n",
       "            (dense): Linear(in_features=1024, out_features=1024, bias=True)\n",
       "            (LayerNorm): LayerNorm((1024,), eps=1e-05, elementwise_affine=True)\n",
       "            (dropout): Dropout(p=0.1, inplace=False)\n",
       "          )\n",
       "        )\n",
       "        (intermediate): RobertaIntermediate(\n",
       "          (dense): Linear(in_features=1024, out_features=4096, bias=True)\n",
       "          (intermediate_act_fn): GELUActivation()\n",
       "        )\n",
       "        (output): RobertaOutput(\n",
       "          (dense): Linear(in_features=4096, out_features=1024, bias=True)\n",
       "          (LayerNorm): LayerNorm((1024,), eps=1e-05, elementwise_affine=True)\n",
       "          (dropout): Dropout(p=0.1, inplace=False)\n",
       "        )\n",
       "      )\n",
       "      (19): RobertaLayer(\n",
       "        (attention): RobertaAttention(\n",
       "          (self): RobertaSelfAttention(\n",
       "            (query): Linear(in_features=1024, out_features=1024, bias=True)\n",
       "            (key): Linear(in_features=1024, out_features=1024, bias=True)\n",
       "            (value): Linear(in_features=1024, out_features=1024, bias=True)\n",
       "            (dropout): Dropout(p=0.1, inplace=False)\n",
       "          )\n",
       "          (output): RobertaSelfOutput(\n",
       "            (dense): Linear(in_features=1024, out_features=1024, bias=True)\n",
       "            (LayerNorm): LayerNorm((1024,), eps=1e-05, elementwise_affine=True)\n",
       "            (dropout): Dropout(p=0.1, inplace=False)\n",
       "          )\n",
       "        )\n",
       "        (intermediate): RobertaIntermediate(\n",
       "          (dense): Linear(in_features=1024, out_features=4096, bias=True)\n",
       "          (intermediate_act_fn): GELUActivation()\n",
       "        )\n",
       "        (output): RobertaOutput(\n",
       "          (dense): Linear(in_features=4096, out_features=1024, bias=True)\n",
       "          (LayerNorm): LayerNorm((1024,), eps=1e-05, elementwise_affine=True)\n",
       "          (dropout): Dropout(p=0.1, inplace=False)\n",
       "        )\n",
       "      )\n",
       "      (20): RobertaLayer(\n",
       "        (attention): RobertaAttention(\n",
       "          (self): RobertaSelfAttention(\n",
       "            (query): Linear(in_features=1024, out_features=1024, bias=True)\n",
       "            (key): Linear(in_features=1024, out_features=1024, bias=True)\n",
       "            (value): Linear(in_features=1024, out_features=1024, bias=True)\n",
       "            (dropout): Dropout(p=0.1, inplace=False)\n",
       "          )\n",
       "          (output): RobertaSelfOutput(\n",
       "            (dense): Linear(in_features=1024, out_features=1024, bias=True)\n",
       "            (LayerNorm): LayerNorm((1024,), eps=1e-05, elementwise_affine=True)\n",
       "            (dropout): Dropout(p=0.1, inplace=False)\n",
       "          )\n",
       "        )\n",
       "        (intermediate): RobertaIntermediate(\n",
       "          (dense): Linear(in_features=1024, out_features=4096, bias=True)\n",
       "          (intermediate_act_fn): GELUActivation()\n",
       "        )\n",
       "        (output): RobertaOutput(\n",
       "          (dense): Linear(in_features=4096, out_features=1024, bias=True)\n",
       "          (LayerNorm): LayerNorm((1024,), eps=1e-05, elementwise_affine=True)\n",
       "          (dropout): Dropout(p=0.1, inplace=False)\n",
       "        )\n",
       "      )\n",
       "      (21): RobertaLayer(\n",
       "        (attention): RobertaAttention(\n",
       "          (self): RobertaSelfAttention(\n",
       "            (query): Linear(in_features=1024, out_features=1024, bias=True)\n",
       "            (key): Linear(in_features=1024, out_features=1024, bias=True)\n",
       "            (value): Linear(in_features=1024, out_features=1024, bias=True)\n",
       "            (dropout): Dropout(p=0.1, inplace=False)\n",
       "          )\n",
       "          (output): RobertaSelfOutput(\n",
       "            (dense): Linear(in_features=1024, out_features=1024, bias=True)\n",
       "            (LayerNorm): LayerNorm((1024,), eps=1e-05, elementwise_affine=True)\n",
       "            (dropout): Dropout(p=0.1, inplace=False)\n",
       "          )\n",
       "        )\n",
       "        (intermediate): RobertaIntermediate(\n",
       "          (dense): Linear(in_features=1024, out_features=4096, bias=True)\n",
       "          (intermediate_act_fn): GELUActivation()\n",
       "        )\n",
       "        (output): RobertaOutput(\n",
       "          (dense): Linear(in_features=4096, out_features=1024, bias=True)\n",
       "          (LayerNorm): LayerNorm((1024,), eps=1e-05, elementwise_affine=True)\n",
       "          (dropout): Dropout(p=0.1, inplace=False)\n",
       "        )\n",
       "      )\n",
       "      (22): RobertaLayer(\n",
       "        (attention): RobertaAttention(\n",
       "          (self): RobertaSelfAttention(\n",
       "            (query): Linear(in_features=1024, out_features=1024, bias=True)\n",
       "            (key): Linear(in_features=1024, out_features=1024, bias=True)\n",
       "            (value): Linear(in_features=1024, out_features=1024, bias=True)\n",
       "            (dropout): Dropout(p=0.1, inplace=False)\n",
       "          )\n",
       "          (output): RobertaSelfOutput(\n",
       "            (dense): Linear(in_features=1024, out_features=1024, bias=True)\n",
       "            (LayerNorm): LayerNorm((1024,), eps=1e-05, elementwise_affine=True)\n",
       "            (dropout): Dropout(p=0.1, inplace=False)\n",
       "          )\n",
       "        )\n",
       "        (intermediate): RobertaIntermediate(\n",
       "          (dense): Linear(in_features=1024, out_features=4096, bias=True)\n",
       "          (intermediate_act_fn): GELUActivation()\n",
       "        )\n",
       "        (output): RobertaOutput(\n",
       "          (dense): Linear(in_features=4096, out_features=1024, bias=True)\n",
       "          (LayerNorm): LayerNorm((1024,), eps=1e-05, elementwise_affine=True)\n",
       "          (dropout): Dropout(p=0.1, inplace=False)\n",
       "        )\n",
       "      )\n",
       "      (23): RobertaLayer(\n",
       "        (attention): RobertaAttention(\n",
       "          (self): RobertaSelfAttention(\n",
       "            (query): Linear(in_features=1024, out_features=1024, bias=True)\n",
       "            (key): Linear(in_features=1024, out_features=1024, bias=True)\n",
       "            (value): Linear(in_features=1024, out_features=1024, bias=True)\n",
       "            (dropout): Dropout(p=0.1, inplace=False)\n",
       "          )\n",
       "          (output): RobertaSelfOutput(\n",
       "            (dense): Linear(in_features=1024, out_features=1024, bias=True)\n",
       "            (LayerNorm): LayerNorm((1024,), eps=1e-05, elementwise_affine=True)\n",
       "            (dropout): Dropout(p=0.1, inplace=False)\n",
       "          )\n",
       "        )\n",
       "        (intermediate): RobertaIntermediate(\n",
       "          (dense): Linear(in_features=1024, out_features=4096, bias=True)\n",
       "          (intermediate_act_fn): GELUActivation()\n",
       "        )\n",
       "        (output): RobertaOutput(\n",
       "          (dense): Linear(in_features=4096, out_features=1024, bias=True)\n",
       "          (LayerNorm): LayerNorm((1024,), eps=1e-05, elementwise_affine=True)\n",
       "          (dropout): Dropout(p=0.1, inplace=False)\n",
       "        )\n",
       "      )\n",
       "    )\n",
       "  )\n",
       "  (pooler): RobertaPooler(\n",
       "    (dense): Linear(in_features=1024, out_features=1024, bias=True)\n",
       "    (activation): Tanh()\n",
       "  )\n",
       ")"
      ]
     },
     "execution_count": 16,
     "metadata": {},
     "output_type": "execute_result"
    }
   ],
   "source": [
    "model.to('cuda:0')"
   ]
  },
  {
   "cell_type": "code",
   "execution_count": 17,
   "id": "5600f77c",
   "metadata": {
    "execution": {
     "iopub.execute_input": "2022-10-20T18:50:24.938074Z",
     "iopub.status.busy": "2022-10-20T18:50:24.937787Z",
     "iopub.status.idle": "2022-10-20T18:50:24.943288Z",
     "shell.execute_reply": "2022-10-20T18:50:24.942216Z"
    },
    "papermill": {
     "duration": 0.020896,
     "end_time": "2022-10-20T18:50:24.945517",
     "exception": false,
     "start_time": "2022-10-20T18:50:24.924621",
     "status": "completed"
    },
    "tags": []
   },
   "outputs": [],
   "source": [
    "def read_word_embedding(sentence):\n",
    "    inputs = tokenizer(sentence, return_tensors=\"pt\").to('cuda:0')\n",
    "    outputs = model(**inputs)\n",
    "    last_hidden_states = outputs.last_hidden_state.cpu()\n",
    "    embedding=np.mean(last_hidden_states[0].detach().numpy(),axis=0)\n",
    "#     embedding=np.mean(last_hidden_states[0].detach().to('cpu'),axis=0)\n",
    "    return embedding"
   ]
  },
  {
   "cell_type": "code",
   "execution_count": 18,
   "id": "fb0a7530",
   "metadata": {
    "execution": {
     "iopub.execute_input": "2022-10-20T18:50:24.970635Z",
     "iopub.status.busy": "2022-10-20T18:50:24.970370Z",
     "iopub.status.idle": "2022-10-20T18:56:01.580790Z",
     "shell.execute_reply": "2022-10-20T18:56:01.579218Z"
    },
    "papermill": {
     "duration": 336.626744,
     "end_time": "2022-10-20T18:56:01.584321",
     "exception": false,
     "start_time": "2022-10-20T18:50:24.957577",
     "status": "completed"
    },
    "tags": []
   },
   "outputs": [
    {
     "name": "stderr",
     "output_type": "stream",
     "text": [
      "100%|██████████| 17497/17497 [05:36<00:00, 51.98it/s]\n"
     ]
    }
   ],
   "source": [
    "x_train_embeddings=[]\n",
    "for i in tqdm(range(len(train_df))):\n",
    "    try:\n",
    "        x_train_embeddings.append(read_word_embedding(train_df['Text'].iloc[i]))\n",
    "    except:\n",
    "        print(i)\n",
    "        break"
   ]
  },
  {
   "cell_type": "code",
   "execution_count": 19,
   "id": "820de85e",
   "metadata": {
    "execution": {
     "iopub.execute_input": "2022-10-20T18:56:01.899730Z",
     "iopub.status.busy": "2022-10-20T18:56:01.899370Z",
     "iopub.status.idle": "2022-10-20T18:56:01.937537Z",
     "shell.execute_reply": "2022-10-20T18:56:01.936603Z"
    },
    "papermill": {
     "duration": 0.196535,
     "end_time": "2022-10-20T18:56:01.939657",
     "exception": false,
     "start_time": "2022-10-20T18:56:01.743122",
     "status": "completed"
    },
    "tags": []
   },
   "outputs": [],
   "source": [
    "x_train_embeddings=np.array(x_train_embeddings)\n",
    "y_train_intensity=np.array(list(train_df['Intensity'].values))"
   ]
  },
  {
   "cell_type": "code",
   "execution_count": 20,
   "id": "81acb2e1",
   "metadata": {
    "execution": {
     "iopub.execute_input": "2022-10-20T18:56:02.254399Z",
     "iopub.status.busy": "2022-10-20T18:56:02.253531Z",
     "iopub.status.idle": "2022-10-20T18:56:02.258037Z",
     "shell.execute_reply": "2022-10-20T18:56:02.257098Z"
    },
    "papermill": {
     "duration": 0.164941,
     "end_time": "2022-10-20T18:56:02.260306",
     "exception": false,
     "start_time": "2022-10-20T18:56:02.095365",
     "status": "completed"
    },
    "tags": []
   },
   "outputs": [],
   "source": [
    "# x_dev_embeddings=[read_word_embedding(sentence) for sentence in tqdm(dev_df['text'])]\n",
    "# y_dev_intensity=list(dev_df['intensity'].values)\n",
    "# y_dev_actual_label=list(dev_df['class'].values)"
   ]
  },
  {
   "cell_type": "code",
   "execution_count": 21,
   "id": "67706c37",
   "metadata": {
    "execution": {
     "iopub.execute_input": "2022-10-20T18:56:02.577768Z",
     "iopub.status.busy": "2022-10-20T18:56:02.577395Z",
     "iopub.status.idle": "2022-10-20T18:57:23.610882Z",
     "shell.execute_reply": "2022-10-20T18:57:23.609921Z"
    },
    "papermill": {
     "duration": 81.19536,
     "end_time": "2022-10-20T18:57:23.614018",
     "exception": false,
     "start_time": "2022-10-20T18:56:02.418658",
     "status": "completed"
    },
    "tags": []
   },
   "outputs": [
    {
     "name": "stderr",
     "output_type": "stream",
     "text": [
      "100%|██████████| 4337/4337 [01:21<00:00, 53.53it/s]\n"
     ]
    }
   ],
   "source": [
    "x_test_embeddings=[]\n",
    "for i in tqdm(range(len(test_df))):\n",
    "    try:\n",
    "        x_test_embeddings.append(read_word_embedding(test_df['Text'].iloc[i]))\n",
    "    except:\n",
    "        print(i)\n",
    "        break"
   ]
  },
  {
   "cell_type": "code",
   "execution_count": 22,
   "id": "ee476206",
   "metadata": {
    "execution": {
     "iopub.execute_input": "2022-10-20T18:57:23.996994Z",
     "iopub.status.busy": "2022-10-20T18:57:23.996638Z",
     "iopub.status.idle": "2022-10-20T18:57:24.011125Z",
     "shell.execute_reply": "2022-10-20T18:57:24.010283Z"
    },
    "papermill": {
     "duration": 0.207149,
     "end_time": "2022-10-20T18:57:24.013074",
     "exception": false,
     "start_time": "2022-10-20T18:57:23.805925",
     "status": "completed"
    },
    "tags": []
   },
   "outputs": [],
   "source": [
    "x_test_embeddings=np.array(x_test_embeddings)\n",
    "y_test_intensity=np.array(list(test_df['Intensity'].values))\n",
    "y_test_actual_label=np.array(list(test_df['label'].values))"
   ]
  },
  {
   "cell_type": "code",
   "execution_count": 23,
   "id": "69ccdd54",
   "metadata": {
    "execution": {
     "iopub.execute_input": "2022-10-20T18:57:24.438625Z",
     "iopub.status.busy": "2022-10-20T18:57:24.437912Z",
     "iopub.status.idle": "2022-10-20T18:58:45.356087Z",
     "shell.execute_reply": "2022-10-20T18:58:45.354879Z"
    },
    "papermill": {
     "duration": 81.114299,
     "end_time": "2022-10-20T18:58:45.359837",
     "exception": false,
     "start_time": "2022-10-20T18:57:24.245538",
     "status": "completed"
    },
    "tags": []
   },
   "outputs": [
    {
     "name": "stderr",
     "output_type": "stream",
     "text": [
      "100%|██████████| 4337/4337 [01:20<00:00, 53.60it/s]\n"
     ]
    }
   ],
   "source": [
    "x_test_embeddings_new=[]\n",
    "for i in tqdm(new_test_sents):\n",
    "    try:\n",
    "        x_test_embeddings_new.append(read_word_embedding(i))\n",
    "    except:\n",
    "        print(i)\n",
    "        break"
   ]
  },
  {
   "cell_type": "markdown",
   "id": "b9259127",
   "metadata": {
    "papermill": {
     "duration": 0.226019,
     "end_time": "2022-10-20T18:58:45.817655",
     "exception": false,
     "start_time": "2022-10-20T18:58:45.591636",
     "status": "completed"
    },
    "tags": []
   },
   "source": [
    "# Linear Regression"
   ]
  },
  {
   "cell_type": "code",
   "execution_count": 24,
   "id": "9645feda",
   "metadata": {
    "execution": {
     "iopub.execute_input": "2022-10-20T18:58:46.310424Z",
     "iopub.status.busy": "2022-10-20T18:58:46.310042Z",
     "iopub.status.idle": "2022-10-20T18:58:46.427087Z",
     "shell.execute_reply": "2022-10-20T18:58:46.426186Z"
    },
    "papermill": {
     "duration": 0.343081,
     "end_time": "2022-10-20T18:58:46.429465",
     "exception": false,
     "start_time": "2022-10-20T18:58:46.086384",
     "status": "completed"
    },
    "tags": []
   },
   "outputs": [],
   "source": [
    "from sklearn.linear_model import LinearRegression\n",
    "from sklearn.model_selection import cross_val_score"
   ]
  },
  {
   "cell_type": "code",
   "execution_count": 25,
   "id": "c74c76a1",
   "metadata": {
    "execution": {
     "iopub.execute_input": "2022-10-20T18:58:46.887612Z",
     "iopub.status.busy": "2022-10-20T18:58:46.887243Z",
     "iopub.status.idle": "2022-10-20T18:58:48.431961Z",
     "shell.execute_reply": "2022-10-20T18:58:48.430544Z"
    },
    "papermill": {
     "duration": 1.77781,
     "end_time": "2022-10-20T18:58:48.435710",
     "exception": false,
     "start_time": "2022-10-20T18:58:46.657900",
     "status": "completed"
    },
    "tags": []
   },
   "outputs": [],
   "source": [
    "linear_reg = LinearRegression().fit(x_train_embeddings, y_train_intensity)"
   ]
  },
  {
   "cell_type": "code",
   "execution_count": 26,
   "id": "f4295a47",
   "metadata": {
    "execution": {
     "iopub.execute_input": "2022-10-20T18:58:48.967777Z",
     "iopub.status.busy": "2022-10-20T18:58:48.967417Z",
     "iopub.status.idle": "2022-10-20T18:58:49.039049Z",
     "shell.execute_reply": "2022-10-20T18:58:49.037660Z"
    },
    "papermill": {
     "duration": 0.302445,
     "end_time": "2022-10-20T18:58:49.042722",
     "exception": false,
     "start_time": "2022-10-20T18:58:48.740277",
     "status": "completed"
    },
    "tags": []
   },
   "outputs": [],
   "source": [
    "y_test_pred = linear_reg.predict(x_test_embeddings)\n",
    "y_test_new_pred = linear_reg.predict(x_test_embeddings_new)\n",
    "y_test_pred_classes=['clickbait' if i>=0.5 else 'no-clickbait' for i in y_test_pred]\n",
    "y_test_pred_classes_new=['clickbait' if i>=0.5 else 'no-clickbait' for i in y_test_new_pred]\n",
    "y_test_actual_classes=list(test_df['label'].values)"
   ]
  },
  {
   "cell_type": "code",
   "execution_count": 27,
   "id": "2fab0bc8",
   "metadata": {
    "execution": {
     "iopub.execute_input": "2022-10-20T18:58:49.808741Z",
     "iopub.status.busy": "2022-10-20T18:58:49.808378Z",
     "iopub.status.idle": "2022-10-20T18:58:49.813316Z",
     "shell.execute_reply": "2022-10-20T18:58:49.812228Z"
    },
    "papermill": {
     "duration": 0.34711,
     "end_time": "2022-10-20T18:58:49.815819",
     "exception": false,
     "start_time": "2022-10-20T18:58:49.468709",
     "status": "completed"
    },
    "tags": []
   },
   "outputs": [],
   "source": [
    "actual_sents=list(test_df['Text'].values)"
   ]
  },
  {
   "cell_type": "code",
   "execution_count": 28,
   "id": "1d5a5741",
   "metadata": {
    "execution": {
     "iopub.execute_input": "2022-10-20T18:58:50.267350Z",
     "iopub.status.busy": "2022-10-20T18:58:50.266987Z",
     "iopub.status.idle": "2022-10-20T18:58:50.280858Z",
     "shell.execute_reply": "2022-10-20T18:58:50.279805Z"
    },
    "papermill": {
     "duration": 0.241683,
     "end_time": "2022-10-20T18:58:50.282831",
     "exception": false,
     "start_time": "2022-10-20T18:58:50.041148",
     "status": "completed"
    },
    "tags": []
   },
   "outputs": [],
   "source": [
    "out_df=pd.DataFrame(list(zip(actual_sents,y_test_intensity,y_test_pred,new_test_sents,y_test_new_pred)),columns=['actual_sentence','actual_intensity','predicted_intensity','modified_sentence','modified_predicted_intensity'])"
   ]
  },
  {
   "cell_type": "code",
   "execution_count": 29,
   "id": "7bd1e5f8",
   "metadata": {
    "execution": {
     "iopub.execute_input": "2022-10-20T18:58:50.737739Z",
     "iopub.status.busy": "2022-10-20T18:58:50.736758Z",
     "iopub.status.idle": "2022-10-20T18:58:50.742058Z",
     "shell.execute_reply": "2022-10-20T18:58:50.741110Z"
    },
    "papermill": {
     "duration": 0.23482,
     "end_time": "2022-10-20T18:58:50.744633",
     "exception": false,
     "start_time": "2022-10-20T18:58:50.509813",
     "status": "completed"
    },
    "tags": []
   },
   "outputs": [],
   "source": [
    "# out_df.head()"
   ]
  },
  {
   "cell_type": "code",
   "execution_count": 30,
   "id": "069ec14c",
   "metadata": {
    "execution": {
     "iopub.execute_input": "2022-10-20T18:58:51.239766Z",
     "iopub.status.busy": "2022-10-20T18:58:51.239406Z",
     "iopub.status.idle": "2022-10-20T18:58:51.271582Z",
     "shell.execute_reply": "2022-10-20T18:58:51.270703Z"
    },
    "papermill": {
     "duration": 0.260059,
     "end_time": "2022-10-20T18:58:51.273658",
     "exception": false,
     "start_time": "2022-10-20T18:58:51.013599",
     "status": "completed"
    },
    "tags": []
   },
   "outputs": [],
   "source": [
    "out_df.to_csv('./Test_Results_LR.csv')"
   ]
  },
  {
   "cell_type": "code",
   "execution_count": 31,
   "id": "55589e7a",
   "metadata": {
    "execution": {
     "iopub.execute_input": "2022-10-20T18:58:51.728746Z",
     "iopub.status.busy": "2022-10-20T18:58:51.728059Z",
     "iopub.status.idle": "2022-10-20T18:58:51.732747Z",
     "shell.execute_reply": "2022-10-20T18:58:51.731777Z"
    },
    "papermill": {
     "duration": 0.236132,
     "end_time": "2022-10-20T18:58:51.734653",
     "exception": false,
     "start_time": "2022-10-20T18:58:51.498521",
     "status": "completed"
    },
    "tags": []
   },
   "outputs": [],
   "source": [
    "from sklearn.metrics import median_absolute_error,mean_squared_error, f1_score, accuracy_score"
   ]
  },
  {
   "cell_type": "code",
   "execution_count": 32,
   "id": "03315582",
   "metadata": {
    "execution": {
     "iopub.execute_input": "2022-10-20T18:58:52.192695Z",
     "iopub.status.busy": "2022-10-20T18:58:52.192330Z",
     "iopub.status.idle": "2022-10-20T18:58:52.198361Z",
     "shell.execute_reply": "2022-10-20T18:58:52.197436Z"
    },
    "papermill": {
     "duration": 0.237182,
     "end_time": "2022-10-20T18:58:52.200422",
     "exception": false,
     "start_time": "2022-10-20T18:58:51.963240",
     "status": "completed"
    },
    "tags": []
   },
   "outputs": [],
   "source": [
    "def results(y_true,y_pred,y_actual_classes,y_pred_classes):\n",
    "    Medae = median_absolute_error(y_true,y_pred)\n",
    "    mse = mean_squared_error(y_true,y_pred) #default=True\n",
    "    rmse = mean_squared_error(y_true,y_pred,squared=False)\n",
    "    accuracy=accuracy_score(y_actual_classes,y_pred_classes)\n",
    "    f1=f1_score(y_actual_classes,y_pred_classes,pos_label='clickbait')\n",
    "    \n",
    "    print(\"MedAE:\",Medae)\n",
    "    print(\"MSE:\",mse)\n",
    "    print(\"RMSE:\",rmse)\n",
    "    print(\"Accuracy:\",accuracy)\n",
    "    print(\"f1-score:\",f1)"
   ]
  },
  {
   "cell_type": "code",
   "execution_count": 33,
   "id": "ebc9eea2",
   "metadata": {
    "execution": {
     "iopub.execute_input": "2022-10-20T18:58:52.711356Z",
     "iopub.status.busy": "2022-10-20T18:58:52.710981Z",
     "iopub.status.idle": "2022-10-20T18:58:52.745120Z",
     "shell.execute_reply": "2022-10-20T18:58:52.743688Z"
    },
    "papermill": {
     "duration": 0.266215,
     "end_time": "2022-10-20T18:58:52.747807",
     "exception": false,
     "start_time": "2022-10-20T18:58:52.481592",
     "status": "completed"
    },
    "tags": []
   },
   "outputs": [
    {
     "name": "stdout",
     "output_type": "stream",
     "text": [
      "Without Masking/Replacing Words\n",
      "\n",
      "MedAE: 0.10460656484634766\n",
      "MSE: 0.027230679171916145\n",
      "RMSE: 0.16501720871447362\n",
      "Accuracy: 0.8605026516024902\n",
      "f1-score: 0.6886258363355636\n"
     ]
    }
   ],
   "source": [
    "print('Without Masking/Replacing Words\\n')\n",
    "results(y_test_intensity,y_test_pred,y_test_actual_classes,y_test_pred_classes)"
   ]
  },
  {
   "cell_type": "code",
   "execution_count": 34,
   "id": "b1f51008",
   "metadata": {
    "execution": {
     "iopub.execute_input": "2022-10-20T18:58:53.201325Z",
     "iopub.status.busy": "2022-10-20T18:58:53.199630Z",
     "iopub.status.idle": "2022-10-20T18:58:53.233223Z",
     "shell.execute_reply": "2022-10-20T18:58:53.231457Z"
    },
    "papermill": {
     "duration": 0.262755,
     "end_time": "2022-10-20T18:58:53.236325",
     "exception": false,
     "start_time": "2022-10-20T18:58:52.973570",
     "status": "completed"
    },
    "tags": []
   },
   "outputs": [
    {
     "name": "stdout",
     "output_type": "stream",
     "text": [
      "With Masking/Replacing Words\n",
      "\n",
      "MedAE: 0.11332241027465823\n",
      "MSE: 0.02963505966311678\n",
      "RMSE: 0.17214836526414296\n",
      "Accuracy: 0.8480516486050265\n",
      "f1-score: 0.6615305598356446\n"
     ]
    }
   ],
   "source": [
    "print('With Masking/Replacing Words\\n')\n",
    "results(y_test_intensity,y_test_new_pred,y_test_actual_classes,y_test_pred_classes_new)"
   ]
  },
  {
   "cell_type": "markdown",
   "id": "ffd7b35e",
   "metadata": {
    "papermill": {
     "duration": 0.224244,
     "end_time": "2022-10-20T18:58:53.686469",
     "exception": false,
     "start_time": "2022-10-20T18:58:53.462225",
     "status": "completed"
    },
    "tags": []
   },
   "source": [
    "# Ridge Regression"
   ]
  },
  {
   "cell_type": "code",
   "execution_count": 35,
   "id": "0c855fbe",
   "metadata": {
    "execution": {
     "iopub.execute_input": "2022-10-20T18:58:54.180935Z",
     "iopub.status.busy": "2022-10-20T18:58:54.179988Z",
     "iopub.status.idle": "2022-10-20T18:58:54.518905Z",
     "shell.execute_reply": "2022-10-20T18:58:54.517316Z"
    },
    "papermill": {
     "duration": 0.568337,
     "end_time": "2022-10-20T18:58:54.522725",
     "exception": false,
     "start_time": "2022-10-20T18:58:53.954388",
     "status": "completed"
    },
    "tags": []
   },
   "outputs": [],
   "source": [
    "from sklearn.linear_model import Ridge\n",
    "clf = Ridge(alpha=2).fit(x_train_embeddings, y_train_intensity)"
   ]
  },
  {
   "cell_type": "code",
   "execution_count": 36,
   "id": "3c7600bd",
   "metadata": {
    "execution": {
     "iopub.execute_input": "2022-10-20T18:58:55.061210Z",
     "iopub.status.busy": "2022-10-20T18:58:55.060829Z",
     "iopub.status.idle": "2022-10-20T18:58:55.129704Z",
     "shell.execute_reply": "2022-10-20T18:58:55.128336Z"
    },
    "papermill": {
     "duration": 0.301361,
     "end_time": "2022-10-20T18:58:55.133155",
     "exception": false,
     "start_time": "2022-10-20T18:58:54.831794",
     "status": "completed"
    },
    "tags": []
   },
   "outputs": [],
   "source": [
    "y_test_pred = clf.predict(x_test_embeddings)\n",
    "y_test_new_pred = clf.predict(x_test_embeddings_new)\n",
    "y_test_pred_classes=['clickbait' if i>=0.5 else 'no-clickbait' for i in y_test_pred]\n",
    "y_test_pred_classes_new=['clickbait' if i>=0.5 else 'no-clickbait' for i in y_test_new_pred]\n",
    "y_test_actual_classes=list(test_df['label'].values)"
   ]
  },
  {
   "cell_type": "code",
   "execution_count": 37,
   "id": "42cb354d",
   "metadata": {
    "execution": {
     "iopub.execute_input": "2022-10-20T18:58:55.641031Z",
     "iopub.status.busy": "2022-10-20T18:58:55.640676Z",
     "iopub.status.idle": "2022-10-20T18:58:55.673701Z",
     "shell.execute_reply": "2022-10-20T18:58:55.672231Z"
    },
    "papermill": {
     "duration": 0.262125,
     "end_time": "2022-10-20T18:58:55.675789",
     "exception": false,
     "start_time": "2022-10-20T18:58:55.413664",
     "status": "completed"
    },
    "tags": []
   },
   "outputs": [
    {
     "name": "stdout",
     "output_type": "stream",
     "text": [
      "Without Masking/Replacing Words\n",
      "\n",
      "MedAE: 0.1036982536315918\n",
      "MSE: 0.026949155153049673\n",
      "RMSE: 0.16416197840258162\n",
      "Accuracy: 0.8607332257320729\n",
      "f1-score: 0.6870466321243524\n"
     ]
    }
   ],
   "source": [
    "print('Without Masking/Replacing Words\\n')\n",
    "results(y_test_intensity,y_test_pred,y_test_actual_classes,y_test_pred_classes)"
   ]
  },
  {
   "cell_type": "code",
   "execution_count": 38,
   "id": "b58c7f00",
   "metadata": {
    "execution": {
     "iopub.execute_input": "2022-10-20T18:58:56.187004Z",
     "iopub.status.busy": "2022-10-20T18:58:56.186325Z",
     "iopub.status.idle": "2022-10-20T18:58:56.221126Z",
     "shell.execute_reply": "2022-10-20T18:58:56.220138Z"
    },
    "papermill": {
     "duration": 0.318112,
     "end_time": "2022-10-20T18:58:56.223306",
     "exception": false,
     "start_time": "2022-10-20T18:58:55.905194",
     "status": "completed"
    },
    "tags": []
   },
   "outputs": [
    {
     "name": "stdout",
     "output_type": "stream",
     "text": [
      "With Masking/Replacing Words\n",
      "\n",
      "MedAE: 0.11304701835998535\n",
      "MSE: 0.029345788202809225\n",
      "RMSE: 0.17130612424198158\n",
      "Accuracy: 0.8478210744754439\n",
      "f1-score: 0.6551724137931034\n"
     ]
    }
   ],
   "source": [
    "print('With Masking/Replacing Words\\n')\n",
    "results(y_test_intensity,y_test_new_pred,y_test_actual_classes,y_test_pred_classes_new)"
   ]
  },
  {
   "cell_type": "markdown",
   "id": "519e01f7",
   "metadata": {
    "papermill": {
     "duration": 0.227555,
     "end_time": "2022-10-20T18:58:56.679181",
     "exception": false,
     "start_time": "2022-10-20T18:58:56.451626",
     "status": "completed"
    },
    "tags": []
   },
   "source": [
    "# Gradient Boosted Regression"
   ]
  },
  {
   "cell_type": "code",
   "execution_count": 39,
   "id": "ded479b0",
   "metadata": {
    "execution": {
     "iopub.execute_input": "2022-10-20T18:58:57.132094Z",
     "iopub.status.busy": "2022-10-20T18:58:57.131728Z",
     "iopub.status.idle": "2022-10-20T19:08:50.978531Z",
     "shell.execute_reply": "2022-10-20T19:08:50.977389Z"
    },
    "papermill": {
     "duration": 594.076214,
     "end_time": "2022-10-20T19:08:50.981018",
     "exception": false,
     "start_time": "2022-10-20T18:58:56.904804",
     "status": "completed"
    },
    "tags": []
   },
   "outputs": [],
   "source": [
    "from sklearn.ensemble import GradientBoostingRegressor\n",
    "clf = GradientBoostingRegressor().fit(x_train_embeddings, y_train_intensity)"
   ]
  },
  {
   "cell_type": "code",
   "execution_count": 40,
   "id": "51596bb6",
   "metadata": {
    "execution": {
     "iopub.execute_input": "2022-10-20T19:08:51.490503Z",
     "iopub.status.busy": "2022-10-20T19:08:51.490128Z",
     "iopub.status.idle": "2022-10-20T19:08:51.543961Z",
     "shell.execute_reply": "2022-10-20T19:08:51.542843Z"
    },
    "papermill": {
     "duration": 0.288091,
     "end_time": "2022-10-20T19:08:51.546416",
     "exception": false,
     "start_time": "2022-10-20T19:08:51.258325",
     "status": "completed"
    },
    "tags": []
   },
   "outputs": [],
   "source": [
    "y_test_pred = clf.predict(x_test_embeddings)\n",
    "y_test_new_pred = clf.predict(x_test_embeddings_new)\n",
    "y_test_pred_classes=['clickbait' if i>=0.5 else 'no-clickbait' for i in y_test_pred]\n",
    "y_test_pred_classes_new=['clickbait' if i>=0.5 else 'no-clickbait' for i in y_test_new_pred]\n",
    "y_test_actual_classes=list(test_df['label'].values)"
   ]
  },
  {
   "cell_type": "code",
   "execution_count": 41,
   "id": "21ca2aab",
   "metadata": {
    "execution": {
     "iopub.execute_input": "2022-10-20T19:08:52.011344Z",
     "iopub.status.busy": "2022-10-20T19:08:52.010972Z",
     "iopub.status.idle": "2022-10-20T19:08:52.044311Z",
     "shell.execute_reply": "2022-10-20T19:08:52.042546Z"
    },
    "papermill": {
     "duration": 0.267367,
     "end_time": "2022-10-20T19:08:52.046350",
     "exception": false,
     "start_time": "2022-10-20T19:08:51.778983",
     "status": "completed"
    },
    "tags": []
   },
   "outputs": [
    {
     "name": "stdout",
     "output_type": "stream",
     "text": [
      "Without Masking/Replacing Words\n",
      "\n",
      "MedAE: 0.11595803654278576\n",
      "MSE: 0.029872405529428474\n",
      "RMSE: 0.17283635476782214\n",
      "Accuracy: 0.8434401660133733\n",
      "f1-score: 0.6291643910431457\n"
     ]
    }
   ],
   "source": [
    "print('Without Masking/Replacing Words\\n')\n",
    "results(y_test_intensity,y_test_pred,y_test_actual_classes,y_test_pred_classes)"
   ]
  },
  {
   "cell_type": "code",
   "execution_count": 42,
   "id": "01117d7e",
   "metadata": {
    "execution": {
     "iopub.execute_input": "2022-10-20T19:08:52.507794Z",
     "iopub.status.busy": "2022-10-20T19:08:52.507450Z",
     "iopub.status.idle": "2022-10-20T19:08:52.540128Z",
     "shell.execute_reply": "2022-10-20T19:08:52.538658Z"
    },
    "papermill": {
     "duration": 0.26683,
     "end_time": "2022-10-20T19:08:52.542799",
     "exception": false,
     "start_time": "2022-10-20T19:08:52.275969",
     "status": "completed"
    },
    "tags": []
   },
   "outputs": [
    {
     "name": "stdout",
     "output_type": "stream",
     "text": [
      "With Masking/Replacing Words\n",
      "\n",
      "MedAE: 0.11723916595117786\n",
      "MSE: 0.03231203256546582\n",
      "RMSE: 0.17975547993167224\n",
      "Accuracy: 0.8321420336638229\n",
      "f1-score: 0.5863636363636364\n"
     ]
    }
   ],
   "source": [
    "print('With Masking/Replacing Words\\n')\n",
    "results(y_test_intensity,y_test_new_pred,y_test_actual_classes,y_test_pred_classes_new)"
   ]
  },
  {
   "cell_type": "markdown",
   "id": "39497dbe",
   "metadata": {
    "papermill": {
     "duration": 0.22578,
     "end_time": "2022-10-20T19:08:53.039775",
     "exception": false,
     "start_time": "2022-10-20T19:08:52.813995",
     "status": "completed"
    },
    "tags": []
   },
   "source": [
    "# Random Forest Regression"
   ]
  },
  {
   "cell_type": "code",
   "execution_count": 43,
   "id": "fe860cd2",
   "metadata": {
    "execution": {
     "iopub.execute_input": "2022-10-20T19:08:53.501783Z",
     "iopub.status.busy": "2022-10-20T19:08:53.501417Z",
     "iopub.status.idle": "2022-10-20T19:14:53.360521Z",
     "shell.execute_reply": "2022-10-20T19:14:53.359416Z"
    },
    "papermill": {
     "duration": 360.090699,
     "end_time": "2022-10-20T19:14:53.363095",
     "exception": false,
     "start_time": "2022-10-20T19:08:53.272396",
     "status": "completed"
    },
    "tags": []
   },
   "outputs": [],
   "source": [
    "from sklearn.ensemble import RandomForestRegressor\n",
    "clf= RandomForestRegressor(max_depth=3, random_state=0).fit(x_train_embeddings, y_train_intensity)"
   ]
  },
  {
   "cell_type": "code",
   "execution_count": 44,
   "id": "3902c34d",
   "metadata": {
    "execution": {
     "iopub.execute_input": "2022-10-20T19:14:53.865995Z",
     "iopub.status.busy": "2022-10-20T19:14:53.865020Z",
     "iopub.status.idle": "2022-10-20T19:14:53.932494Z",
     "shell.execute_reply": "2022-10-20T19:14:53.931560Z"
    },
    "papermill": {
     "duration": 0.342016,
     "end_time": "2022-10-20T19:14:53.934715",
     "exception": false,
     "start_time": "2022-10-20T19:14:53.592699",
     "status": "completed"
    },
    "tags": []
   },
   "outputs": [],
   "source": [
    "y_test_pred = clf.predict(x_test_embeddings)\n",
    "y_test_new_pred = clf.predict(x_test_embeddings_new)\n",
    "y_test_pred_classes=['clickbait' if i>=0.5 else 'no-clickbait' for i in y_test_pred]\n",
    "y_test_pred_classes_new=['clickbait' if i>=0.5 else 'no-clickbait' for i in y_test_new_pred]\n",
    "y_test_actual_classes=list(test_df['label'].values)"
   ]
  },
  {
   "cell_type": "code",
   "execution_count": 45,
   "id": "8036b4af",
   "metadata": {
    "execution": {
     "iopub.execute_input": "2022-10-20T19:14:54.382971Z",
     "iopub.status.busy": "2022-10-20T19:14:54.382058Z",
     "iopub.status.idle": "2022-10-20T19:14:54.415203Z",
     "shell.execute_reply": "2022-10-20T19:14:54.413884Z"
    },
    "papermill": {
     "duration": 0.259593,
     "end_time": "2022-10-20T19:14:54.418139",
     "exception": false,
     "start_time": "2022-10-20T19:14:54.158546",
     "status": "completed"
    },
    "tags": []
   },
   "outputs": [
    {
     "name": "stdout",
     "output_type": "stream",
     "text": [
      "Without Masking/Replacing Words\n",
      "\n",
      "MedAE: 0.13800783686471818\n",
      "MSE: 0.04126585778480399\n",
      "RMSE: 0.2031399955321551\n",
      "Accuracy: 0.8086234724463915\n",
      "f1-score: 0.5018007202881153\n"
     ]
    }
   ],
   "source": [
    "print('Without Masking/Replacing Words\\n')\n",
    "results(y_test_intensity,y_test_pred,y_test_actual_classes,y_test_pred_classes)"
   ]
  },
  {
   "cell_type": "code",
   "execution_count": 46,
   "id": "2d172e56",
   "metadata": {
    "execution": {
     "iopub.execute_input": "2022-10-20T19:14:54.878409Z",
     "iopub.status.busy": "2022-10-20T19:14:54.878042Z",
     "iopub.status.idle": "2022-10-20T19:14:54.911519Z",
     "shell.execute_reply": "2022-10-20T19:14:54.910178Z"
    },
    "papermill": {
     "duration": 0.267393,
     "end_time": "2022-10-20T19:14:54.913823",
     "exception": false,
     "start_time": "2022-10-20T19:14:54.646430",
     "status": "completed"
    },
    "tags": []
   },
   "outputs": [
    {
     "name": "stdout",
     "output_type": "stream",
     "text": [
      "With Masking/Replacing Words\n",
      "\n",
      "MedAE: 0.13645321857952353\n",
      "MSE: 0.042124003601247434\n",
      "RMSE: 0.20524133014879686\n",
      "Accuracy: 0.8109292137422182\n",
      "f1-score: 0.5265588914549654\n"
     ]
    }
   ],
   "source": [
    "print('With Masking/Replacing Words\\n')\n",
    "results(y_test_intensity,y_test_new_pred,y_test_actual_classes,y_test_pred_classes_new)"
   ]
  },
  {
   "cell_type": "markdown",
   "id": "bb6b566d",
   "metadata": {
    "papermill": {
     "duration": 0.22669,
     "end_time": "2022-10-20T19:14:55.417864",
     "exception": false,
     "start_time": "2022-10-20T19:14:55.191174",
     "status": "completed"
    },
    "tags": []
   },
   "source": [
    "# Adaboost Regression"
   ]
  },
  {
   "cell_type": "code",
   "execution_count": 47,
   "id": "f40c1d99",
   "metadata": {
    "execution": {
     "iopub.execute_input": "2022-10-20T19:14:55.888758Z",
     "iopub.status.busy": "2022-10-20T19:14:55.888369Z",
     "iopub.status.idle": "2022-10-20T19:20:36.809609Z",
     "shell.execute_reply": "2022-10-20T19:20:36.808561Z"
    },
    "papermill": {
     "duration": 341.168924,
     "end_time": "2022-10-20T19:20:36.812148",
     "exception": false,
     "start_time": "2022-10-20T19:14:55.643224",
     "status": "completed"
    },
    "tags": []
   },
   "outputs": [],
   "source": [
    "from sklearn.ensemble import AdaBoostRegressor\n",
    "clf = AdaBoostRegressor(random_state=0, n_estimators=100).fit(x_train_embeddings, y_train_intensity)"
   ]
  },
  {
   "cell_type": "code",
   "execution_count": 48,
   "id": "4f665bdf",
   "metadata": {
    "execution": {
     "iopub.execute_input": "2022-10-20T19:20:37.323804Z",
     "iopub.status.busy": "2022-10-20T19:20:37.323455Z",
     "iopub.status.idle": "2022-10-20T19:20:37.967305Z",
     "shell.execute_reply": "2022-10-20T19:20:37.966284Z"
    },
    "papermill": {
     "duration": 0.927473,
     "end_time": "2022-10-20T19:20:37.969776",
     "exception": false,
     "start_time": "2022-10-20T19:20:37.042303",
     "status": "completed"
    },
    "tags": []
   },
   "outputs": [],
   "source": [
    "y_test_pred = clf.predict(x_test_embeddings)\n",
    "y_test_new_pred = clf.predict(x_test_embeddings_new)\n",
    "y_test_pred_classes=['clickbait' if i>=0.5 else 'no-clickbait' for i in y_test_pred]\n",
    "y_test_pred_classes_new=['clickbait' if i>=0.5 else 'no-clickbait' for i in y_test_new_pred]\n",
    "y_test_actual_classes=list(test_df['label'].values)"
   ]
  },
  {
   "cell_type": "code",
   "execution_count": 49,
   "id": "378763fc",
   "metadata": {
    "execution": {
     "iopub.execute_input": "2022-10-20T19:20:38.592421Z",
     "iopub.status.busy": "2022-10-20T19:20:38.591875Z",
     "iopub.status.idle": "2022-10-20T19:20:38.644426Z",
     "shell.execute_reply": "2022-10-20T19:20:38.642828Z"
    },
    "papermill": {
     "duration": 0.446816,
     "end_time": "2022-10-20T19:20:38.647087",
     "exception": false,
     "start_time": "2022-10-20T19:20:38.200271",
     "status": "completed"
    },
    "tags": []
   },
   "outputs": [
    {
     "name": "stdout",
     "output_type": "stream",
     "text": [
      "Without Masking/Replacing Words\n",
      "\n",
      "MedAE: 0.16543360946503513\n",
      "MSE: 0.04043156855426112\n",
      "RMSE: 0.20107602680145914\n",
      "Accuracy: 0.8360617938667282\n",
      "f1-score: 0.595793064241046\n"
     ]
    }
   ],
   "source": [
    "print('Without Masking/Replacing Words\\n')\n",
    "results(y_test_intensity,y_test_pred,y_test_actual_classes,y_test_pred_classes)"
   ]
  },
  {
   "cell_type": "code",
   "execution_count": 50,
   "id": "711b127d",
   "metadata": {
    "execution": {
     "iopub.execute_input": "2022-10-20T19:20:39.218443Z",
     "iopub.status.busy": "2022-10-20T19:20:39.218036Z",
     "iopub.status.idle": "2022-10-20T19:20:39.251075Z",
     "shell.execute_reply": "2022-10-20T19:20:39.249719Z"
    },
    "papermill": {
     "duration": 0.263726,
     "end_time": "2022-10-20T19:20:39.253731",
     "exception": false,
     "start_time": "2022-10-20T19:20:38.990005",
     "status": "completed"
    },
    "tags": []
   },
   "outputs": [
    {
     "name": "stdout",
     "output_type": "stream",
     "text": [
      "With Masking/Replacing Words\n",
      "\n",
      "MedAE: 0.16634053668375837\n",
      "MSE: 0.0418010933607677\n",
      "RMSE: 0.2044531568862846\n",
      "Accuracy: 0.8185381600184459\n",
      "f1-score: 0.5120892746435214\n"
     ]
    }
   ],
   "source": [
    "print('With Masking/Replacing Words\\n')\n",
    "results(y_test_intensity,y_test_new_pred,y_test_actual_classes,y_test_pred_classes_new)"
   ]
  },
  {
   "cell_type": "code",
   "execution_count": null,
   "id": "d3d46d58",
   "metadata": {
    "papermill": {
     "duration": 0.228023,
     "end_time": "2022-10-20T19:20:39.711988",
     "exception": false,
     "start_time": "2022-10-20T19:20:39.483965",
     "status": "completed"
    },
    "tags": []
   },
   "outputs": [],
   "source": []
  },
  {
   "cell_type": "code",
   "execution_count": null,
   "id": "1280282c",
   "metadata": {
    "papermill": {
     "duration": 0.227949,
     "end_time": "2022-10-20T19:20:40.167445",
     "exception": false,
     "start_time": "2022-10-20T19:20:39.939496",
     "status": "completed"
    },
    "tags": []
   },
   "outputs": [],
   "source": []
  }
 ],
 "metadata": {
  "kernelspec": {
   "display_name": "Python 3",
   "language": "python",
   "name": "python3"
  },
  "language_info": {
   "codemirror_mode": {
    "name": "ipython",
    "version": 3
   },
   "file_extension": ".py",
   "mimetype": "text/x-python",
   "name": "python",
   "nbconvert_exporter": "python",
   "pygments_lexer": "ipython3",
   "version": "3.7.12"
  },
  "papermill": {
   "default_parameters": {},
   "duration": 2096.512605,
   "end_time": "2022-10-20T19:20:43.634409",
   "environment_variables": {},
   "exception": null,
   "input_path": "__notebook__.ipynb",
   "output_path": "__notebook__.ipynb",
   "parameters": {},
   "start_time": "2022-10-20T18:45:47.121804",
   "version": "2.3.4"
  },
  "widgets": {
   "application/vnd.jupyter.widget-state+json": {
    "state": {
     "005280af22d14c26ab1c26ff0c107f29": {
      "model_module": "@jupyter-widgets/controls",
      "model_module_version": "1.5.0",
      "model_name": "ProgressStyleModel",
      "state": {
       "_model_module": "@jupyter-widgets/controls",
       "_model_module_version": "1.5.0",
       "_model_name": "ProgressStyleModel",
       "_view_count": null,
       "_view_module": "@jupyter-widgets/base",
       "_view_module_version": "1.2.0",
       "_view_name": "StyleView",
       "bar_color": null,
       "description_width": ""
      }
     },
     "015012d325b94f009011d21e0e9a89dc": {
      "model_module": "@jupyter-widgets/controls",
      "model_module_version": "1.5.0",
      "model_name": "DescriptionStyleModel",
      "state": {
       "_model_module": "@jupyter-widgets/controls",
       "_model_module_version": "1.5.0",
       "_model_name": "DescriptionStyleModel",
       "_view_count": null,
       "_view_module": "@jupyter-widgets/base",
       "_view_module_version": "1.2.0",
       "_view_name": "StyleView",
       "description_width": ""
      }
     },
     "0244c907d60f493cba5537be350dbf31": {
      "model_module": "@jupyter-widgets/controls",
      "model_module_version": "1.5.0",
      "model_name": "HBoxModel",
      "state": {
       "_dom_classes": [],
       "_model_module": "@jupyter-widgets/controls",
       "_model_module_version": "1.5.0",
       "_model_name": "HBoxModel",
       "_view_count": null,
       "_view_module": "@jupyter-widgets/controls",
       "_view_module_version": "1.5.0",
       "_view_name": "HBoxView",
       "box_style": "",
       "children": [
        "IPY_MODEL_4612f77e588644c3bcdf32c3fe01165a",
        "IPY_MODEL_927c3aa3d68d4083a73a64fdd0a73e27",
        "IPY_MODEL_480cfdd333ea4b5180377a084fc92cb3"
       ],
       "layout": "IPY_MODEL_ef959b80b3c8430ba2e3add18ec48b49"
      }
     },
     "0b33ccc18acb4aed85394dc5030522ef": {
      "model_module": "@jupyter-widgets/base",
      "model_module_version": "1.2.0",
      "model_name": "LayoutModel",
      "state": {
       "_model_module": "@jupyter-widgets/base",
       "_model_module_version": "1.2.0",
       "_model_name": "LayoutModel",
       "_view_count": null,
       "_view_module": "@jupyter-widgets/base",
       "_view_module_version": "1.2.0",
       "_view_name": "LayoutView",
       "align_content": null,
       "align_items": null,
       "align_self": null,
       "border": null,
       "bottom": null,
       "display": null,
       "flex": null,
       "flex_flow": null,
       "grid_area": null,
       "grid_auto_columns": null,
       "grid_auto_flow": null,
       "grid_auto_rows": null,
       "grid_column": null,
       "grid_gap": null,
       "grid_row": null,
       "grid_template_areas": null,
       "grid_template_columns": null,
       "grid_template_rows": null,
       "height": null,
       "justify_content": null,
       "justify_items": null,
       "left": null,
       "margin": null,
       "max_height": null,
       "max_width": null,
       "min_height": null,
       "min_width": null,
       "object_fit": null,
       "object_position": null,
       "order": null,
       "overflow": null,
       "overflow_x": null,
       "overflow_y": null,
       "padding": null,
       "right": null,
       "top": null,
       "visibility": null,
       "width": null
      }
     },
     "0e6c893af85b4caba9b9aa671a2bb2df": {
      "model_module": "@jupyter-widgets/controls",
      "model_module_version": "1.5.0",
      "model_name": "FloatProgressModel",
      "state": {
       "_dom_classes": [],
       "_model_module": "@jupyter-widgets/controls",
       "_model_module_version": "1.5.0",
       "_model_name": "FloatProgressModel",
       "_view_count": null,
       "_view_module": "@jupyter-widgets/controls",
       "_view_module_version": "1.5.0",
       "_view_name": "ProgressView",
       "bar_style": "success",
       "description": "",
       "description_tooltip": null,
       "layout": "IPY_MODEL_26914979c5294166bd8ee6fe15afda89",
       "max": 898823.0,
       "min": 0.0,
       "orientation": "horizontal",
       "style": "IPY_MODEL_95e4968402214dbd9d331a4d7411d993",
       "value": 898823.0
      }
     },
     "0f547617ab324880a67c4838cfb3b050": {
      "model_module": "@jupyter-widgets/controls",
      "model_module_version": "1.5.0",
      "model_name": "HBoxModel",
      "state": {
       "_dom_classes": [],
       "_model_module": "@jupyter-widgets/controls",
       "_model_module_version": "1.5.0",
       "_model_name": "HBoxModel",
       "_view_count": null,
       "_view_module": "@jupyter-widgets/controls",
       "_view_module_version": "1.5.0",
       "_view_name": "HBoxView",
       "box_style": "",
       "children": [
        "IPY_MODEL_a12cad831aa844dc81f1cc6abc5f3eca",
        "IPY_MODEL_8a02ad5828314adcb209c7fa5502c11b",
        "IPY_MODEL_26206ade89204ac09b1df53d07fcc7b5"
       ],
       "layout": "IPY_MODEL_489f17b6f3f1496f9b0269a955130c11"
      }
     },
     "1384f046e91f40ae91cb957b71d5c4bd": {
      "model_module": "@jupyter-widgets/base",
      "model_module_version": "1.2.0",
      "model_name": "LayoutModel",
      "state": {
       "_model_module": "@jupyter-widgets/base",
       "_model_module_version": "1.2.0",
       "_model_name": "LayoutModel",
       "_view_count": null,
       "_view_module": "@jupyter-widgets/base",
       "_view_module_version": "1.2.0",
       "_view_name": "LayoutView",
       "align_content": null,
       "align_items": null,
       "align_self": null,
       "border": null,
       "bottom": null,
       "display": null,
       "flex": null,
       "flex_flow": null,
       "grid_area": null,
       "grid_auto_columns": null,
       "grid_auto_flow": null,
       "grid_auto_rows": null,
       "grid_column": null,
       "grid_gap": null,
       "grid_row": null,
       "grid_template_areas": null,
       "grid_template_columns": null,
       "grid_template_rows": null,
       "height": null,
       "justify_content": null,
       "justify_items": null,
       "left": null,
       "margin": null,
       "max_height": null,
       "max_width": null,
       "min_height": null,
       "min_width": null,
       "object_fit": null,
       "object_position": null,
       "order": null,
       "overflow": null,
       "overflow_x": null,
       "overflow_y": null,
       "padding": null,
       "right": null,
       "top": null,
       "visibility": null,
       "width": null
      }
     },
     "14ca201557134be9a473dad6cdb19290": {
      "model_module": "@jupyter-widgets/controls",
      "model_module_version": "1.5.0",
      "model_name": "HTMLModel",
      "state": {
       "_dom_classes": [],
       "_model_module": "@jupyter-widgets/controls",
       "_model_module_version": "1.5.0",
       "_model_name": "HTMLModel",
       "_view_count": null,
       "_view_module": "@jupyter-widgets/controls",
       "_view_module_version": "1.5.0",
       "_view_name": "HTMLView",
       "description": "",
       "description_tooltip": null,
       "layout": "IPY_MODEL_6d0c5d70ff7345409006ec0d67007840",
       "placeholder": "​",
       "style": "IPY_MODEL_e14c34bfb97e4588a538b1401fc86407",
       "value": "Downloading: 100%"
      }
     },
     "252f72a0747b4dce9447fe905d9574ff": {
      "model_module": "@jupyter-widgets/controls",
      "model_module_version": "1.5.0",
      "model_name": "HTMLModel",
      "state": {
       "_dom_classes": [],
       "_model_module": "@jupyter-widgets/controls",
       "_model_module_version": "1.5.0",
       "_model_name": "HTMLModel",
       "_view_count": null,
       "_view_module": "@jupyter-widgets/controls",
       "_view_module_version": "1.5.0",
       "_view_name": "HTMLView",
       "description": "",
       "description_tooltip": null,
       "layout": "IPY_MODEL_d63c38e7d69147d988c5567db89b20c4",
       "placeholder": "​",
       "style": "IPY_MODEL_ed551c7536864c7d9a8747ce074a3f62",
       "value": "Downloading: 100%"
      }
     },
     "26206ade89204ac09b1df53d07fcc7b5": {
      "model_module": "@jupyter-widgets/controls",
      "model_module_version": "1.5.0",
      "model_name": "HTMLModel",
      "state": {
       "_dom_classes": [],
       "_model_module": "@jupyter-widgets/controls",
       "_model_module_version": "1.5.0",
       "_model_name": "HTMLModel",
       "_view_count": null,
       "_view_module": "@jupyter-widgets/controls",
       "_view_module_version": "1.5.0",
       "_view_name": "HTMLView",
       "description": "",
       "description_tooltip": null,
       "layout": "IPY_MODEL_318de92119944f49a7414fc53d9e8689",
       "placeholder": "​",
       "style": "IPY_MODEL_b979108566e940e28d885612d8cedbd9",
       "value": " 446k/446k [00:00&lt;00:00, 608kB/s]"
      }
     },
     "26914979c5294166bd8ee6fe15afda89": {
      "model_module": "@jupyter-widgets/base",
      "model_module_version": "1.2.0",
      "model_name": "LayoutModel",
      "state": {
       "_model_module": "@jupyter-widgets/base",
       "_model_module_version": "1.2.0",
       "_model_name": "LayoutModel",
       "_view_count": null,
       "_view_module": "@jupyter-widgets/base",
       "_view_module_version": "1.2.0",
       "_view_name": "LayoutView",
       "align_content": null,
       "align_items": null,
       "align_self": null,
       "border": null,
       "bottom": null,
       "display": null,
       "flex": null,
       "flex_flow": null,
       "grid_area": null,
       "grid_auto_columns": null,
       "grid_auto_flow": null,
       "grid_auto_rows": null,
       "grid_column": null,
       "grid_gap": null,
       "grid_row": null,
       "grid_template_areas": null,
       "grid_template_columns": null,
       "grid_template_rows": null,
       "height": null,
       "justify_content": null,
       "justify_items": null,
       "left": null,
       "margin": null,
       "max_height": null,
       "max_width": null,
       "min_height": null,
       "min_width": null,
       "object_fit": null,
       "object_position": null,
       "order": null,
       "overflow": null,
       "overflow_x": null,
       "overflow_y": null,
       "padding": null,
       "right": null,
       "top": null,
       "visibility": null,
       "width": null
      }
     },
     "2a0c14ef541e4b61a1b40e667f1ab3e9": {
      "model_module": "@jupyter-widgets/controls",
      "model_module_version": "1.5.0",
      "model_name": "HBoxModel",
      "state": {
       "_dom_classes": [],
       "_model_module": "@jupyter-widgets/controls",
       "_model_module_version": "1.5.0",
       "_model_name": "HBoxModel",
       "_view_count": null,
       "_view_module": "@jupyter-widgets/controls",
       "_view_module_version": "1.5.0",
       "_view_name": "HBoxView",
       "box_style": "",
       "children": [
        "IPY_MODEL_252f72a0747b4dce9447fe905d9574ff",
        "IPY_MODEL_6d5fb16de96a401d9ff915ec6e9e58d4",
        "IPY_MODEL_d8838a5394ac4af9934b130c092a7d99"
       ],
       "layout": "IPY_MODEL_4d4b3ba8dc45484996a2f3f4a5886e9f"
      }
     },
     "315c2cd06d4c4cb4bd4ab670cd5242de": {
      "model_module": "@jupyter-widgets/controls",
      "model_module_version": "1.5.0",
      "model_name": "ProgressStyleModel",
      "state": {
       "_model_module": "@jupyter-widgets/controls",
       "_model_module_version": "1.5.0",
       "_model_name": "ProgressStyleModel",
       "_view_count": null,
       "_view_module": "@jupyter-widgets/base",
       "_view_module_version": "1.2.0",
       "_view_name": "StyleView",
       "bar_color": null,
       "description_width": ""
      }
     },
     "318de92119944f49a7414fc53d9e8689": {
      "model_module": "@jupyter-widgets/base",
      "model_module_version": "1.2.0",
      "model_name": "LayoutModel",
      "state": {
       "_model_module": "@jupyter-widgets/base",
       "_model_module_version": "1.2.0",
       "_model_name": "LayoutModel",
       "_view_count": null,
       "_view_module": "@jupyter-widgets/base",
       "_view_module_version": "1.2.0",
       "_view_name": "LayoutView",
       "align_content": null,
       "align_items": null,
       "align_self": null,
       "border": null,
       "bottom": null,
       "display": null,
       "flex": null,
       "flex_flow": null,
       "grid_area": null,
       "grid_auto_columns": null,
       "grid_auto_flow": null,
       "grid_auto_rows": null,
       "grid_column": null,
       "grid_gap": null,
       "grid_row": null,
       "grid_template_areas": null,
       "grid_template_columns": null,
       "grid_template_rows": null,
       "height": null,
       "justify_content": null,
       "justify_items": null,
       "left": null,
       "margin": null,
       "max_height": null,
       "max_width": null,
       "min_height": null,
       "min_width": null,
       "object_fit": null,
       "object_position": null,
       "order": null,
       "overflow": null,
       "overflow_x": null,
       "overflow_y": null,
       "padding": null,
       "right": null,
       "top": null,
       "visibility": null,
       "width": null
      }
     },
     "3a6fcbb046b141a88e56c8ef1c80fbe6": {
      "model_module": "@jupyter-widgets/controls",
      "model_module_version": "1.5.0",
      "model_name": "DescriptionStyleModel",
      "state": {
       "_model_module": "@jupyter-widgets/controls",
       "_model_module_version": "1.5.0",
       "_model_name": "DescriptionStyleModel",
       "_view_count": null,
       "_view_module": "@jupyter-widgets/base",
       "_view_module_version": "1.2.0",
       "_view_name": "StyleView",
       "description_width": ""
      }
     },
     "43a1992a98bb487e8650c8806e5778e9": {
      "model_module": "@jupyter-widgets/controls",
      "model_module_version": "1.5.0",
      "model_name": "DescriptionStyleModel",
      "state": {
       "_model_module": "@jupyter-widgets/controls",
       "_model_module_version": "1.5.0",
       "_model_name": "DescriptionStyleModel",
       "_view_count": null,
       "_view_module": "@jupyter-widgets/base",
       "_view_module_version": "1.2.0",
       "_view_name": "StyleView",
       "description_width": ""
      }
     },
     "4612f77e588644c3bcdf32c3fe01165a": {
      "model_module": "@jupyter-widgets/controls",
      "model_module_version": "1.5.0",
      "model_name": "HTMLModel",
      "state": {
       "_dom_classes": [],
       "_model_module": "@jupyter-widgets/controls",
       "_model_module_version": "1.5.0",
       "_model_name": "HTMLModel",
       "_view_count": null,
       "_view_module": "@jupyter-widgets/controls",
       "_view_module_version": "1.5.0",
       "_view_name": "HTMLView",
       "description": "",
       "description_tooltip": null,
       "layout": "IPY_MODEL_d16df931c8e24c8ab93b174ecc71263b",
       "placeholder": "​",
       "style": "IPY_MODEL_015012d325b94f009011d21e0e9a89dc",
       "value": "Downloading: 100%"
      }
     },
     "480cfdd333ea4b5180377a084fc92cb3": {
      "model_module": "@jupyter-widgets/controls",
      "model_module_version": "1.5.0",
      "model_name": "HTMLModel",
      "state": {
       "_dom_classes": [],
       "_model_module": "@jupyter-widgets/controls",
       "_model_module_version": "1.5.0",
       "_model_name": "HTMLModel",
       "_view_count": null,
       "_view_module": "@jupyter-widgets/controls",
       "_view_module_version": "1.5.0",
       "_view_name": "HTMLView",
       "description": "",
       "description_tooltip": null,
       "layout": "IPY_MODEL_1384f046e91f40ae91cb957b71d5c4bd",
       "placeholder": "​",
       "style": "IPY_MODEL_ea57e96e630e4a4a86b65c1d9d1c6ade",
       "value": " 1.33G/1.33G [02:08&lt;00:00, 12.1MB/s]"
      }
     },
     "489f17b6f3f1496f9b0269a955130c11": {
      "model_module": "@jupyter-widgets/base",
      "model_module_version": "1.2.0",
      "model_name": "LayoutModel",
      "state": {
       "_model_module": "@jupyter-widgets/base",
       "_model_module_version": "1.2.0",
       "_model_name": "LayoutModel",
       "_view_count": null,
       "_view_module": "@jupyter-widgets/base",
       "_view_module_version": "1.2.0",
       "_view_name": "LayoutView",
       "align_content": null,
       "align_items": null,
       "align_self": null,
       "border": null,
       "bottom": null,
       "display": null,
       "flex": null,
       "flex_flow": null,
       "grid_area": null,
       "grid_auto_columns": null,
       "grid_auto_flow": null,
       "grid_auto_rows": null,
       "grid_column": null,
       "grid_gap": null,
       "grid_row": null,
       "grid_template_areas": null,
       "grid_template_columns": null,
       "grid_template_rows": null,
       "height": null,
       "justify_content": null,
       "justify_items": null,
       "left": null,
       "margin": null,
       "max_height": null,
       "max_width": null,
       "min_height": null,
       "min_width": null,
       "object_fit": null,
       "object_position": null,
       "order": null,
       "overflow": null,
       "overflow_x": null,
       "overflow_y": null,
       "padding": null,
       "right": null,
       "top": null,
       "visibility": null,
       "width": null
      }
     },
     "4d4b3ba8dc45484996a2f3f4a5886e9f": {
      "model_module": "@jupyter-widgets/base",
      "model_module_version": "1.2.0",
      "model_name": "LayoutModel",
      "state": {
       "_model_module": "@jupyter-widgets/base",
       "_model_module_version": "1.2.0",
       "_model_name": "LayoutModel",
       "_view_count": null,
       "_view_module": "@jupyter-widgets/base",
       "_view_module_version": "1.2.0",
       "_view_name": "LayoutView",
       "align_content": null,
       "align_items": null,
       "align_self": null,
       "border": null,
       "bottom": null,
       "display": null,
       "flex": null,
       "flex_flow": null,
       "grid_area": null,
       "grid_auto_columns": null,
       "grid_auto_flow": null,
       "grid_auto_rows": null,
       "grid_column": null,
       "grid_gap": null,
       "grid_row": null,
       "grid_template_areas": null,
       "grid_template_columns": null,
       "grid_template_rows": null,
       "height": null,
       "justify_content": null,
       "justify_items": null,
       "left": null,
       "margin": null,
       "max_height": null,
       "max_width": null,
       "min_height": null,
       "min_width": null,
       "object_fit": null,
       "object_position": null,
       "order": null,
       "overflow": null,
       "overflow_x": null,
       "overflow_y": null,
       "padding": null,
       "right": null,
       "top": null,
       "visibility": null,
       "width": null
      }
     },
     "4ecb2ac5da30433e823ba2f655ff793f": {
      "model_module": "@jupyter-widgets/controls",
      "model_module_version": "1.5.0",
      "model_name": "DescriptionStyleModel",
      "state": {
       "_model_module": "@jupyter-widgets/controls",
       "_model_module_version": "1.5.0",
       "_model_name": "DescriptionStyleModel",
       "_view_count": null,
       "_view_module": "@jupyter-widgets/base",
       "_view_module_version": "1.2.0",
       "_view_name": "StyleView",
       "description_width": ""
      }
     },
     "52989334a7aa4491ba2e0f6f8d1932e6": {
      "model_module": "@jupyter-widgets/base",
      "model_module_version": "1.2.0",
      "model_name": "LayoutModel",
      "state": {
       "_model_module": "@jupyter-widgets/base",
       "_model_module_version": "1.2.0",
       "_model_name": "LayoutModel",
       "_view_count": null,
       "_view_module": "@jupyter-widgets/base",
       "_view_module_version": "1.2.0",
       "_view_name": "LayoutView",
       "align_content": null,
       "align_items": null,
       "align_self": null,
       "border": null,
       "bottom": null,
       "display": null,
       "flex": null,
       "flex_flow": null,
       "grid_area": null,
       "grid_auto_columns": null,
       "grid_auto_flow": null,
       "grid_auto_rows": null,
       "grid_column": null,
       "grid_gap": null,
       "grid_row": null,
       "grid_template_areas": null,
       "grid_template_columns": null,
       "grid_template_rows": null,
       "height": null,
       "justify_content": null,
       "justify_items": null,
       "left": null,
       "margin": null,
       "max_height": null,
       "max_width": null,
       "min_height": null,
       "min_width": null,
       "object_fit": null,
       "object_position": null,
       "order": null,
       "overflow": null,
       "overflow_x": null,
       "overflow_y": null,
       "padding": null,
       "right": null,
       "top": null,
       "visibility": null,
       "width": null
      }
     },
     "5392b8eb05a04d43850e855ee95d2881": {
      "model_module": "@jupyter-widgets/base",
      "model_module_version": "1.2.0",
      "model_name": "LayoutModel",
      "state": {
       "_model_module": "@jupyter-widgets/base",
       "_model_module_version": "1.2.0",
       "_model_name": "LayoutModel",
       "_view_count": null,
       "_view_module": "@jupyter-widgets/base",
       "_view_module_version": "1.2.0",
       "_view_name": "LayoutView",
       "align_content": null,
       "align_items": null,
       "align_self": null,
       "border": null,
       "bottom": null,
       "display": null,
       "flex": null,
       "flex_flow": null,
       "grid_area": null,
       "grid_auto_columns": null,
       "grid_auto_flow": null,
       "grid_auto_rows": null,
       "grid_column": null,
       "grid_gap": null,
       "grid_row": null,
       "grid_template_areas": null,
       "grid_template_columns": null,
       "grid_template_rows": null,
       "height": null,
       "justify_content": null,
       "justify_items": null,
       "left": null,
       "margin": null,
       "max_height": null,
       "max_width": null,
       "min_height": null,
       "min_width": null,
       "object_fit": null,
       "object_position": null,
       "order": null,
       "overflow": null,
       "overflow_x": null,
       "overflow_y": null,
       "padding": null,
       "right": null,
       "top": null,
       "visibility": null,
       "width": null
      }
     },
     "5743bf8841254829986a5dc307a2f1f9": {
      "model_module": "@jupyter-widgets/base",
      "model_module_version": "1.2.0",
      "model_name": "LayoutModel",
      "state": {
       "_model_module": "@jupyter-widgets/base",
       "_model_module_version": "1.2.0",
       "_model_name": "LayoutModel",
       "_view_count": null,
       "_view_module": "@jupyter-widgets/base",
       "_view_module_version": "1.2.0",
       "_view_name": "LayoutView",
       "align_content": null,
       "align_items": null,
       "align_self": null,
       "border": null,
       "bottom": null,
       "display": null,
       "flex": null,
       "flex_flow": null,
       "grid_area": null,
       "grid_auto_columns": null,
       "grid_auto_flow": null,
       "grid_auto_rows": null,
       "grid_column": null,
       "grid_gap": null,
       "grid_row": null,
       "grid_template_areas": null,
       "grid_template_columns": null,
       "grid_template_rows": null,
       "height": null,
       "justify_content": null,
       "justify_items": null,
       "left": null,
       "margin": null,
       "max_height": null,
       "max_width": null,
       "min_height": null,
       "min_width": null,
       "object_fit": null,
       "object_position": null,
       "order": null,
       "overflow": null,
       "overflow_x": null,
       "overflow_y": null,
       "padding": null,
       "right": null,
       "top": null,
       "visibility": null,
       "width": null
      }
     },
     "590a2612e0c248469a983affa0fb302c": {
      "model_module": "@jupyter-widgets/base",
      "model_module_version": "1.2.0",
      "model_name": "LayoutModel",
      "state": {
       "_model_module": "@jupyter-widgets/base",
       "_model_module_version": "1.2.0",
       "_model_name": "LayoutModel",
       "_view_count": null,
       "_view_module": "@jupyter-widgets/base",
       "_view_module_version": "1.2.0",
       "_view_name": "LayoutView",
       "align_content": null,
       "align_items": null,
       "align_self": null,
       "border": null,
       "bottom": null,
       "display": null,
       "flex": null,
       "flex_flow": null,
       "grid_area": null,
       "grid_auto_columns": null,
       "grid_auto_flow": null,
       "grid_auto_rows": null,
       "grid_column": null,
       "grid_gap": null,
       "grid_row": null,
       "grid_template_areas": null,
       "grid_template_columns": null,
       "grid_template_rows": null,
       "height": null,
       "justify_content": null,
       "justify_items": null,
       "left": null,
       "margin": null,
       "max_height": null,
       "max_width": null,
       "min_height": null,
       "min_width": null,
       "object_fit": null,
       "object_position": null,
       "order": null,
       "overflow": null,
       "overflow_x": null,
       "overflow_y": null,
       "padding": null,
       "right": null,
       "top": null,
       "visibility": null,
       "width": null
      }
     },
     "641df1b8ea7b46a2a54dd49d54dfd69d": {
      "model_module": "@jupyter-widgets/controls",
      "model_module_version": "1.5.0",
      "model_name": "HBoxModel",
      "state": {
       "_dom_classes": [],
       "_model_module": "@jupyter-widgets/controls",
       "_model_module_version": "1.5.0",
       "_model_name": "HBoxModel",
       "_view_count": null,
       "_view_module": "@jupyter-widgets/controls",
       "_view_module_version": "1.5.0",
       "_view_name": "HBoxView",
       "box_style": "",
       "children": [
        "IPY_MODEL_91a97e4e7e0347daaeeb3ffcc1b7a4b3",
        "IPY_MODEL_aecdc6a092914b7aa1a5f3175a0da80f",
        "IPY_MODEL_d7bc9c67bb954162afa729355cf3f888"
       ],
       "layout": "IPY_MODEL_5392b8eb05a04d43850e855ee95d2881"
      }
     },
     "68c1553128c945d0bd667ec5bfc2280c": {
      "model_module": "@jupyter-widgets/controls",
      "model_module_version": "1.5.0",
      "model_name": "HBoxModel",
      "state": {
       "_dom_classes": [],
       "_model_module": "@jupyter-widgets/controls",
       "_model_module_version": "1.5.0",
       "_model_name": "HBoxModel",
       "_view_count": null,
       "_view_module": "@jupyter-widgets/controls",
       "_view_module_version": "1.5.0",
       "_view_name": "HBoxView",
       "box_style": "",
       "children": [
        "IPY_MODEL_d122ad5f65584fc08cfa0d8bdd03d6bf",
        "IPY_MODEL_cf754e9d4fe84efaa199776d570cb14a",
        "IPY_MODEL_bd24dc6581f04a748560429cea3907e9"
       ],
       "layout": "IPY_MODEL_7568ef3fe4634b7ca3a4c3eba0fdf4b9"
      }
     },
     "6d0c5d70ff7345409006ec0d67007840": {
      "model_module": "@jupyter-widgets/base",
      "model_module_version": "1.2.0",
      "model_name": "LayoutModel",
      "state": {
       "_model_module": "@jupyter-widgets/base",
       "_model_module_version": "1.2.0",
       "_model_name": "LayoutModel",
       "_view_count": null,
       "_view_module": "@jupyter-widgets/base",
       "_view_module_version": "1.2.0",
       "_view_name": "LayoutView",
       "align_content": null,
       "align_items": null,
       "align_self": null,
       "border": null,
       "bottom": null,
       "display": null,
       "flex": null,
       "flex_flow": null,
       "grid_area": null,
       "grid_auto_columns": null,
       "grid_auto_flow": null,
       "grid_auto_rows": null,
       "grid_column": null,
       "grid_gap": null,
       "grid_row": null,
       "grid_template_areas": null,
       "grid_template_columns": null,
       "grid_template_rows": null,
       "height": null,
       "justify_content": null,
       "justify_items": null,
       "left": null,
       "margin": null,
       "max_height": null,
       "max_width": null,
       "min_height": null,
       "min_width": null,
       "object_fit": null,
       "object_position": null,
       "order": null,
       "overflow": null,
       "overflow_x": null,
       "overflow_y": null,
       "padding": null,
       "right": null,
       "top": null,
       "visibility": null,
       "width": null
      }
     },
     "6d5fb16de96a401d9ff915ec6e9e58d4": {
      "model_module": "@jupyter-widgets/controls",
      "model_module_version": "1.5.0",
      "model_name": "FloatProgressModel",
      "state": {
       "_dom_classes": [],
       "_model_module": "@jupyter-widgets/controls",
       "_model_module_version": "1.5.0",
       "_model_name": "FloatProgressModel",
       "_view_count": null,
       "_view_module": "@jupyter-widgets/controls",
       "_view_module_version": "1.5.0",
       "_view_name": "ProgressView",
       "bar_style": "success",
       "description": "",
       "description_tooltip": null,
       "layout": "IPY_MODEL_0b33ccc18acb4aed85394dc5030522ef",
       "max": 482.0,
       "min": 0.0,
       "orientation": "horizontal",
       "style": "IPY_MODEL_fa492353144043b8a03d229a087d2ca0",
       "value": 482.0
      }
     },
     "6de9b1a065c14029a47f196b3b1a1c0a": {
      "model_module": "@jupyter-widgets/base",
      "model_module_version": "1.2.0",
      "model_name": "LayoutModel",
      "state": {
       "_model_module": "@jupyter-widgets/base",
       "_model_module_version": "1.2.0",
       "_model_name": "LayoutModel",
       "_view_count": null,
       "_view_module": "@jupyter-widgets/base",
       "_view_module_version": "1.2.0",
       "_view_name": "LayoutView",
       "align_content": null,
       "align_items": null,
       "align_self": null,
       "border": null,
       "bottom": null,
       "display": null,
       "flex": null,
       "flex_flow": null,
       "grid_area": null,
       "grid_auto_columns": null,
       "grid_auto_flow": null,
       "grid_auto_rows": null,
       "grid_column": null,
       "grid_gap": null,
       "grid_row": null,
       "grid_template_areas": null,
       "grid_template_columns": null,
       "grid_template_rows": null,
       "height": null,
       "justify_content": null,
       "justify_items": null,
       "left": null,
       "margin": null,
       "max_height": null,
       "max_width": null,
       "min_height": null,
       "min_width": null,
       "object_fit": null,
       "object_position": null,
       "order": null,
       "overflow": null,
       "overflow_x": null,
       "overflow_y": null,
       "padding": null,
       "right": null,
       "top": null,
       "visibility": null,
       "width": null
      }
     },
     "6efa47f6898c4a24823a7ddfe517cbb6": {
      "model_module": "@jupyter-widgets/controls",
      "model_module_version": "1.5.0",
      "model_name": "FloatProgressModel",
      "state": {
       "_dom_classes": [],
       "_model_module": "@jupyter-widgets/controls",
       "_model_module_version": "1.5.0",
       "_model_name": "FloatProgressModel",
       "_view_count": null,
       "_view_module": "@jupyter-widgets/controls",
       "_view_module_version": "1.5.0",
       "_view_name": "ProgressView",
       "bar_style": "success",
       "description": "",
       "description_tooltip": null,
       "layout": "IPY_MODEL_e9948d87aada4c4f885d5bb532f8dab4",
       "max": 898823.0,
       "min": 0.0,
       "orientation": "horizontal",
       "style": "IPY_MODEL_971930aeb5f94e9a832f16f3163af512",
       "value": 898823.0
      }
     },
     "7568ef3fe4634b7ca3a4c3eba0fdf4b9": {
      "model_module": "@jupyter-widgets/base",
      "model_module_version": "1.2.0",
      "model_name": "LayoutModel",
      "state": {
       "_model_module": "@jupyter-widgets/base",
       "_model_module_version": "1.2.0",
       "_model_name": "LayoutModel",
       "_view_count": null,
       "_view_module": "@jupyter-widgets/base",
       "_view_module_version": "1.2.0",
       "_view_name": "LayoutView",
       "align_content": null,
       "align_items": null,
       "align_self": null,
       "border": null,
       "bottom": null,
       "display": null,
       "flex": null,
       "flex_flow": null,
       "grid_area": null,
       "grid_auto_columns": null,
       "grid_auto_flow": null,
       "grid_auto_rows": null,
       "grid_column": null,
       "grid_gap": null,
       "grid_row": null,
       "grid_template_areas": null,
       "grid_template_columns": null,
       "grid_template_rows": null,
       "height": null,
       "justify_content": null,
       "justify_items": null,
       "left": null,
       "margin": null,
       "max_height": null,
       "max_width": null,
       "min_height": null,
       "min_width": null,
       "object_fit": null,
       "object_position": null,
       "order": null,
       "overflow": null,
       "overflow_x": null,
       "overflow_y": null,
       "padding": null,
       "right": null,
       "top": null,
       "visibility": null,
       "width": null
      }
     },
     "7673197ebc694a9290feb3ae6274cca9": {
      "model_module": "@jupyter-widgets/base",
      "model_module_version": "1.2.0",
      "model_name": "LayoutModel",
      "state": {
       "_model_module": "@jupyter-widgets/base",
       "_model_module_version": "1.2.0",
       "_model_name": "LayoutModel",
       "_view_count": null,
       "_view_module": "@jupyter-widgets/base",
       "_view_module_version": "1.2.0",
       "_view_name": "LayoutView",
       "align_content": null,
       "align_items": null,
       "align_self": null,
       "border": null,
       "bottom": null,
       "display": null,
       "flex": null,
       "flex_flow": null,
       "grid_area": null,
       "grid_auto_columns": null,
       "grid_auto_flow": null,
       "grid_auto_rows": null,
       "grid_column": null,
       "grid_gap": null,
       "grid_row": null,
       "grid_template_areas": null,
       "grid_template_columns": null,
       "grid_template_rows": null,
       "height": null,
       "justify_content": null,
       "justify_items": null,
       "left": null,
       "margin": null,
       "max_height": null,
       "max_width": null,
       "min_height": null,
       "min_width": null,
       "object_fit": null,
       "object_position": null,
       "order": null,
       "overflow": null,
       "overflow_x": null,
       "overflow_y": null,
       "padding": null,
       "right": null,
       "top": null,
       "visibility": null,
       "width": null
      }
     },
     "7bc3a05aa77145fca381ffe08aec94e6": {
      "model_module": "@jupyter-widgets/controls",
      "model_module_version": "1.5.0",
      "model_name": "DescriptionStyleModel",
      "state": {
       "_model_module": "@jupyter-widgets/controls",
       "_model_module_version": "1.5.0",
       "_model_name": "DescriptionStyleModel",
       "_view_count": null,
       "_view_module": "@jupyter-widgets/base",
       "_view_module_version": "1.2.0",
       "_view_name": "StyleView",
       "description_width": ""
      }
     },
     "7e36405435ce4edcb8d079ce447274ee": {
      "model_module": "@jupyter-widgets/base",
      "model_module_version": "1.2.0",
      "model_name": "LayoutModel",
      "state": {
       "_model_module": "@jupyter-widgets/base",
       "_model_module_version": "1.2.0",
       "_model_name": "LayoutModel",
       "_view_count": null,
       "_view_module": "@jupyter-widgets/base",
       "_view_module_version": "1.2.0",
       "_view_name": "LayoutView",
       "align_content": null,
       "align_items": null,
       "align_self": null,
       "border": null,
       "bottom": null,
       "display": null,
       "flex": null,
       "flex_flow": null,
       "grid_area": null,
       "grid_auto_columns": null,
       "grid_auto_flow": null,
       "grid_auto_rows": null,
       "grid_column": null,
       "grid_gap": null,
       "grid_row": null,
       "grid_template_areas": null,
       "grid_template_columns": null,
       "grid_template_rows": null,
       "height": null,
       "justify_content": null,
       "justify_items": null,
       "left": null,
       "margin": null,
       "max_height": null,
       "max_width": null,
       "min_height": null,
       "min_width": null,
       "object_fit": null,
       "object_position": null,
       "order": null,
       "overflow": null,
       "overflow_x": null,
       "overflow_y": null,
       "padding": null,
       "right": null,
       "top": null,
       "visibility": null,
       "width": null
      }
     },
     "81b250852bfd42e49284dd8e736cdfc9": {
      "model_module": "@jupyter-widgets/base",
      "model_module_version": "1.2.0",
      "model_name": "LayoutModel",
      "state": {
       "_model_module": "@jupyter-widgets/base",
       "_model_module_version": "1.2.0",
       "_model_name": "LayoutModel",
       "_view_count": null,
       "_view_module": "@jupyter-widgets/base",
       "_view_module_version": "1.2.0",
       "_view_name": "LayoutView",
       "align_content": null,
       "align_items": null,
       "align_self": null,
       "border": null,
       "bottom": null,
       "display": null,
       "flex": null,
       "flex_flow": null,
       "grid_area": null,
       "grid_auto_columns": null,
       "grid_auto_flow": null,
       "grid_auto_rows": null,
       "grid_column": null,
       "grid_gap": null,
       "grid_row": null,
       "grid_template_areas": null,
       "grid_template_columns": null,
       "grid_template_rows": null,
       "height": null,
       "justify_content": null,
       "justify_items": null,
       "left": null,
       "margin": null,
       "max_height": null,
       "max_width": null,
       "min_height": null,
       "min_width": null,
       "object_fit": null,
       "object_position": null,
       "order": null,
       "overflow": null,
       "overflow_x": null,
       "overflow_y": null,
       "padding": null,
       "right": null,
       "top": null,
       "visibility": null,
       "width": null
      }
     },
     "8218c6b6efb64f7f9cefba6f9dcba6f9": {
      "model_module": "@jupyter-widgets/controls",
      "model_module_version": "1.5.0",
      "model_name": "HTMLModel",
      "state": {
       "_dom_classes": [],
       "_model_module": "@jupyter-widgets/controls",
       "_model_module_version": "1.5.0",
       "_model_name": "HTMLModel",
       "_view_count": null,
       "_view_module": "@jupyter-widgets/controls",
       "_view_module_version": "1.5.0",
       "_view_name": "HTMLView",
       "description": "",
       "description_tooltip": null,
       "layout": "IPY_MODEL_7673197ebc694a9290feb3ae6274cca9",
       "placeholder": "​",
       "style": "IPY_MODEL_f9baf39283f2456c9fa0e6a388e9957e",
       "value": "Downloading: 100%"
      }
     },
     "85e04d2a77cf4881b901ba2167b3936b": {
      "model_module": "@jupyter-widgets/base",
      "model_module_version": "1.2.0",
      "model_name": "LayoutModel",
      "state": {
       "_model_module": "@jupyter-widgets/base",
       "_model_module_version": "1.2.0",
       "_model_name": "LayoutModel",
       "_view_count": null,
       "_view_module": "@jupyter-widgets/base",
       "_view_module_version": "1.2.0",
       "_view_name": "LayoutView",
       "align_content": null,
       "align_items": null,
       "align_self": null,
       "border": null,
       "bottom": null,
       "display": null,
       "flex": null,
       "flex_flow": null,
       "grid_area": null,
       "grid_auto_columns": null,
       "grid_auto_flow": null,
       "grid_auto_rows": null,
       "grid_column": null,
       "grid_gap": null,
       "grid_row": null,
       "grid_template_areas": null,
       "grid_template_columns": null,
       "grid_template_rows": null,
       "height": null,
       "justify_content": null,
       "justify_items": null,
       "left": null,
       "margin": null,
       "max_height": null,
       "max_width": null,
       "min_height": null,
       "min_width": null,
       "object_fit": null,
       "object_position": null,
       "order": null,
       "overflow": null,
       "overflow_x": null,
       "overflow_y": null,
       "padding": null,
       "right": null,
       "top": null,
       "visibility": null,
       "width": null
      }
     },
     "86388e54ac17495199a4673fcddfb475": {
      "model_module": "@jupyter-widgets/controls",
      "model_module_version": "1.5.0",
      "model_name": "HBoxModel",
      "state": {
       "_dom_classes": [],
       "_model_module": "@jupyter-widgets/controls",
       "_model_module_version": "1.5.0",
       "_model_name": "HBoxModel",
       "_view_count": null,
       "_view_module": "@jupyter-widgets/controls",
       "_view_module_version": "1.5.0",
       "_view_name": "HBoxView",
       "box_style": "",
       "children": [
        "IPY_MODEL_14ca201557134be9a473dad6cdb19290",
        "IPY_MODEL_6efa47f6898c4a24823a7ddfe517cbb6",
        "IPY_MODEL_e327e43dcd8c4cb2b844d3bbb3084cc9"
       ],
       "layout": "IPY_MODEL_f2968d2be8a044a5bed9a63885d67a8b"
      }
     },
     "885a77e17c8b4868a70f85bc9d85dd08": {
      "model_module": "@jupyter-widgets/base",
      "model_module_version": "1.2.0",
      "model_name": "LayoutModel",
      "state": {
       "_model_module": "@jupyter-widgets/base",
       "_model_module_version": "1.2.0",
       "_model_name": "LayoutModel",
       "_view_count": null,
       "_view_module": "@jupyter-widgets/base",
       "_view_module_version": "1.2.0",
       "_view_name": "LayoutView",
       "align_content": null,
       "align_items": null,
       "align_self": null,
       "border": null,
       "bottom": null,
       "display": null,
       "flex": null,
       "flex_flow": null,
       "grid_area": null,
       "grid_auto_columns": null,
       "grid_auto_flow": null,
       "grid_auto_rows": null,
       "grid_column": null,
       "grid_gap": null,
       "grid_row": null,
       "grid_template_areas": null,
       "grid_template_columns": null,
       "grid_template_rows": null,
       "height": null,
       "justify_content": null,
       "justify_items": null,
       "left": null,
       "margin": null,
       "max_height": null,
       "max_width": null,
       "min_height": null,
       "min_width": null,
       "object_fit": null,
       "object_position": null,
       "order": null,
       "overflow": null,
       "overflow_x": null,
       "overflow_y": null,
       "padding": null,
       "right": null,
       "top": null,
       "visibility": null,
       "width": null
      }
     },
     "8a02ad5828314adcb209c7fa5502c11b": {
      "model_module": "@jupyter-widgets/controls",
      "model_module_version": "1.5.0",
      "model_name": "FloatProgressModel",
      "state": {
       "_dom_classes": [],
       "_model_module": "@jupyter-widgets/controls",
       "_model_module_version": "1.5.0",
       "_model_name": "FloatProgressModel",
       "_view_count": null,
       "_view_module": "@jupyter-widgets/controls",
       "_view_module_version": "1.5.0",
       "_view_name": "ProgressView",
       "bar_style": "success",
       "description": "",
       "description_tooltip": null,
       "layout": "IPY_MODEL_6de9b1a065c14029a47f196b3b1a1c0a",
       "max": 456318.0,
       "min": 0.0,
       "orientation": "horizontal",
       "style": "IPY_MODEL_315c2cd06d4c4cb4bd4ab670cd5242de",
       "value": 456318.0
      }
     },
     "91a97e4e7e0347daaeeb3ffcc1b7a4b3": {
      "model_module": "@jupyter-widgets/controls",
      "model_module_version": "1.5.0",
      "model_name": "HTMLModel",
      "state": {
       "_dom_classes": [],
       "_model_module": "@jupyter-widgets/controls",
       "_model_module_version": "1.5.0",
       "_model_name": "HTMLModel",
       "_view_count": null,
       "_view_module": "@jupyter-widgets/controls",
       "_view_module_version": "1.5.0",
       "_view_name": "HTMLView",
       "description": "",
       "description_tooltip": null,
       "layout": "IPY_MODEL_9c5f243e298e44198daf6b47a8b736be",
       "placeholder": "​",
       "style": "IPY_MODEL_4ecb2ac5da30433e823ba2f655ff793f",
       "value": "Downloading: 100%"
      }
     },
     "927c3aa3d68d4083a73a64fdd0a73e27": {
      "model_module": "@jupyter-widgets/controls",
      "model_module_version": "1.5.0",
      "model_name": "FloatProgressModel",
      "state": {
       "_dom_classes": [],
       "_model_module": "@jupyter-widgets/controls",
       "_model_module_version": "1.5.0",
       "_model_name": "FloatProgressModel",
       "_view_count": null,
       "_view_module": "@jupyter-widgets/controls",
       "_view_module_version": "1.5.0",
       "_view_name": "ProgressView",
       "bar_style": "success",
       "description": "",
       "description_tooltip": null,
       "layout": "IPY_MODEL_adf0818c2bda41a09b9ceec6ed04a993",
       "max": 1425941629.0,
       "min": 0.0,
       "orientation": "horizontal",
       "style": "IPY_MODEL_98eda70288fb48a799fd53d954c45923",
       "value": 1425941629.0
      }
     },
     "95e4968402214dbd9d331a4d7411d993": {
      "model_module": "@jupyter-widgets/controls",
      "model_module_version": "1.5.0",
      "model_name": "ProgressStyleModel",
      "state": {
       "_model_module": "@jupyter-widgets/controls",
       "_model_module_version": "1.5.0",
       "_model_name": "ProgressStyleModel",
       "_view_count": null,
       "_view_module": "@jupyter-widgets/base",
       "_view_module_version": "1.2.0",
       "_view_name": "StyleView",
       "bar_color": null,
       "description_width": ""
      }
     },
     "971930aeb5f94e9a832f16f3163af512": {
      "model_module": "@jupyter-widgets/controls",
      "model_module_version": "1.5.0",
      "model_name": "ProgressStyleModel",
      "state": {
       "_model_module": "@jupyter-widgets/controls",
       "_model_module_version": "1.5.0",
       "_model_name": "ProgressStyleModel",
       "_view_count": null,
       "_view_module": "@jupyter-widgets/base",
       "_view_module_version": "1.2.0",
       "_view_name": "StyleView",
       "bar_color": null,
       "description_width": ""
      }
     },
     "98eda70288fb48a799fd53d954c45923": {
      "model_module": "@jupyter-widgets/controls",
      "model_module_version": "1.5.0",
      "model_name": "ProgressStyleModel",
      "state": {
       "_model_module": "@jupyter-widgets/controls",
       "_model_module_version": "1.5.0",
       "_model_name": "ProgressStyleModel",
       "_view_count": null,
       "_view_module": "@jupyter-widgets/base",
       "_view_module_version": "1.2.0",
       "_view_name": "StyleView",
       "bar_color": null,
       "description_width": ""
      }
     },
     "9c5f243e298e44198daf6b47a8b736be": {
      "model_module": "@jupyter-widgets/base",
      "model_module_version": "1.2.0",
      "model_name": "LayoutModel",
      "state": {
       "_model_module": "@jupyter-widgets/base",
       "_model_module_version": "1.2.0",
       "_model_name": "LayoutModel",
       "_view_count": null,
       "_view_module": "@jupyter-widgets/base",
       "_view_module_version": "1.2.0",
       "_view_name": "LayoutView",
       "align_content": null,
       "align_items": null,
       "align_self": null,
       "border": null,
       "bottom": null,
       "display": null,
       "flex": null,
       "flex_flow": null,
       "grid_area": null,
       "grid_auto_columns": null,
       "grid_auto_flow": null,
       "grid_auto_rows": null,
       "grid_column": null,
       "grid_gap": null,
       "grid_row": null,
       "grid_template_areas": null,
       "grid_template_columns": null,
       "grid_template_rows": null,
       "height": null,
       "justify_content": null,
       "justify_items": null,
       "left": null,
       "margin": null,
       "max_height": null,
       "max_width": null,
       "min_height": null,
       "min_width": null,
       "object_fit": null,
       "object_position": null,
       "order": null,
       "overflow": null,
       "overflow_x": null,
       "overflow_y": null,
       "padding": null,
       "right": null,
       "top": null,
       "visibility": null,
       "width": null
      }
     },
     "a12cad831aa844dc81f1cc6abc5f3eca": {
      "model_module": "@jupyter-widgets/controls",
      "model_module_version": "1.5.0",
      "model_name": "HTMLModel",
      "state": {
       "_dom_classes": [],
       "_model_module": "@jupyter-widgets/controls",
       "_model_module_version": "1.5.0",
       "_model_name": "HTMLModel",
       "_view_count": null,
       "_view_module": "@jupyter-widgets/controls",
       "_view_module_version": "1.5.0",
       "_view_name": "HTMLView",
       "description": "",
       "description_tooltip": null,
       "layout": "IPY_MODEL_5743bf8841254829986a5dc307a2f1f9",
       "placeholder": "​",
       "style": "IPY_MODEL_cea5b7c8b2f249bf831aba728069c0af",
       "value": "Downloading: 100%"
      }
     },
     "a16714631cb74b45a294de2e1cc10f21": {
      "model_module": "@jupyter-widgets/controls",
      "model_module_version": "1.5.0",
      "model_name": "DescriptionStyleModel",
      "state": {
       "_model_module": "@jupyter-widgets/controls",
       "_model_module_version": "1.5.0",
       "_model_name": "DescriptionStyleModel",
       "_view_count": null,
       "_view_module": "@jupyter-widgets/base",
       "_view_module_version": "1.2.0",
       "_view_name": "StyleView",
       "description_width": ""
      }
     },
     "a55ca1481a9546dc843c48e1fe34f212": {
      "model_module": "@jupyter-widgets/base",
      "model_module_version": "1.2.0",
      "model_name": "LayoutModel",
      "state": {
       "_model_module": "@jupyter-widgets/base",
       "_model_module_version": "1.2.0",
       "_model_name": "LayoutModel",
       "_view_count": null,
       "_view_module": "@jupyter-widgets/base",
       "_view_module_version": "1.2.0",
       "_view_name": "LayoutView",
       "align_content": null,
       "align_items": null,
       "align_self": null,
       "border": null,
       "bottom": null,
       "display": null,
       "flex": null,
       "flex_flow": null,
       "grid_area": null,
       "grid_auto_columns": null,
       "grid_auto_flow": null,
       "grid_auto_rows": null,
       "grid_column": null,
       "grid_gap": null,
       "grid_row": null,
       "grid_template_areas": null,
       "grid_template_columns": null,
       "grid_template_rows": null,
       "height": null,
       "justify_content": null,
       "justify_items": null,
       "left": null,
       "margin": null,
       "max_height": null,
       "max_width": null,
       "min_height": null,
       "min_width": null,
       "object_fit": null,
       "object_position": null,
       "order": null,
       "overflow": null,
       "overflow_x": null,
       "overflow_y": null,
       "padding": null,
       "right": null,
       "top": null,
       "visibility": null,
       "width": null
      }
     },
     "a5a9518e642b450da3e0eadb4ac06853": {
      "model_module": "@jupyter-widgets/base",
      "model_module_version": "1.2.0",
      "model_name": "LayoutModel",
      "state": {
       "_model_module": "@jupyter-widgets/base",
       "_model_module_version": "1.2.0",
       "_model_name": "LayoutModel",
       "_view_count": null,
       "_view_module": "@jupyter-widgets/base",
       "_view_module_version": "1.2.0",
       "_view_name": "LayoutView",
       "align_content": null,
       "align_items": null,
       "align_self": null,
       "border": null,
       "bottom": null,
       "display": null,
       "flex": null,
       "flex_flow": null,
       "grid_area": null,
       "grid_auto_columns": null,
       "grid_auto_flow": null,
       "grid_auto_rows": null,
       "grid_column": null,
       "grid_gap": null,
       "grid_row": null,
       "grid_template_areas": null,
       "grid_template_columns": null,
       "grid_template_rows": null,
       "height": null,
       "justify_content": null,
       "justify_items": null,
       "left": null,
       "margin": null,
       "max_height": null,
       "max_width": null,
       "min_height": null,
       "min_width": null,
       "object_fit": null,
       "object_position": null,
       "order": null,
       "overflow": null,
       "overflow_x": null,
       "overflow_y": null,
       "padding": null,
       "right": null,
       "top": null,
       "visibility": null,
       "width": null
      }
     },
     "a871f844b0e5493d9c990300db27b5c0": {
      "model_module": "@jupyter-widgets/controls",
      "model_module_version": "1.5.0",
      "model_name": "DescriptionStyleModel",
      "state": {
       "_model_module": "@jupyter-widgets/controls",
       "_model_module_version": "1.5.0",
       "_model_name": "DescriptionStyleModel",
       "_view_count": null,
       "_view_module": "@jupyter-widgets/base",
       "_view_module_version": "1.2.0",
       "_view_name": "StyleView",
       "description_width": ""
      }
     },
     "adf0818c2bda41a09b9ceec6ed04a993": {
      "model_module": "@jupyter-widgets/base",
      "model_module_version": "1.2.0",
      "model_name": "LayoutModel",
      "state": {
       "_model_module": "@jupyter-widgets/base",
       "_model_module_version": "1.2.0",
       "_model_name": "LayoutModel",
       "_view_count": null,
       "_view_module": "@jupyter-widgets/base",
       "_view_module_version": "1.2.0",
       "_view_name": "LayoutView",
       "align_content": null,
       "align_items": null,
       "align_self": null,
       "border": null,
       "bottom": null,
       "display": null,
       "flex": null,
       "flex_flow": null,
       "grid_area": null,
       "grid_auto_columns": null,
       "grid_auto_flow": null,
       "grid_auto_rows": null,
       "grid_column": null,
       "grid_gap": null,
       "grid_row": null,
       "grid_template_areas": null,
       "grid_template_columns": null,
       "grid_template_rows": null,
       "height": null,
       "justify_content": null,
       "justify_items": null,
       "left": null,
       "margin": null,
       "max_height": null,
       "max_width": null,
       "min_height": null,
       "min_width": null,
       "object_fit": null,
       "object_position": null,
       "order": null,
       "overflow": null,
       "overflow_x": null,
       "overflow_y": null,
       "padding": null,
       "right": null,
       "top": null,
       "visibility": null,
       "width": null
      }
     },
     "aecdc6a092914b7aa1a5f3175a0da80f": {
      "model_module": "@jupyter-widgets/controls",
      "model_module_version": "1.5.0",
      "model_name": "FloatProgressModel",
      "state": {
       "_dom_classes": [],
       "_model_module": "@jupyter-widgets/controls",
       "_model_module_version": "1.5.0",
       "_model_name": "FloatProgressModel",
       "_view_count": null,
       "_view_module": "@jupyter-widgets/controls",
       "_view_module_version": "1.5.0",
       "_view_name": "ProgressView",
       "bar_style": "success",
       "description": "",
       "description_tooltip": null,
       "layout": "IPY_MODEL_52989334a7aa4491ba2e0f6f8d1932e6",
       "max": 456318.0,
       "min": 0.0,
       "orientation": "horizontal",
       "style": "IPY_MODEL_cc5e0d896fe84156bbd64253cb182f8d",
       "value": 456318.0
      }
     },
     "b979108566e940e28d885612d8cedbd9": {
      "model_module": "@jupyter-widgets/controls",
      "model_module_version": "1.5.0",
      "model_name": "DescriptionStyleModel",
      "state": {
       "_model_module": "@jupyter-widgets/controls",
       "_model_module_version": "1.5.0",
       "_model_name": "DescriptionStyleModel",
       "_view_count": null,
       "_view_module": "@jupyter-widgets/base",
       "_view_module_version": "1.2.0",
       "_view_name": "StyleView",
       "description_width": ""
      }
     },
     "bd24dc6581f04a748560429cea3907e9": {
      "model_module": "@jupyter-widgets/controls",
      "model_module_version": "1.5.0",
      "model_name": "HTMLModel",
      "state": {
       "_dom_classes": [],
       "_model_module": "@jupyter-widgets/controls",
       "_model_module_version": "1.5.0",
       "_model_name": "HTMLModel",
       "_view_count": null,
       "_view_module": "@jupyter-widgets/controls",
       "_view_module_version": "1.5.0",
       "_view_name": "HTMLView",
       "description": "",
       "description_tooltip": null,
       "layout": "IPY_MODEL_85e04d2a77cf4881b901ba2167b3936b",
       "placeholder": "​",
       "style": "IPY_MODEL_a871f844b0e5493d9c990300db27b5c0",
       "value": " 481/481 [00:00&lt;00:00, 18.7kB/s]"
      }
     },
     "bd89c78c47da48e1b25c25fd604aed3a": {
      "model_module": "@jupyter-widgets/base",
      "model_module_version": "1.2.0",
      "model_name": "LayoutModel",
      "state": {
       "_model_module": "@jupyter-widgets/base",
       "_model_module_version": "1.2.0",
       "_model_name": "LayoutModel",
       "_view_count": null,
       "_view_module": "@jupyter-widgets/base",
       "_view_module_version": "1.2.0",
       "_view_name": "LayoutView",
       "align_content": null,
       "align_items": null,
       "align_self": null,
       "border": null,
       "bottom": null,
       "display": null,
       "flex": null,
       "flex_flow": null,
       "grid_area": null,
       "grid_auto_columns": null,
       "grid_auto_flow": null,
       "grid_auto_rows": null,
       "grid_column": null,
       "grid_gap": null,
       "grid_row": null,
       "grid_template_areas": null,
       "grid_template_columns": null,
       "grid_template_rows": null,
       "height": null,
       "justify_content": null,
       "justify_items": null,
       "left": null,
       "margin": null,
       "max_height": null,
       "max_width": null,
       "min_height": null,
       "min_width": null,
       "object_fit": null,
       "object_position": null,
       "order": null,
       "overflow": null,
       "overflow_x": null,
       "overflow_y": null,
       "padding": null,
       "right": null,
       "top": null,
       "visibility": null,
       "width": null
      }
     },
     "cc5e0d896fe84156bbd64253cb182f8d": {
      "model_module": "@jupyter-widgets/controls",
      "model_module_version": "1.5.0",
      "model_name": "ProgressStyleModel",
      "state": {
       "_model_module": "@jupyter-widgets/controls",
       "_model_module_version": "1.5.0",
       "_model_name": "ProgressStyleModel",
       "_view_count": null,
       "_view_module": "@jupyter-widgets/base",
       "_view_module_version": "1.2.0",
       "_view_name": "StyleView",
       "bar_color": null,
       "description_width": ""
      }
     },
     "cea5b7c8b2f249bf831aba728069c0af": {
      "model_module": "@jupyter-widgets/controls",
      "model_module_version": "1.5.0",
      "model_name": "DescriptionStyleModel",
      "state": {
       "_model_module": "@jupyter-widgets/controls",
       "_model_module_version": "1.5.0",
       "_model_name": "DescriptionStyleModel",
       "_view_count": null,
       "_view_module": "@jupyter-widgets/base",
       "_view_module_version": "1.2.0",
       "_view_name": "StyleView",
       "description_width": ""
      }
     },
     "cf754e9d4fe84efaa199776d570cb14a": {
      "model_module": "@jupyter-widgets/controls",
      "model_module_version": "1.5.0",
      "model_name": "FloatProgressModel",
      "state": {
       "_dom_classes": [],
       "_model_module": "@jupyter-widgets/controls",
       "_model_module_version": "1.5.0",
       "_model_name": "FloatProgressModel",
       "_view_count": null,
       "_view_module": "@jupyter-widgets/controls",
       "_view_module_version": "1.5.0",
       "_view_name": "ProgressView",
       "bar_style": "success",
       "description": "",
       "description_tooltip": null,
       "layout": "IPY_MODEL_a5a9518e642b450da3e0eadb4ac06853",
       "max": 481.0,
       "min": 0.0,
       "orientation": "horizontal",
       "style": "IPY_MODEL_005280af22d14c26ab1c26ff0c107f29",
       "value": 481.0
      }
     },
     "d122ad5f65584fc08cfa0d8bdd03d6bf": {
      "model_module": "@jupyter-widgets/controls",
      "model_module_version": "1.5.0",
      "model_name": "HTMLModel",
      "state": {
       "_dom_classes": [],
       "_model_module": "@jupyter-widgets/controls",
       "_model_module_version": "1.5.0",
       "_model_name": "HTMLModel",
       "_view_count": null,
       "_view_module": "@jupyter-widgets/controls",
       "_view_module_version": "1.5.0",
       "_view_name": "HTMLView",
       "description": "",
       "description_tooltip": null,
       "layout": "IPY_MODEL_7e36405435ce4edcb8d079ce447274ee",
       "placeholder": "​",
       "style": "IPY_MODEL_7bc3a05aa77145fca381ffe08aec94e6",
       "value": "Downloading: 100%"
      }
     },
     "d16df931c8e24c8ab93b174ecc71263b": {
      "model_module": "@jupyter-widgets/base",
      "model_module_version": "1.2.0",
      "model_name": "LayoutModel",
      "state": {
       "_model_module": "@jupyter-widgets/base",
       "_model_module_version": "1.2.0",
       "_model_name": "LayoutModel",
       "_view_count": null,
       "_view_module": "@jupyter-widgets/base",
       "_view_module_version": "1.2.0",
       "_view_name": "LayoutView",
       "align_content": null,
       "align_items": null,
       "align_self": null,
       "border": null,
       "bottom": null,
       "display": null,
       "flex": null,
       "flex_flow": null,
       "grid_area": null,
       "grid_auto_columns": null,
       "grid_auto_flow": null,
       "grid_auto_rows": null,
       "grid_column": null,
       "grid_gap": null,
       "grid_row": null,
       "grid_template_areas": null,
       "grid_template_columns": null,
       "grid_template_rows": null,
       "height": null,
       "justify_content": null,
       "justify_items": null,
       "left": null,
       "margin": null,
       "max_height": null,
       "max_width": null,
       "min_height": null,
       "min_width": null,
       "object_fit": null,
       "object_position": null,
       "order": null,
       "overflow": null,
       "overflow_x": null,
       "overflow_y": null,
       "padding": null,
       "right": null,
       "top": null,
       "visibility": null,
       "width": null
      }
     },
     "d63c38e7d69147d988c5567db89b20c4": {
      "model_module": "@jupyter-widgets/base",
      "model_module_version": "1.2.0",
      "model_name": "LayoutModel",
      "state": {
       "_model_module": "@jupyter-widgets/base",
       "_model_module_version": "1.2.0",
       "_model_name": "LayoutModel",
       "_view_count": null,
       "_view_module": "@jupyter-widgets/base",
       "_view_module_version": "1.2.0",
       "_view_name": "LayoutView",
       "align_content": null,
       "align_items": null,
       "align_self": null,
       "border": null,
       "bottom": null,
       "display": null,
       "flex": null,
       "flex_flow": null,
       "grid_area": null,
       "grid_auto_columns": null,
       "grid_auto_flow": null,
       "grid_auto_rows": null,
       "grid_column": null,
       "grid_gap": null,
       "grid_row": null,
       "grid_template_areas": null,
       "grid_template_columns": null,
       "grid_template_rows": null,
       "height": null,
       "justify_content": null,
       "justify_items": null,
       "left": null,
       "margin": null,
       "max_height": null,
       "max_width": null,
       "min_height": null,
       "min_width": null,
       "object_fit": null,
       "object_position": null,
       "order": null,
       "overflow": null,
       "overflow_x": null,
       "overflow_y": null,
       "padding": null,
       "right": null,
       "top": null,
       "visibility": null,
       "width": null
      }
     },
     "d7bc9c67bb954162afa729355cf3f888": {
      "model_module": "@jupyter-widgets/controls",
      "model_module_version": "1.5.0",
      "model_name": "HTMLModel",
      "state": {
       "_dom_classes": [],
       "_model_module": "@jupyter-widgets/controls",
       "_model_module_version": "1.5.0",
       "_model_name": "HTMLModel",
       "_view_count": null,
       "_view_module": "@jupyter-widgets/controls",
       "_view_module_version": "1.5.0",
       "_view_name": "HTMLView",
       "description": "",
       "description_tooltip": null,
       "layout": "IPY_MODEL_a55ca1481a9546dc843c48e1fe34f212",
       "placeholder": "​",
       "style": "IPY_MODEL_f665b99ca8754877ae3324b5543cebad",
       "value": " 446k/446k [00:00&lt;00:00, 575kB/s]"
      }
     },
     "d8838a5394ac4af9934b130c092a7d99": {
      "model_module": "@jupyter-widgets/controls",
      "model_module_version": "1.5.0",
      "model_name": "HTMLModel",
      "state": {
       "_dom_classes": [],
       "_model_module": "@jupyter-widgets/controls",
       "_model_module_version": "1.5.0",
       "_model_name": "HTMLModel",
       "_view_count": null,
       "_view_module": "@jupyter-widgets/controls",
       "_view_module_version": "1.5.0",
       "_view_name": "HTMLView",
       "description": "",
       "description_tooltip": null,
       "layout": "IPY_MODEL_885a77e17c8b4868a70f85bc9d85dd08",
       "placeholder": "​",
       "style": "IPY_MODEL_a16714631cb74b45a294de2e1cc10f21",
       "value": " 482/482 [00:00&lt;00:00, 18.9kB/s]"
      }
     },
     "e14c34bfb97e4588a538b1401fc86407": {
      "model_module": "@jupyter-widgets/controls",
      "model_module_version": "1.5.0",
      "model_name": "DescriptionStyleModel",
      "state": {
       "_model_module": "@jupyter-widgets/controls",
       "_model_module_version": "1.5.0",
       "_model_name": "DescriptionStyleModel",
       "_view_count": null,
       "_view_module": "@jupyter-widgets/base",
       "_view_module_version": "1.2.0",
       "_view_name": "StyleView",
       "description_width": ""
      }
     },
     "e327e43dcd8c4cb2b844d3bbb3084cc9": {
      "model_module": "@jupyter-widgets/controls",
      "model_module_version": "1.5.0",
      "model_name": "HTMLModel",
      "state": {
       "_dom_classes": [],
       "_model_module": "@jupyter-widgets/controls",
       "_model_module_version": "1.5.0",
       "_model_name": "HTMLModel",
       "_view_count": null,
       "_view_module": "@jupyter-widgets/controls",
       "_view_module_version": "1.5.0",
       "_view_name": "HTMLView",
       "description": "",
       "description_tooltip": null,
       "layout": "IPY_MODEL_81b250852bfd42e49284dd8e736cdfc9",
       "placeholder": "​",
       "style": "IPY_MODEL_43a1992a98bb487e8650c8806e5778e9",
       "value": " 878k/878k [00:01&lt;00:00, 1.12MB/s]"
      }
     },
     "e67c53700b6c4813abcfdcebd32b2481": {
      "model_module": "@jupyter-widgets/controls",
      "model_module_version": "1.5.0",
      "model_name": "HTMLModel",
      "state": {
       "_dom_classes": [],
       "_model_module": "@jupyter-widgets/controls",
       "_model_module_version": "1.5.0",
       "_model_name": "HTMLModel",
       "_view_count": null,
       "_view_module": "@jupyter-widgets/controls",
       "_view_module_version": "1.5.0",
       "_view_name": "HTMLView",
       "description": "",
       "description_tooltip": null,
       "layout": "IPY_MODEL_bd89c78c47da48e1b25c25fd604aed3a",
       "placeholder": "​",
       "style": "IPY_MODEL_3a6fcbb046b141a88e56c8ef1c80fbe6",
       "value": " 878k/878k [00:01&lt;00:00, 818kB/s]"
      }
     },
     "e9948d87aada4c4f885d5bb532f8dab4": {
      "model_module": "@jupyter-widgets/base",
      "model_module_version": "1.2.0",
      "model_name": "LayoutModel",
      "state": {
       "_model_module": "@jupyter-widgets/base",
       "_model_module_version": "1.2.0",
       "_model_name": "LayoutModel",
       "_view_count": null,
       "_view_module": "@jupyter-widgets/base",
       "_view_module_version": "1.2.0",
       "_view_name": "LayoutView",
       "align_content": null,
       "align_items": null,
       "align_self": null,
       "border": null,
       "bottom": null,
       "display": null,
       "flex": null,
       "flex_flow": null,
       "grid_area": null,
       "grid_auto_columns": null,
       "grid_auto_flow": null,
       "grid_auto_rows": null,
       "grid_column": null,
       "grid_gap": null,
       "grid_row": null,
       "grid_template_areas": null,
       "grid_template_columns": null,
       "grid_template_rows": null,
       "height": null,
       "justify_content": null,
       "justify_items": null,
       "left": null,
       "margin": null,
       "max_height": null,
       "max_width": null,
       "min_height": null,
       "min_width": null,
       "object_fit": null,
       "object_position": null,
       "order": null,
       "overflow": null,
       "overflow_x": null,
       "overflow_y": null,
       "padding": null,
       "right": null,
       "top": null,
       "visibility": null,
       "width": null
      }
     },
     "ea57e96e630e4a4a86b65c1d9d1c6ade": {
      "model_module": "@jupyter-widgets/controls",
      "model_module_version": "1.5.0",
      "model_name": "DescriptionStyleModel",
      "state": {
       "_model_module": "@jupyter-widgets/controls",
       "_model_module_version": "1.5.0",
       "_model_name": "DescriptionStyleModel",
       "_view_count": null,
       "_view_module": "@jupyter-widgets/base",
       "_view_module_version": "1.2.0",
       "_view_name": "StyleView",
       "description_width": ""
      }
     },
     "ed551c7536864c7d9a8747ce074a3f62": {
      "model_module": "@jupyter-widgets/controls",
      "model_module_version": "1.5.0",
      "model_name": "DescriptionStyleModel",
      "state": {
       "_model_module": "@jupyter-widgets/controls",
       "_model_module_version": "1.5.0",
       "_model_name": "DescriptionStyleModel",
       "_view_count": null,
       "_view_module": "@jupyter-widgets/base",
       "_view_module_version": "1.2.0",
       "_view_name": "StyleView",
       "description_width": ""
      }
     },
     "ef959b80b3c8430ba2e3add18ec48b49": {
      "model_module": "@jupyter-widgets/base",
      "model_module_version": "1.2.0",
      "model_name": "LayoutModel",
      "state": {
       "_model_module": "@jupyter-widgets/base",
       "_model_module_version": "1.2.0",
       "_model_name": "LayoutModel",
       "_view_count": null,
       "_view_module": "@jupyter-widgets/base",
       "_view_module_version": "1.2.0",
       "_view_name": "LayoutView",
       "align_content": null,
       "align_items": null,
       "align_self": null,
       "border": null,
       "bottom": null,
       "display": null,
       "flex": null,
       "flex_flow": null,
       "grid_area": null,
       "grid_auto_columns": null,
       "grid_auto_flow": null,
       "grid_auto_rows": null,
       "grid_column": null,
       "grid_gap": null,
       "grid_row": null,
       "grid_template_areas": null,
       "grid_template_columns": null,
       "grid_template_rows": null,
       "height": null,
       "justify_content": null,
       "justify_items": null,
       "left": null,
       "margin": null,
       "max_height": null,
       "max_width": null,
       "min_height": null,
       "min_width": null,
       "object_fit": null,
       "object_position": null,
       "order": null,
       "overflow": null,
       "overflow_x": null,
       "overflow_y": null,
       "padding": null,
       "right": null,
       "top": null,
       "visibility": null,
       "width": null
      }
     },
     "f2968d2be8a044a5bed9a63885d67a8b": {
      "model_module": "@jupyter-widgets/base",
      "model_module_version": "1.2.0",
      "model_name": "LayoutModel",
      "state": {
       "_model_module": "@jupyter-widgets/base",
       "_model_module_version": "1.2.0",
       "_model_name": "LayoutModel",
       "_view_count": null,
       "_view_module": "@jupyter-widgets/base",
       "_view_module_version": "1.2.0",
       "_view_name": "LayoutView",
       "align_content": null,
       "align_items": null,
       "align_self": null,
       "border": null,
       "bottom": null,
       "display": null,
       "flex": null,
       "flex_flow": null,
       "grid_area": null,
       "grid_auto_columns": null,
       "grid_auto_flow": null,
       "grid_auto_rows": null,
       "grid_column": null,
       "grid_gap": null,
       "grid_row": null,
       "grid_template_areas": null,
       "grid_template_columns": null,
       "grid_template_rows": null,
       "height": null,
       "justify_content": null,
       "justify_items": null,
       "left": null,
       "margin": null,
       "max_height": null,
       "max_width": null,
       "min_height": null,
       "min_width": null,
       "object_fit": null,
       "object_position": null,
       "order": null,
       "overflow": null,
       "overflow_x": null,
       "overflow_y": null,
       "padding": null,
       "right": null,
       "top": null,
       "visibility": null,
       "width": null
      }
     },
     "f2c7cdc4ebd743c5956a51f9458c5092": {
      "model_module": "@jupyter-widgets/controls",
      "model_module_version": "1.5.0",
      "model_name": "HBoxModel",
      "state": {
       "_dom_classes": [],
       "_model_module": "@jupyter-widgets/controls",
       "_model_module_version": "1.5.0",
       "_model_name": "HBoxModel",
       "_view_count": null,
       "_view_module": "@jupyter-widgets/controls",
       "_view_module_version": "1.5.0",
       "_view_name": "HBoxView",
       "box_style": "",
       "children": [
        "IPY_MODEL_8218c6b6efb64f7f9cefba6f9dcba6f9",
        "IPY_MODEL_0e6c893af85b4caba9b9aa671a2bb2df",
        "IPY_MODEL_e67c53700b6c4813abcfdcebd32b2481"
       ],
       "layout": "IPY_MODEL_590a2612e0c248469a983affa0fb302c"
      }
     },
     "f665b99ca8754877ae3324b5543cebad": {
      "model_module": "@jupyter-widgets/controls",
      "model_module_version": "1.5.0",
      "model_name": "DescriptionStyleModel",
      "state": {
       "_model_module": "@jupyter-widgets/controls",
       "_model_module_version": "1.5.0",
       "_model_name": "DescriptionStyleModel",
       "_view_count": null,
       "_view_module": "@jupyter-widgets/base",
       "_view_module_version": "1.2.0",
       "_view_name": "StyleView",
       "description_width": ""
      }
     },
     "f9baf39283f2456c9fa0e6a388e9957e": {
      "model_module": "@jupyter-widgets/controls",
      "model_module_version": "1.5.0",
      "model_name": "DescriptionStyleModel",
      "state": {
       "_model_module": "@jupyter-widgets/controls",
       "_model_module_version": "1.5.0",
       "_model_name": "DescriptionStyleModel",
       "_view_count": null,
       "_view_module": "@jupyter-widgets/base",
       "_view_module_version": "1.2.0",
       "_view_name": "StyleView",
       "description_width": ""
      }
     },
     "fa492353144043b8a03d229a087d2ca0": {
      "model_module": "@jupyter-widgets/controls",
      "model_module_version": "1.5.0",
      "model_name": "ProgressStyleModel",
      "state": {
       "_model_module": "@jupyter-widgets/controls",
       "_model_module_version": "1.5.0",
       "_model_name": "ProgressStyleModel",
       "_view_count": null,
       "_view_module": "@jupyter-widgets/base",
       "_view_module_version": "1.2.0",
       "_view_name": "StyleView",
       "bar_color": null,
       "description_width": ""
      }
     }
    },
    "version_major": 2,
    "version_minor": 0
   }
  }
 },
 "nbformat": 4,
 "nbformat_minor": 5
}
