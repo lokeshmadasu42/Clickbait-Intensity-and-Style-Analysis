{
 "cells": [
  {
   "cell_type": "code",
   "execution_count": 1,
   "id": "2b926898",
   "metadata": {
    "_cell_guid": "b1076dfc-b9ad-4769-8c92-a6c4dae69d19",
    "_uuid": "8f2839f25d086af736a60e9eeb907d3b93b6e0e5",
    "execution": {
     "iopub.execute_input": "2022-10-20T11:13:13.555627Z",
     "iopub.status.busy": "2022-10-20T11:13:13.554507Z",
     "iopub.status.idle": "2022-10-20T11:13:13.565494Z",
     "shell.execute_reply": "2022-10-20T11:13:13.564673Z"
    },
    "papermill": {
     "duration": 0.023943,
     "end_time": "2022-10-20T11:13:13.567561",
     "exception": false,
     "start_time": "2022-10-20T11:13:13.543618",
     "status": "completed"
    },
    "tags": []
   },
   "outputs": [],
   "source": [
    "import pandas as pd\n",
    "import numpy as np\n",
    "import re\n",
    "from tqdm import tqdm"
   ]
  },
  {
   "cell_type": "code",
   "execution_count": 2,
   "id": "9657912d",
   "metadata": {
    "execution": {
     "iopub.execute_input": "2022-10-20T11:13:13.584995Z",
     "iopub.status.busy": "2022-10-20T11:13:13.584670Z",
     "iopub.status.idle": "2022-10-20T11:13:19.044394Z",
     "shell.execute_reply": "2022-10-20T11:13:19.043358Z"
    },
    "papermill": {
     "duration": 5.471006,
     "end_time": "2022-10-20T11:13:19.046832",
     "exception": false,
     "start_time": "2022-10-20T11:13:13.575826",
     "status": "completed"
    },
    "tags": []
   },
   "outputs": [],
   "source": [
    "import tensorflow as tf\n",
    "import tensorflow_hub as hub"
   ]
  },
  {
   "cell_type": "code",
   "execution_count": 3,
   "id": "441f5830",
   "metadata": {
    "execution": {
     "iopub.execute_input": "2022-10-20T11:13:19.064662Z",
     "iopub.status.busy": "2022-10-20T11:13:19.064141Z",
     "iopub.status.idle": "2022-10-20T11:13:19.151835Z",
     "shell.execute_reply": "2022-10-20T11:13:19.150891Z"
    },
    "papermill": {
     "duration": 0.099215,
     "end_time": "2022-10-20T11:13:19.154258",
     "exception": false,
     "start_time": "2022-10-20T11:13:19.055043",
     "status": "completed"
    },
    "tags": []
   },
   "outputs": [],
   "source": [
    "# train_df=pd.read_excel('../input/ire-major-project-data/train.xlsx')\n",
    "# dev_df=pd.read_excel('../input/ire-major-project-data/dev.xlsx')\n",
    "# test_df=pd.read_excel('../input/ire-major-project-data/test.xlsx')\n",
    "\n",
    "train_df=pd.read_table('../input/ire-major-data-v2/en_train_pt.tsv',names=['SNO','Intensity','Text'],sep='\\t')\n",
    "test_df=pd.read_table('../input/ire-major-data-v2/en_test_pt.tsv',names=['SNO','Intensity','Text'],sep='\\t')"
   ]
  },
  {
   "cell_type": "code",
   "execution_count": 4,
   "id": "03587bdc",
   "metadata": {
    "execution": {
     "iopub.execute_input": "2022-10-20T11:13:19.173622Z",
     "iopub.status.busy": "2022-10-20T11:13:19.173309Z",
     "iopub.status.idle": "2022-10-20T11:13:19.191475Z",
     "shell.execute_reply": "2022-10-20T11:13:19.190541Z"
    },
    "papermill": {
     "duration": 0.029584,
     "end_time": "2022-10-20T11:13:19.193645",
     "exception": false,
     "start_time": "2022-10-20T11:13:19.164061",
     "status": "completed"
    },
    "tags": []
   },
   "outputs": [
    {
     "data": {
      "text/html": [
       "<div>\n",
       "<style scoped>\n",
       "    .dataframe tbody tr th:only-of-type {\n",
       "        vertical-align: middle;\n",
       "    }\n",
       "\n",
       "    .dataframe tbody tr th {\n",
       "        vertical-align: top;\n",
       "    }\n",
       "\n",
       "    .dataframe thead th {\n",
       "        text-align: right;\n",
       "    }\n",
       "</style>\n",
       "<table border=\"1\" class=\"dataframe\">\n",
       "  <thead>\n",
       "    <tr style=\"text-align: right;\">\n",
       "      <th></th>\n",
       "      <th>SNO</th>\n",
       "      <th>Intensity</th>\n",
       "      <th>Text</th>\n",
       "    </tr>\n",
       "  </thead>\n",
       "  <tbody>\n",
       "    <tr>\n",
       "      <th>0</th>\n",
       "      <td>839551577044234245</td>\n",
       "      <td>0.533333</td>\n",
       "      <td>Perspective: These agencies helped make Americ...</td>\n",
       "    </tr>\n",
       "    <tr>\n",
       "      <th>1</th>\n",
       "      <td>844843703847944192</td>\n",
       "      <td>0.133333</td>\n",
       "      <td>Seven arrests made in raids after London attac...</td>\n",
       "    </tr>\n",
       "  </tbody>\n",
       "</table>\n",
       "</div>"
      ],
      "text/plain": [
       "                  SNO  Intensity  \\\n",
       "0  839551577044234245   0.533333   \n",
       "1  844843703847944192   0.133333   \n",
       "\n",
       "                                                Text  \n",
       "0  Perspective: These agencies helped make Americ...  \n",
       "1  Seven arrests made in raids after London attac...  "
      ]
     },
     "execution_count": 4,
     "metadata": {},
     "output_type": "execute_result"
    }
   ],
   "source": [
    "train_df.head(2)"
   ]
  },
  {
   "cell_type": "code",
   "execution_count": 5,
   "id": "e8ee3194",
   "metadata": {
    "execution": {
     "iopub.execute_input": "2022-10-20T11:13:19.211794Z",
     "iopub.status.busy": "2022-10-20T11:13:19.210976Z",
     "iopub.status.idle": "2022-10-20T11:13:19.217206Z",
     "shell.execute_reply": "2022-10-20T11:13:19.215900Z"
    },
    "papermill": {
     "duration": 0.017288,
     "end_time": "2022-10-20T11:13:19.219242",
     "exception": false,
     "start_time": "2022-10-20T11:13:19.201954",
     "status": "completed"
    },
    "tags": []
   },
   "outputs": [
    {
     "name": "stdout",
     "output_type": "stream",
     "text": [
      "Length of train set\t: 17506\n",
      "Length of test set\t: 4341\n",
      "Total data size\t\t: 21847\n"
     ]
    }
   ],
   "source": [
    "print('Length of train set\\t:',len(train_df))\n",
    "print('Length of test set\\t:',len(test_df))\n",
    "print('Total data size\\t\\t:',len(train_df)+len(test_df))"
   ]
  },
  {
   "cell_type": "code",
   "execution_count": 6,
   "id": "413b0cc6",
   "metadata": {
    "execution": {
     "iopub.execute_input": "2022-10-20T11:13:19.237211Z",
     "iopub.status.busy": "2022-10-20T11:13:19.236440Z",
     "iopub.status.idle": "2022-10-20T11:13:19.250034Z",
     "shell.execute_reply": "2022-10-20T11:13:19.249151Z"
    },
    "papermill": {
     "duration": 0.024631,
     "end_time": "2022-10-20T11:13:19.252039",
     "exception": false,
     "start_time": "2022-10-20T11:13:19.227408",
     "status": "completed"
    },
    "tags": []
   },
   "outputs": [],
   "source": [
    "train_df['label']=['clickbait' if i>=0.5 else 'no-clickbait' for i in train_df['Intensity']]\n",
    "test_df['label']=['clickbait' if i>=0.5 else 'no-clickbait' for i in test_df['Intensity']]"
   ]
  },
  {
   "cell_type": "code",
   "execution_count": 7,
   "id": "7287a956",
   "metadata": {
    "execution": {
     "iopub.execute_input": "2022-10-20T11:13:19.270147Z",
     "iopub.status.busy": "2022-10-20T11:13:19.269277Z",
     "iopub.status.idle": "2022-10-20T11:13:19.279649Z",
     "shell.execute_reply": "2022-10-20T11:13:19.278616Z"
    },
    "papermill": {
     "duration": 0.021425,
     "end_time": "2022-10-20T11:13:19.281697",
     "exception": false,
     "start_time": "2022-10-20T11:13:19.260272",
     "status": "completed"
    },
    "tags": []
   },
   "outputs": [
    {
     "data": {
      "text/plain": [
       "no-clickbait    13225\n",
       "clickbait        4281\n",
       "Name: label, dtype: int64"
      ]
     },
     "execution_count": 7,
     "metadata": {},
     "output_type": "execute_result"
    }
   ],
   "source": [
    "train_df['label'].value_counts()"
   ]
  },
  {
   "cell_type": "code",
   "execution_count": 8,
   "id": "8aafeaaa",
   "metadata": {
    "execution": {
     "iopub.execute_input": "2022-10-20T11:13:19.299155Z",
     "iopub.status.busy": "2022-10-20T11:13:19.298889Z",
     "iopub.status.idle": "2022-10-20T11:13:19.305683Z",
     "shell.execute_reply": "2022-10-20T11:13:19.304811Z"
    },
    "papermill": {
     "duration": 0.017723,
     "end_time": "2022-10-20T11:13:19.307572",
     "exception": false,
     "start_time": "2022-10-20T11:13:19.289849",
     "status": "completed"
    },
    "tags": []
   },
   "outputs": [
    {
     "data": {
      "text/plain": [
       "no-clickbait    3237\n",
       "clickbait       1104\n",
       "Name: label, dtype: int64"
      ]
     },
     "execution_count": 8,
     "metadata": {},
     "output_type": "execute_result"
    }
   ],
   "source": [
    "test_df['label'].value_counts()"
   ]
  },
  {
   "cell_type": "code",
   "execution_count": 9,
   "id": "c3503ebf",
   "metadata": {
    "execution": {
     "iopub.execute_input": "2022-10-20T11:13:19.325849Z",
     "iopub.status.busy": "2022-10-20T11:13:19.324973Z",
     "iopub.status.idle": "2022-10-20T11:13:51.270572Z",
     "shell.execute_reply": "2022-10-20T11:13:51.269625Z"
    },
    "papermill": {
     "duration": 31.957146,
     "end_time": "2022-10-20T11:13:51.272989",
     "exception": false,
     "start_time": "2022-10-20T11:13:19.315843",
     "status": "completed"
    },
    "tags": []
   },
   "outputs": [
    {
     "data": {
      "application/vnd.jupyter.widget-view+json": {
       "model_id": "27ac8547983b44a686ba2f3847e5b41a",
       "version_major": 2,
       "version_minor": 0
      },
      "text/plain": [
       "Downloading:   0%|          | 0.00/878k [00:00<?, ?B/s]"
      ]
     },
     "metadata": {},
     "output_type": "display_data"
    },
    {
     "data": {
      "application/vnd.jupyter.widget-view+json": {
       "model_id": "9885211d08eb415eafc3fbdacd14d1f9",
       "version_major": 2,
       "version_minor": 0
      },
      "text/plain": [
       "Downloading:   0%|          | 0.00/446k [00:00<?, ?B/s]"
      ]
     },
     "metadata": {},
     "output_type": "display_data"
    },
    {
     "data": {
      "application/vnd.jupyter.widget-view+json": {
       "model_id": "0baf6bc0944342ba8c0098be4ea8afa3",
       "version_major": 2,
       "version_minor": 0
      },
      "text/plain": [
       "Downloading:   0%|          | 0.00/481 [00:00<?, ?B/s]"
      ]
     },
     "metadata": {},
     "output_type": "display_data"
    },
    {
     "data": {
      "application/vnd.jupyter.widget-view+json": {
       "model_id": "12b90d25e0c7451180d1997b4684ce54",
       "version_major": 2,
       "version_minor": 0
      },
      "text/plain": [
       "Downloading:   0%|          | 0.00/478M [00:00<?, ?B/s]"
      ]
     },
     "metadata": {},
     "output_type": "display_data"
    },
    {
     "name": "stderr",
     "output_type": "stream",
     "text": [
      "Some weights of the model checkpoint at roberta-base were not used when initializing RobertaModel: ['lm_head.dense.weight', 'lm_head.dense.bias', 'lm_head.layer_norm.weight', 'lm_head.bias', 'lm_head.layer_norm.bias', 'lm_head.decoder.weight']\n",
      "- This IS expected if you are initializing RobertaModel from the checkpoint of a model trained on another task or with another architecture (e.g. initializing a BertForSequenceClassification model from a BertForPreTraining model).\n",
      "- This IS NOT expected if you are initializing RobertaModel from the checkpoint of a model that you expect to be exactly identical (initializing a BertForSequenceClassification model from a BertForSequenceClassification model).\n"
     ]
    }
   ],
   "source": [
    "from transformers import RobertaTokenizer, RobertaModel\n",
    "import torch\n",
    "\n",
    "tokenizer = RobertaTokenizer.from_pretrained(\"roberta-base\")\n",
    "model = RobertaModel.from_pretrained(\"roberta-base\")"
   ]
  },
  {
   "cell_type": "code",
   "execution_count": 10,
   "id": "73e13f6e",
   "metadata": {
    "execution": {
     "iopub.execute_input": "2022-10-20T11:13:51.292539Z",
     "iopub.status.busy": "2022-10-20T11:13:51.292228Z",
     "iopub.status.idle": "2022-10-20T11:13:57.388232Z",
     "shell.execute_reply": "2022-10-20T11:13:57.387241Z"
    },
    "papermill": {
     "duration": 6.108784,
     "end_time": "2022-10-20T11:13:57.390895",
     "exception": false,
     "start_time": "2022-10-20T11:13:51.282111",
     "status": "completed"
    },
    "tags": []
   },
   "outputs": [
    {
     "name": "stderr",
     "output_type": "stream",
     "text": [
      "Token indices sequence length is longer than the specified maximum sequence length for this model (573 > 512). Running this sequence through the model will result in indexing errors\n"
     ]
    }
   ],
   "source": [
    "length=[]\n",
    "for i in train_df['Text']:\n",
    "    tok = tokenizer(i, return_tensors=\"pt\")\n",
    "    length.append(len(tok['input_ids'][0]))\n",
    "\n",
    "train_df['#tokens']=length"
   ]
  },
  {
   "cell_type": "code",
   "execution_count": 11,
   "id": "563733fc",
   "metadata": {
    "execution": {
     "iopub.execute_input": "2022-10-20T11:13:57.410458Z",
     "iopub.status.busy": "2022-10-20T11:13:57.410161Z",
     "iopub.status.idle": "2022-10-20T11:13:58.778235Z",
     "shell.execute_reply": "2022-10-20T11:13:58.777268Z"
    },
    "papermill": {
     "duration": 1.38033,
     "end_time": "2022-10-20T11:13:58.780604",
     "exception": false,
     "start_time": "2022-10-20T11:13:57.400274",
     "status": "completed"
    },
    "tags": []
   },
   "outputs": [],
   "source": [
    "length=[]\n",
    "for i in test_df['Text']:\n",
    "    tok = tokenizer(i, return_tensors=\"pt\")\n",
    "    length.append(len(tok['input_ids'][0]))\n",
    "\n",
    "test_df['#tokens']=length"
   ]
  },
  {
   "cell_type": "code",
   "execution_count": 12,
   "id": "740a267f",
   "metadata": {
    "execution": {
     "iopub.execute_input": "2022-10-20T11:13:58.802122Z",
     "iopub.status.busy": "2022-10-20T11:13:58.800349Z",
     "iopub.status.idle": "2022-10-20T11:13:58.813080Z",
     "shell.execute_reply": "2022-10-20T11:13:58.812204Z"
    },
    "papermill": {
     "duration": 0.025199,
     "end_time": "2022-10-20T11:13:58.815274",
     "exception": false,
     "start_time": "2022-10-20T11:13:58.790075",
     "status": "completed"
    },
    "tags": []
   },
   "outputs": [],
   "source": [
    "train_df=train_df[train_df['#tokens']<50]\n",
    "test_df=test_df[test_df['#tokens']<50]"
   ]
  },
  {
   "cell_type": "code",
   "execution_count": 13,
   "id": "cc663004",
   "metadata": {
    "execution": {
     "iopub.execute_input": "2022-10-20T11:13:58.834371Z",
     "iopub.status.busy": "2022-10-20T11:13:58.834069Z",
     "iopub.status.idle": "2022-10-20T11:13:58.839780Z",
     "shell.execute_reply": "2022-10-20T11:13:58.838880Z"
    },
    "papermill": {
     "duration": 0.017589,
     "end_time": "2022-10-20T11:13:58.841811",
     "exception": false,
     "start_time": "2022-10-20T11:13:58.824222",
     "status": "completed"
    },
    "tags": []
   },
   "outputs": [
    {
     "data": {
      "text/plain": [
       "17497"
      ]
     },
     "execution_count": 13,
     "metadata": {},
     "output_type": "execute_result"
    }
   ],
   "source": [
    "len(train_df)"
   ]
  },
  {
   "cell_type": "code",
   "execution_count": 14,
   "id": "41a17e40",
   "metadata": {
    "execution": {
     "iopub.execute_input": "2022-10-20T11:13:58.861247Z",
     "iopub.status.busy": "2022-10-20T11:13:58.860424Z",
     "iopub.status.idle": "2022-10-20T11:13:58.866918Z",
     "shell.execute_reply": "2022-10-20T11:13:58.865990Z"
    },
    "papermill": {
     "duration": 0.018043,
     "end_time": "2022-10-20T11:13:58.868844",
     "exception": false,
     "start_time": "2022-10-20T11:13:58.850801",
     "status": "completed"
    },
    "tags": []
   },
   "outputs": [
    {
     "data": {
      "text/plain": [
       "4337"
      ]
     },
     "execution_count": 14,
     "metadata": {},
     "output_type": "execute_result"
    }
   ],
   "source": [
    "len(test_df)"
   ]
  },
  {
   "cell_type": "code",
   "execution_count": 15,
   "id": "fadddf39",
   "metadata": {
    "execution": {
     "iopub.execute_input": "2022-10-20T11:13:58.887969Z",
     "iopub.status.busy": "2022-10-20T11:13:58.887668Z",
     "iopub.status.idle": "2022-10-20T11:14:04.388385Z",
     "shell.execute_reply": "2022-10-20T11:14:04.387425Z"
    },
    "papermill": {
     "duration": 5.512782,
     "end_time": "2022-10-20T11:14:04.390566",
     "exception": false,
     "start_time": "2022-10-20T11:13:58.877784",
     "status": "completed"
    },
    "tags": []
   },
   "outputs": [
    {
     "data": {
      "text/plain": [
       "RobertaModel(\n",
       "  (embeddings): RobertaEmbeddings(\n",
       "    (word_embeddings): Embedding(50265, 768, padding_idx=1)\n",
       "    (position_embeddings): Embedding(514, 768, padding_idx=1)\n",
       "    (token_type_embeddings): Embedding(1, 768)\n",
       "    (LayerNorm): LayerNorm((768,), eps=1e-05, elementwise_affine=True)\n",
       "    (dropout): Dropout(p=0.1, inplace=False)\n",
       "  )\n",
       "  (encoder): RobertaEncoder(\n",
       "    (layer): ModuleList(\n",
       "      (0): RobertaLayer(\n",
       "        (attention): RobertaAttention(\n",
       "          (self): RobertaSelfAttention(\n",
       "            (query): Linear(in_features=768, out_features=768, bias=True)\n",
       "            (key): Linear(in_features=768, out_features=768, bias=True)\n",
       "            (value): Linear(in_features=768, out_features=768, bias=True)\n",
       "            (dropout): Dropout(p=0.1, inplace=False)\n",
       "          )\n",
       "          (output): RobertaSelfOutput(\n",
       "            (dense): Linear(in_features=768, out_features=768, bias=True)\n",
       "            (LayerNorm): LayerNorm((768,), eps=1e-05, elementwise_affine=True)\n",
       "            (dropout): Dropout(p=0.1, inplace=False)\n",
       "          )\n",
       "        )\n",
       "        (intermediate): RobertaIntermediate(\n",
       "          (dense): Linear(in_features=768, out_features=3072, bias=True)\n",
       "          (intermediate_act_fn): GELUActivation()\n",
       "        )\n",
       "        (output): RobertaOutput(\n",
       "          (dense): Linear(in_features=3072, out_features=768, bias=True)\n",
       "          (LayerNorm): LayerNorm((768,), eps=1e-05, elementwise_affine=True)\n",
       "          (dropout): Dropout(p=0.1, inplace=False)\n",
       "        )\n",
       "      )\n",
       "      (1): RobertaLayer(\n",
       "        (attention): RobertaAttention(\n",
       "          (self): RobertaSelfAttention(\n",
       "            (query): Linear(in_features=768, out_features=768, bias=True)\n",
       "            (key): Linear(in_features=768, out_features=768, bias=True)\n",
       "            (value): Linear(in_features=768, out_features=768, bias=True)\n",
       "            (dropout): Dropout(p=0.1, inplace=False)\n",
       "          )\n",
       "          (output): RobertaSelfOutput(\n",
       "            (dense): Linear(in_features=768, out_features=768, bias=True)\n",
       "            (LayerNorm): LayerNorm((768,), eps=1e-05, elementwise_affine=True)\n",
       "            (dropout): Dropout(p=0.1, inplace=False)\n",
       "          )\n",
       "        )\n",
       "        (intermediate): RobertaIntermediate(\n",
       "          (dense): Linear(in_features=768, out_features=3072, bias=True)\n",
       "          (intermediate_act_fn): GELUActivation()\n",
       "        )\n",
       "        (output): RobertaOutput(\n",
       "          (dense): Linear(in_features=3072, out_features=768, bias=True)\n",
       "          (LayerNorm): LayerNorm((768,), eps=1e-05, elementwise_affine=True)\n",
       "          (dropout): Dropout(p=0.1, inplace=False)\n",
       "        )\n",
       "      )\n",
       "      (2): RobertaLayer(\n",
       "        (attention): RobertaAttention(\n",
       "          (self): RobertaSelfAttention(\n",
       "            (query): Linear(in_features=768, out_features=768, bias=True)\n",
       "            (key): Linear(in_features=768, out_features=768, bias=True)\n",
       "            (value): Linear(in_features=768, out_features=768, bias=True)\n",
       "            (dropout): Dropout(p=0.1, inplace=False)\n",
       "          )\n",
       "          (output): RobertaSelfOutput(\n",
       "            (dense): Linear(in_features=768, out_features=768, bias=True)\n",
       "            (LayerNorm): LayerNorm((768,), eps=1e-05, elementwise_affine=True)\n",
       "            (dropout): Dropout(p=0.1, inplace=False)\n",
       "          )\n",
       "        )\n",
       "        (intermediate): RobertaIntermediate(\n",
       "          (dense): Linear(in_features=768, out_features=3072, bias=True)\n",
       "          (intermediate_act_fn): GELUActivation()\n",
       "        )\n",
       "        (output): RobertaOutput(\n",
       "          (dense): Linear(in_features=3072, out_features=768, bias=True)\n",
       "          (LayerNorm): LayerNorm((768,), eps=1e-05, elementwise_affine=True)\n",
       "          (dropout): Dropout(p=0.1, inplace=False)\n",
       "        )\n",
       "      )\n",
       "      (3): RobertaLayer(\n",
       "        (attention): RobertaAttention(\n",
       "          (self): RobertaSelfAttention(\n",
       "            (query): Linear(in_features=768, out_features=768, bias=True)\n",
       "            (key): Linear(in_features=768, out_features=768, bias=True)\n",
       "            (value): Linear(in_features=768, out_features=768, bias=True)\n",
       "            (dropout): Dropout(p=0.1, inplace=False)\n",
       "          )\n",
       "          (output): RobertaSelfOutput(\n",
       "            (dense): Linear(in_features=768, out_features=768, bias=True)\n",
       "            (LayerNorm): LayerNorm((768,), eps=1e-05, elementwise_affine=True)\n",
       "            (dropout): Dropout(p=0.1, inplace=False)\n",
       "          )\n",
       "        )\n",
       "        (intermediate): RobertaIntermediate(\n",
       "          (dense): Linear(in_features=768, out_features=3072, bias=True)\n",
       "          (intermediate_act_fn): GELUActivation()\n",
       "        )\n",
       "        (output): RobertaOutput(\n",
       "          (dense): Linear(in_features=3072, out_features=768, bias=True)\n",
       "          (LayerNorm): LayerNorm((768,), eps=1e-05, elementwise_affine=True)\n",
       "          (dropout): Dropout(p=0.1, inplace=False)\n",
       "        )\n",
       "      )\n",
       "      (4): RobertaLayer(\n",
       "        (attention): RobertaAttention(\n",
       "          (self): RobertaSelfAttention(\n",
       "            (query): Linear(in_features=768, out_features=768, bias=True)\n",
       "            (key): Linear(in_features=768, out_features=768, bias=True)\n",
       "            (value): Linear(in_features=768, out_features=768, bias=True)\n",
       "            (dropout): Dropout(p=0.1, inplace=False)\n",
       "          )\n",
       "          (output): RobertaSelfOutput(\n",
       "            (dense): Linear(in_features=768, out_features=768, bias=True)\n",
       "            (LayerNorm): LayerNorm((768,), eps=1e-05, elementwise_affine=True)\n",
       "            (dropout): Dropout(p=0.1, inplace=False)\n",
       "          )\n",
       "        )\n",
       "        (intermediate): RobertaIntermediate(\n",
       "          (dense): Linear(in_features=768, out_features=3072, bias=True)\n",
       "          (intermediate_act_fn): GELUActivation()\n",
       "        )\n",
       "        (output): RobertaOutput(\n",
       "          (dense): Linear(in_features=3072, out_features=768, bias=True)\n",
       "          (LayerNorm): LayerNorm((768,), eps=1e-05, elementwise_affine=True)\n",
       "          (dropout): Dropout(p=0.1, inplace=False)\n",
       "        )\n",
       "      )\n",
       "      (5): RobertaLayer(\n",
       "        (attention): RobertaAttention(\n",
       "          (self): RobertaSelfAttention(\n",
       "            (query): Linear(in_features=768, out_features=768, bias=True)\n",
       "            (key): Linear(in_features=768, out_features=768, bias=True)\n",
       "            (value): Linear(in_features=768, out_features=768, bias=True)\n",
       "            (dropout): Dropout(p=0.1, inplace=False)\n",
       "          )\n",
       "          (output): RobertaSelfOutput(\n",
       "            (dense): Linear(in_features=768, out_features=768, bias=True)\n",
       "            (LayerNorm): LayerNorm((768,), eps=1e-05, elementwise_affine=True)\n",
       "            (dropout): Dropout(p=0.1, inplace=False)\n",
       "          )\n",
       "        )\n",
       "        (intermediate): RobertaIntermediate(\n",
       "          (dense): Linear(in_features=768, out_features=3072, bias=True)\n",
       "          (intermediate_act_fn): GELUActivation()\n",
       "        )\n",
       "        (output): RobertaOutput(\n",
       "          (dense): Linear(in_features=3072, out_features=768, bias=True)\n",
       "          (LayerNorm): LayerNorm((768,), eps=1e-05, elementwise_affine=True)\n",
       "          (dropout): Dropout(p=0.1, inplace=False)\n",
       "        )\n",
       "      )\n",
       "      (6): RobertaLayer(\n",
       "        (attention): RobertaAttention(\n",
       "          (self): RobertaSelfAttention(\n",
       "            (query): Linear(in_features=768, out_features=768, bias=True)\n",
       "            (key): Linear(in_features=768, out_features=768, bias=True)\n",
       "            (value): Linear(in_features=768, out_features=768, bias=True)\n",
       "            (dropout): Dropout(p=0.1, inplace=False)\n",
       "          )\n",
       "          (output): RobertaSelfOutput(\n",
       "            (dense): Linear(in_features=768, out_features=768, bias=True)\n",
       "            (LayerNorm): LayerNorm((768,), eps=1e-05, elementwise_affine=True)\n",
       "            (dropout): Dropout(p=0.1, inplace=False)\n",
       "          )\n",
       "        )\n",
       "        (intermediate): RobertaIntermediate(\n",
       "          (dense): Linear(in_features=768, out_features=3072, bias=True)\n",
       "          (intermediate_act_fn): GELUActivation()\n",
       "        )\n",
       "        (output): RobertaOutput(\n",
       "          (dense): Linear(in_features=3072, out_features=768, bias=True)\n",
       "          (LayerNorm): LayerNorm((768,), eps=1e-05, elementwise_affine=True)\n",
       "          (dropout): Dropout(p=0.1, inplace=False)\n",
       "        )\n",
       "      )\n",
       "      (7): RobertaLayer(\n",
       "        (attention): RobertaAttention(\n",
       "          (self): RobertaSelfAttention(\n",
       "            (query): Linear(in_features=768, out_features=768, bias=True)\n",
       "            (key): Linear(in_features=768, out_features=768, bias=True)\n",
       "            (value): Linear(in_features=768, out_features=768, bias=True)\n",
       "            (dropout): Dropout(p=0.1, inplace=False)\n",
       "          )\n",
       "          (output): RobertaSelfOutput(\n",
       "            (dense): Linear(in_features=768, out_features=768, bias=True)\n",
       "            (LayerNorm): LayerNorm((768,), eps=1e-05, elementwise_affine=True)\n",
       "            (dropout): Dropout(p=0.1, inplace=False)\n",
       "          )\n",
       "        )\n",
       "        (intermediate): RobertaIntermediate(\n",
       "          (dense): Linear(in_features=768, out_features=3072, bias=True)\n",
       "          (intermediate_act_fn): GELUActivation()\n",
       "        )\n",
       "        (output): RobertaOutput(\n",
       "          (dense): Linear(in_features=3072, out_features=768, bias=True)\n",
       "          (LayerNorm): LayerNorm((768,), eps=1e-05, elementwise_affine=True)\n",
       "          (dropout): Dropout(p=0.1, inplace=False)\n",
       "        )\n",
       "      )\n",
       "      (8): RobertaLayer(\n",
       "        (attention): RobertaAttention(\n",
       "          (self): RobertaSelfAttention(\n",
       "            (query): Linear(in_features=768, out_features=768, bias=True)\n",
       "            (key): Linear(in_features=768, out_features=768, bias=True)\n",
       "            (value): Linear(in_features=768, out_features=768, bias=True)\n",
       "            (dropout): Dropout(p=0.1, inplace=False)\n",
       "          )\n",
       "          (output): RobertaSelfOutput(\n",
       "            (dense): Linear(in_features=768, out_features=768, bias=True)\n",
       "            (LayerNorm): LayerNorm((768,), eps=1e-05, elementwise_affine=True)\n",
       "            (dropout): Dropout(p=0.1, inplace=False)\n",
       "          )\n",
       "        )\n",
       "        (intermediate): RobertaIntermediate(\n",
       "          (dense): Linear(in_features=768, out_features=3072, bias=True)\n",
       "          (intermediate_act_fn): GELUActivation()\n",
       "        )\n",
       "        (output): RobertaOutput(\n",
       "          (dense): Linear(in_features=3072, out_features=768, bias=True)\n",
       "          (LayerNorm): LayerNorm((768,), eps=1e-05, elementwise_affine=True)\n",
       "          (dropout): Dropout(p=0.1, inplace=False)\n",
       "        )\n",
       "      )\n",
       "      (9): RobertaLayer(\n",
       "        (attention): RobertaAttention(\n",
       "          (self): RobertaSelfAttention(\n",
       "            (query): Linear(in_features=768, out_features=768, bias=True)\n",
       "            (key): Linear(in_features=768, out_features=768, bias=True)\n",
       "            (value): Linear(in_features=768, out_features=768, bias=True)\n",
       "            (dropout): Dropout(p=0.1, inplace=False)\n",
       "          )\n",
       "          (output): RobertaSelfOutput(\n",
       "            (dense): Linear(in_features=768, out_features=768, bias=True)\n",
       "            (LayerNorm): LayerNorm((768,), eps=1e-05, elementwise_affine=True)\n",
       "            (dropout): Dropout(p=0.1, inplace=False)\n",
       "          )\n",
       "        )\n",
       "        (intermediate): RobertaIntermediate(\n",
       "          (dense): Linear(in_features=768, out_features=3072, bias=True)\n",
       "          (intermediate_act_fn): GELUActivation()\n",
       "        )\n",
       "        (output): RobertaOutput(\n",
       "          (dense): Linear(in_features=3072, out_features=768, bias=True)\n",
       "          (LayerNorm): LayerNorm((768,), eps=1e-05, elementwise_affine=True)\n",
       "          (dropout): Dropout(p=0.1, inplace=False)\n",
       "        )\n",
       "      )\n",
       "      (10): RobertaLayer(\n",
       "        (attention): RobertaAttention(\n",
       "          (self): RobertaSelfAttention(\n",
       "            (query): Linear(in_features=768, out_features=768, bias=True)\n",
       "            (key): Linear(in_features=768, out_features=768, bias=True)\n",
       "            (value): Linear(in_features=768, out_features=768, bias=True)\n",
       "            (dropout): Dropout(p=0.1, inplace=False)\n",
       "          )\n",
       "          (output): RobertaSelfOutput(\n",
       "            (dense): Linear(in_features=768, out_features=768, bias=True)\n",
       "            (LayerNorm): LayerNorm((768,), eps=1e-05, elementwise_affine=True)\n",
       "            (dropout): Dropout(p=0.1, inplace=False)\n",
       "          )\n",
       "        )\n",
       "        (intermediate): RobertaIntermediate(\n",
       "          (dense): Linear(in_features=768, out_features=3072, bias=True)\n",
       "          (intermediate_act_fn): GELUActivation()\n",
       "        )\n",
       "        (output): RobertaOutput(\n",
       "          (dense): Linear(in_features=3072, out_features=768, bias=True)\n",
       "          (LayerNorm): LayerNorm((768,), eps=1e-05, elementwise_affine=True)\n",
       "          (dropout): Dropout(p=0.1, inplace=False)\n",
       "        )\n",
       "      )\n",
       "      (11): RobertaLayer(\n",
       "        (attention): RobertaAttention(\n",
       "          (self): RobertaSelfAttention(\n",
       "            (query): Linear(in_features=768, out_features=768, bias=True)\n",
       "            (key): Linear(in_features=768, out_features=768, bias=True)\n",
       "            (value): Linear(in_features=768, out_features=768, bias=True)\n",
       "            (dropout): Dropout(p=0.1, inplace=False)\n",
       "          )\n",
       "          (output): RobertaSelfOutput(\n",
       "            (dense): Linear(in_features=768, out_features=768, bias=True)\n",
       "            (LayerNorm): LayerNorm((768,), eps=1e-05, elementwise_affine=True)\n",
       "            (dropout): Dropout(p=0.1, inplace=False)\n",
       "          )\n",
       "        )\n",
       "        (intermediate): RobertaIntermediate(\n",
       "          (dense): Linear(in_features=768, out_features=3072, bias=True)\n",
       "          (intermediate_act_fn): GELUActivation()\n",
       "        )\n",
       "        (output): RobertaOutput(\n",
       "          (dense): Linear(in_features=3072, out_features=768, bias=True)\n",
       "          (LayerNorm): LayerNorm((768,), eps=1e-05, elementwise_affine=True)\n",
       "          (dropout): Dropout(p=0.1, inplace=False)\n",
       "        )\n",
       "      )\n",
       "    )\n",
       "  )\n",
       "  (pooler): RobertaPooler(\n",
       "    (dense): Linear(in_features=768, out_features=768, bias=True)\n",
       "    (activation): Tanh()\n",
       "  )\n",
       ")"
      ]
     },
     "execution_count": 15,
     "metadata": {},
     "output_type": "execute_result"
    }
   ],
   "source": [
    "model.to('cuda:0')"
   ]
  },
  {
   "cell_type": "code",
   "execution_count": 16,
   "id": "0da4e8bb",
   "metadata": {
    "execution": {
     "iopub.execute_input": "2022-10-20T11:14:04.412638Z",
     "iopub.status.busy": "2022-10-20T11:14:04.411021Z",
     "iopub.status.idle": "2022-10-20T11:14:04.416327Z",
     "shell.execute_reply": "2022-10-20T11:14:04.415518Z"
    },
    "papermill": {
     "duration": 0.017914,
     "end_time": "2022-10-20T11:14:04.418306",
     "exception": false,
     "start_time": "2022-10-20T11:14:04.400392",
     "status": "completed"
    },
    "tags": []
   },
   "outputs": [],
   "source": [
    "# import re\n",
    "# def preprocess(text):\n",
    "#     text=re.sub(r'\\W+',' ',text)\n",
    "#     text=text.strip()\n",
    "#     return text"
   ]
  },
  {
   "cell_type": "code",
   "execution_count": 17,
   "id": "ed281979",
   "metadata": {
    "execution": {
     "iopub.execute_input": "2022-10-20T11:14:04.439071Z",
     "iopub.status.busy": "2022-10-20T11:14:04.438280Z",
     "iopub.status.idle": "2022-10-20T11:14:04.442351Z",
     "shell.execute_reply": "2022-10-20T11:14:04.441428Z"
    },
    "papermill": {
     "duration": 0.016296,
     "end_time": "2022-10-20T11:14:04.444281",
     "exception": false,
     "start_time": "2022-10-20T11:14:04.427985",
     "status": "completed"
    },
    "tags": []
   },
   "outputs": [],
   "source": [
    "# train_df['preprocessed_text']=train_df['text'].apply(lambda x:preprocess(x))\n",
    "# dev_df['preprocessed_text']=dev_df['text'].apply(lambda x:preprocess(x))\n",
    "# test_df['preprocessed_text']=test_df['text'].apply(lambda x:preprocess(x))"
   ]
  },
  {
   "cell_type": "code",
   "execution_count": 18,
   "id": "cc53e60e",
   "metadata": {
    "execution": {
     "iopub.execute_input": "2022-10-20T11:14:04.464879Z",
     "iopub.status.busy": "2022-10-20T11:14:04.464022Z",
     "iopub.status.idle": "2022-10-20T11:14:04.469849Z",
     "shell.execute_reply": "2022-10-20T11:14:04.468973Z"
    },
    "papermill": {
     "duration": 0.017986,
     "end_time": "2022-10-20T11:14:04.471807",
     "exception": false,
     "start_time": "2022-10-20T11:14:04.453821",
     "status": "completed"
    },
    "tags": []
   },
   "outputs": [],
   "source": [
    "def read_word_embedding(sentence):\n",
    "    inputs = tokenizer(sentence, return_tensors=\"pt\").to('cuda:0')\n",
    "    outputs = model(**inputs)\n",
    "    last_hidden_states = outputs.last_hidden_state.cpu()\n",
    "    embedding=np.mean(last_hidden_states[0].detach().numpy(),axis=0)\n",
    "#     embedding=np.mean(last_hidden_states[0].detach().to('cpu'),axis=0)\n",
    "    return embedding"
   ]
  },
  {
   "cell_type": "code",
   "execution_count": 19,
   "id": "d6cf903b",
   "metadata": {
    "execution": {
     "iopub.execute_input": "2022-10-20T11:14:04.492186Z",
     "iopub.status.busy": "2022-10-20T11:14:04.491311Z",
     "iopub.status.idle": "2022-10-20T11:16:55.462838Z",
     "shell.execute_reply": "2022-10-20T11:16:55.461675Z"
    },
    "papermill": {
     "duration": 170.986594,
     "end_time": "2022-10-20T11:16:55.467729",
     "exception": false,
     "start_time": "2022-10-20T11:14:04.481135",
     "status": "completed"
    },
    "tags": []
   },
   "outputs": [
    {
     "name": "stderr",
     "output_type": "stream",
     "text": [
      "100%|██████████| 17497/17497 [02:50<00:00, 102.35it/s]\n"
     ]
    }
   ],
   "source": [
    "x_train_embeddings=[]\n",
    "for i in tqdm(range(len(train_df))):\n",
    "    try:\n",
    "        x_train_embeddings.append(read_word_embedding(train_df['Text'].iloc[i]))\n",
    "    except:\n",
    "        print(i)\n",
    "        break"
   ]
  },
  {
   "cell_type": "code",
   "execution_count": 20,
   "id": "3a105cf6",
   "metadata": {
    "execution": {
     "iopub.execute_input": "2022-10-20T11:16:55.647154Z",
     "iopub.status.busy": "2022-10-20T11:16:55.646802Z",
     "iopub.status.idle": "2022-10-20T11:16:55.686069Z",
     "shell.execute_reply": "2022-10-20T11:16:55.685067Z"
    },
    "papermill": {
     "duration": 0.130087,
     "end_time": "2022-10-20T11:16:55.688812",
     "exception": false,
     "start_time": "2022-10-20T11:16:55.558725",
     "status": "completed"
    },
    "tags": []
   },
   "outputs": [],
   "source": [
    "x_train_embeddings=np.array(x_train_embeddings)\n",
    "y_train_intensity=np.array(list(train_df['Intensity'].values))"
   ]
  },
  {
   "cell_type": "code",
   "execution_count": 21,
   "id": "64a0df23",
   "metadata": {
    "execution": {
     "iopub.execute_input": "2022-10-20T11:16:55.865428Z",
     "iopub.status.busy": "2022-10-20T11:16:55.865061Z",
     "iopub.status.idle": "2022-10-20T11:16:55.869413Z",
     "shell.execute_reply": "2022-10-20T11:16:55.868347Z"
    },
    "papermill": {
     "duration": 0.095433,
     "end_time": "2022-10-20T11:16:55.871900",
     "exception": false,
     "start_time": "2022-10-20T11:16:55.776467",
     "status": "completed"
    },
    "tags": []
   },
   "outputs": [],
   "source": [
    "# x_dev_embeddings=[read_word_embedding(sentence) for sentence in tqdm(dev_df['preprocessed_text'])]\n",
    "# y_dev_intensity=list(dev_df['intensity'].values)\n",
    "# y_dev_actual_label=list(dev_df['class'].values)"
   ]
  },
  {
   "cell_type": "code",
   "execution_count": 22,
   "id": "563c0ca9",
   "metadata": {
    "execution": {
     "iopub.execute_input": "2022-10-20T11:16:56.049972Z",
     "iopub.status.busy": "2022-10-20T11:16:56.049587Z",
     "iopub.status.idle": "2022-10-20T11:17:37.511717Z",
     "shell.execute_reply": "2022-10-20T11:17:37.510558Z"
    },
    "papermill": {
     "duration": 41.556868,
     "end_time": "2022-10-20T11:17:37.516004",
     "exception": false,
     "start_time": "2022-10-20T11:16:55.959136",
     "status": "completed"
    },
    "tags": []
   },
   "outputs": [
    {
     "name": "stderr",
     "output_type": "stream",
     "text": [
      "100%|██████████| 4337/4337 [00:41<00:00, 104.62it/s]\n"
     ]
    }
   ],
   "source": [
    "x_test_embeddings=[]\n",
    "for i in tqdm(range(len(test_df))):\n",
    "    try:\n",
    "        x_test_embeddings.append(read_word_embedding(test_df['Text'].iloc[i]))\n",
    "    except:\n",
    "        print(i)\n",
    "        break"
   ]
  },
  {
   "cell_type": "code",
   "execution_count": 23,
   "id": "82d644cd",
   "metadata": {
    "execution": {
     "iopub.execute_input": "2022-10-20T11:17:37.792045Z",
     "iopub.status.busy": "2022-10-20T11:17:37.790601Z",
     "iopub.status.idle": "2022-10-20T11:17:37.803694Z",
     "shell.execute_reply": "2022-10-20T11:17:37.802860Z"
    },
    "papermill": {
     "duration": 0.122115,
     "end_time": "2022-10-20T11:17:37.805685",
     "exception": false,
     "start_time": "2022-10-20T11:17:37.683570",
     "status": "completed"
    },
    "tags": []
   },
   "outputs": [],
   "source": [
    "x_test_embeddings=np.array(x_test_embeddings)\n",
    "y_test_intensity=np.array(list(test_df['Intensity'].values))\n",
    "y_test_actual_label=np.array(list(test_df['label'].values))"
   ]
  },
  {
   "cell_type": "markdown",
   "id": "c723ec82",
   "metadata": {
    "papermill": {
     "duration": 0.108173,
     "end_time": "2022-10-20T11:17:38.022275",
     "exception": false,
     "start_time": "2022-10-20T11:17:37.914102",
     "status": "completed"
    },
    "tags": []
   },
   "source": [
    "# Linear Regression"
   ]
  },
  {
   "cell_type": "code",
   "execution_count": 24,
   "id": "c6e039c2",
   "metadata": {
    "execution": {
     "iopub.execute_input": "2022-10-20T11:17:38.240285Z",
     "iopub.status.busy": "2022-10-20T11:17:38.239933Z",
     "iopub.status.idle": "2022-10-20T11:17:39.186911Z",
     "shell.execute_reply": "2022-10-20T11:17:39.185803Z"
    },
    "papermill": {
     "duration": 1.057994,
     "end_time": "2022-10-20T11:17:39.189790",
     "exception": false,
     "start_time": "2022-10-20T11:17:38.131796",
     "status": "completed"
    },
    "tags": []
   },
   "outputs": [],
   "source": [
    "from sklearn.linear_model import LinearRegression\n",
    "from sklearn.model_selection import cross_val_score"
   ]
  },
  {
   "cell_type": "code",
   "execution_count": 25,
   "id": "cfa59a0b",
   "metadata": {
    "execution": {
     "iopub.execute_input": "2022-10-20T11:17:39.492179Z",
     "iopub.status.busy": "2022-10-20T11:17:39.491808Z",
     "iopub.status.idle": "2022-10-20T11:17:40.979764Z",
     "shell.execute_reply": "2022-10-20T11:17:40.978319Z"
    },
    "papermill": {
     "duration": 1.635957,
     "end_time": "2022-10-20T11:17:40.986646",
     "exception": false,
     "start_time": "2022-10-20T11:17:39.350689",
     "status": "completed"
    },
    "tags": []
   },
   "outputs": [],
   "source": [
    "linear_reg = LinearRegression().fit(x_train_embeddings, y_train_intensity)"
   ]
  },
  {
   "cell_type": "code",
   "execution_count": 26,
   "id": "34d868cf",
   "metadata": {
    "execution": {
     "iopub.execute_input": "2022-10-20T11:17:41.378225Z",
     "iopub.status.busy": "2022-10-20T11:17:41.377631Z",
     "iopub.status.idle": "2022-10-20T11:17:41.409007Z",
     "shell.execute_reply": "2022-10-20T11:17:41.407667Z"
    },
    "papermill": {
     "duration": 0.200082,
     "end_time": "2022-10-20T11:17:41.412258",
     "exception": false,
     "start_time": "2022-10-20T11:17:41.212176",
     "status": "completed"
    },
    "tags": []
   },
   "outputs": [],
   "source": [
    "y_test_pred = linear_reg.predict(x_test_embeddings)\n",
    "y_test_pred_classes=['clickbait' if i>=0.5 else 'no-clickbait' for i in y_test_pred]\n",
    "y_test_actual_classes=list(test_df['label'].values)"
   ]
  },
  {
   "cell_type": "code",
   "execution_count": 27,
   "id": "c09daa2c",
   "metadata": {
    "execution": {
     "iopub.execute_input": "2022-10-20T11:17:41.738081Z",
     "iopub.status.busy": "2022-10-20T11:17:41.737698Z",
     "iopub.status.idle": "2022-10-20T11:17:41.742360Z",
     "shell.execute_reply": "2022-10-20T11:17:41.741427Z"
    },
    "papermill": {
     "duration": 0.114607,
     "end_time": "2022-10-20T11:17:41.744378",
     "exception": false,
     "start_time": "2022-10-20T11:17:41.629771",
     "status": "completed"
    },
    "tags": []
   },
   "outputs": [],
   "source": [
    "from sklearn.metrics import median_absolute_error,mean_squared_error, f1_score, accuracy_score"
   ]
  },
  {
   "cell_type": "code",
   "execution_count": 28,
   "id": "bbb2212a",
   "metadata": {
    "execution": {
     "iopub.execute_input": "2022-10-20T11:17:41.957007Z",
     "iopub.status.busy": "2022-10-20T11:17:41.956433Z",
     "iopub.status.idle": "2022-10-20T11:17:41.962263Z",
     "shell.execute_reply": "2022-10-20T11:17:41.961319Z"
    },
    "papermill": {
     "duration": 0.114568,
     "end_time": "2022-10-20T11:17:41.964252",
     "exception": false,
     "start_time": "2022-10-20T11:17:41.849684",
     "status": "completed"
    },
    "tags": []
   },
   "outputs": [],
   "source": [
    "def results(y_true,y_pred,y_actual_classes,y_pred_classes):\n",
    "    Medae = median_absolute_error(y_true,y_pred)\n",
    "    mse = mean_squared_error(y_true,y_pred) #default=True\n",
    "    rmse = mean_squared_error(y_true,y_pred,squared=False)\n",
    "    accuracy=accuracy_score(y_actual_classes,y_pred_classes)\n",
    "    f1=f1_score(y_actual_classes,y_pred_classes,pos_label='clickbait')\n",
    "    \n",
    "    print(\"MedAE:\",Medae)\n",
    "    print(\"MSE:\",mse)\n",
    "    print(\"RMSE:\",rmse)\n",
    "    print(\"Accuracy:\",accuracy)\n",
    "    print(\"f1-score:\",f1)"
   ]
  },
  {
   "cell_type": "code",
   "execution_count": 29,
   "id": "3b4c1a91",
   "metadata": {
    "execution": {
     "iopub.execute_input": "2022-10-20T11:17:42.180951Z",
     "iopub.status.busy": "2022-10-20T11:17:42.179200Z",
     "iopub.status.idle": "2022-10-20T11:17:42.213864Z",
     "shell.execute_reply": "2022-10-20T11:17:42.212808Z"
    },
    "papermill": {
     "duration": 0.145154,
     "end_time": "2022-10-20T11:17:42.216661",
     "exception": false,
     "start_time": "2022-10-20T11:17:42.071507",
     "status": "completed"
    },
    "tags": []
   },
   "outputs": [
    {
     "name": "stdout",
     "output_type": "stream",
     "text": [
      "MedAE: 0.10626551307554688\n",
      "MSE: 0.027650374498232728\n",
      "RMSE: 0.16628401756703115\n",
      "Accuracy: 0.8547382983629237\n",
      "f1-score: 0.6732365145228216\n"
     ]
    }
   ],
   "source": [
    "results(y_test_intensity,y_test_pred,y_test_actual_classes,y_test_pred_classes)"
   ]
  },
  {
   "cell_type": "markdown",
   "id": "0bd81786",
   "metadata": {
    "papermill": {
     "duration": 0.106911,
     "end_time": "2022-10-20T11:17:42.431017",
     "exception": false,
     "start_time": "2022-10-20T11:17:42.324106",
     "status": "completed"
    },
    "tags": []
   },
   "source": [
    "# Ridge Regression"
   ]
  },
  {
   "cell_type": "code",
   "execution_count": 30,
   "id": "56e1bbdb",
   "metadata": {
    "execution": {
     "iopub.execute_input": "2022-10-20T11:17:42.646699Z",
     "iopub.status.busy": "2022-10-20T11:17:42.646007Z",
     "iopub.status.idle": "2022-10-20T11:17:42.651300Z",
     "shell.execute_reply": "2022-10-20T11:17:42.650422Z"
    },
    "papermill": {
     "duration": 0.11524,
     "end_time": "2022-10-20T11:17:42.653348",
     "exception": false,
     "start_time": "2022-10-20T11:17:42.538108",
     "status": "completed"
    },
    "tags": []
   },
   "outputs": [],
   "source": [
    "from sklearn.linear_model import Ridge"
   ]
  },
  {
   "cell_type": "code",
   "execution_count": 31,
   "id": "a53ddd6c",
   "metadata": {
    "execution": {
     "iopub.execute_input": "2022-10-20T11:17:42.870509Z",
     "iopub.status.busy": "2022-10-20T11:17:42.870135Z",
     "iopub.status.idle": "2022-10-20T11:17:43.121146Z",
     "shell.execute_reply": "2022-10-20T11:17:43.119706Z"
    },
    "papermill": {
     "duration": 0.365338,
     "end_time": "2022-10-20T11:17:43.124978",
     "exception": false,
     "start_time": "2022-10-20T11:17:42.759640",
     "status": "completed"
    },
    "tags": []
   },
   "outputs": [],
   "source": [
    "ridge_reg = Ridge(alpha=2).fit(x_train_embeddings, y_train_intensity)\n",
    "y_test_pred = ridge_reg.predict(x_test_embeddings)\n",
    "y_test_pred_classes=['clickbait' if i>=0.5 else 'no-clickbait' for i in y_test_pred]\n",
    "y_test_actual_classes=list(test_df['label'].values)"
   ]
  },
  {
   "cell_type": "code",
   "execution_count": 32,
   "id": "7370a39e",
   "metadata": {
    "execution": {
     "iopub.execute_input": "2022-10-20T11:17:43.406886Z",
     "iopub.status.busy": "2022-10-20T11:17:43.406495Z",
     "iopub.status.idle": "2022-10-20T11:17:43.438926Z",
     "shell.execute_reply": "2022-10-20T11:17:43.437809Z"
    },
    "papermill": {
     "duration": 0.144453,
     "end_time": "2022-10-20T11:17:43.441542",
     "exception": false,
     "start_time": "2022-10-20T11:17:43.297089",
     "status": "completed"
    },
    "tags": []
   },
   "outputs": [
    {
     "name": "stdout",
     "output_type": "stream",
     "text": [
      "MedAE: 0.10668419998230713\n",
      "MSE: 0.027413629698537584\n",
      "RMSE: 0.1655706184639581\n",
      "Accuracy: 0.8563523172700023\n",
      "f1-score: 0.6753517457008859\n"
     ]
    }
   ],
   "source": [
    "results(y_test_intensity,y_test_pred,y_test_actual_classes,y_test_pred_classes)"
   ]
  },
  {
   "cell_type": "markdown",
   "id": "82756ca9",
   "metadata": {
    "papermill": {
     "duration": 0.106292,
     "end_time": "2022-10-20T11:17:43.664700",
     "exception": false,
     "start_time": "2022-10-20T11:17:43.558408",
     "status": "completed"
    },
    "tags": []
   },
   "source": [
    "# Gradient Boosted Regression"
   ]
  },
  {
   "cell_type": "code",
   "execution_count": 33,
   "id": "b26d9d7c",
   "metadata": {
    "execution": {
     "iopub.execute_input": "2022-10-20T11:17:43.920338Z",
     "iopub.status.busy": "2022-10-20T11:17:43.919975Z",
     "iopub.status.idle": "2022-10-20T11:17:44.029118Z",
     "shell.execute_reply": "2022-10-20T11:17:44.028188Z"
    },
    "papermill": {
     "duration": 0.261299,
     "end_time": "2022-10-20T11:17:44.031453",
     "exception": false,
     "start_time": "2022-10-20T11:17:43.770154",
     "status": "completed"
    },
    "tags": []
   },
   "outputs": [],
   "source": [
    "from sklearn.ensemble import GradientBoostingRegressor"
   ]
  },
  {
   "cell_type": "code",
   "execution_count": 34,
   "id": "7308ca36",
   "metadata": {
    "execution": {
     "iopub.execute_input": "2022-10-20T11:17:44.247669Z",
     "iopub.status.busy": "2022-10-20T11:17:44.247299Z",
     "iopub.status.idle": "2022-10-20T11:25:09.247769Z",
     "shell.execute_reply": "2022-10-20T11:25:09.246778Z"
    },
    "papermill": {
     "duration": 445.219615,
     "end_time": "2022-10-20T11:25:09.359124",
     "exception": false,
     "start_time": "2022-10-20T11:17:44.139509",
     "status": "completed"
    },
    "tags": []
   },
   "outputs": [
    {
     "name": "stdout",
     "output_type": "stream",
     "text": [
      "MedAE: 0.11500446947761096\n",
      "MSE: 0.029832788492144123\n",
      "RMSE: 0.17272170822494815\n",
      "Accuracy: 0.844362462531704\n",
      "f1-score: 0.6349378042184964\n"
     ]
    }
   ],
   "source": [
    "ridge_reg = GradientBoostingRegressor().fit(x_train_embeddings, y_train_intensity)\n",
    "y_test_pred = ridge_reg.predict(x_test_embeddings)\n",
    "y_test_pred_classes=['clickbait' if i>=0.5 else 'no-clickbait' for i in y_test_pred]\n",
    "y_test_actual_classes=list(test_df['label'].values)\n",
    "results(y_test_intensity,y_test_pred,y_test_actual_classes,y_test_pred_classes)"
   ]
  },
  {
   "cell_type": "markdown",
   "id": "50aa53db",
   "metadata": {
    "papermill": {
     "duration": 0.106632,
     "end_time": "2022-10-20T11:25:09.572534",
     "exception": false,
     "start_time": "2022-10-20T11:25:09.465902",
     "status": "completed"
    },
    "tags": []
   },
   "source": [
    "# Random Forest Regression"
   ]
  },
  {
   "cell_type": "code",
   "execution_count": 35,
   "id": "8fc3d6af",
   "metadata": {
    "execution": {
     "iopub.execute_input": "2022-10-20T11:25:09.788356Z",
     "iopub.status.busy": "2022-10-20T11:25:09.787374Z",
     "iopub.status.idle": "2022-10-20T11:25:09.792367Z",
     "shell.execute_reply": "2022-10-20T11:25:09.791525Z"
    },
    "papermill": {
     "duration": 0.115828,
     "end_time": "2022-10-20T11:25:09.794357",
     "exception": false,
     "start_time": "2022-10-20T11:25:09.678529",
     "status": "completed"
    },
    "tags": []
   },
   "outputs": [],
   "source": [
    "from sklearn.ensemble import RandomForestRegressor"
   ]
  },
  {
   "cell_type": "code",
   "execution_count": 36,
   "id": "1e3a8136",
   "metadata": {
    "execution": {
     "iopub.execute_input": "2022-10-20T11:25:10.112284Z",
     "iopub.status.busy": "2022-10-20T11:25:10.111827Z",
     "iopub.status.idle": "2022-10-20T11:29:37.795914Z",
     "shell.execute_reply": "2022-10-20T11:29:37.794770Z"
    },
    "papermill": {
     "duration": 268.048859,
     "end_time": "2022-10-20T11:29:37.952427",
     "exception": false,
     "start_time": "2022-10-20T11:25:09.903568",
     "status": "completed"
    },
    "tags": []
   },
   "outputs": [
    {
     "name": "stdout",
     "output_type": "stream",
     "text": [
      "MedAE: 0.1434751878687867\n",
      "MSE: 0.04243003617381256\n",
      "RMSE: 0.2059855241851052\n",
      "Accuracy: 0.7890246714318654\n",
      "f1-score: 0.41533546325878595\n"
     ]
    }
   ],
   "source": [
    "ridge_reg = RandomForestRegressor(max_depth=3, random_state=0).fit(x_train_embeddings, y_train_intensity)\n",
    "y_test_pred = ridge_reg.predict(x_test_embeddings)\n",
    "y_test_pred_classes=['clickbait' if i>=0.5 else 'no-clickbait' for i in y_test_pred]\n",
    "y_test_actual_classes=list(test_df['label'].values)\n",
    "results(y_test_intensity,y_test_pred,y_test_actual_classes,y_test_pred_classes)"
   ]
  },
  {
   "cell_type": "markdown",
   "id": "7f0ffbad",
   "metadata": {
    "papermill": {
     "duration": 0.119354,
     "end_time": "2022-10-20T11:29:38.186076",
     "exception": false,
     "start_time": "2022-10-20T11:29:38.066722",
     "status": "completed"
    },
    "tags": []
   },
   "source": [
    "# Adaboost Regression"
   ]
  },
  {
   "cell_type": "code",
   "execution_count": 37,
   "id": "f163af1c",
   "metadata": {
    "execution": {
     "iopub.execute_input": "2022-10-20T11:29:38.404347Z",
     "iopub.status.busy": "2022-10-20T11:29:38.403997Z",
     "iopub.status.idle": "2022-10-20T11:29:38.408469Z",
     "shell.execute_reply": "2022-10-20T11:29:38.407460Z"
    },
    "papermill": {
     "duration": 0.115627,
     "end_time": "2022-10-20T11:29:38.410646",
     "exception": false,
     "start_time": "2022-10-20T11:29:38.295019",
     "status": "completed"
    },
    "tags": []
   },
   "outputs": [],
   "source": [
    "from sklearn.ensemble import AdaBoostRegressor"
   ]
  },
  {
   "cell_type": "code",
   "execution_count": 38,
   "id": "5eae8a9a",
   "metadata": {
    "execution": {
     "iopub.execute_input": "2022-10-20T11:29:38.630257Z",
     "iopub.status.busy": "2022-10-20T11:29:38.629913Z",
     "iopub.status.idle": "2022-10-20T11:33:45.014694Z",
     "shell.execute_reply": "2022-10-20T11:33:45.013678Z"
    },
    "papermill": {
     "duration": 246.60922,
     "end_time": "2022-10-20T11:33:45.128711",
     "exception": false,
     "start_time": "2022-10-20T11:29:38.519491",
     "status": "completed"
    },
    "tags": []
   },
   "outputs": [
    {
     "name": "stdout",
     "output_type": "stream",
     "text": [
      "MedAE: 0.15568692764027522\n",
      "MSE: 0.03933567908290634\n",
      "RMSE: 0.19833224418360806\n",
      "Accuracy: 0.842979017754208\n",
      "f1-score: 0.6316928069226608\n"
     ]
    }
   ],
   "source": [
    "ridge_reg = AdaBoostRegressor(random_state=0, n_estimators=100).fit(x_train_embeddings, y_train_intensity)\n",
    "y_test_pred = ridge_reg.predict(x_test_embeddings)\n",
    "y_test_pred_classes=['clickbait' if i>=0.5 else 'no-clickbait' for i in y_test_pred]\n",
    "y_test_actual_classes=list(test_df['label'].values)\n",
    "results(y_test_intensity,y_test_pred,y_test_actual_classes,y_test_pred_classes)"
   ]
  },
  {
   "cell_type": "code",
   "execution_count": null,
   "id": "cd7b9d13",
   "metadata": {
    "papermill": {
     "duration": 0.108473,
     "end_time": "2022-10-20T11:33:45.346838",
     "exception": false,
     "start_time": "2022-10-20T11:33:45.238365",
     "status": "completed"
    },
    "tags": []
   },
   "outputs": [],
   "source": []
  },
  {
   "cell_type": "code",
   "execution_count": null,
   "id": "7fba65fe",
   "metadata": {
    "papermill": {
     "duration": 0.115223,
     "end_time": "2022-10-20T11:33:45.570492",
     "exception": false,
     "start_time": "2022-10-20T11:33:45.455269",
     "status": "completed"
    },
    "tags": []
   },
   "outputs": [],
   "source": []
  }
 ],
 "metadata": {
  "kernelspec": {
   "display_name": "Python 3",
   "language": "python",
   "name": "python3"
  },
  "language_info": {
   "codemirror_mode": {
    "name": "ipython",
    "version": 3
   },
   "file_extension": ".py",
   "mimetype": "text/x-python",
   "name": "python",
   "nbconvert_exporter": "python",
   "pygments_lexer": "ipython3",
   "version": "3.7.12"
  },
  "papermill": {
   "default_parameters": {},
   "duration": 1242.975362,
   "end_time": "2022-10-20T11:33:48.530492",
   "environment_variables": {},
   "exception": null,
   "input_path": "__notebook__.ipynb",
   "output_path": "__notebook__.ipynb",
   "parameters": {},
   "start_time": "2022-10-20T11:13:05.555130",
   "version": "2.3.4"
  },
  "widgets": {
   "application/vnd.jupyter.widget-state+json": {
    "state": {
     "074c4c6ede404373b3fca38390bc66b3": {
      "model_module": "@jupyter-widgets/controls",
      "model_module_version": "1.5.0",
      "model_name": "DescriptionStyleModel",
      "state": {
       "_model_module": "@jupyter-widgets/controls",
       "_model_module_version": "1.5.0",
       "_model_name": "DescriptionStyleModel",
       "_view_count": null,
       "_view_module": "@jupyter-widgets/base",
       "_view_module_version": "1.2.0",
       "_view_name": "StyleView",
       "description_width": ""
      }
     },
     "0baf6bc0944342ba8c0098be4ea8afa3": {
      "model_module": "@jupyter-widgets/controls",
      "model_module_version": "1.5.0",
      "model_name": "HBoxModel",
      "state": {
       "_dom_classes": [],
       "_model_module": "@jupyter-widgets/controls",
       "_model_module_version": "1.5.0",
       "_model_name": "HBoxModel",
       "_view_count": null,
       "_view_module": "@jupyter-widgets/controls",
       "_view_module_version": "1.5.0",
       "_view_name": "HBoxView",
       "box_style": "",
       "children": [
        "IPY_MODEL_82b1ed52b4dc4416b8a824cf7cedbf24",
        "IPY_MODEL_f00c67685cd6485b9cac99c9c42a429f",
        "IPY_MODEL_bc5bd1e10fdb47d88d7d51982447f1b5"
       ],
       "layout": "IPY_MODEL_6a35fce3fb2e46a1b80d695201301445"
      }
     },
     "0eb9ebb6daa54776babadbdc3adb4f2c": {
      "model_module": "@jupyter-widgets/base",
      "model_module_version": "1.2.0",
      "model_name": "LayoutModel",
      "state": {
       "_model_module": "@jupyter-widgets/base",
       "_model_module_version": "1.2.0",
       "_model_name": "LayoutModel",
       "_view_count": null,
       "_view_module": "@jupyter-widgets/base",
       "_view_module_version": "1.2.0",
       "_view_name": "LayoutView",
       "align_content": null,
       "align_items": null,
       "align_self": null,
       "border": null,
       "bottom": null,
       "display": null,
       "flex": null,
       "flex_flow": null,
       "grid_area": null,
       "grid_auto_columns": null,
       "grid_auto_flow": null,
       "grid_auto_rows": null,
       "grid_column": null,
       "grid_gap": null,
       "grid_row": null,
       "grid_template_areas": null,
       "grid_template_columns": null,
       "grid_template_rows": null,
       "height": null,
       "justify_content": null,
       "justify_items": null,
       "left": null,
       "margin": null,
       "max_height": null,
       "max_width": null,
       "min_height": null,
       "min_width": null,
       "object_fit": null,
       "object_position": null,
       "order": null,
       "overflow": null,
       "overflow_x": null,
       "overflow_y": null,
       "padding": null,
       "right": null,
       "top": null,
       "visibility": null,
       "width": null
      }
     },
     "12b90d25e0c7451180d1997b4684ce54": {
      "model_module": "@jupyter-widgets/controls",
      "model_module_version": "1.5.0",
      "model_name": "HBoxModel",
      "state": {
       "_dom_classes": [],
       "_model_module": "@jupyter-widgets/controls",
       "_model_module_version": "1.5.0",
       "_model_name": "HBoxModel",
       "_view_count": null,
       "_view_module": "@jupyter-widgets/controls",
       "_view_module_version": "1.5.0",
       "_view_name": "HBoxView",
       "box_style": "",
       "children": [
        "IPY_MODEL_8cb09e0edd86483c9fb3d4c6a2fdf499",
        "IPY_MODEL_50cf42eeec6642018c6bb0a5261a4833",
        "IPY_MODEL_eb5cdcaa90e94d29b00c0c921eb7c96a"
       ],
       "layout": "IPY_MODEL_3c7821b08e354d73bf881f1c2dd58cf1"
      }
     },
     "158557683de94b93b1695c4c5157e7ad": {
      "model_module": "@jupyter-widgets/controls",
      "model_module_version": "1.5.0",
      "model_name": "FloatProgressModel",
      "state": {
       "_dom_classes": [],
       "_model_module": "@jupyter-widgets/controls",
       "_model_module_version": "1.5.0",
       "_model_name": "FloatProgressModel",
       "_view_count": null,
       "_view_module": "@jupyter-widgets/controls",
       "_view_module_version": "1.5.0",
       "_view_name": "ProgressView",
       "bar_style": "success",
       "description": "",
       "description_tooltip": null,
       "layout": "IPY_MODEL_88549ff9db2e43c7b8341d9a578c0733",
       "max": 898823.0,
       "min": 0.0,
       "orientation": "horizontal",
       "style": "IPY_MODEL_61dba21d01394de2a6f86fe458de07c4",
       "value": 898823.0
      }
     },
     "2497764da7054ad5a117d1bfb3d8b9cd": {
      "model_module": "@jupyter-widgets/base",
      "model_module_version": "1.2.0",
      "model_name": "LayoutModel",
      "state": {
       "_model_module": "@jupyter-widgets/base",
       "_model_module_version": "1.2.0",
       "_model_name": "LayoutModel",
       "_view_count": null,
       "_view_module": "@jupyter-widgets/base",
       "_view_module_version": "1.2.0",
       "_view_name": "LayoutView",
       "align_content": null,
       "align_items": null,
       "align_self": null,
       "border": null,
       "bottom": null,
       "display": null,
       "flex": null,
       "flex_flow": null,
       "grid_area": null,
       "grid_auto_columns": null,
       "grid_auto_flow": null,
       "grid_auto_rows": null,
       "grid_column": null,
       "grid_gap": null,
       "grid_row": null,
       "grid_template_areas": null,
       "grid_template_columns": null,
       "grid_template_rows": null,
       "height": null,
       "justify_content": null,
       "justify_items": null,
       "left": null,
       "margin": null,
       "max_height": null,
       "max_width": null,
       "min_height": null,
       "min_width": null,
       "object_fit": null,
       "object_position": null,
       "order": null,
       "overflow": null,
       "overflow_x": null,
       "overflow_y": null,
       "padding": null,
       "right": null,
       "top": null,
       "visibility": null,
       "width": null
      }
     },
     "27ac8547983b44a686ba2f3847e5b41a": {
      "model_module": "@jupyter-widgets/controls",
      "model_module_version": "1.5.0",
      "model_name": "HBoxModel",
      "state": {
       "_dom_classes": [],
       "_model_module": "@jupyter-widgets/controls",
       "_model_module_version": "1.5.0",
       "_model_name": "HBoxModel",
       "_view_count": null,
       "_view_module": "@jupyter-widgets/controls",
       "_view_module_version": "1.5.0",
       "_view_name": "HBoxView",
       "box_style": "",
       "children": [
        "IPY_MODEL_ea38511948d7448c84a03cef448aae00",
        "IPY_MODEL_158557683de94b93b1695c4c5157e7ad",
        "IPY_MODEL_cb6acf781aa44e51b91440a30727287f"
       ],
       "layout": "IPY_MODEL_3e53ead33501464cac2e808264d09528"
      }
     },
     "394eb5e778c247acb924be130dce52c0": {
      "model_module": "@jupyter-widgets/base",
      "model_module_version": "1.2.0",
      "model_name": "LayoutModel",
      "state": {
       "_model_module": "@jupyter-widgets/base",
       "_model_module_version": "1.2.0",
       "_model_name": "LayoutModel",
       "_view_count": null,
       "_view_module": "@jupyter-widgets/base",
       "_view_module_version": "1.2.0",
       "_view_name": "LayoutView",
       "align_content": null,
       "align_items": null,
       "align_self": null,
       "border": null,
       "bottom": null,
       "display": null,
       "flex": null,
       "flex_flow": null,
       "grid_area": null,
       "grid_auto_columns": null,
       "grid_auto_flow": null,
       "grid_auto_rows": null,
       "grid_column": null,
       "grid_gap": null,
       "grid_row": null,
       "grid_template_areas": null,
       "grid_template_columns": null,
       "grid_template_rows": null,
       "height": null,
       "justify_content": null,
       "justify_items": null,
       "left": null,
       "margin": null,
       "max_height": null,
       "max_width": null,
       "min_height": null,
       "min_width": null,
       "object_fit": null,
       "object_position": null,
       "order": null,
       "overflow": null,
       "overflow_x": null,
       "overflow_y": null,
       "padding": null,
       "right": null,
       "top": null,
       "visibility": null,
       "width": null
      }
     },
     "3c7821b08e354d73bf881f1c2dd58cf1": {
      "model_module": "@jupyter-widgets/base",
      "model_module_version": "1.2.0",
      "model_name": "LayoutModel",
      "state": {
       "_model_module": "@jupyter-widgets/base",
       "_model_module_version": "1.2.0",
       "_model_name": "LayoutModel",
       "_view_count": null,
       "_view_module": "@jupyter-widgets/base",
       "_view_module_version": "1.2.0",
       "_view_name": "LayoutView",
       "align_content": null,
       "align_items": null,
       "align_self": null,
       "border": null,
       "bottom": null,
       "display": null,
       "flex": null,
       "flex_flow": null,
       "grid_area": null,
       "grid_auto_columns": null,
       "grid_auto_flow": null,
       "grid_auto_rows": null,
       "grid_column": null,
       "grid_gap": null,
       "grid_row": null,
       "grid_template_areas": null,
       "grid_template_columns": null,
       "grid_template_rows": null,
       "height": null,
       "justify_content": null,
       "justify_items": null,
       "left": null,
       "margin": null,
       "max_height": null,
       "max_width": null,
       "min_height": null,
       "min_width": null,
       "object_fit": null,
       "object_position": null,
       "order": null,
       "overflow": null,
       "overflow_x": null,
       "overflow_y": null,
       "padding": null,
       "right": null,
       "top": null,
       "visibility": null,
       "width": null
      }
     },
     "3d1cc4e9dcbd4b9db493d32d8f04b341": {
      "model_module": "@jupyter-widgets/controls",
      "model_module_version": "1.5.0",
      "model_name": "DescriptionStyleModel",
      "state": {
       "_model_module": "@jupyter-widgets/controls",
       "_model_module_version": "1.5.0",
       "_model_name": "DescriptionStyleModel",
       "_view_count": null,
       "_view_module": "@jupyter-widgets/base",
       "_view_module_version": "1.2.0",
       "_view_name": "StyleView",
       "description_width": ""
      }
     },
     "3d71083ba5ae47e8b2916c098d9bd92b": {
      "model_module": "@jupyter-widgets/controls",
      "model_module_version": "1.5.0",
      "model_name": "DescriptionStyleModel",
      "state": {
       "_model_module": "@jupyter-widgets/controls",
       "_model_module_version": "1.5.0",
       "_model_name": "DescriptionStyleModel",
       "_view_count": null,
       "_view_module": "@jupyter-widgets/base",
       "_view_module_version": "1.2.0",
       "_view_name": "StyleView",
       "description_width": ""
      }
     },
     "3e53ead33501464cac2e808264d09528": {
      "model_module": "@jupyter-widgets/base",
      "model_module_version": "1.2.0",
      "model_name": "LayoutModel",
      "state": {
       "_model_module": "@jupyter-widgets/base",
       "_model_module_version": "1.2.0",
       "_model_name": "LayoutModel",
       "_view_count": null,
       "_view_module": "@jupyter-widgets/base",
       "_view_module_version": "1.2.0",
       "_view_name": "LayoutView",
       "align_content": null,
       "align_items": null,
       "align_self": null,
       "border": null,
       "bottom": null,
       "display": null,
       "flex": null,
       "flex_flow": null,
       "grid_area": null,
       "grid_auto_columns": null,
       "grid_auto_flow": null,
       "grid_auto_rows": null,
       "grid_column": null,
       "grid_gap": null,
       "grid_row": null,
       "grid_template_areas": null,
       "grid_template_columns": null,
       "grid_template_rows": null,
       "height": null,
       "justify_content": null,
       "justify_items": null,
       "left": null,
       "margin": null,
       "max_height": null,
       "max_width": null,
       "min_height": null,
       "min_width": null,
       "object_fit": null,
       "object_position": null,
       "order": null,
       "overflow": null,
       "overflow_x": null,
       "overflow_y": null,
       "padding": null,
       "right": null,
       "top": null,
       "visibility": null,
       "width": null
      }
     },
     "4ca8069f0a6f4580afd5c4c9d5a36236": {
      "model_module": "@jupyter-widgets/base",
      "model_module_version": "1.2.0",
      "model_name": "LayoutModel",
      "state": {
       "_model_module": "@jupyter-widgets/base",
       "_model_module_version": "1.2.0",
       "_model_name": "LayoutModel",
       "_view_count": null,
       "_view_module": "@jupyter-widgets/base",
       "_view_module_version": "1.2.0",
       "_view_name": "LayoutView",
       "align_content": null,
       "align_items": null,
       "align_self": null,
       "border": null,
       "bottom": null,
       "display": null,
       "flex": null,
       "flex_flow": null,
       "grid_area": null,
       "grid_auto_columns": null,
       "grid_auto_flow": null,
       "grid_auto_rows": null,
       "grid_column": null,
       "grid_gap": null,
       "grid_row": null,
       "grid_template_areas": null,
       "grid_template_columns": null,
       "grid_template_rows": null,
       "height": null,
       "justify_content": null,
       "justify_items": null,
       "left": null,
       "margin": null,
       "max_height": null,
       "max_width": null,
       "min_height": null,
       "min_width": null,
       "object_fit": null,
       "object_position": null,
       "order": null,
       "overflow": null,
       "overflow_x": null,
       "overflow_y": null,
       "padding": null,
       "right": null,
       "top": null,
       "visibility": null,
       "width": null
      }
     },
     "50cf42eeec6642018c6bb0a5261a4833": {
      "model_module": "@jupyter-widgets/controls",
      "model_module_version": "1.5.0",
      "model_name": "FloatProgressModel",
      "state": {
       "_dom_classes": [],
       "_model_module": "@jupyter-widgets/controls",
       "_model_module_version": "1.5.0",
       "_model_name": "FloatProgressModel",
       "_view_count": null,
       "_view_module": "@jupyter-widgets/controls",
       "_view_module_version": "1.5.0",
       "_view_name": "ProgressView",
       "bar_style": "success",
       "description": "",
       "description_tooltip": null,
       "layout": "IPY_MODEL_785c1b3a5a7f48f4bc6badf101f7be81",
       "max": 501200538.0,
       "min": 0.0,
       "orientation": "horizontal",
       "style": "IPY_MODEL_6c993a4bb60c42778d137396e49970aa",
       "value": 501200538.0
      }
     },
     "51df6d71c0ed457b8b8853e9cf92436c": {
      "model_module": "@jupyter-widgets/controls",
      "model_module_version": "1.5.0",
      "model_name": "ProgressStyleModel",
      "state": {
       "_model_module": "@jupyter-widgets/controls",
       "_model_module_version": "1.5.0",
       "_model_name": "ProgressStyleModel",
       "_view_count": null,
       "_view_module": "@jupyter-widgets/base",
       "_view_module_version": "1.2.0",
       "_view_name": "StyleView",
       "bar_color": null,
       "description_width": ""
      }
     },
     "524375ad62e04f3db9fb15e0c48f8f8b": {
      "model_module": "@jupyter-widgets/controls",
      "model_module_version": "1.5.0",
      "model_name": "DescriptionStyleModel",
      "state": {
       "_model_module": "@jupyter-widgets/controls",
       "_model_module_version": "1.5.0",
       "_model_name": "DescriptionStyleModel",
       "_view_count": null,
       "_view_module": "@jupyter-widgets/base",
       "_view_module_version": "1.2.0",
       "_view_name": "StyleView",
       "description_width": ""
      }
     },
     "557add506a17481a8860a9c1204c8d62": {
      "model_module": "@jupyter-widgets/controls",
      "model_module_version": "1.5.0",
      "model_name": "DescriptionStyleModel",
      "state": {
       "_model_module": "@jupyter-widgets/controls",
       "_model_module_version": "1.5.0",
       "_model_name": "DescriptionStyleModel",
       "_view_count": null,
       "_view_module": "@jupyter-widgets/base",
       "_view_module_version": "1.2.0",
       "_view_name": "StyleView",
       "description_width": ""
      }
     },
     "61dba21d01394de2a6f86fe458de07c4": {
      "model_module": "@jupyter-widgets/controls",
      "model_module_version": "1.5.0",
      "model_name": "ProgressStyleModel",
      "state": {
       "_model_module": "@jupyter-widgets/controls",
       "_model_module_version": "1.5.0",
       "_model_name": "ProgressStyleModel",
       "_view_count": null,
       "_view_module": "@jupyter-widgets/base",
       "_view_module_version": "1.2.0",
       "_view_name": "StyleView",
       "bar_color": null,
       "description_width": ""
      }
     },
     "6a35fce3fb2e46a1b80d695201301445": {
      "model_module": "@jupyter-widgets/base",
      "model_module_version": "1.2.0",
      "model_name": "LayoutModel",
      "state": {
       "_model_module": "@jupyter-widgets/base",
       "_model_module_version": "1.2.0",
       "_model_name": "LayoutModel",
       "_view_count": null,
       "_view_module": "@jupyter-widgets/base",
       "_view_module_version": "1.2.0",
       "_view_name": "LayoutView",
       "align_content": null,
       "align_items": null,
       "align_self": null,
       "border": null,
       "bottom": null,
       "display": null,
       "flex": null,
       "flex_flow": null,
       "grid_area": null,
       "grid_auto_columns": null,
       "grid_auto_flow": null,
       "grid_auto_rows": null,
       "grid_column": null,
       "grid_gap": null,
       "grid_row": null,
       "grid_template_areas": null,
       "grid_template_columns": null,
       "grid_template_rows": null,
       "height": null,
       "justify_content": null,
       "justify_items": null,
       "left": null,
       "margin": null,
       "max_height": null,
       "max_width": null,
       "min_height": null,
       "min_width": null,
       "object_fit": null,
       "object_position": null,
       "order": null,
       "overflow": null,
       "overflow_x": null,
       "overflow_y": null,
       "padding": null,
       "right": null,
       "top": null,
       "visibility": null,
       "width": null
      }
     },
     "6c993a4bb60c42778d137396e49970aa": {
      "model_module": "@jupyter-widgets/controls",
      "model_module_version": "1.5.0",
      "model_name": "ProgressStyleModel",
      "state": {
       "_model_module": "@jupyter-widgets/controls",
       "_model_module_version": "1.5.0",
       "_model_name": "ProgressStyleModel",
       "_view_count": null,
       "_view_module": "@jupyter-widgets/base",
       "_view_module_version": "1.2.0",
       "_view_name": "StyleView",
       "bar_color": null,
       "description_width": ""
      }
     },
     "70c16e4ffe9742f88b7210f6c2f358ad": {
      "model_module": "@jupyter-widgets/base",
      "model_module_version": "1.2.0",
      "model_name": "LayoutModel",
      "state": {
       "_model_module": "@jupyter-widgets/base",
       "_model_module_version": "1.2.0",
       "_model_name": "LayoutModel",
       "_view_count": null,
       "_view_module": "@jupyter-widgets/base",
       "_view_module_version": "1.2.0",
       "_view_name": "LayoutView",
       "align_content": null,
       "align_items": null,
       "align_self": null,
       "border": null,
       "bottom": null,
       "display": null,
       "flex": null,
       "flex_flow": null,
       "grid_area": null,
       "grid_auto_columns": null,
       "grid_auto_flow": null,
       "grid_auto_rows": null,
       "grid_column": null,
       "grid_gap": null,
       "grid_row": null,
       "grid_template_areas": null,
       "grid_template_columns": null,
       "grid_template_rows": null,
       "height": null,
       "justify_content": null,
       "justify_items": null,
       "left": null,
       "margin": null,
       "max_height": null,
       "max_width": null,
       "min_height": null,
       "min_width": null,
       "object_fit": null,
       "object_position": null,
       "order": null,
       "overflow": null,
       "overflow_x": null,
       "overflow_y": null,
       "padding": null,
       "right": null,
       "top": null,
       "visibility": null,
       "width": null
      }
     },
     "785c1b3a5a7f48f4bc6badf101f7be81": {
      "model_module": "@jupyter-widgets/base",
      "model_module_version": "1.2.0",
      "model_name": "LayoutModel",
      "state": {
       "_model_module": "@jupyter-widgets/base",
       "_model_module_version": "1.2.0",
       "_model_name": "LayoutModel",
       "_view_count": null,
       "_view_module": "@jupyter-widgets/base",
       "_view_module_version": "1.2.0",
       "_view_name": "LayoutView",
       "align_content": null,
       "align_items": null,
       "align_self": null,
       "border": null,
       "bottom": null,
       "display": null,
       "flex": null,
       "flex_flow": null,
       "grid_area": null,
       "grid_auto_columns": null,
       "grid_auto_flow": null,
       "grid_auto_rows": null,
       "grid_column": null,
       "grid_gap": null,
       "grid_row": null,
       "grid_template_areas": null,
       "grid_template_columns": null,
       "grid_template_rows": null,
       "height": null,
       "justify_content": null,
       "justify_items": null,
       "left": null,
       "margin": null,
       "max_height": null,
       "max_width": null,
       "min_height": null,
       "min_width": null,
       "object_fit": null,
       "object_position": null,
       "order": null,
       "overflow": null,
       "overflow_x": null,
       "overflow_y": null,
       "padding": null,
       "right": null,
       "top": null,
       "visibility": null,
       "width": null
      }
     },
     "7be8ddf209674243be0e64f52f157a7d": {
      "model_module": "@jupyter-widgets/controls",
      "model_module_version": "1.5.0",
      "model_name": "ProgressStyleModel",
      "state": {
       "_model_module": "@jupyter-widgets/controls",
       "_model_module_version": "1.5.0",
       "_model_name": "ProgressStyleModel",
       "_view_count": null,
       "_view_module": "@jupyter-widgets/base",
       "_view_module_version": "1.2.0",
       "_view_name": "StyleView",
       "bar_color": null,
       "description_width": ""
      }
     },
     "82b1ed52b4dc4416b8a824cf7cedbf24": {
      "model_module": "@jupyter-widgets/controls",
      "model_module_version": "1.5.0",
      "model_name": "HTMLModel",
      "state": {
       "_dom_classes": [],
       "_model_module": "@jupyter-widgets/controls",
       "_model_module_version": "1.5.0",
       "_model_name": "HTMLModel",
       "_view_count": null,
       "_view_module": "@jupyter-widgets/controls",
       "_view_module_version": "1.5.0",
       "_view_name": "HTMLView",
       "description": "",
       "description_tooltip": null,
       "layout": "IPY_MODEL_f7c1d51953ea4c9c91592818dbbabc5b",
       "placeholder": "​",
       "style": "IPY_MODEL_3d71083ba5ae47e8b2916c098d9bd92b",
       "value": "Downloading: 100%"
      }
     },
     "85e05291a133438bbf917a1a58e2f918": {
      "model_module": "@jupyter-widgets/base",
      "model_module_version": "1.2.0",
      "model_name": "LayoutModel",
      "state": {
       "_model_module": "@jupyter-widgets/base",
       "_model_module_version": "1.2.0",
       "_model_name": "LayoutModel",
       "_view_count": null,
       "_view_module": "@jupyter-widgets/base",
       "_view_module_version": "1.2.0",
       "_view_name": "LayoutView",
       "align_content": null,
       "align_items": null,
       "align_self": null,
       "border": null,
       "bottom": null,
       "display": null,
       "flex": null,
       "flex_flow": null,
       "grid_area": null,
       "grid_auto_columns": null,
       "grid_auto_flow": null,
       "grid_auto_rows": null,
       "grid_column": null,
       "grid_gap": null,
       "grid_row": null,
       "grid_template_areas": null,
       "grid_template_columns": null,
       "grid_template_rows": null,
       "height": null,
       "justify_content": null,
       "justify_items": null,
       "left": null,
       "margin": null,
       "max_height": null,
       "max_width": null,
       "min_height": null,
       "min_width": null,
       "object_fit": null,
       "object_position": null,
       "order": null,
       "overflow": null,
       "overflow_x": null,
       "overflow_y": null,
       "padding": null,
       "right": null,
       "top": null,
       "visibility": null,
       "width": null
      }
     },
     "88549ff9db2e43c7b8341d9a578c0733": {
      "model_module": "@jupyter-widgets/base",
      "model_module_version": "1.2.0",
      "model_name": "LayoutModel",
      "state": {
       "_model_module": "@jupyter-widgets/base",
       "_model_module_version": "1.2.0",
       "_model_name": "LayoutModel",
       "_view_count": null,
       "_view_module": "@jupyter-widgets/base",
       "_view_module_version": "1.2.0",
       "_view_name": "LayoutView",
       "align_content": null,
       "align_items": null,
       "align_self": null,
       "border": null,
       "bottom": null,
       "display": null,
       "flex": null,
       "flex_flow": null,
       "grid_area": null,
       "grid_auto_columns": null,
       "grid_auto_flow": null,
       "grid_auto_rows": null,
       "grid_column": null,
       "grid_gap": null,
       "grid_row": null,
       "grid_template_areas": null,
       "grid_template_columns": null,
       "grid_template_rows": null,
       "height": null,
       "justify_content": null,
       "justify_items": null,
       "left": null,
       "margin": null,
       "max_height": null,
       "max_width": null,
       "min_height": null,
       "min_width": null,
       "object_fit": null,
       "object_position": null,
       "order": null,
       "overflow": null,
       "overflow_x": null,
       "overflow_y": null,
       "padding": null,
       "right": null,
       "top": null,
       "visibility": null,
       "width": null
      }
     },
     "8cb09e0edd86483c9fb3d4c6a2fdf499": {
      "model_module": "@jupyter-widgets/controls",
      "model_module_version": "1.5.0",
      "model_name": "HTMLModel",
      "state": {
       "_dom_classes": [],
       "_model_module": "@jupyter-widgets/controls",
       "_model_module_version": "1.5.0",
       "_model_name": "HTMLModel",
       "_view_count": null,
       "_view_module": "@jupyter-widgets/controls",
       "_view_module_version": "1.5.0",
       "_view_name": "HTMLView",
       "description": "",
       "description_tooltip": null,
       "layout": "IPY_MODEL_2497764da7054ad5a117d1bfb3d8b9cd",
       "placeholder": "​",
       "style": "IPY_MODEL_557add506a17481a8860a9c1204c8d62",
       "value": "Downloading: 100%"
      }
     },
     "9885211d08eb415eafc3fbdacd14d1f9": {
      "model_module": "@jupyter-widgets/controls",
      "model_module_version": "1.5.0",
      "model_name": "HBoxModel",
      "state": {
       "_dom_classes": [],
       "_model_module": "@jupyter-widgets/controls",
       "_model_module_version": "1.5.0",
       "_model_name": "HBoxModel",
       "_view_count": null,
       "_view_module": "@jupyter-widgets/controls",
       "_view_module_version": "1.5.0",
       "_view_name": "HBoxView",
       "box_style": "",
       "children": [
        "IPY_MODEL_d53705ad29a94ac88868735e74c2f607",
        "IPY_MODEL_cf97708a99814aa8a05d84f330804af3",
        "IPY_MODEL_cfb8649f39604af5b5bdf1ea69de300a"
       ],
       "layout": "IPY_MODEL_394eb5e778c247acb924be130dce52c0"
      }
     },
     "9fb1b74a6b1f44b190d60ba585117873": {
      "model_module": "@jupyter-widgets/controls",
      "model_module_version": "1.5.0",
      "model_name": "DescriptionStyleModel",
      "state": {
       "_model_module": "@jupyter-widgets/controls",
       "_model_module_version": "1.5.0",
       "_model_name": "DescriptionStyleModel",
       "_view_count": null,
       "_view_module": "@jupyter-widgets/base",
       "_view_module_version": "1.2.0",
       "_view_name": "StyleView",
       "description_width": ""
      }
     },
     "9fe763603b454cb8859ea685fdcfa5ca": {
      "model_module": "@jupyter-widgets/base",
      "model_module_version": "1.2.0",
      "model_name": "LayoutModel",
      "state": {
       "_model_module": "@jupyter-widgets/base",
       "_model_module_version": "1.2.0",
       "_model_name": "LayoutModel",
       "_view_count": null,
       "_view_module": "@jupyter-widgets/base",
       "_view_module_version": "1.2.0",
       "_view_name": "LayoutView",
       "align_content": null,
       "align_items": null,
       "align_self": null,
       "border": null,
       "bottom": null,
       "display": null,
       "flex": null,
       "flex_flow": null,
       "grid_area": null,
       "grid_auto_columns": null,
       "grid_auto_flow": null,
       "grid_auto_rows": null,
       "grid_column": null,
       "grid_gap": null,
       "grid_row": null,
       "grid_template_areas": null,
       "grid_template_columns": null,
       "grid_template_rows": null,
       "height": null,
       "justify_content": null,
       "justify_items": null,
       "left": null,
       "margin": null,
       "max_height": null,
       "max_width": null,
       "min_height": null,
       "min_width": null,
       "object_fit": null,
       "object_position": null,
       "order": null,
       "overflow": null,
       "overflow_x": null,
       "overflow_y": null,
       "padding": null,
       "right": null,
       "top": null,
       "visibility": null,
       "width": null
      }
     },
     "9ffe6d39ad5a4a998c8b704ab9806dcc": {
      "model_module": "@jupyter-widgets/base",
      "model_module_version": "1.2.0",
      "model_name": "LayoutModel",
      "state": {
       "_model_module": "@jupyter-widgets/base",
       "_model_module_version": "1.2.0",
       "_model_name": "LayoutModel",
       "_view_count": null,
       "_view_module": "@jupyter-widgets/base",
       "_view_module_version": "1.2.0",
       "_view_name": "LayoutView",
       "align_content": null,
       "align_items": null,
       "align_self": null,
       "border": null,
       "bottom": null,
       "display": null,
       "flex": null,
       "flex_flow": null,
       "grid_area": null,
       "grid_auto_columns": null,
       "grid_auto_flow": null,
       "grid_auto_rows": null,
       "grid_column": null,
       "grid_gap": null,
       "grid_row": null,
       "grid_template_areas": null,
       "grid_template_columns": null,
       "grid_template_rows": null,
       "height": null,
       "justify_content": null,
       "justify_items": null,
       "left": null,
       "margin": null,
       "max_height": null,
       "max_width": null,
       "min_height": null,
       "min_width": null,
       "object_fit": null,
       "object_position": null,
       "order": null,
       "overflow": null,
       "overflow_x": null,
       "overflow_y": null,
       "padding": null,
       "right": null,
       "top": null,
       "visibility": null,
       "width": null
      }
     },
     "a23a3e00255641b7b17588be03e30acf": {
      "model_module": "@jupyter-widgets/controls",
      "model_module_version": "1.5.0",
      "model_name": "DescriptionStyleModel",
      "state": {
       "_model_module": "@jupyter-widgets/controls",
       "_model_module_version": "1.5.0",
       "_model_name": "DescriptionStyleModel",
       "_view_count": null,
       "_view_module": "@jupyter-widgets/base",
       "_view_module_version": "1.2.0",
       "_view_name": "StyleView",
       "description_width": ""
      }
     },
     "bc5bd1e10fdb47d88d7d51982447f1b5": {
      "model_module": "@jupyter-widgets/controls",
      "model_module_version": "1.5.0",
      "model_name": "HTMLModel",
      "state": {
       "_dom_classes": [],
       "_model_module": "@jupyter-widgets/controls",
       "_model_module_version": "1.5.0",
       "_model_name": "HTMLModel",
       "_view_count": null,
       "_view_module": "@jupyter-widgets/controls",
       "_view_module_version": "1.5.0",
       "_view_name": "HTMLView",
       "description": "",
       "description_tooltip": null,
       "layout": "IPY_MODEL_4ca8069f0a6f4580afd5c4c9d5a36236",
       "placeholder": "​",
       "style": "IPY_MODEL_524375ad62e04f3db9fb15e0c48f8f8b",
       "value": " 481/481 [00:00&lt;00:00, 7.67kB/s]"
      }
     },
     "cb6acf781aa44e51b91440a30727287f": {
      "model_module": "@jupyter-widgets/controls",
      "model_module_version": "1.5.0",
      "model_name": "HTMLModel",
      "state": {
       "_dom_classes": [],
       "_model_module": "@jupyter-widgets/controls",
       "_model_module_version": "1.5.0",
       "_model_name": "HTMLModel",
       "_view_count": null,
       "_view_module": "@jupyter-widgets/controls",
       "_view_module_version": "1.5.0",
       "_view_name": "HTMLView",
       "description": "",
       "description_tooltip": null,
       "layout": "IPY_MODEL_9fe763603b454cb8859ea685fdcfa5ca",
       "placeholder": "​",
       "style": "IPY_MODEL_3d1cc4e9dcbd4b9db493d32d8f04b341",
       "value": " 878k/878k [00:00&lt;00:00, 2.84MB/s]"
      }
     },
     "cf97708a99814aa8a05d84f330804af3": {
      "model_module": "@jupyter-widgets/controls",
      "model_module_version": "1.5.0",
      "model_name": "FloatProgressModel",
      "state": {
       "_dom_classes": [],
       "_model_module": "@jupyter-widgets/controls",
       "_model_module_version": "1.5.0",
       "_model_name": "FloatProgressModel",
       "_view_count": null,
       "_view_module": "@jupyter-widgets/controls",
       "_view_module_version": "1.5.0",
       "_view_name": "ProgressView",
       "bar_style": "success",
       "description": "",
       "description_tooltip": null,
       "layout": "IPY_MODEL_85e05291a133438bbf917a1a58e2f918",
       "max": 456318.0,
       "min": 0.0,
       "orientation": "horizontal",
       "style": "IPY_MODEL_7be8ddf209674243be0e64f52f157a7d",
       "value": 456318.0
      }
     },
     "cfb8649f39604af5b5bdf1ea69de300a": {
      "model_module": "@jupyter-widgets/controls",
      "model_module_version": "1.5.0",
      "model_name": "HTMLModel",
      "state": {
       "_dom_classes": [],
       "_model_module": "@jupyter-widgets/controls",
       "_model_module_version": "1.5.0",
       "_model_name": "HTMLModel",
       "_view_count": null,
       "_view_module": "@jupyter-widgets/controls",
       "_view_module_version": "1.5.0",
       "_view_name": "HTMLView",
       "description": "",
       "description_tooltip": null,
       "layout": "IPY_MODEL_0eb9ebb6daa54776babadbdc3adb4f2c",
       "placeholder": "​",
       "style": "IPY_MODEL_e51ce1c3ee9e4198a9a2448291c37dbf",
       "value": " 446k/446k [00:00&lt;00:00, 1.14MB/s]"
      }
     },
     "d15fc2ab263c4cd4ad0580b70b671732": {
      "model_module": "@jupyter-widgets/base",
      "model_module_version": "1.2.0",
      "model_name": "LayoutModel",
      "state": {
       "_model_module": "@jupyter-widgets/base",
       "_model_module_version": "1.2.0",
       "_model_name": "LayoutModel",
       "_view_count": null,
       "_view_module": "@jupyter-widgets/base",
       "_view_module_version": "1.2.0",
       "_view_name": "LayoutView",
       "align_content": null,
       "align_items": null,
       "align_self": null,
       "border": null,
       "bottom": null,
       "display": null,
       "flex": null,
       "flex_flow": null,
       "grid_area": null,
       "grid_auto_columns": null,
       "grid_auto_flow": null,
       "grid_auto_rows": null,
       "grid_column": null,
       "grid_gap": null,
       "grid_row": null,
       "grid_template_areas": null,
       "grid_template_columns": null,
       "grid_template_rows": null,
       "height": null,
       "justify_content": null,
       "justify_items": null,
       "left": null,
       "margin": null,
       "max_height": null,
       "max_width": null,
       "min_height": null,
       "min_width": null,
       "object_fit": null,
       "object_position": null,
       "order": null,
       "overflow": null,
       "overflow_x": null,
       "overflow_y": null,
       "padding": null,
       "right": null,
       "top": null,
       "visibility": null,
       "width": null
      }
     },
     "d53705ad29a94ac88868735e74c2f607": {
      "model_module": "@jupyter-widgets/controls",
      "model_module_version": "1.5.0",
      "model_name": "HTMLModel",
      "state": {
       "_dom_classes": [],
       "_model_module": "@jupyter-widgets/controls",
       "_model_module_version": "1.5.0",
       "_model_name": "HTMLModel",
       "_view_count": null,
       "_view_module": "@jupyter-widgets/controls",
       "_view_module_version": "1.5.0",
       "_view_name": "HTMLView",
       "description": "",
       "description_tooltip": null,
       "layout": "IPY_MODEL_d15fc2ab263c4cd4ad0580b70b671732",
       "placeholder": "​",
       "style": "IPY_MODEL_9fb1b74a6b1f44b190d60ba585117873",
       "value": "Downloading: 100%"
      }
     },
     "e51ce1c3ee9e4198a9a2448291c37dbf": {
      "model_module": "@jupyter-widgets/controls",
      "model_module_version": "1.5.0",
      "model_name": "DescriptionStyleModel",
      "state": {
       "_model_module": "@jupyter-widgets/controls",
       "_model_module_version": "1.5.0",
       "_model_name": "DescriptionStyleModel",
       "_view_count": null,
       "_view_module": "@jupyter-widgets/base",
       "_view_module_version": "1.2.0",
       "_view_name": "StyleView",
       "description_width": ""
      }
     },
     "ea38511948d7448c84a03cef448aae00": {
      "model_module": "@jupyter-widgets/controls",
      "model_module_version": "1.5.0",
      "model_name": "HTMLModel",
      "state": {
       "_dom_classes": [],
       "_model_module": "@jupyter-widgets/controls",
       "_model_module_version": "1.5.0",
       "_model_name": "HTMLModel",
       "_view_count": null,
       "_view_module": "@jupyter-widgets/controls",
       "_view_module_version": "1.5.0",
       "_view_name": "HTMLView",
       "description": "",
       "description_tooltip": null,
       "layout": "IPY_MODEL_fbc572d6fec84656a0eda2e303cd0567",
       "placeholder": "​",
       "style": "IPY_MODEL_074c4c6ede404373b3fca38390bc66b3",
       "value": "Downloading: 100%"
      }
     },
     "eb5cdcaa90e94d29b00c0c921eb7c96a": {
      "model_module": "@jupyter-widgets/controls",
      "model_module_version": "1.5.0",
      "model_name": "HTMLModel",
      "state": {
       "_dom_classes": [],
       "_model_module": "@jupyter-widgets/controls",
       "_model_module_version": "1.5.0",
       "_model_name": "HTMLModel",
       "_view_count": null,
       "_view_module": "@jupyter-widgets/controls",
       "_view_module_version": "1.5.0",
       "_view_name": "HTMLView",
       "description": "",
       "description_tooltip": null,
       "layout": "IPY_MODEL_70c16e4ffe9742f88b7210f6c2f358ad",
       "placeholder": "​",
       "style": "IPY_MODEL_a23a3e00255641b7b17588be03e30acf",
       "value": " 478M/478M [00:22&lt;00:00, 23.5MB/s]"
      }
     },
     "f00c67685cd6485b9cac99c9c42a429f": {
      "model_module": "@jupyter-widgets/controls",
      "model_module_version": "1.5.0",
      "model_name": "FloatProgressModel",
      "state": {
       "_dom_classes": [],
       "_model_module": "@jupyter-widgets/controls",
       "_model_module_version": "1.5.0",
       "_model_name": "FloatProgressModel",
       "_view_count": null,
       "_view_module": "@jupyter-widgets/controls",
       "_view_module_version": "1.5.0",
       "_view_name": "ProgressView",
       "bar_style": "success",
       "description": "",
       "description_tooltip": null,
       "layout": "IPY_MODEL_9ffe6d39ad5a4a998c8b704ab9806dcc",
       "max": 481.0,
       "min": 0.0,
       "orientation": "horizontal",
       "style": "IPY_MODEL_51df6d71c0ed457b8b8853e9cf92436c",
       "value": 481.0
      }
     },
     "f7c1d51953ea4c9c91592818dbbabc5b": {
      "model_module": "@jupyter-widgets/base",
      "model_module_version": "1.2.0",
      "model_name": "LayoutModel",
      "state": {
       "_model_module": "@jupyter-widgets/base",
       "_model_module_version": "1.2.0",
       "_model_name": "LayoutModel",
       "_view_count": null,
       "_view_module": "@jupyter-widgets/base",
       "_view_module_version": "1.2.0",
       "_view_name": "LayoutView",
       "align_content": null,
       "align_items": null,
       "align_self": null,
       "border": null,
       "bottom": null,
       "display": null,
       "flex": null,
       "flex_flow": null,
       "grid_area": null,
       "grid_auto_columns": null,
       "grid_auto_flow": null,
       "grid_auto_rows": null,
       "grid_column": null,
       "grid_gap": null,
       "grid_row": null,
       "grid_template_areas": null,
       "grid_template_columns": null,
       "grid_template_rows": null,
       "height": null,
       "justify_content": null,
       "justify_items": null,
       "left": null,
       "margin": null,
       "max_height": null,
       "max_width": null,
       "min_height": null,
       "min_width": null,
       "object_fit": null,
       "object_position": null,
       "order": null,
       "overflow": null,
       "overflow_x": null,
       "overflow_y": null,
       "padding": null,
       "right": null,
       "top": null,
       "visibility": null,
       "width": null
      }
     },
     "fbc572d6fec84656a0eda2e303cd0567": {
      "model_module": "@jupyter-widgets/base",
      "model_module_version": "1.2.0",
      "model_name": "LayoutModel",
      "state": {
       "_model_module": "@jupyter-widgets/base",
       "_model_module_version": "1.2.0",
       "_model_name": "LayoutModel",
       "_view_count": null,
       "_view_module": "@jupyter-widgets/base",
       "_view_module_version": "1.2.0",
       "_view_name": "LayoutView",
       "align_content": null,
       "align_items": null,
       "align_self": null,
       "border": null,
       "bottom": null,
       "display": null,
       "flex": null,
       "flex_flow": null,
       "grid_area": null,
       "grid_auto_columns": null,
       "grid_auto_flow": null,
       "grid_auto_rows": null,
       "grid_column": null,
       "grid_gap": null,
       "grid_row": null,
       "grid_template_areas": null,
       "grid_template_columns": null,
       "grid_template_rows": null,
       "height": null,
       "justify_content": null,
       "justify_items": null,
       "left": null,
       "margin": null,
       "max_height": null,
       "max_width": null,
       "min_height": null,
       "min_width": null,
       "object_fit": null,
       "object_position": null,
       "order": null,
       "overflow": null,
       "overflow_x": null,
       "overflow_y": null,
       "padding": null,
       "right": null,
       "top": null,
       "visibility": null,
       "width": null
      }
     }
    },
    "version_major": 2,
    "version_minor": 0
   }
  }
 },
 "nbformat": 4,
 "nbformat_minor": 5
}
